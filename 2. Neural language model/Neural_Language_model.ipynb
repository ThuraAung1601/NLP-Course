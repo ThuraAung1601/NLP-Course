{
 "cells": [
  {
   "cell_type": "markdown",
   "metadata": {
    "id": "J2Q3Qb4AbiQ7"
   },
   "source": [
    "# Neural Language Model with FF Neural Network"
   ]
  },
  {
   "cell_type": "markdown",
   "metadata": {
    "id": "gnRxRL1PJcUk"
   },
   "source": [
    "## Reading corpus and cleaning data"
   ]
  },
  {
   "cell_type": "markdown",
   "metadata": {
    "id": "ht0LgZB5_ZGm"
   },
   "source": [
    "This function reads the main corpus of news"
   ]
  },
  {
   "cell_type": "code",
   "execution_count": 1,
   "metadata": {
    "colab": {
     "base_uri": "https://localhost:8080/"
    },
    "id": "1o15q3OSbkA5",
    "outputId": "23bcd94c-5897-4285-db25-3f96d5641d31"
   },
   "outputs": [
    {
     "name": "stdout",
     "output_type": "stream",
     "text": [
      "Drive already mounted at /content/drive; to attempt to forcibly remount, call drive.mount(\"/content/drive\", force_remount=True).\n"
     ]
    }
   ],
   "source": [
    "from google.colab import drive\n",
    "drive.mount('/content/drive')"
   ]
  },
  {
   "cell_type": "code",
   "execution_count": 2,
   "metadata": {
    "id": "dfPOcAtk4Vtd"
   },
   "outputs": [],
   "source": [
    "def read_corpus(path):\n",
    "  corpus = ''\n",
    "  count = 0\n",
    "  with open(path,'r',encoding='utf-8') as file:\n",
    "    for line in file:\n",
    "\n",
    "      if count > 500 :\n",
    "        break\n",
    "      if line.startswith('.DID') or line.startswith('date') or line.startswith('Cat'):\n",
    "        if line.startswith('.DID'):\n",
    "          count += 1\n",
    "        continue\n",
    "      corpus += ' ' + line.strip()\n",
    "  return corpus"
   ]
  },
  {
   "cell_type": "markdown",
   "metadata": {
    "id": "_vTxuw-N_d_7"
   },
   "source": [
    "This function finds rare words in a text (which can be misspelled words)."
   ]
  },
  {
   "cell_type": "code",
   "execution_count": 3,
   "metadata": {
    "id": "-MTJJfR6_mfC"
   },
   "outputs": [],
   "source": [
    "def get_rare_words(corpus,N):\n",
    "  word_count = {}\n",
    "  rare_words = []\n",
    "  sentence = corpus.split()\n",
    "  # print(sentence)\n",
    "  for word in sentence:\n",
    "    if word in word_count.keys():\n",
    "      word_count[word] += 1\n",
    "    else:\n",
    "      word_count[word] = 1\n",
    "  for key, value in word_count.items():\n",
    "    if value <= N :\n",
    "      rare_words.append(key)\n",
    "  return rare_words"
   ]
  },
  {
   "cell_type": "code",
   "execution_count": 4,
   "metadata": {
    "id": "MYRrwub-Cd0K"
   },
   "outputs": [],
   "source": [
    "corpus = read_corpus(\"/content/drive/MyDrive/hamshahri.txt\")\n",
    "rare_words = get_rare_words(corpus,1)"
   ]
  },
  {
   "cell_type": "markdown",
   "metadata": {
    "id": "JVOrWH4PCu4t"
   },
   "source": [
    "Remove punctuation marks, non-aplhabetic tokens, and lowercase tokens"
   ]
  },
  {
   "cell_type": "code",
   "execution_count": 5,
   "metadata": {
    "id": "DChiApbIColN"
   },
   "outputs": [],
   "source": [
    "def clean_sentence(sentence):\n",
    "  words = sentence.split(' ')\n",
    "  words = [w.replace('\\u200c','') for w in words]\n",
    "  # third parameter says remove these character\n",
    "  # first parameter says to replace that argument with the argument in second parameter\n",
    "  translation_table = str.maketrans('','',\"\\\"#$%&'()*+,-/:;<=>?@[\\]^_`{|}~،؟!❊#$٪^&*)(ـ+=-؛:{}\")\n",
    "  words = [w.translate(translation_table) for w in words]\n",
    "  words = [w for w in words if w.isalpha()]\n",
    "  words = [w for w in words if w not in rare_words]\n",
    "  return words\n"
   ]
  },
  {
   "cell_type": "code",
   "execution_count": 6,
   "metadata": {
    "id": "oHDsMsZ9JYin"
   },
   "outputs": [],
   "source": [
    "import pickle\n",
    "import regex as re\n",
    "saved_before = False\n",
    "data_path = \"/content/drive/MyDrive/hamshahri.txt\"\n",
    "if not saved_before:\n",
    "  corpus = read_corpus(data_path)\n",
    "  rare_words = get_rare_words(corpus,1)\n",
    "  sentences = re.split('[.!؟]',corpus)\n",
    "  token_corpus = [clean_sentence(sentence) for sentence in sentences]\n",
    "  loc = open(\"/content/drive/MyDrive/corpus.txt\", 'wb')\n",
    "  pickle.dump(token_corpus,loc)\n",
    "else:\n",
    "  loc = open(\"/content/drive/MyDrive/corpus.txt\", 'rb')\n",
    "  token_corpus = pickle.load(loc)\n",
    "\n",
    "token_corpus = token_corpus[:-1]\n",
    "loc.close()\n"
   ]
  },
  {
   "cell_type": "markdown",
   "metadata": {
    "id": "Pq5TFzS1ugM_"
   },
   "source": [
    "## Neural network"
   ]
  },
  {
   "cell_type": "markdown",
   "metadata": {
    "id": "iKEHkx4CvD7u"
   },
   "source": [
    "![](https://drive.google.com/uc?export=view&id=1cJvHX2Tq3V4YqtOMOA0OfWVtalYSuOhz)"
   ]
  },
  {
   "cell_type": "markdown",
   "metadata": {
    "id": "sjcnwnTK2kK1"
   },
   "source": [
    "in this function we create sequences of sentences with length of 4."
   ]
  },
  {
   "cell_type": "code",
   "execution_count": 7,
   "metadata": {
    "id": "W43bva5pukKY"
   },
   "outputs": [],
   "source": [
    "def create_sequence(token_corpus):\n",
    "  nn_input = 3\n",
    "  seq_length = nn_input + 1\n",
    "  sequences = []\n",
    "  for sen in token_corpus:\n",
    "    if len(sen)>= seq_length:\n",
    "      for i in range(0,len(sen)):\n",
    "        if not len(sen) - (i+seq_length)<4:\n",
    "         sequence = sen[i:i+seq_length]\n",
    "         line = ' '.join(sequence)\n",
    "         sequences.append(sequence)\n",
    "  return sequences"
   ]
  },
  {
   "cell_type": "code",
   "execution_count": 8,
   "metadata": {
    "colab": {
     "base_uri": "https://localhost:8080/"
    },
    "id": "FhOTxMxvwerW",
    "outputId": "1446d75e-7556-40a7-af4e-560d9e4bf567"
   },
   "outputs": [
    {
     "name": "stdout",
     "output_type": "stream",
     "text": [
      "['بد', 'میارزه', 'به', 'همهچیو']\n"
     ]
    }
   ],
   "source": [
    "sequences = create_sequence(token_corpus)\n",
    "print(sequences[78])"
   ]
  },
  {
   "cell_type": "markdown",
   "metadata": {
    "id": "Yb8YVYD22wRu"
   },
   "source": [
    "In this function we are mapping each word to a number."
   ]
  },
  {
   "cell_type": "code",
   "execution_count": 9,
   "metadata": {
    "id": "SXzYo3X62qdW"
   },
   "outputs": [],
   "source": [
    "from keras.preprocessing.text import Tokenizer\n",
    "# create the tokenizer and fit it on the input text\n",
    "tokenizer = Tokenizer()\n",
    "# make mapping\n",
    "tokenizer.fit_on_texts(sequences)\n",
    "# apply mapping\n",
    "# tokenize the sequences into encoded numbers\n",
    "sequences = tokenizer.texts_to_sequences(sequences)"
   ]
  },
  {
   "cell_type": "code",
   "execution_count": 10,
   "metadata": {
    "colab": {
     "base_uri": "https://localhost:8080/"
    },
    "id": "AUsSci5bAljW",
    "outputId": "b51e8abf-9577-44f3-fe58-11fd50805c7c"
   },
   "outputs": [
    {
     "name": "stdout",
     "output_type": "stream",
     "text": [
      "[18, 2, 5, 51]\n"
     ]
    }
   ],
   "source": [
    "print(sequences[78])"
   ]
  },
  {
   "cell_type": "markdown",
   "metadata": {
    "id": "tnTJaJGwBXkD"
   },
   "source": [
    "This function shows how many unique words we have."
   ]
  },
  {
   "cell_type": "code",
   "execution_count": 11,
   "metadata": {
    "colab": {
     "base_uri": "https://localhost:8080/"
    },
    "id": "MOpc3BjsBIDq",
    "outputId": "b0102f35-4e9f-4cd8-c573-1be928c7662a"
   },
   "outputs": [
    {
     "name": "stdout",
     "output_type": "stream",
     "text": [
      "79\n"
     ]
    }
   ],
   "source": [
    "v_size = len(tokenizer.word_index) + 1\n",
    "print(v_size)"
   ]
  },
  {
   "cell_type": "code",
   "execution_count": 12,
   "metadata": {
    "colab": {
     "base_uri": "https://localhost:8080/"
    },
    "id": "3WwneDbFBmb4",
    "outputId": "37a127cd-3058-488c-d36c-ce6c8356dc71"
   },
   "outputs": [
    {
     "name": "stdout",
     "output_type": "stream",
     "text": [
      "(247, 4)\n"
     ]
    }
   ],
   "source": [
    "import numpy as np\n",
    "print(np.shape(sequences))"
   ]
  },
  {
   "cell_type": "markdown",
   "metadata": {
    "id": "5L19TM2JB8t5"
   },
   "source": [
    "We should split sequences to 3 for neural network input and 1 for net output."
   ]
  },
  {
   "cell_type": "code",
   "execution_count": 13,
   "metadata": {
    "id": "YDyEmcP4CAJK"
   },
   "outputs": [],
   "source": [
    "sequences = np.array(sequences)\n",
    "x = sequences[:,:3]\n",
    "y = sequences[:,-1].reshape(-1,1)"
   ]
  },
  {
   "cell_type": "code",
   "execution_count": 14,
   "metadata": {
    "id": "fumCFc2TqwLd"
   },
   "outputs": [],
   "source": [
    "from tensorflow.keras.utils import to_categorical\n",
    "# convert the output into categorical format required for training the model\n",
    "y = to_categorical(y, num_classes = v_size)"
   ]
  },
  {
   "cell_type": "code",
   "execution_count": 15,
   "metadata": {
    "colab": {
     "base_uri": "https://localhost:8080/"
    },
    "id": "jx1dMPJrrDHM",
    "outputId": "88b08e6e-eaa9-49cb-a5cb-054c13fe0b10"
   },
   "outputs": [
    {
     "name": "stdout",
     "output_type": "stream",
     "text": [
      "(247, 79)\n",
      "(247, 3)\n"
     ]
    }
   ],
   "source": [
    "print(np.shape(y))\n",
    "print(np.shape(x))"
   ]
  },
  {
   "cell_type": "markdown",
   "metadata": {
    "id": "tbUJY3Bms03e"
   },
   "source": [
    "Creating train,test and validation sets."
   ]
  },
  {
   "cell_type": "code",
   "execution_count": 16,
   "metadata": {
    "id": "RTVdhq9Usz7D"
   },
   "outputs": [],
   "source": [
    "from sklearn.model_selection import train_test_split\n",
    "X_train, X_test, Y_train, Y_test = train_test_split(x,y,test_size=0.4,random_state=42)"
   ]
  },
  {
   "cell_type": "code",
   "execution_count": 17,
   "metadata": {
    "id": "oO5ZlQh1xdl9"
   },
   "outputs": [],
   "source": [
    "X_validation, X_test, Y_validation, Y_test = train_test_split(X_test,Y_test,test_size=0.5,random_state=42)"
   ]
  },
  {
   "cell_type": "code",
   "execution_count": 18,
   "metadata": {
    "colab": {
     "base_uri": "https://localhost:8080/"
    },
    "id": "4hPMcTcEvVSb",
    "outputId": "d1177ce5-f97a-417d-c365-8ee22a565237"
   },
   "outputs": [
    {
     "name": "stdout",
     "output_type": "stream",
     "text": [
      "(148, 3)\n",
      "(148, 79)\n",
      "(50, 3)\n",
      "(50, 79)\n",
      "(49, 3)\n",
      "(49, 79)\n"
     ]
    }
   ],
   "source": [
    "print(np.shape(X_train))\n",
    "print(np.shape(Y_train))\n",
    "print(np.shape(X_test))\n",
    "print(np.shape(Y_test))\n",
    "print(np.shape(X_validation))\n",
    "print(np.shape(Y_validation))"
   ]
  },
  {
   "cell_type": "markdown",
   "metadata": {
    "id": "5P5CRl-myD0H"
   },
   "source": [
    "Using callbacks we can run a special functions in different stage of process."
   ]
  },
  {
   "cell_type": "code",
   "execution_count": 19,
   "metadata": {
    "id": "Q6TNRwRzzcXK"
   },
   "outputs": [],
   "source": [
    "import keras\n",
    "import matplotlib.pyplot as plt\n",
    "from IPython.display import clear_output\n",
    "\n",
    "class plot_loss(keras.callbacks.Callback):\n",
    "  def on_train_begin(self,logs={}):\n",
    "        self.i = 0\n",
    "        self.xs = []\n",
    "        self.losses = []\n",
    "        self.val_losses = []\n",
    "        self.fig = plt.figure()\n",
    "        self.logs = []\n",
    "\n",
    "  def on_epoch_end(self,epoch,logs={}):\n",
    "        self.logs.append(logs)\n",
    "        self.xs.append(self.i)\n",
    "        self.losses.append(logs.get('loss'))\n",
    "        self.val_losses.append(logs.get('val_loss'))\n",
    "        self.i += 1\n",
    "        \n",
    "        clear_output(wait=True)\n",
    "        plt.plot(self.xs, self.losses, label=\"loss\")\n",
    "        plt.plot(self.xs, self.val_losses, label=\"val_loss\")\n",
    "        plt.legend()\n",
    "        plt.show();\n",
    "plots = plot_loss()"
   ]
  },
  {
   "cell_type": "code",
   "execution_count": 20,
   "metadata": {
    "id": "y-0qRPre1feJ"
   },
   "outputs": [],
   "source": [
    "from tensorflow.keras.models import Sequential\n",
    "from tensorflow.keras.layers import Dense\n",
    "from tensorflow.keras.layers import Embedding\n",
    "from tensorflow.keras.layers import Flatten\n",
    "\n",
    "model = Sequential()\n",
    "# 50 is length of embedding\n",
    "# v_size is range of integer numbers we have\n",
    "model.add(Embedding(v_size,50,input_length = 3 ,name='Embedding-layer'))\n",
    "model.add(Flatten())\n",
    "model.add(Dense(int(v_size/2), activation='relu', name='Hidden-layer'))\n",
    "model.add(Dense(v_size,activation='softmax',name='Output-layer'))"
   ]
  },
  {
   "cell_type": "code",
   "execution_count": 21,
   "metadata": {
    "colab": {
     "base_uri": "https://localhost:8080/"
    },
    "id": "Y5Ue-gav39Ga",
    "outputId": "e0e5a813-64a2-4856-b5f3-01266edc8e7c"
   },
   "outputs": [
    {
     "name": "stdout",
     "output_type": "stream",
     "text": [
      "Model: \"sequential\"\n",
      "_________________________________________________________________\n",
      " Layer (type)                Output Shape              Param #   \n",
      "=================================================================\n",
      " Embedding-layer (Embedding)  (None, 3, 50)            3950      \n",
      "                                                                 \n",
      " flatten (Flatten)           (None, 150)               0         \n",
      "                                                                 \n",
      " Hidden-layer (Dense)        (None, 39)                5889      \n",
      "                                                                 \n",
      " Output-layer (Dense)        (None, 79)                3160      \n",
      "                                                                 \n",
      "=================================================================\n",
      "Total params: 12,999\n",
      "Trainable params: 12,999\n",
      "Non-trainable params: 0\n",
      "_________________________________________________________________\n",
      "None\n"
     ]
    }
   ],
   "source": [
    "print(model.summary())"
   ]
  },
  {
   "cell_type": "code",
   "execution_count": 22,
   "metadata": {
    "id": "6jA2oAB84Xmh"
   },
   "outputs": [],
   "source": [
    "from tensorflow.keras.callbacks import ModelCheckpoint\n",
    "#check point saves the best model in a specific address\n",
    "checkpoint = ModelCheckpoint('/content/drive/MyDrive/model-{epoch:03d}--{val_accuracy:03f}.h5', verbose=1, monitor='val_loss',save_best_only=True, \n",
    "                             save_weights_only=True, mode='min')  "
   ]
  },
  {
   "cell_type": "code",
   "execution_count": 23,
   "metadata": {
    "colab": {
     "base_uri": "https://localhost:8080/",
     "height": 334
    },
    "id": "_k7TOCgQ51Yc",
    "outputId": "cff158b9-733c-49f4-e733-b6b83c60127a"
   },
   "outputs": [
    {
     "data": {
      "image/png": "[encoded data removed]",
      "text/plain": [
       "<Figure size 432x288 with 1 Axes>"
      ]
     },
     "metadata": {
      "needs_background": "light"
     },
     "output_type": "display_data"
    },
    {
     "name": "stdout",
     "output_type": "stream",
     "text": [
      "\n",
      "Epoch 40: val_loss did not improve from 1.13798\n",
      "30/30 [==============================] - 0s 9ms/step - loss: 0.0094 - accuracy: 1.0000 - val_loss: 1.2287 - val_accuracy: 0.8367\n"
     ]
    },
    {
     "data": {
      "text/plain": [
       "<keras.callbacks.History at 0x7fd9c8523950>"
      ]
     },
     "execution_count": 23,
     "metadata": {},
     "output_type": "execute_result"
    }
   ],
   "source": [
    "model.compile(loss='categorical_crossentropy',optimizer='adam',metrics=['accuracy'])\n",
    "model.fit(X_train, Y_train, batch_size=5, epochs=40, validation_data=(X_validation,Y_validation), callbacks=[plots,checkpoint])"
   ]
  },
  {
   "cell_type": "markdown",
   "metadata": {
    "id": "pnqPm0VIHTKP"
   },
   "source": [
    "## Testing model"
   ]
  },
  {
   "cell_type": "code",
   "execution_count": 24,
   "metadata": {
    "id": "-Tehh8tl_N5f"
   },
   "outputs": [],
   "source": [
    "best_model_path = '/content/drive/MyDrive/model-018--0.836735.h5'\n",
    "model.load_weights(best_model_path)"
   ]
  },
  {
   "cell_type": "code",
   "execution_count": 25,
   "metadata": {
    "id": "04YvzDsL__Bz"
   },
   "outputs": [],
   "source": [
    "res = model.predict(X_test[0:51])"
   ]
  },
  {
   "cell_type": "code",
   "execution_count": 26,
   "metadata": {
    "id": "ZClHZjxZAq59"
   },
   "outputs": [],
   "source": [
    "def convert_ID_to_word(ID):  \n",
    "  for word, index in tokenizer.word_index.items():\n",
    "    if np.int64(index) == ID:\n",
    "      return word\n",
    "  return"
   ]
  },
  {
   "cell_type": "code",
   "execution_count": 27,
   "metadata": {
    "id": "pTcA9WCiArqp"
   },
   "outputs": [],
   "source": [
    "def get_sentence_from_IDs(x):\n",
    "  sent = ''\n",
    "  for elem in x:\n",
    "    sent += convert_ID_to_word(elem) + ' '\n",
    "  return sent"
   ]
  },
  {
   "cell_type": "code",
   "execution_count": 28,
   "metadata": {
    "colab": {
     "base_uri": "https://localhost:8080/"
    },
    "id": "KLYffPUzAurW",
    "outputId": "f3649e7f-6cc2-4593-c70e-fb962d7011c0"
   },
   "outputs": [
    {
     "name": "stdout",
     "output_type": "stream",
     "text": [
      "به صدتا عکس  : تکی\n",
      "سلفی تار دونفره  : میارزه\n",
      "اون پرترههای جذابت  : عکس\n",
      "و متن و  : و\n",
      "عکس تکی هنری  : کنار\n",
      "شرایط بد میارزه  : به\n",
      "میگم میدونی قشنگترین  : عکسی\n"
     ]
    }
   ],
   "source": [
    "arr = [0,6, 13, 14, 17, 20, 25]\n",
    "for i in arr:\n",
    "  print( get_sentence_from_IDs(X_test[i]) +' : '+ convert_ID_to_word(np.argmax(res[i])))"
   ]
  }
 ],
 "metadata": {
  "colab": {
   "collapsed_sections": [],
   "name": "Neural Language model.ipynb",
   "provenance": []
  },
  "kernelspec": {
   "display_name": "Python 3 (ipykernel)",
   "language": "python",
   "name": "python3"
  },
  "language_info": {
   "codemirror_mode": {
    "name": "ipython",
    "version": 3
   },
   "file_extension": ".py",
   "mimetype": "text/x-python",
   "name": "python",
   "nbconvert_exporter": "python",
   "pygments_lexer": "ipython3",
   "version": "3.9.4"
  }
 },
 "nbformat": 4,
 "nbformat_minor": 1
}
