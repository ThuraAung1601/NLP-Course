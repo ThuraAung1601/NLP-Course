{
  "nbformat": 4,
  "nbformat_minor": 0,
  "metadata": {
    "colab": {
      "provenance": [],
      "collapsed_sections": []
    },
    "kernelspec": {
      "name": "python3",
      "display_name": "Python 3"
    },
    "language_info": {
      "name": "python"
    },
    "accelerator": "GPU",
    "gpuClass": "standard"
  },
  "cells": [
    {
      "cell_type": "markdown",
      "source": [
        "# Conversational Chatbot with a sequence-to-sequence Transformer"
      ],
      "metadata": {
        "id": "EOhwG3eywmpy"
      }
    },
    {
      "cell_type": "code",
      "execution_count": 2,
      "metadata": {
        "colab": {
          "base_uri": "https://localhost:8080/"
        },
        "id": "wiubuCAbwamy",
        "outputId": "fd8d469a-22ed-46c3-d1be-349b53e1e162"
      },
      "outputs": [
        {
          "output_type": "stream",
          "name": "stdout",
          "text": [
            "Mounted at /content/drive\n"
          ]
        }
      ],
      "source": [
        "from google.colab import drive\n",
        "drive.mount('/content/drive')"
      ]
    },
    {
      "cell_type": "code",
      "source": [
        "import pathlib\n",
        "import random\n",
        "import string\n",
        "import re\n",
        "import numpy as np\n",
        "import tensorflow as tf\n",
        "from tensorflow import keras\n",
        "from tensorflow.keras import layers\n",
        "from tensorflow.keras.layers import TextVectorization"
      ],
      "metadata": {
        "id": "uCAPROQLw6GB"
      },
      "execution_count": 3,
      "outputs": []
    },
    {
      "cell_type": "markdown",
      "source": [
        "## Preprocessing"
      ],
      "metadata": {
        "id": "zivfqUFPwxpn"
      }
    },
    {
      "cell_type": "code",
      "source": [
        "def preprocessing(sentence):\n",
        "  # strip removes space from begining and end of a string\n",
        "  senetence = sentence.lower().strip()\n",
        "  # creating a space between a word and the punctuation following it\n",
        "  # eg: \"he is a boy.\" => \"he is a boy .\"\n",
        "  sentence = re.sub(r'([!?.,])', r\" \\1\",sentence)\n",
        "  # 'he is a boy?   how' -> he is a boy ? how\n",
        "  sentence = re.sub(r'[\" \"]+', \" \", sentence)\n",
        "  # removing contractions\n",
        "  sentence = re.sub(r\"i'm\", \"i am\", sentence)\n",
        "  sentence = re.sub(r\"he's\", \"he is\", sentence)\n",
        "  sentence = re.sub(r\"she's\", \"she is\", sentence)\n",
        "  sentence = re.sub(r\"it's\", \"it is\", sentence)\n",
        "  sentence = re.sub(r\"that's\", \"that is\", sentence)\n",
        "  sentence = re.sub(r\"what's\", \"what is\", sentence)\n",
        "  sentence = re.sub(r\"where's\", \"where is\", sentence)\n",
        "  sentence = re.sub(r\"how's\", \"how is\", sentence)\n",
        "  sentence = re.sub(r\"\\'ll\", \" will\", sentence)\n",
        "  sentence = re.sub(r\"\\'ve\", \" have\", sentence)\n",
        "  sentence = re.sub(r\"\\'re\", \" are\", sentence)\n",
        "  sentence = re.sub(r\"\\'d\", \" would\", sentence)\n",
        "  sentence = re.sub(r\"\\'re\", \" are\", sentence)\n",
        "  sentence = re.sub(r\"won't\", \"will not\", sentence)\n",
        "  sentence = re.sub(r\"can't\", \"cannot\", sentence)\n",
        "  sentence = re.sub(r\"n't\", \" not\", sentence)\n",
        "  sentence = re.sub(r\"n'\", \"ng\", sentence)\n",
        "  sentence = re.sub(r\"'bout\", \"about\", sentence)\n",
        "  # replacing everything with space except (a-z, A-Z, \".\", \"?\", \"!\", \",\")\n",
        "  sentence = re.sub(r\"[^a-zA-Z?.!,]+\", \" \", sentence)\n",
        "  sentence = sentence.strip()\n",
        "  return senetence\n"
      ],
      "metadata": {
        "id": "c2VuGzSGw8_8"
      },
      "execution_count": 4,
      "outputs": []
    },
    {
      "cell_type": "code",
      "source": [
        "def reading_data(path):\n",
        "  all_sentences_of_text = []\n",
        "  with open(path,'r') as file:\n",
        "    for line in file:\n",
        "      line = line.rstrip()\n",
        "      result = line.split('__eou__')\n",
        "      for i in range(0, len(result) - 2):\n",
        "        sent_1 = preprocessing(result[i])\n",
        "        sent_2 = preprocessing(result[i+1])\n",
        "        all_sentences_of_text.append(sent_1)\n",
        "        all_sentences_of_text.append(\"[start] \" + sent_2 + \" [end]\")\n",
        "  return all_sentences_of_text"
      ],
      "metadata": {
        "id": "HZfQnXTG1szu"
      },
      "execution_count": 5,
      "outputs": []
    },
    {
      "cell_type": "code",
      "source": [
        "train_text = reading_data ('/content/drive/MyDrive/dialogues_train.txt')\n",
        "test_text = reading_data ('/content/drive/MyDrive/dialogues_test.txt')\n",
        "valid_text = reading_data( '/content/drive/MyDrive/dialogues_validation.txt')"
      ],
      "metadata": {
        "id": "7FFD8b1_29Yf"
      },
      "execution_count": 6,
      "outputs": []
    },
    {
      "cell_type": "code",
      "source": [
        "dataset = train_text + test_text + valid_text"
      ],
      "metadata": {
        "id": "1f1SGh6p3KT0"
      },
      "execution_count": 7,
      "outputs": []
    },
    {
      "cell_type": "code",
      "source": [
        "def creating_pairs(pair_name):\n",
        "  index = len(pair_name)\n",
        "  pair_input = [pair_name[x] for x in range(0,index) if x%2 ==0]\n",
        "  pair_output = [pair_name[x] for x in range(0,index) if x% 2 ==1]\n",
        "  pairs = [(input,output) for input,output in zip(pair_input, pair_output)]\n",
        "  return pairs"
      ],
      "metadata": {
        "id": "vsK2zzp7ga87"
      },
      "execution_count": 8,
      "outputs": []
    },
    {
      "cell_type": "code",
      "source": [
        "train_pairs = creating_pairs(train_text)\n",
        "test_pairs = creating_pairs(test_text)\n",
        "val_pairs = creating_pairs(valid_text)"
      ],
      "metadata": {
        "id": "m2b66SJxofUu"
      },
      "execution_count": 9,
      "outputs": []
    },
    {
      "cell_type": "code",
      "source": [
        "index = len(dataset)\n",
        "inp_texts = [dataset[i] for i in range(0,index) if i % 2 == 0]\n",
        "out_texts = [dataset[i] for i in range(0,index) if i % 2 == 1]"
      ],
      "metadata": {
        "id": "f8pBIVYzy8If"
      },
      "execution_count": 10,
      "outputs": []
    },
    {
      "cell_type": "markdown",
      "source": [
        "## Vectorizing the text data"
      ],
      "metadata": {
        "id": "X_zfOYDzo3dg"
      }
    },
    {
      "cell_type": "code",
      "source": [
        "# define how many words we have in corpus (we can create int for each unique of them)\n",
        "vocab_size = 15000\n",
        "# define maxium output length\n",
        "sequence_length = 20\n",
        "batch_size = 64"
      ],
      "metadata": {
        "id": "uhc_zbxHo629"
      },
      "execution_count": 11,
      "outputs": []
    },
    {
      "cell_type": "code",
      "source": [
        "strip_chars = string.punctuation\n",
        "strip_chars = strip_chars.replace(\"[\", \"\")\n",
        "strip_chars = strip_chars.replace(\"]\", \"\")\n",
        "strip_chars = strip_chars.replace(\"?\", \"\")\n",
        "strip_chars = strip_chars.replace(\"!\", \"\")\n",
        "strip_chars = strip_chars.replace(\".\", \"\")\n",
        "strip_chars = strip_chars.replace(\",\", \"\")"
      ],
      "metadata": {
        "id": "rFsDr_l3txYA"
      },
      "execution_count": 12,
      "outputs": []
    },
    {
      "cell_type": "code",
      "source": [
        "# replace strip_chars  with ''\n",
        "def custom_standardization(input_string):\n",
        "  lowercase = tf.strings.lower(input_string)\n",
        "  return tf.strings.regex_replace(lowercase, \"[%s]\" % re.escape(strip_chars), \"\")"
      ],
      "metadata": {
        "id": "FpSE3HTox1SX"
      },
      "execution_count": 18,
      "outputs": []
    },
    {
      "cell_type": "code",
      "source": [
        "inp_vectorization = TextVectorization(max_tokens = vocab_size, output_mode = 'int', output_sequence_length = sequence_length, standardize=custom_standardization)"
      ],
      "metadata": {
        "id": "lF-U15jrx-ij"
      },
      "execution_count": 19,
      "outputs": []
    },
    {
      "cell_type": "code",
      "source": [
        "out_vectorization = TextVectorization(max_tokens=vocab_size, output_mode=\"int\", output_sequence_length=sequence_length+1, standardize=custom_standardization)"
      ],
      "metadata": {
        "id": "6sGeF5mEyTPC"
      },
      "execution_count": 20,
      "outputs": []
    },
    {
      "cell_type": "code",
      "source": [
        "inp_vectorization.adapt(inp_texts)\n",
        "out_vectorization.adapt(out_texts)"
      ],
      "metadata": {
        "id": "nuUT-0tJzF1V"
      },
      "execution_count": 21,
      "outputs": []
    },
    {
      "cell_type": "code",
      "source": [
        "def format_dataset(inp, out):\n",
        "    inp = inp_vectorization(inp)\n",
        "    out = out_vectorization(out)\n",
        "    # decoder input is encoder output without [end]\n",
        "    # decoder output is without [start]\n",
        "    return ({\"encoder_inputs\": inp, \"decoder_inputs\": out[:, :-1],}, out[:, 1:])"
      ],
      "metadata": {
        "id": "ZCORR60y1XL-"
      },
      "execution_count": 22,
      "outputs": []
    },
    {
      "cell_type": "code",
      "source": [
        "def make_dataset(pairs):\n",
        "    inp_texts, out_texts = zip(*pairs)\n",
        "    inp_texts = list(inp_texts)\n",
        "    out_texts = list(out_texts)\n",
        "    dataset = tf.data.Dataset.from_tensor_slices((inp_texts, out_texts))\n",
        "    dataset = dataset.batch(batch_size)\n",
        "    dataset = dataset.map(format_dataset)\n",
        "    return dataset.shuffle(2048).prefetch(16).cache()"
      ],
      "metadata": {
        "id": "AT4gstuF17Gh"
      },
      "execution_count": 23,
      "outputs": []
    },
    {
      "cell_type": "code",
      "source": [
        "train_ds = make_dataset(train_pairs)\n",
        "val_ds = make_dataset(val_pairs)\n",
        "test_ds = make_dataset(test_pairs)"
      ],
      "metadata": {
        "id": "j1kZSp6h2K81"
      },
      "execution_count": 24,
      "outputs": []
    },
    {
      "cell_type": "code",
      "source": [
        "train_ds"
      ],
      "metadata": {
        "colab": {
          "base_uri": "https://localhost:8080/"
        },
        "id": "qRL70QoO2ox9",
        "outputId": "9991ec86-4002-4c43-c2f2-d20b52bd6d63"
      },
      "execution_count": 25,
      "outputs": [
        {
          "output_type": "execute_result",
          "data": {
            "text/plain": [
              "<CacheDataset element_spec=({'encoder_inputs': TensorSpec(shape=(None, 20), dtype=tf.int64, name=None), 'decoder_inputs': TensorSpec(shape=(None, 20), dtype=tf.int64, name=None)}, TensorSpec(shape=(None, 20), dtype=tf.int64, name=None))>"
            ]
          },
          "metadata": {},
          "execution_count": 25
        }
      ]
    },
    {
      "cell_type": "code",
      "source": [
        "for inputs, targets in train_ds.take(1):\n",
        "    print(f'inputs[\"encoder_inputs\"].shape: {inputs[\"encoder_inputs\"].shape}')\n",
        "    print(f'inputs[\"decoder_inputs\"].shape: {inputs[\"decoder_inputs\"].shape}')\n",
        "    print(f\"targets.shape: {targets.shape}\")"
      ],
      "metadata": {
        "colab": {
          "base_uri": "https://localhost:8080/"
        },
        "id": "Wdz2FY8Y3F1W",
        "outputId": "daae645e-a109-4ab3-99fe-6ad685625590"
      },
      "execution_count": 26,
      "outputs": [
        {
          "output_type": "stream",
          "name": "stdout",
          "text": [
            "inputs[\"encoder_inputs\"].shape: (64, 20)\n",
            "inputs[\"decoder_inputs\"].shape: (64, 20)\n",
            "targets.shape: (64, 20)\n"
          ]
        }
      ]
    },
    {
      "cell_type": "markdown",
      "source": [
        "## Building model"
      ],
      "metadata": {
        "id": "p4JjFVKM3_j6"
      }
    },
    {
      "cell_type": "markdown",
      "source": [
        "![](https://drive.google.com/uc?export=view&id=1_BX9YvY-E_7ttPOiY2wIOG6KW4FkmdAm)"
      ],
      "metadata": {
        "id": "b6huHGCPDvCf"
      }
    },
    {
      "cell_type": "code",
      "source": [
        "class TransformerEncoder(layers.Layer):\n",
        "    def __init__(self, embed_dim, dense_dim, num_heads, **kwargs):\n",
        "        super(TransformerEncoder, self).__init__(**kwargs)\n",
        "        self.embed_dim = embed_dim\n",
        "        self.dense_dim = dense_dim\n",
        "        self.num_heads = num_heads\n",
        "        self.attention = layers.MultiHeadAttention(\n",
        "            num_heads=num_heads, key_dim=embed_dim\n",
        "        )\n",
        "        self.dense_proj = keras.Sequential(\n",
        "            [layers.Dense(dense_dim, activation=\"relu\"), layers.Dense(embed_dim),]\n",
        "        )\n",
        "        self.layernorm_1 = layers.LayerNormalization()\n",
        "        self.layernorm_2 = layers.LayerNormalization()\n",
        "        self.supports_masking = True\n",
        "\n",
        "    def call(self, inputs, mask=None):\n",
        "        if mask is not None:\n",
        "            padding_mask = tf.cast(mask[:, tf.newaxis, tf.newaxis, :], dtype=\"int32\")\n",
        "        # first attention in encoder\n",
        "        attention_output = self.attention(\n",
        "            query=inputs, value=inputs, key=inputs, attention_mask=padding_mask\n",
        "        )\n",
        "        # the first block in encoder\n",
        "        proj_input = self.layernorm_1(inputs + attention_output)\n",
        "        # second block in encoder (above picture)\n",
        "        proj_output = self.dense_proj(proj_input)\n",
        "\n",
        "        return self.layernorm_2(proj_input + proj_output)"
      ],
      "metadata": {
        "id": "RWjEnHoqDyEg"
      },
      "execution_count": 27,
      "outputs": []
    },
    {
      "cell_type": "code",
      "source": [
        "class PositionalEmbedding(layers.Layer):\n",
        "    def __init__(self, sequence_length, vocab_size, embed_dim, **kwargs):\n",
        "        super(PositionalEmbedding, self).__init__(**kwargs)\n",
        "        self.token_embeddings = layers.Embedding(\n",
        "            input_dim=vocab_size, output_dim=embed_dim\n",
        "        )\n",
        "        self.position_embeddings = layers.Embedding(\n",
        "            input_dim=sequence_length, output_dim=embed_dim\n",
        "        )\n",
        "        self.sequence_length = sequence_length\n",
        "        self.vocab_size = vocab_size\n",
        "        self.embed_dim = embed_dim\n",
        "\n",
        "    def call(self, inputs):\n",
        "        length = tf.shape(inputs)[-1]\n",
        "        positions = tf.range(start=0, limit=length, delta=1)\n",
        "        embedded_tokens = self.token_embeddings(inputs)\n",
        "        embedded_positions = self.position_embeddings(positions)\n",
        "        return embedded_tokens + embedded_positions\n",
        "\n",
        "    def compute_mask(self, inputs, mask=None):\n",
        "        return tf.math.not_equal(inputs, 0)\n"
      ],
      "metadata": {
        "id": "_Xydg4pvE-21"
      },
      "execution_count": 28,
      "outputs": []
    },
    {
      "cell_type": "code",
      "source": [
        "class TransformerDecoder(layers.Layer):\n",
        "    def __init__(self, embed_dim, latent_dim, num_heads, **kwargs):\n",
        "        super(TransformerDecoder, self).__init__(**kwargs)\n",
        "        self.embed_dim = embed_dim\n",
        "        self.latent_dim = latent_dim\n",
        "        self.num_heads = num_heads\n",
        "        self.attention_1 = layers.MultiHeadAttention(\n",
        "            num_heads=num_heads, key_dim=embed_dim\n",
        "        )\n",
        "        self.attention_2 = layers.MultiHeadAttention(\n",
        "            num_heads=num_heads, key_dim=embed_dim\n",
        "        )\n",
        "        self.dense_proj = keras.Sequential(\n",
        "            [layers.Dense(latent_dim, activation=\"relu\"), layers.Dense(embed_dim),]\n",
        "        )\n",
        "        self.layernorm_1 = layers.LayerNormalization()\n",
        "        self.layernorm_2 = layers.LayerNormalization()\n",
        "        self.layernorm_3 = layers.LayerNormalization()\n",
        "        self.supports_masking = True\n",
        "\n",
        "    def call(self, inputs, encoder_outputs, mask=None):\n",
        "      # only word and previous word has affects (we delete the effect of next words) (below picture)\n",
        "        causal_mask = self.get_causal_attention_mask(inputs)\n",
        "        if mask is not None:\n",
        "            padding_mask = tf.cast(mask[:, tf.newaxis, :], dtype=\"int32\")\n",
        "            padding_mask = tf.minimum(padding_mask, causal_mask)\n",
        "\n",
        "        attention_output_1 = self.attention_1(\n",
        "            query=inputs, value=inputs, key=inputs, attention_mask=causal_mask\n",
        "        )\n",
        "        out_1 = self.layernorm_1(inputs + attention_output_1)\n",
        "\n",
        "        attention_output_2 = self.attention_2(\n",
        "            query=out_1,\n",
        "            value=encoder_outputs,\n",
        "            key=encoder_outputs,\n",
        "            attention_mask=padding_mask,\n",
        "        )\n",
        "        out_2 = self.layernorm_2(out_1 + attention_output_2)\n",
        "\n",
        "        proj_output = self.dense_proj(out_2)\n",
        "        return self.layernorm_3(out_2 + proj_output)\n",
        "\n",
        "    def get_causal_attention_mask(self, inputs):\n",
        "        input_shape = tf.shape(inputs)\n",
        "        batch_size, sequence_length = input_shape[0], input_shape[1]\n",
        "        i = tf.range(sequence_length)[:, tf.newaxis]\n",
        "        j = tf.range(sequence_length)\n",
        "        mask = tf.cast(i >= j, dtype=\"int32\")\n",
        "        mask = tf.reshape(mask, (1, input_shape[1], input_shape[1]))\n",
        "        mult = tf.concat(\n",
        "            [tf.expand_dims(batch_size, -1), tf.constant([1, 1], dtype=tf.int32)],\n",
        "            axis=0,\n",
        "        )\n",
        "        return tf.tile(mask, mult)"
      ],
      "metadata": {
        "id": "B3ISbVqJFOzJ"
      },
      "execution_count": 29,
      "outputs": []
    },
    {
      "cell_type": "markdown",
      "source": [
        "![](https://drive.google.com/uc?export=view&id=158scEbQNyJg1TxMhrDCWAN925wRCHjfe)"
      ],
      "metadata": {
        "id": "b6DFiWurHItA"
      }
    },
    {
      "cell_type": "markdown",
      "source": [
        "after building the model we give the input output to transformer."
      ],
      "metadata": {
        "id": "5Mnly9ouJ0mi"
      }
    },
    {
      "cell_type": "code",
      "source": [
        "embed_dim = 256\n",
        "latent_dim = 2048\n",
        "num_heads = 8\n",
        "\n",
        "encoder_inputs = keras.Input(shape=(None,), dtype=\"int64\", name=\"encoder_inputs\")\n",
        "x = PositionalEmbedding(sequence_length, vocab_size, embed_dim)(encoder_inputs)\n",
        "# using encoder model\n",
        "encoder_outputs = TransformerEncoder(embed_dim, latent_dim, num_heads)(x)\n",
        "encoder = keras.Model(encoder_inputs, encoder_outputs)\n",
        "\n",
        "decoder_inputs = keras.Input(shape=(None,), dtype=\"int64\", name=\"decoder_inputs\")\n",
        "encoded_seq_inputs = keras.Input(shape=(None, embed_dim), name=\"decoder_state_inputs\")\n",
        "x = PositionalEmbedding(sequence_length, vocab_size, embed_dim)(decoder_inputs)\n",
        "# using decoder model\n",
        "x = TransformerDecoder(embed_dim, latent_dim, num_heads)(x, encoded_seq_inputs)\n",
        "x = layers.Dropout(0.5)(x)\n",
        "decoder_outputs = layers.Dense(vocab_size, activation=\"softmax\")(x)\n",
        "decoder = keras.Model([decoder_inputs, encoded_seq_inputs], decoder_outputs)\n",
        "\n",
        "decoder_outputs = decoder([decoder_inputs, encoder_outputs])\n",
        "\n",
        "transformer = keras.Model([encoder_inputs, decoder_inputs], decoder_outputs, name=\"transformer\")"
      ],
      "metadata": {
        "id": "D9uyHNufHb6J"
      },
      "execution_count": 30,
      "outputs": []
    },
    {
      "cell_type": "markdown",
      "source": [
        "## Training the model"
      ],
      "metadata": {
        "id": "I4DhMLiTMQAI"
      }
    },
    {
      "cell_type": "code",
      "source": [
        "epochs = 30 \n",
        "\n",
        "transformer.summary()\n",
        "transformer.compile(\n",
        "    \"adam\", loss=\"sparse_categorical_crossentropy\", metrics=[\"accuracy\"]\n",
        ")\n",
        "transformer.fit(train_ds, epochs=epochs, validation_data=val_ds)"
      ],
      "metadata": {
        "colab": {
          "base_uri": "https://localhost:8080/"
        },
        "id": "DkG3DbHuKDvT",
        "outputId": "e1794313-14fd-4d6e-8008-8a1c7c08abaa"
      },
      "execution_count": 31,
      "outputs": [
        {
          "output_type": "stream",
          "name": "stdout",
          "text": [
            "Model: \"transformer\"\n",
            "__________________________________________________________________________________________________\n",
            " Layer (type)                   Output Shape         Param #     Connected to                     \n",
            "==================================================================================================\n",
            " encoder_inputs (InputLayer)    [(None, None)]       0           []                               \n",
            "                                                                                                  \n",
            " positional_embedding (Position  (None, None, 256)   3845120     ['encoder_inputs[0][0]']         \n",
            " alEmbedding)                                                                                     \n",
            "                                                                                                  \n",
            " decoder_inputs (InputLayer)    [(None, None)]       0           []                               \n",
            "                                                                                                  \n",
            " transformer_encoder (Transform  (None, None, 256)   3155456     ['positional_embedding[0][0]']   \n",
            " erEncoder)                                                                                       \n",
            "                                                                                                  \n",
            " model_1 (Functional)           (None, None, 15000)  12959640    ['decoder_inputs[0][0]',         \n",
            "                                                                  'transformer_encoder[0][0]']    \n",
            "                                                                                                  \n",
            "==================================================================================================\n",
            "Total params: 19,960,216\n",
            "Trainable params: 19,960,216\n",
            "Non-trainable params: 0\n",
            "__________________________________________________________________________________________________\n",
            "Epoch 1/30\n",
            "1189/1189 [==============================] - 88s 67ms/step - loss: 2.8657 - accuracy: 0.3024 - val_loss: 2.5275 - val_accuracy: 0.3424\n",
            "Epoch 2/30\n",
            "1189/1189 [==============================] - 81s 68ms/step - loss: 2.5153 - accuracy: 0.3430 - val_loss: 2.4054 - val_accuracy: 0.3579\n",
            "Epoch 3/30\n",
            "1189/1189 [==============================] - 80s 68ms/step - loss: 2.3629 - accuracy: 0.3620 - val_loss: 2.3422 - val_accuracy: 0.3680\n",
            "Epoch 4/30\n",
            "1189/1189 [==============================] - 82s 69ms/step - loss: 2.2434 - accuracy: 0.3787 - val_loss: 2.3104 - val_accuracy: 0.3740\n",
            "Epoch 5/30\n",
            "1189/1189 [==============================] - 80s 67ms/step - loss: 2.1399 - accuracy: 0.3950 - val_loss: 2.2905 - val_accuracy: 0.3774\n",
            "Epoch 6/30\n",
            "1189/1189 [==============================] - 79s 67ms/step - loss: 2.0496 - accuracy: 0.4101 - val_loss: 2.2866 - val_accuracy: 0.3796\n",
            "Epoch 7/30\n",
            "1189/1189 [==============================] - 79s 66ms/step - loss: 1.9679 - accuracy: 0.4247 - val_loss: 2.2944 - val_accuracy: 0.3821\n",
            "Epoch 8/30\n",
            "1189/1189 [==============================] - 79s 66ms/step - loss: 1.8948 - accuracy: 0.4383 - val_loss: 2.3035 - val_accuracy: 0.3869\n",
            "Epoch 9/30\n",
            "1189/1189 [==============================] - 79s 66ms/step - loss: 1.8281 - accuracy: 0.4516 - val_loss: 2.3264 - val_accuracy: 0.3884\n",
            "Epoch 10/30\n",
            "1189/1189 [==============================] - 78s 66ms/step - loss: 1.7677 - accuracy: 0.4643 - val_loss: 2.3356 - val_accuracy: 0.3912\n",
            "Epoch 11/30\n",
            "1189/1189 [==============================] - 79s 66ms/step - loss: 1.7130 - accuracy: 0.4753 - val_loss: 2.3611 - val_accuracy: 0.3923\n",
            "Epoch 12/30\n",
            "1189/1189 [==============================] - 79s 66ms/step - loss: 1.6613 - accuracy: 0.4868 - val_loss: 2.3800 - val_accuracy: 0.3946\n",
            "Epoch 13/30\n",
            "1189/1189 [==============================] - 79s 66ms/step - loss: 1.6146 - accuracy: 0.4975 - val_loss: 2.3818 - val_accuracy: 0.3968\n",
            "Epoch 14/30\n",
            "1189/1189 [==============================] - 78s 66ms/step - loss: 1.5724 - accuracy: 0.5071 - val_loss: 2.4217 - val_accuracy: 0.3968\n",
            "Epoch 15/30\n",
            "1189/1189 [==============================] - 79s 66ms/step - loss: 1.5333 - accuracy: 0.5153 - val_loss: 2.4307 - val_accuracy: 0.3991\n",
            "Epoch 16/30\n",
            "1189/1189 [==============================] - 79s 66ms/step - loss: 1.4947 - accuracy: 0.5252 - val_loss: 2.4490 - val_accuracy: 0.4013\n",
            "Epoch 17/30\n",
            "1189/1189 [==============================] - 79s 66ms/step - loss: 1.4608 - accuracy: 0.5332 - val_loss: 2.4854 - val_accuracy: 0.4003\n",
            "Epoch 18/30\n",
            "1189/1189 [==============================] - 79s 66ms/step - loss: 1.4276 - accuracy: 0.5410 - val_loss: 2.5081 - val_accuracy: 0.4024\n",
            "Epoch 19/30\n",
            "1189/1189 [==============================] - 78s 66ms/step - loss: 1.3961 - accuracy: 0.5491 - val_loss: 2.5288 - val_accuracy: 0.4018\n",
            "Epoch 20/30\n",
            "1189/1189 [==============================] - 79s 66ms/step - loss: 1.3679 - accuracy: 0.5559 - val_loss: 2.5781 - val_accuracy: 0.4032\n",
            "Epoch 21/30\n",
            "1189/1189 [==============================] - 78s 66ms/step - loss: 1.3389 - accuracy: 0.5638 - val_loss: 2.6128 - val_accuracy: 0.4033\n",
            "Epoch 22/30\n",
            "1189/1189 [==============================] - 79s 66ms/step - loss: 1.3105 - accuracy: 0.5710 - val_loss: 2.6276 - val_accuracy: 0.4053\n",
            "Epoch 23/30\n",
            "1189/1189 [==============================] - 78s 66ms/step - loss: 1.2847 - accuracy: 0.5777 - val_loss: 2.6434 - val_accuracy: 0.4049\n",
            "Epoch 24/30\n",
            "1189/1189 [==============================] - 79s 66ms/step - loss: 1.2622 - accuracy: 0.5831 - val_loss: 2.6867 - val_accuracy: 0.4056\n",
            "Epoch 25/30\n",
            "1189/1189 [==============================] - 79s 66ms/step - loss: 1.2385 - accuracy: 0.5892 - val_loss: 2.7141 - val_accuracy: 0.4038\n",
            "Epoch 26/30\n",
            "1189/1189 [==============================] - 79s 66ms/step - loss: 1.2159 - accuracy: 0.5960 - val_loss: 2.7206 - val_accuracy: 0.4071\n",
            "Epoch 27/30\n",
            "1189/1189 [==============================] - 79s 66ms/step - loss: 1.1938 - accuracy: 0.6013 - val_loss: 2.7605 - val_accuracy: 0.4077\n",
            "Epoch 28/30\n",
            "1189/1189 [==============================] - 79s 66ms/step - loss: 1.1730 - accuracy: 0.6075 - val_loss: 2.7552 - val_accuracy: 0.4066\n",
            "Epoch 29/30\n",
            "1189/1189 [==============================] - 79s 67ms/step - loss: 1.1535 - accuracy: 0.6126 - val_loss: 2.7743 - val_accuracy: 0.4078\n",
            "Epoch 30/30\n",
            "1189/1189 [==============================] - 79s 66ms/step - loss: 1.1354 - accuracy: 0.6178 - val_loss: 2.8277 - val_accuracy: 0.4070\n"
          ]
        },
        {
          "output_type": "execute_result",
          "data": {
            "text/plain": [
              "<keras.callbacks.History at 0x7fbd95609950>"
            ]
          },
          "metadata": {},
          "execution_count": 31
        }
      ]
    },
    {
      "cell_type": "markdown",
      "source": [
        "## Testing model"
      ],
      "metadata": {
        "id": "gRYH5lskMZF5"
      }
    },
    {
      "cell_type": "code",
      "source": [
        "out_vocab = out_vectorization.get_vocabulary()\n",
        "out_index_lookup = dict(zip(range(len(out_vocab)), out_vocab))\n",
        "max_decoded_sentence_length = 20\n",
        "\n",
        "def decode_sequence(input_sentence):\n",
        "  # tokenizing input sentence\n",
        "    tokenized_input_sentence = inp_vectorization([input_sentence])\n",
        "  # first decoder input is <start>\n",
        "    decoded_sentence = \"[start]\"\n",
        "    for i in range(max_decoded_sentence_length):\n",
        "        # tokenizing target sentence \n",
        "        tokenized_target_sentence = out_vectorization([decoded_sentence])[:, :-1]\n",
        "        # make prediction using input and targater sentecence\n",
        "        predictions = transformer([tokenized_input_sentence, tokenized_target_sentence])\n",
        "        sampled_token_index = np.argmax(predictions[0, i, :])\n",
        "        # token to word\n",
        "        sampled_token = out_index_lookup[sampled_token_index]\n",
        "        # updating decoder inputs\n",
        "        decoded_sentence += \" \" + sampled_token\n",
        "        if sampled_token == \"[end]\":\n",
        "          break\n",
        "    return decoded_sentence"
      ],
      "metadata": {
        "id": "_UhZHclVLhgn"
      },
      "execution_count": 32,
      "outputs": []
    },
    {
      "cell_type": "code",
      "source": [
        "input_sentences = ['bob ! i hear your team won the match .',\n",
        "                   'how do you do ?',\n",
        "                   'do you think you are introverted or extroverted ?',\n",
        "                   'yes , you are right . after all , the quality of your air conditioners is good . the only problem is price .',\n",
        "                   'what ? he cannot do this to you .',\n",
        "                   'thank you , lisa .',\n",
        "                   'oh , she can make her own decisions .',\n",
        "                   'but if i do not pass , will you call me ?',\n",
        "                   'what happened , john ?',\n",
        "                   'nice to meet you , mr . wilson .',\n",
        "                   'hello , is sue there ?',\n",
        "                   'hi ! i am happy you could make it .',\n",
        "                   'what foods do you eat now ?',\n",
        "                   'ok . is the plane on schedule ?']"
      ],
      "metadata": {
        "id": "m1IovFYKM01s"
      },
      "execution_count": 33,
      "outputs": []
    },
    {
      "cell_type": "code",
      "source": [
        "for input_sentence in input_sentences:\n",
        "    translated = decode_sequence(input_sentence)\n",
        "    print(input_sentence)\n",
        "    print(translated)\n",
        "    print('***************')\n"
      ],
      "metadata": {
        "colab": {
          "base_uri": "https://localhost:8080/"
        },
        "id": "M4f2_HyZM3fN",
        "outputId": "a142fbf9-34e1-4760-8290-7ccc916047a2"
      },
      "execution_count": 34,
      "outputs": [
        {
          "output_type": "stream",
          "name": "stdout",
          "text": [
            "bob ! i hear your team won the match .\n",
            "[start] yes , but they are so nice . [end]\n",
            "***************\n",
            "how do you do ?\n",
            "[start] i ’ m a little nervous . i have never heard of it . [end]\n",
            "***************\n",
            "do you think you are introverted or extroverted ?\n",
            "[start] i think i am extroverted , i like saying most girls will start by animals and chinese stories . [end]\n",
            "***************\n",
            "yes , you are right . after all , the quality of your air conditioners is good . the only problem is price .\n",
            "[start] yes , we have a lot of things . its very common as the international . [end]\n",
            "***************\n",
            "what ? he cannot do this to you .\n",
            "[start] it ’ s not that bad . the kitchen can be worn on your left hand . [end]\n",
            "***************\n",
            "thank you , lisa .\n",
            "[start] i am glad you are enjoying yourself . [end]\n",
            "***************\n",
            "oh , she can make her own decisions .\n",
            "[start] but you know that he is not a good teacher . [end]\n",
            "***************\n",
            "but if i do not pass , will you call me ?\n",
            "[start] i can ’ t . [end]\n",
            "***************\n",
            "what happened , john ?\n",
            "[start] i was thinking about it . [end]\n",
            "***************\n",
            "nice to meet you , mr . wilson .\n",
            "[start] thank you . [end]\n",
            "***************\n",
            "hello , is sue there ?\n",
            "[start] mark ? i ’ m just looking . i ’ m so excited . [end]\n",
            "***************\n",
            "hi ! i am happy you could make it .\n",
            "[start] i am afraid i am not in a bit . i just feel tired . [end]\n",
            "***************\n",
            "what foods do you eat now ?\n",
            "[start] i think its too good to eat here . [end]\n",
            "***************\n",
            "ok . is the plane on schedule ?\n",
            "[start] yes , it is . [end]\n",
            "***************\n"
          ]
        }
      ]
    }
  ]
}