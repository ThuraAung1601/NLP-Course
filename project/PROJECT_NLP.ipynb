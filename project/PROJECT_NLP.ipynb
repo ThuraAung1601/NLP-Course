{
  "nbformat": 4,
  "nbformat_minor": 0,
  "metadata": {
    "colab": {
      "provenance": [],
      "collapsed_sections": [
        "VZR48p2CJHW_",
        "3hIxNXTWLOPK",
        "pnPJaVtUaaXN",
        "JiiA_Roja3Sq",
        "nH3yRLf_eswp",
        "zRDOprQ3evgV",
        "-LqwRVZAfTDE"
      ],
      "machine_shape": "hm"
    },
    "kernelspec": {
      "name": "python3",
      "display_name": "Python 3"
    },
    "language_info": {
      "name": "python"
    },
    "accelerator": "GPU",
    "gpuClass": "premium"
  },
  "cells": [
    {
      "cell_type": "code",
      "execution_count": 1,
      "metadata": {
        "colab": {
          "base_uri": "https://localhost:8080/"
        },
        "id": "A5GP7n2ZquT0",
        "outputId": "43d3ee62-36ff-4a9c-dec3-a48e265c9b04"
      },
      "outputs": [
        {
          "output_type": "stream",
          "name": "stdout",
          "text": [
            "/usr/local/lib/python3.8/dist-packages/gdown/cli.py:121: FutureWarning: Option `--id` was deprecated in version 4.3.1 and will be removed in 5.0. You don't need to pass it anymore to use a file ID.\n",
            "  warnings.warn(\n",
            "Downloading...\n",
            "From: https://drive.google.com/uc?id=104TU-gdBAtalfRyaauuKaOobhGbB52Zf\n",
            "To: /content/data.zip\n",
            "100% 649k/649k [00:00<00:00, 146MB/s]\n"
          ]
        }
      ],
      "source": [
        "!gdown --id 104TU-gdBAtalfRyaauuKaOobhGbB52Zf"
      ]
    },
    {
      "cell_type": "code",
      "source": [
        "!unzip data.zip"
      ],
      "metadata": {
        "colab": {
          "base_uri": "https://localhost:8080/"
        },
        "id": "gTF7xsFLrOSB",
        "outputId": "628b8b25-8d0f-4e91-be8c-126cb41986ff"
      },
      "execution_count": 3,
      "outputs": [
        {
          "output_type": "stream",
          "name": "stdout",
          "text": [
            "Archive:  data.zip\n",
            "replace simple-dstc2-trn.json? [y]es, [n]o, [A]ll, [N]one, [r]ename: y\n",
            "  inflating: simple-dstc2-trn.json   \n",
            "replace simple-dstc2-tst.json? [y]es, [n]o, [A]ll, [N]one, [r]ename: \n",
            "error:  invalid response [{ENTER}]\n",
            "replace simple-dstc2-tst.json? [y]es, [n]o, [A]ll, [N]one, [r]ename: y\n",
            "  inflating: simple-dstc2-tst.json   \n",
            "replace simple-dstc2-val.json? [y]es, [n]o, [A]ll, [N]one, [r]ename: y\n",
            "  inflating: simple-dstc2-val.json   \n",
            "replace slot_vals.json? [y]es, [n]o, [A]ll, [N]one, [r]ename: y\n",
            "  inflating: slot_vals.json          \n",
            "replace ner_intent.json? [y]es, [n]o, [A]ll, [N]one, [r]ename: y\n",
            "  inflating: ner_intent.json         \n",
            "replace simple-dstc2-templates.txt? [y]es, [n]o, [A]ll, [N]one, [r]ename: yy\n",
            "  inflating: simple-dstc2-templates.txt  \n",
            "replace ner_intent_test.json? [y]es, [n]o, [A]ll, [N]one, [r]ename: y\n",
            "  inflating: ner_intent_test.json    \n",
            "replace ner_intent_train.json? [y]es, [n]o, [A]ll, [N]one, [r]ename: \n",
            "error:  invalid response [{ENTER}]\n",
            "replace ner_intent_train.json? [y]es, [n]o, [A]ll, [N]one, [r]ename: y\n",
            "  inflating: ner_intent_train.json   \n",
            "replace ner_intent_valid.json? [y]es, [n]o, [A]ll, [N]one, [r]ename: y\n",
            "  inflating: ner_intent_valid.json   \n"
          ]
        }
      ]
    },
    {
      "cell_type": "code",
      "source": [
        "!pip install transformers"
      ],
      "metadata": {
        "colab": {
          "base_uri": "https://localhost:8080/"
        },
        "id": "XyGK67qJtn1W",
        "outputId": "cd28479e-6110-46d6-8ca8-f4e3fc79c70f"
      },
      "execution_count": 4,
      "outputs": [
        {
          "output_type": "stream",
          "name": "stdout",
          "text": [
            "y\n",
            "Looking in indexes: https://pypi.org/simple, https://us-python.pkg.dev/colab-wheels/public/simple/\n",
            "Requirement already satisfied: transformers in /usr/local/lib/python3.8/dist-packages (4.25.1)\n",
            "Requirement already satisfied: numpy>=1.17 in /usr/local/lib/python3.8/dist-packages (from transformers) (1.21.6)\n",
            "Requirement already satisfied: filelock in /usr/local/lib/python3.8/dist-packages (from transformers) (3.8.2)\n",
            "Requirement already satisfied: huggingface-hub<1.0,>=0.10.0 in /usr/local/lib/python3.8/dist-packages (from transformers) (0.11.1)\n",
            "Requirement already satisfied: packaging>=20.0 in /usr/local/lib/python3.8/dist-packages (from transformers) (21.3)\n",
            "Requirement already satisfied: requests in /usr/local/lib/python3.8/dist-packages (from transformers) (2.23.0)\n",
            "Requirement already satisfied: tokenizers!=0.11.3,<0.14,>=0.11.1 in /usr/local/lib/python3.8/dist-packages (from transformers) (0.13.2)\n",
            "Requirement already satisfied: tqdm>=4.27 in /usr/local/lib/python3.8/dist-packages (from transformers) (4.64.1)\n",
            "Requirement already satisfied: regex!=2019.12.17 in /usr/local/lib/python3.8/dist-packages (from transformers) (2022.6.2)\n",
            "Requirement already satisfied: pyyaml>=5.1 in /usr/local/lib/python3.8/dist-packages (from transformers) (6.0)\n",
            "Requirement already satisfied: typing-extensions>=3.7.4.3 in /usr/local/lib/python3.8/dist-packages (from huggingface-hub<1.0,>=0.10.0->transformers) (4.4.0)\n",
            "Requirement already satisfied: pyparsing!=3.0.5,>=2.0.2 in /usr/local/lib/python3.8/dist-packages (from packaging>=20.0->transformers) (3.0.9)\n",
            "Requirement already satisfied: urllib3!=1.25.0,!=1.25.1,<1.26,>=1.21.1 in /usr/local/lib/python3.8/dist-packages (from requests->transformers) (1.24.3)\n",
            "Requirement already satisfied: chardet<4,>=3.0.2 in /usr/local/lib/python3.8/dist-packages (from requests->transformers) (3.0.4)\n",
            "Requirement already satisfied: idna<3,>=2.5 in /usr/local/lib/python3.8/dist-packages (from requests->transformers) (2.10)\n",
            "Requirement already satisfied: certifi>=2017.4.17 in /usr/local/lib/python3.8/dist-packages (from requests->transformers) (2022.12.7)\n"
          ]
        }
      ]
    },
    {
      "cell_type": "code",
      "source": [
        "import json\n",
        "from transformers import BertTokenizer, TFBertModel\n",
        "import numpy as np"
      ],
      "metadata": {
        "id": "c_FDrHwVsJYq"
      },
      "execution_count": 5,
      "outputs": []
    },
    {
      "cell_type": "code",
      "source": [
        "def read_file(path):\n",
        "  f = open(path, 'r')\n",
        "  data = json.loads(f.read())\n",
        "  sentences,nertags,intents = ([],[],[])\n",
        "  for key,value in data.items():\n",
        "    sentences.append(key)\n",
        "    nertags.append(' '.join(data[key]['NERTAGS']))\n",
        "    intents.append(data[key]['INTENTS'])\n",
        "  f.close()\n",
        "  return sentences, nertags,intents"
      ],
      "metadata": {
        "id": "dA-ku5nxrYFT"
      },
      "execution_count": 52,
      "outputs": []
    },
    {
      "cell_type": "code",
      "source": [
        "train_sentence,train_nertag, train_intent = read_file('ner_intent_train.json')\n",
        "test_sentence, test_nertag, test_intent = read_file('ner_intent_test.json')\n",
        "valid_sentence, valid_nertag, valid_intent = read_file('ner_intent_valid.json')"
      ],
      "metadata": {
        "id": "pQ70LS09snpK"
      },
      "execution_count": 53,
      "outputs": []
    },
    {
      "cell_type": "code",
      "source": [
        "print(train_sentence[200])\n",
        "print(train_nertag[200])\n",
        "print(train_intent[200])"
      ],
      "metadata": {
        "colab": {
          "base_uri": "https://localhost:8080/"
        },
        "id": "WK1Ot9P2tGwH",
        "outputId": "50775a4e-2268-4659-c968-d7adf4eca896"
      },
      "execution_count": 8,
      "outputs": [
        {
          "output_type": "stream",
          "name": "stdout",
          "text": [
            "im looking for an expensive restaurant in the north part of town\n",
            "O O O O B-pricerange O O O B-area O O O\n",
            "inform_pricerange inform_area\n"
          ]
        }
      ]
    },
    {
      "cell_type": "code",
      "source": [
        "bert_tokenizer = BertTokenizer.from_pretrained('bert-base-uncased')"
      ],
      "metadata": {
        "id": "WqiprA3Rvv5m"
      },
      "execution_count": 9,
      "outputs": []
    },
    {
      "cell_type": "code",
      "source": [
        "def encode_text(tokenizer, text_sequences, max_len):\n",
        "  input_ids=[]\n",
        "  attention_masks=[]\n",
        "\n",
        "  for sent in text_sequences:\n",
        "    bert_inp = tokenizer.encode_plus(sent, add_special_tokens = True, max_length=max_len, pad_to_max_length = True, \n",
        "                                        return_attention_mask = True)\n",
        "    input_ids.append(bert_inp['input_ids'])\n",
        "    attention_masks.append(bert_inp['attention_mask'])\n",
        "\n",
        "  input_ids = np.asarray(input_ids)\n",
        "  attention_masks = np.array(attention_masks)\n",
        "\n",
        "  return input_ids, attention_masks"
      ],
      "metadata": {
        "id": "wqSkBre-v5c3"
      },
      "execution_count": 10,
      "outputs": []
    },
    {
      "cell_type": "code",
      "source": [
        "max_length = 30\n",
        "train_inp, train_mask = encode_text(bert_tokenizer, train_sentence, max_length)\n",
        "test_inp, test_mask = encode_text(bert_tokenizer, test_sentence, max_length)\n",
        "valid_inp, valid_mask = encode_text(bert_tokenizer, valid_sentence, max_length)"
      ],
      "metadata": {
        "colab": {
          "base_uri": "https://localhost:8080/"
        },
        "id": "eWHUnjG9wCDR",
        "outputId": "600876c2-e7bf-42b2-8c42-92d4759e1418"
      },
      "execution_count": 11,
      "outputs": [
        {
          "output_type": "stream",
          "name": "stderr",
          "text": [
            "Truncation was not explicitly activated but `max_length` is provided a specific value, please use `truncation=True` to explicitly truncate examples to max length. Defaulting to 'longest_first' truncation strategy. If you encode pairs of sequences (GLUE-style) with the tokenizer you can select this strategy more precisely by providing a specific strategy to `truncation`.\n",
            "/usr/local/lib/python3.8/dist-packages/transformers/tokenization_utils_base.py:2336: FutureWarning: The `pad_to_max_length` argument is deprecated and will be removed in a future version, use `padding=True` or `padding='longest'` to pad to the longest sequence in the batch, or use `padding='max_length'` to pad to a max length. In this case, you can give a specific length with `max_length` (e.g. `max_length=45`) or leave max_length to None to pad to the maximal input size of the model (e.g. 512 for Bert).\n",
            "  warnings.warn(\n"
          ]
        }
      ]
    },
    {
      "cell_type": "code",
      "source": [
        "print(train_sentence[1])\n",
        "print(train_inp[1])\n",
        "print(bert_tokenizer.convert_ids_to_tokens(train_inp[1]))\n",
        "print(train_mask[1])"
      ],
      "metadata": {
        "colab": {
          "base_uri": "https://localhost:8080/"
        },
        "id": "jS4Z2nSswQXb",
        "outputId": "c0096ef4-5b3e-4d71-e4a7-5f200272bfb1"
      },
      "execution_count": 12,
      "outputs": [
        {
          "output_type": "stream",
          "name": "stdout",
          "text": [
            "any\n",
            "[ 101 2151  102    0    0    0    0    0    0    0    0    0    0    0\n",
            "    0    0    0    0    0    0    0    0    0    0    0    0    0    0\n",
            "    0    0]\n",
            "['[CLS]', 'any', '[SEP]', '[PAD]', '[PAD]', '[PAD]', '[PAD]', '[PAD]', '[PAD]', '[PAD]', '[PAD]', '[PAD]', '[PAD]', '[PAD]', '[PAD]', '[PAD]', '[PAD]', '[PAD]', '[PAD]', '[PAD]', '[PAD]', '[PAD]', '[PAD]', '[PAD]', '[PAD]', '[PAD]', '[PAD]', '[PAD]', '[PAD]', '[PAD]']\n",
            "[1 1 1 0 0 0 0 0 0 0 0 0 0 0 0 0 0 0 0 0 0 0 0 0 0 0 0 0 0 0]\n"
          ]
        }
      ]
    },
    {
      "cell_type": "code",
      "source": [
        "from tensorflow.keras.preprocessing.text import Tokenizer"
      ],
      "metadata": {
        "id": "j2q1iE5exOMD"
      },
      "execution_count": 13,
      "outputs": []
    },
    {
      "cell_type": "code",
      "source": [
        "seq_out_tokenizer = Tokenizer(filters='', oov_token=\"UNK\", lower=False)\n",
        "seq_out_tokenizer.fit_on_texts(train_nertag)\n"
      ],
      "metadata": {
        "id": "jQXLPcZRyHU-"
      },
      "execution_count": 14,
      "outputs": []
    },
    {
      "cell_type": "code",
      "source": [
        "seq_out_tokenizer.index_word[0] = 'PAD'\n",
        "seq_out_tokenizer.word_index['PAD'] = 0"
      ],
      "metadata": {
        "id": "64afqdYt1dpY"
      },
      "execution_count": 15,
      "outputs": []
    },
    {
      "cell_type": "code",
      "source": [
        "seq_out_tokenizer.word_index"
      ],
      "metadata": {
        "colab": {
          "base_uri": "https://localhost:8080/"
        },
        "id": "affvkbJA2k1L",
        "outputId": "2a8e8d89-8b9a-4ec2-84ff-47ad157a652d"
      },
      "execution_count": 16,
      "outputs": [
        {
          "output_type": "execute_result",
          "data": {
            "text/plain": [
              "{'UNK': 1,\n",
              " 'O': 2,\n",
              " 'B-food': 3,\n",
              " 'B-area': 4,\n",
              " 'B-pricerange': 5,\n",
              " 'I-food': 6,\n",
              " 'I-pricerange': 7,\n",
              " 'B-this': 8,\n",
              " 'I-this': 9,\n",
              " 'I-area': 10,\n",
              " 'B-name': 11,\n",
              " 'I-name': 12,\n",
              " 'PAD': 0}"
            ]
          },
          "metadata": {},
          "execution_count": 16
        }
      ]
    },
    {
      "cell_type": "code",
      "source": [
        "seq_out_tokenizer.index_word"
      ],
      "metadata": {
        "colab": {
          "base_uri": "https://localhost:8080/"
        },
        "id": "PMmo2yQC2nhS",
        "outputId": "f7b1897c-05e1-4aad-f7fb-f38abefe662f"
      },
      "execution_count": 17,
      "outputs": [
        {
          "output_type": "execute_result",
          "data": {
            "text/plain": [
              "{1: 'UNK',\n",
              " 2: 'O',\n",
              " 3: 'B-food',\n",
              " 4: 'B-area',\n",
              " 5: 'B-pricerange',\n",
              " 6: 'I-food',\n",
              " 7: 'I-pricerange',\n",
              " 8: 'B-this',\n",
              " 9: 'I-this',\n",
              " 10: 'I-area',\n",
              " 11: 'B-name',\n",
              " 12: 'I-name',\n",
              " 0: 'PAD'}"
            ]
          },
          "metadata": {},
          "execution_count": 17
        }
      ]
    },
    {
      "cell_type": "code",
      "source": [
        "train_slots_tokenized = seq_out_tokenizer.texts_to_sequences(train_nertag)\n",
        "test_slots_tokenized = seq_out_tokenizer.texts_to_sequences(test_nertag)\n",
        "valid_slots_tokenized = seq_out_tokenizer.texts_to_sequences(valid_nertag)"
      ],
      "metadata": {
        "id": "pqAS8E5e2-OG"
      },
      "execution_count": 18,
      "outputs": []
    },
    {
      "cell_type": "code",
      "source": [
        "def padding_slots(tokenized_slots, max_len):\n",
        "  final = np.zeros(shape=(len(tokenized_slots),max_len), dtype='int32')\n",
        "  for i,slot in enumerate(tokenized_slots):\n",
        "    final[i, 1:len(slot)+1] = slot\n",
        "  return final"
      ],
      "metadata": {
        "id": "4VGGMkbq3C4I"
      },
      "execution_count": 19,
      "outputs": []
    },
    {
      "cell_type": "code",
      "source": [
        "train_slots = padding_slots(train_slots_tokenized, max_length)\n",
        "valid_slots = padding_slots(valid_slots_tokenized, max_length)\n",
        "test_slots = padding_slots(test_slots_tokenized, max_length)"
      ],
      "metadata": {
        "id": "Rr5xuMDd3Fv8"
      },
      "execution_count": 20,
      "outputs": []
    },
    {
      "cell_type": "code",
      "source": [
        "train_slots"
      ],
      "metadata": {
        "colab": {
          "base_uri": "https://localhost:8080/"
        },
        "id": "d1ZHxAqX3MNb",
        "outputId": "6c3f024f-4c79-4cec-bceb-d42da3977268"
      },
      "execution_count": 21,
      "outputs": [
        {
          "output_type": "execute_result",
          "data": {
            "text/plain": [
              "array([[0, 5, 2, ..., 0, 0, 0],\n",
              "       [0, 2, 0, ..., 0, 0, 0],\n",
              "       [0, 4, 0, ..., 0, 0, 0],\n",
              "       ...,\n",
              "       [0, 5, 2, ..., 0, 0, 0],\n",
              "       [0, 4, 0, ..., 0, 0, 0],\n",
              "       [0, 2, 3, ..., 0, 0, 0]], dtype=int32)"
            ]
          },
          "metadata": {},
          "execution_count": 21
        }
      ]
    },
    {
      "cell_type": "code",
      "source": [
        "print(train_slots[200])\n",
        "print(train_slots[0])"
      ],
      "metadata": {
        "colab": {
          "base_uri": "https://localhost:8080/"
        },
        "id": "HUiXb2TR6LuI",
        "outputId": "ad70b8df-7d92-4d7d-edce-27d7684ed3ae"
      },
      "execution_count": 22,
      "outputs": [
        {
          "output_type": "stream",
          "name": "stdout",
          "text": [
            "[0 2 2 2 2 5 2 2 2 4 2 2 2 0 0 0 0 0 0 0 0 0 0 0 0 0 0 0 0 0]\n",
            "[0 5 2 0 0 0 0 0 0 0 0 0 0 0 0 0 0 0 0 0 0 0 0 0 0 0 0 0 0 0]\n"
          ]
        }
      ]
    },
    {
      "cell_type": "markdown",
      "source": [
        "## Q1\n"
      ],
      "metadata": {
        "id": "YvSq9BPD7Qm_"
      }
    },
    {
      "cell_type": "markdown",
      "source": [
        "### a"
      ],
      "metadata": {
        "id": "LCbggJyMJKEi"
      }
    },
    {
      "cell_type": "code",
      "source": [
        "import tensorflow as tf\n",
        "from tensorflow.keras.callbacks import EarlyStopping, ModelCheckpoint\n",
        "from sklearn.metrics import classification_report, f1_score"
      ],
      "metadata": {
        "id": "elQqQ0uF_WIZ"
      },
      "execution_count": 23,
      "outputs": []
    },
    {
      "cell_type": "code",
      "source": [
        "class MetricsCallback(tf.keras.callbacks.Callback):\n",
        "    def __init__(self):\n",
        "        super(MetricsCallback, self).__init__()\n",
        "    def  on_train_begin(self,logs={}):\n",
        "      self.f1_macro=[]\n",
        "    def on_epoch_end(self, epoch, logs=None):\n",
        "      train_preds = self.model.predict([train_inp, train_mask])\n",
        "      pred = train_preds.reshape(train_preds.shape[0]*train_preds.shape[1], train_preds.shape[2])\n",
        "      y_pred = [np.argmax(elem) for elem in pred]\n",
        "      y_true = train_slots.reshape(train_slots.shape[0]*train_slots.shape[1])\n",
        "      score=f1_score(y_true, y_pred, average='macro')\n",
        "      self.f1_macro.append(score)\n",
        "      print(\" F1 macro :\",score)"
      ],
      "metadata": {
        "id": "63UDFac--_6k"
      },
      "execution_count": 24,
      "outputs": []
    },
    {
      "cell_type": "code",
      "source": [
        "metrics=MetricsCallback()"
      ],
      "metadata": {
        "id": "AFpKDQ58_RWq"
      },
      "execution_count": 25,
      "outputs": []
    },
    {
      "cell_type": "code",
      "source": [
        "slot_num = len(seq_out_tokenizer.word_index)"
      ],
      "metadata": {
        "id": "xDyp_LfhANIt"
      },
      "execution_count": 26,
      "outputs": []
    },
    {
      "cell_type": "code",
      "source": [
        "bert = TFBertModel.from_pretrained('bert-base-uncased')\n",
        "\n",
        "input_ids = tf.keras.layers.Input(shape=(max_length,), name='input_ids', dtype='int32')\n",
        "mask = tf.keras.layers.Input(shape=(max_length,), name='attention_mask', dtype='int32')\n",
        "\n",
        "embeddings = bert(input_ids, attention_mask=mask)[0]\n",
        "y = tf.keras.layers.Dense(slot_num, activation='softmax', name='outputs')(embeddings)\n",
        "\n",
        "slotfilling_model = tf.keras.Model(inputs=[input_ids, mask], outputs=y)\n",
        "\n",
        "optimizer = tf.keras.optimizers.Adam(learning_rate=2e-5,epsilon=1e-08)\n",
        "\n",
        "slotfilling_model.compile(optimizer=optimizer,\n",
        "              loss='sparse_categorical_crossentropy',\n",
        "              metrics=['accuracy'])\n",
        "\n",
        "slotfilling_model.summary()"
      ],
      "metadata": {
        "colab": {
          "base_uri": "https://localhost:8080/"
        },
        "id": "QbQ_CL6e_cYW",
        "outputId": "c5e005bc-a731-420b-cec6-968e51f8060f"
      },
      "execution_count": 27,
      "outputs": [
        {
          "output_type": "stream",
          "name": "stderr",
          "text": [
            "Some layers from the model checkpoint at bert-base-uncased were not used when initializing TFBertModel: ['nsp___cls', 'mlm___cls']\n",
            "- This IS expected if you are initializing TFBertModel from the checkpoint of a model trained on another task or with another architecture (e.g. initializing a BertForSequenceClassification model from a BertForPreTraining model).\n",
            "- This IS NOT expected if you are initializing TFBertModel from the checkpoint of a model that you expect to be exactly identical (initializing a BertForSequenceClassification model from a BertForSequenceClassification model).\n",
            "All the layers of TFBertModel were initialized from the model checkpoint at bert-base-uncased.\n",
            "If your task is similar to the task the model of the checkpoint was trained on, you can already use TFBertModel for predictions without further training.\n"
          ]
        },
        {
          "output_type": "stream",
          "name": "stdout",
          "text": [
            "Model: \"model\"\n",
            "__________________________________________________________________________________________________\n",
            " Layer (type)                   Output Shape         Param #     Connected to                     \n",
            "==================================================================================================\n",
            " input_ids (InputLayer)         [(None, 30)]         0           []                               \n",
            "                                                                                                  \n",
            " attention_mask (InputLayer)    [(None, 30)]         0           []                               \n",
            "                                                                                                  \n",
            " tf_bert_model (TFBertModel)    TFBaseModelOutputWi  109482240   ['input_ids[0][0]',              \n",
            "                                thPoolingAndCrossAt               'attention_mask[0][0]']         \n",
            "                                tentions(last_hidde                                               \n",
            "                                n_state=(None, 30,                                                \n",
            "                                768),                                                             \n",
            "                                 pooler_output=(Non                                               \n",
            "                                e, 768),                                                          \n",
            "                                 past_key_values=No                                               \n",
            "                                ne, hidden_states=N                                               \n",
            "                                one, attentions=Non                                               \n",
            "                                e, cross_attentions                                               \n",
            "                                =None)                                                            \n",
            "                                                                                                  \n",
            " outputs (Dense)                (None, 30, 13)       9997        ['tf_bert_model[0][0]']          \n",
            "                                                                                                  \n",
            "==================================================================================================\n",
            "Total params: 109,492,237\n",
            "Trainable params: 109,492,237\n",
            "Non-trainable params: 0\n",
            "__________________________________________________________________________________________________\n"
          ]
        }
      ]
    },
    {
      "cell_type": "code",
      "source": [
        "from google.colab import drive\n",
        "drive.mount('/content/drive')"
      ],
      "metadata": {
        "colab": {
          "base_uri": "https://localhost:8080/"
        },
        "id": "dqZvLty4DhQR",
        "outputId": "424ee6d6-9c8d-4420-8f1a-bb203d22ee72"
      },
      "execution_count": 28,
      "outputs": [
        {
          "output_type": "stream",
          "name": "stdout",
          "text": [
            "Drive already mounted at /content/drive; to attempt to forcibly remount, call drive.mount(\"/content/drive\", force_remount=True).\n"
          ]
        }
      ]
    },
    {
      "cell_type": "code",
      "source": [
        "cp_callback = ModelCheckpoint('/content/drive/MyDrive/slotfilling-{epoch:03d}--{val_accuracy:03f}.h5', \n",
        "                             verbose=1, monitor='val_accuracy',save_best_only=True, \n",
        "                             save_weights_only=True, mode='max') "
      ],
      "metadata": {
        "id": "VmY1DiPDAd4X"
      },
      "execution_count": 31,
      "outputs": []
    },
    {
      "cell_type": "code",
      "source": [
        "history = slotfilling_model.fit([train_inp, train_mask], train_slots,\n",
        "                       batch_size = 32,\n",
        "                       epochs = 2,\n",
        "                       validation_data = ([valid_inp, valid_mask], valid_slots), callbacks=[cp_callback, metrics])"
      ],
      "metadata": {
        "colab": {
          "base_uri": "https://localhost:8080/"
        },
        "id": "sPLGTTsOAa-2",
        "outputId": "8cf8157e-657f-4f37-a1ab-1c9430c0e11e"
      },
      "execution_count": 32,
      "outputs": [
        {
          "output_type": "stream",
          "name": "stdout",
          "text": [
            "Epoch 1/2\n",
            "61/61 [==============================] - ETA: 0s - loss: 0.0466 - accuracy: 0.9883\n",
            "Epoch 1: val_accuracy improved from -inf to 0.99028, saving model to /content/drive/MyDrive/slotfilling-001--0.990282.h5\n",
            "61/61 [==============================] - 5s 28ms/step\n",
            " F1 macro : 0.553846922610249\n",
            "61/61 [==============================] - 11s 185ms/step - loss: 0.0466 - accuracy: 0.9883 - val_loss: 0.0330 - val_accuracy: 0.9903\n",
            "Epoch 2/2\n",
            "61/61 [==============================] - ETA: 0s - loss: 0.0322 - accuracy: 0.9918\n",
            "Epoch 2: val_accuracy improved from 0.99028 to 0.99347, saving model to /content/drive/MyDrive/slotfilling-002--0.993467.h5\n",
            "61/61 [==============================] - 2s 29ms/step\n",
            " F1 macro : 0.7005437577000233\n",
            "61/61 [==============================] - 8s 129ms/step - loss: 0.0322 - accuracy: 0.9918 - val_loss: 0.0239 - val_accuracy: 0.9935\n"
          ]
        }
      ]
    },
    {
      "cell_type": "code",
      "source": [
        "!pip install --upgrade --no-cache-dir gdown"
      ],
      "metadata": {
        "colab": {
          "base_uri": "https://localhost:8080/"
        },
        "id": "3GM1RG1tGmRB",
        "outputId": "86b0f463-73b9-4840-dd45-03853bb5d0d4"
      },
      "execution_count": 33,
      "outputs": [
        {
          "output_type": "stream",
          "name": "stdout",
          "text": [
            "Looking in indexes: https://pypi.org/simple, https://us-python.pkg.dev/colab-wheels/public/simple/\n",
            "Requirement already satisfied: gdown in /usr/local/lib/python3.8/dist-packages (4.6.0)\n",
            "Requirement already satisfied: filelock in /usr/local/lib/python3.8/dist-packages (from gdown) (3.8.2)\n",
            "Requirement already satisfied: six in /usr/local/lib/python3.8/dist-packages (from gdown) (1.15.0)\n",
            "Requirement already satisfied: requests[socks] in /usr/local/lib/python3.8/dist-packages (from gdown) (2.23.0)\n",
            "Requirement already satisfied: beautifulsoup4 in /usr/local/lib/python3.8/dist-packages (from gdown) (4.6.3)\n",
            "Requirement already satisfied: tqdm in /usr/local/lib/python3.8/dist-packages (from gdown) (4.64.1)\n",
            "Requirement already satisfied: certifi>=2017.4.17 in /usr/local/lib/python3.8/dist-packages (from requests[socks]->gdown) (2022.12.7)\n",
            "Requirement already satisfied: chardet<4,>=3.0.2 in /usr/local/lib/python3.8/dist-packages (from requests[socks]->gdown) (3.0.4)\n",
            "Requirement already satisfied: urllib3!=1.25.0,!=1.25.1,<1.26,>=1.21.1 in /usr/local/lib/python3.8/dist-packages (from requests[socks]->gdown) (1.24.3)\n",
            "Requirement already satisfied: idna<3,>=2.5 in /usr/local/lib/python3.8/dist-packages (from requests[socks]->gdown) (2.10)\n",
            "Requirement already satisfied: PySocks!=1.5.7,>=1.5.6 in /usr/local/lib/python3.8/dist-packages (from requests[socks]->gdown) (1.7.1)\n"
          ]
        }
      ]
    },
    {
      "cell_type": "code",
      "source": [
        "!gdown --id 1-m4ATc2ZvrDnEGVgVXpElAsmD0zy-f2k"
      ],
      "metadata": {
        "colab": {
          "base_uri": "https://localhost:8080/"
        },
        "id": "tFtsofc5BmAc",
        "outputId": "d832ea51-76df-4f74-b000-e1a8d60a0324"
      },
      "execution_count": 34,
      "outputs": [
        {
          "output_type": "stream",
          "name": "stdout",
          "text": [
            "/usr/local/lib/python3.8/dist-packages/gdown/cli.py:121: FutureWarning: Option `--id` was deprecated in version 4.3.1 and will be removed in 5.0. You don't need to pass it anymore to use a file ID.\n",
            "  warnings.warn(\n",
            "Downloading...\n",
            "From: https://drive.google.com/uc?id=1-m4ATc2ZvrDnEGVgVXpElAsmD0zy-f2k\n",
            "To: /content/slotfilling-002--0.993467.h5\n",
            "100% 438M/438M [00:01<00:00, 272MB/s]\n"
          ]
        }
      ]
    },
    {
      "cell_type": "code",
      "source": [
        "slotfilling_model.load_weights('slotfilling-002--0.989381.h5')"
      ],
      "metadata": {
        "id": "EkFcIim0Gtx0"
      },
      "execution_count": 35,
      "outputs": []
    },
    {
      "cell_type": "code",
      "source": [
        "slotfilling_model.evaluate([test_inp, test_mask], test_slots)"
      ],
      "metadata": {
        "colab": {
          "base_uri": "https://localhost:8080/"
        },
        "id": "iYNRIzN_IjYn",
        "outputId": "0c5a6d8b-9a87-46f3-a897-fd9c5fc1c553"
      },
      "execution_count": 36,
      "outputs": [
        {
          "output_type": "stream",
          "name": "stdout",
          "text": [
            "44/44 [==============================] - 1s 28ms/step - loss: 0.0373 - accuracy: 0.9901\n"
          ]
        },
        {
          "output_type": "execute_result",
          "data": {
            "text/plain": [
              "[0.03727363795042038, 0.9901394844055176]"
            ]
          },
          "metadata": {},
          "execution_count": 36
        }
      ]
    },
    {
      "cell_type": "markdown",
      "source": [
        "### b"
      ],
      "metadata": {
        "id": "VZR48p2CJHW_"
      }
    },
    {
      "cell_type": "code",
      "source": [
        "!gdown --id 1-ay5mBPEFuzHGZpDnBJIA5e_ONAIcvjW"
      ],
      "metadata": {
        "colab": {
          "base_uri": "https://localhost:8080/"
        },
        "id": "5II76jwSIqCa",
        "outputId": "03611710-df73-438c-d48e-9f557cfae7c0"
      },
      "execution_count": 37,
      "outputs": [
        {
          "output_type": "stream",
          "name": "stdout",
          "text": [
            "/usr/local/lib/python3.8/dist-packages/gdown/cli.py:121: FutureWarning: Option `--id` was deprecated in version 4.3.1 and will be removed in 5.0. You don't need to pass it anymore to use a file ID.\n",
            "  warnings.warn(\n",
            "Downloading...\n",
            "From: https://drive.google.com/uc?id=1-ay5mBPEFuzHGZpDnBJIA5e_ONAIcvjW\n",
            "To: /content/slot-test.txt\n",
            "100% 587/587 [00:00<00:00, 1.09MB/s]\n"
          ]
        }
      ]
    },
    {
      "cell_type": "code",
      "source": [
        "def fill_slots(sentence):\n",
        "  slots_dict = {}\n",
        "  sent_inp, sent_mask = encode_text(bert_tokenizer, [sentence], max_length)\n",
        "  predicted_slots = slotfilling_model.predict([sent_inp, sent_mask])\n",
        "  slots = np.argmax(predicted_slots, axis=-1)\n",
        "  slots = [seq_out_tokenizer.index_word[w_idx] for w_idx in slots[0]]\n",
        "  sent_len = len(sentence.split())+1\n",
        "  ner_tags = slots[1:sent_len]\n",
        "  indices = [i for i in range(len(ner_tags)) if ner_tags[i] != 'O']\n",
        "  for i in indices:\n",
        "    slot = ner_tags[i].split('-')[1]\n",
        "    slots_dict[slot] = sentence.split()[i]\n",
        "  return slots_dict, ner_tags"
      ],
      "metadata": {
        "id": "jPtfFlsIJcnK"
      },
      "execution_count": 38,
      "outputs": []
    },
    {
      "cell_type": "code",
      "source": [
        "with open('slot-test.txt') as f:\n",
        "  for sent in f:\n",
        "    sent = sent.strip()\n",
        "    slots, ner_tags = fill_slots(sent)\n",
        "    print(sent)\n",
        "    print(ner_tags)\n",
        "    print(slots)\n",
        "    print('\\n\\n')"
      ],
      "metadata": {
        "colab": {
          "base_uri": "https://localhost:8080/"
        },
        "id": "-OEyPyLuJNdE",
        "outputId": "12c8cd1a-49b2-4b3d-9b61-a171d1146c4c"
      },
      "execution_count": 39,
      "outputs": [
        {
          "output_type": "stream",
          "name": "stdout",
          "text": [
            "1/1 [==============================] - 0s 50ms/step\n",
            "cheap restaurant\n",
            "['B-pricerange', 'O']\n",
            "{'pricerange': 'cheap'}\n",
            "\n",
            "\n",
            "\n",
            "1/1 [==============================] - 0s 45ms/step\n"
          ]
        },
        {
          "output_type": "stream",
          "name": "stderr",
          "text": [
            "/usr/local/lib/python3.8/dist-packages/transformers/tokenization_utils_base.py:2336: FutureWarning: The `pad_to_max_length` argument is deprecated and will be removed in a future version, use `padding=True` or `padding='longest'` to pad to the longest sequence in the batch, or use `padding='max_length'` to pad to a max length. In this case, you can give a specific length with `max_length` (e.g. `max_length=45`) or leave max_length to None to pad to the maximal input size of the model (e.g. 512 for Bert).\n",
            "  warnings.warn(\n"
          ]
        },
        {
          "output_type": "stream",
          "name": "stdout",
          "text": [
            "im looking for a cheap restaurant in the south part of town\n",
            "['O', 'O', 'O', 'O', 'B-pricerange', 'O', 'O', 'O', 'B-area', 'O', 'O', 'O']\n",
            "{'pricerange': 'cheap', 'area': 'south'}\n",
            "\n",
            "\n",
            "\n",
            "1/1 [==============================] - 0s 44ms/step\n",
            "i want a restaurant in the north part of town\n",
            "['O', 'O', 'O', 'O', 'O', 'O', 'B-area', 'O', 'O', 'O']\n",
            "{'area': 'north'}\n",
            "\n",
            "\n",
            "\n",
            "1/1 [==============================] - 0s 44ms/step\n",
            "what is the address and phone number\n",
            "['O', 'O', 'O', 'O', 'O', 'O', 'O']\n",
            "{}\n",
            "\n",
            "\n",
            "\n",
            "1/1 [==============================] - 0s 45ms/step\n",
            "i got to find a cheap restaurant that serves mexican food\n",
            "['O', 'O', 'O', 'O', 'O', 'B-pricerange', 'O', 'O', 'O', 'B-food', 'O']\n",
            "{'pricerange': 'cheap', 'food': 'mexican'}\n",
            "\n",
            "\n",
            "\n",
            "1/1 [==============================] - 0s 46ms/step\n",
            "okay and uh whats their phone number please\n",
            "['O', 'O', 'O', 'O', 'O', 'O', 'O', 'O']\n",
            "{}\n",
            "\n",
            "\n",
            "\n",
            "1/1 [==============================] - 0s 45ms/step\n",
            "i would like to find a moderately priced restaurant in the north part of town\n",
            "['O', 'O', 'O', 'O', 'O', 'O', 'B-pricerange', 'O', 'O', 'O', 'O', 'B-area', 'O', 'O', 'O']\n",
            "{'pricerange': 'moderately', 'area': 'north'}\n",
            "\n",
            "\n",
            "\n",
            "1/1 [==============================] - 0s 43ms/step\n",
            "im looking for a restaurant that serves unusual food\n",
            "['O', 'O', 'O', 'O', 'O', 'O', 'O', 'B-food', 'O']\n",
            "{'food': 'unusual'}\n",
            "\n",
            "\n",
            "\n",
            "1/1 [==============================] - 0s 44ms/step\n",
            "im looking for a restaurant in the north part of town serving jamaican food\n",
            "['O', 'O', 'O', 'O', 'O', 'O', 'O', 'B-area', 'O', 'O', 'O', 'O', 'B-food', 'O']\n",
            "{'area': 'north', 'food': 'jamaican'}\n",
            "\n",
            "\n",
            "\n",
            "1/1 [==============================] - 0s 44ms/step\n",
            "im looking for a restaurant in the south part of town\n",
            "['O', 'O', 'O', 'O', 'O', 'O', 'O', 'B-area', 'O', 'O', 'O']\n",
            "{'area': 'south'}\n",
            "\n",
            "\n",
            "\n",
            "1/1 [==============================] - 0s 44ms/step\n",
            "how about gastro pub type of food\n",
            "['O', 'O', 'B-food', 'O', 'O', 'O', 'O']\n",
            "{'food': 'gastro'}\n",
            "\n",
            "\n",
            "\n",
            "1/1 [==============================] - 0s 43ms/step\n",
            "down town\n",
            "['O', 'O']\n",
            "{}\n",
            "\n",
            "\n",
            "\n",
            "1/1 [==============================] - 0s 44ms/step\n",
            "downtown\n",
            "['O']\n",
            "{}\n",
            "\n",
            "\n",
            "\n"
          ]
        }
      ]
    },
    {
      "cell_type": "markdown",
      "source": [
        "##Q2 "
      ],
      "metadata": {
        "id": "XYefHyV6LALc"
      }
    },
    {
      "cell_type": "markdown",
      "source": [
        "### a"
      ],
      "metadata": {
        "id": "3hIxNXTWLOPK"
      }
    },
    {
      "cell_type": "code",
      "source": [
        "from sklearn.preprocessing import MultiLabelBinarizer"
      ],
      "metadata": {
        "id": "pPmRS9ZdMtZv"
      },
      "execution_count": 54,
      "outputs": []
    },
    {
      "cell_type": "code",
      "source": [
        "train_intent"
      ],
      "metadata": {
        "colab": {
          "base_uri": "https://localhost:8080/"
        },
        "id": "u1qawiWdTV_i",
        "outputId": "2c4c5fa6-7c61-4022-a65d-12fb46e6287e"
      },
      "execution_count": 55,
      "outputs": [
        {
          "output_type": "execute_result",
          "data": {
            "text/plain": [
              "[['inform_pricerange'],\n",
              " ['inform_this'],\n",
              " ['inform_area'],\n",
              " ['request_addr'],\n",
              " ['request_phone'],\n",
              " ['thankyou', 'bye'],\n",
              " ['inform_food'],\n",
              " ['inform_food'],\n",
              " ['request_addr'],\n",
              " ['unknown'],\n",
              " ['request_phone'],\n",
              " ['inform_pricerange', 'inform_area'],\n",
              " ['inform_area'],\n",
              " ['inform_this'],\n",
              " ['inform_food'],\n",
              " ['inform_food'],\n",
              " ['request_addr', 'request_phone'],\n",
              " ['inform_food', 'inform_pricerange'],\n",
              " ['confirm_pricerange'],\n",
              " ['confirm_food', 'confirm_pricerange'],\n",
              " ['request_phone'],\n",
              " ['negate', 'bye'],\n",
              " ['inform_food', 'inform_pricerange'],\n",
              " ['affirm'],\n",
              " ['reqalts', 'inform_food'],\n",
              " ['request_area'],\n",
              " ['request_phone'],\n",
              " ['request_area'],\n",
              " ['thankyou', 'bye'],\n",
              " ['inform_pricerange', 'inform_area'],\n",
              " ['negate', 'reqalts'],\n",
              " ['request_phone'],\n",
              " ['bye'],\n",
              " ['inform_food'],\n",
              " ['inform_area'],\n",
              " ['inform_pricerange', 'inform_area'],\n",
              " ['inform_this'],\n",
              " ['request_pricerange'],\n",
              " ['request_phone', 'request_postcode'],\n",
              " ['inform_food'],\n",
              " ['inform_area'],\n",
              " ['inform_food'],\n",
              " ['inform_area'],\n",
              " ['inform_area'],\n",
              " ['inform_food'],\n",
              " ['reqalts', 'inform_food'],\n",
              " ['negate', 'inform_food'],\n",
              " ['inform_this', 'inform_area'],\n",
              " ['unknown'],\n",
              " ['reqalts', 'inform_food'],\n",
              " ['inform_this'],\n",
              " ['request_pricerange'],\n",
              " ['request_phone'],\n",
              " ['inform_pricerange', 'inform_area'],\n",
              " ['inform_this'],\n",
              " ['reqalts'],\n",
              " ['request_phone'],\n",
              " ['request_postcode'],\n",
              " ['thankyou'],\n",
              " ['inform_pricerange', 'inform_area'],\n",
              " ['reqalts'],\n",
              " ['affirm'],\n",
              " ['request_addr', 'inform_name'],\n",
              " ['request_phone'],\n",
              " ['unknown'],\n",
              " ['inform_pricerange'],\n",
              " ['inform_pricerange', 'inform_area'],\n",
              " ['reqalts'],\n",
              " ['inform_food', 'inform_pricerange'],\n",
              " ['request_addr', 'request_postcode'],\n",
              " ['inform_pricerange'],\n",
              " ['inform_this'],\n",
              " ['inform_area'],\n",
              " ['request_addr'],\n",
              " ['request_phone'],\n",
              " ['thankyou', 'bye'],\n",
              " ['inform_food', 'inform_pricerange'],\n",
              " ['unknown'],\n",
              " ['inform_area'],\n",
              " ['inform_food'],\n",
              " ['inform_food'],\n",
              " ['reqalts', 'inform_food'],\n",
              " ['inform_area'],\n",
              " ['inform_pricerange'],\n",
              " ['inform_food'],\n",
              " ['reqalts', 'inform_food'],\n",
              " ['request_pricerange'],\n",
              " ['request_postcode'],\n",
              " ['inform_food', 'inform_area'],\n",
              " ['unknown'],\n",
              " ['request_pricerange'],\n",
              " ['affirm', 'inform_food', 'inform_pricerange'],\n",
              " ['inform_food'],\n",
              " ['inform_pricerange'],\n",
              " ['inform_this'],\n",
              " ['request_addr', 'request_phone'],\n",
              " ['unknown'],\n",
              " ['inform_food'],\n",
              " ['request_addr', 'request_postcode'],\n",
              " ['request_postcode'],\n",
              " ['unknown'],\n",
              " ['inform_pricerange'],\n",
              " ['request_postcode'],\n",
              " ['request_addr'],\n",
              " ['inform_food', 'inform_area'],\n",
              " ['inform_food'],\n",
              " ['inform_food'],\n",
              " ['inform_food'],\n",
              " ['inform_food', 'inform_area'],\n",
              " ['inform_pricerange'],\n",
              " ['request_addr', 'request_phone'],\n",
              " ['inform_pricerange', 'inform_area'],\n",
              " ['request_food'],\n",
              " ['unknown'],\n",
              " ['inform_food'],\n",
              " ['request_area'],\n",
              " ['request_area'],\n",
              " ['thankyou'],\n",
              " ['inform_area'],\n",
              " ['reqalts'],\n",
              " ['inform_area'],\n",
              " ['request_phone'],\n",
              " ['request_food'],\n",
              " ['unknown'],\n",
              " ['unknown'],\n",
              " ['unknown'],\n",
              " ['inform_food', 'inform_area'],\n",
              " ['reqalts', 'inform_food'],\n",
              " ['request_postcode'],\n",
              " ['inform_pricerange', 'inform_area'],\n",
              " ['inform_food'],\n",
              " ['inform_food'],\n",
              " ['inform_pricerange'],\n",
              " ['inform_area'],\n",
              " ['inform_food'],\n",
              " ['inform_area'],\n",
              " ['bye'],\n",
              " ['inform_pricerange', 'inform_area'],\n",
              " ['request_phone'],\n",
              " ['request_food'],\n",
              " ['inform_food', 'inform_area'],\n",
              " ['inform_food'],\n",
              " ['confirm_area'],\n",
              " ['request_addr', 'request_phone'],\n",
              " ['unknown'],\n",
              " ['inform_food'],\n",
              " ['inform_pricerange', 'inform_area'],\n",
              " ['request_addr', 'request_phone'],\n",
              " ['request_phone'],\n",
              " ['inform_food'],\n",
              " ['unknown'],\n",
              " ['bye'],\n",
              " ['affirm'],\n",
              " ['reqalts'],\n",
              " ['unknown'],\n",
              " ['reqalts'],\n",
              " ['request_addr'],\n",
              " ['request_addr', 'request_phone'],\n",
              " ['request_food'],\n",
              " ['inform_food', 'inform_pricerange'],\n",
              " ['reqalts', 'inform_food'],\n",
              " ['reqalts', 'inform_food'],\n",
              " ['inform_food'],\n",
              " ['request_phone'],\n",
              " ['inform_pricerange', 'inform_area'],\n",
              " ['request_addr', 'request_food'],\n",
              " ['request_food'],\n",
              " ['inform_food'],\n",
              " ['request_addr'],\n",
              " ['request_addr'],\n",
              " ['request_phone'],\n",
              " ['inform_food'],\n",
              " ['inform_food'],\n",
              " ['request_addr', 'request_phone', 'request_postcode'],\n",
              " ['request_phone'],\n",
              " ['inform_pricerange'],\n",
              " ['request_addr', 'request_phone'],\n",
              " ['request_food'],\n",
              " ['inform_pricerange', 'inform_area'],\n",
              " ['request_addr', 'request_phone'],\n",
              " ['confirm_pricerange'],\n",
              " ['inform_pricerange', 'inform_area'],\n",
              " ['request_addr', 'request_phone', 'request_postcode'],\n",
              " ['inform_food', 'inform_area'],\n",
              " ['inform_food'],\n",
              " ['confirm_area'],\n",
              " ['inform_area'],\n",
              " ['inform_area'],\n",
              " ['inform_area'],\n",
              " ['reqalts', 'inform_area'],\n",
              " ['reqalts', 'inform_area'],\n",
              " ['inform_pricerange', 'inform_area'],\n",
              " ['request_addr'],\n",
              " ['hello', 'inform_pricerange', 'inform_area'],\n",
              " ['unknown'],\n",
              " ['inform_food', 'inform_area'],\n",
              " ['reqalts', 'inform_food'],\n",
              " ['inform_food', 'inform_area'],\n",
              " ['unknown'],\n",
              " ['request_postcode'],\n",
              " ['inform_pricerange', 'inform_area'],\n",
              " ['inform_pricerange', 'inform_area'],\n",
              " ['unknown'],\n",
              " ['confirm_pricerange'],\n",
              " ['unknown'],\n",
              " ['inform_pricerange', 'inform_area'],\n",
              " ['inform_food'],\n",
              " ['request_addr'],\n",
              " ['inform_food'],\n",
              " ['inform_food'],\n",
              " ['inform_pricerange', 'inform_area'],\n",
              " ['request_addr'],\n",
              " ['inform_area'],\n",
              " ['inform_area'],\n",
              " ['unknown'],\n",
              " ['inform_food'],\n",
              " ['inform_food', 'inform_pricerange'],\n",
              " ['thankyou'],\n",
              " ['inform_food'],\n",
              " ['inform_food'],\n",
              " ['inform_food', 'inform_pricerange'],\n",
              " ['request_area'],\n",
              " ['inform_pricerange', 'inform_area'],\n",
              " ['request_food'],\n",
              " ['request_food'],\n",
              " ['repeat'],\n",
              " ['inform_pricerange'],\n",
              " ['reqalts', 'inform_food'],\n",
              " ['inform_food', 'inform_area'],\n",
              " ['inform_food', 'inform_area'],\n",
              " ['inform_food'],\n",
              " ['request_addr', 'request_phone', 'request_pricerange'],\n",
              " ['inform_food', 'inform_pricerange'],\n",
              " ['inform_food', 'inform_area'],\n",
              " ['inform_food'],\n",
              " ['request_addr', 'request_phone', 'request_pricerange'],\n",
              " ['inform_food', 'inform_pricerange'],\n",
              " ['request_area'],\n",
              " ['inform_food', 'inform_area'],\n",
              " ['inform_food'],\n",
              " ['inform_food'],\n",
              " ['inform_food'],\n",
              " ['request_phone'],\n",
              " ['thankyou', 'bye'],\n",
              " ['inform_pricerange', 'inform_area'],\n",
              " ['inform_pricerange'],\n",
              " ['unknown'],\n",
              " ['inform_food', 'inform_pricerange'],\n",
              " ['inform_pricerange', 'inform_area'],\n",
              " ['request_phone'],\n",
              " ['unknown'],\n",
              " ['request_postcode'],\n",
              " ['inform_area'],\n",
              " ['unknown'],\n",
              " ['inform_food'],\n",
              " ['inform_area'],\n",
              " ['inform_food'],\n",
              " ['inform_food'],\n",
              " ['inform_food'],\n",
              " ['inform_food', 'inform_pricerange'],\n",
              " ['request_phone'],\n",
              " ['affirm', 'inform_food'],\n",
              " ['inform_food'],\n",
              " ['hello', 'inform_food'],\n",
              " ['request_addr'],\n",
              " ['request_phone'],\n",
              " ['thankyou', 'bye'],\n",
              " ['request_food'],\n",
              " ['inform_food', 'inform_this'],\n",
              " ['reqalts', 'inform_food'],\n",
              " ['inform_food', 'inform_pricerange'],\n",
              " ['inform_pricerange'],\n",
              " ['inform_food'],\n",
              " ['inform_food'],\n",
              " ['reqalts', 'inform_food'],\n",
              " ['request_addr', 'request_postcode'],\n",
              " ['hello'],\n",
              " ['inform_food'],\n",
              " ['inform_food', 'inform_pricerange'],\n",
              " ['inform_food'],\n",
              " ['repeat'],\n",
              " ['unknown'],\n",
              " ['unknown'],\n",
              " ['bye'],\n",
              " ['unknown'],\n",
              " ['inform_food', 'inform_area'],\n",
              " ['reqalts', 'inform_food'],\n",
              " ['inform_food', 'inform_pricerange'],\n",
              " ['unknown'],\n",
              " ['request_phone', 'request_addr'],\n",
              " ['inform_pricerange'],\n",
              " ['unknown'],\n",
              " ['hello'],\n",
              " ['hello'],\n",
              " ['reqalts', 'inform_food'],\n",
              " ['negate'],\n",
              " ['inform_food', 'inform_pricerange'],\n",
              " ['reqalts', 'inform_food'],\n",
              " ['inform_food'],\n",
              " ['reqalts', 'inform_pricerange'],\n",
              " ['inform_pricerange'],\n",
              " ['request_addr', 'request_phone'],\n",
              " ['inform_pricerange', 'inform_area'],\n",
              " ['request_phone'],\n",
              " ['request_postcode'],\n",
              " ['inform_food', 'inform_area'],\n",
              " ['inform_food', 'inform_area'],\n",
              " ['request_addr', 'request_phone'],\n",
              " ['inform_pricerange'],\n",
              " ['inform_food'],\n",
              " ['inform_food', 'inform_pricerange'],\n",
              " ['affirm', 'request_addr'],\n",
              " ['inform_area'],\n",
              " ['request_area'],\n",
              " ['inform_pricerange', 'inform_area'],\n",
              " ['inform_pricerange', 'inform_area'],\n",
              " ['request_phone', 'request_addr'],\n",
              " ['inform_pricerange', 'inform_area'],\n",
              " ['request_addr', 'request_phone'],\n",
              " ['inform_pricerange', 'inform_area'],\n",
              " ['request_addr', 'request_phone'],\n",
              " ['inform_food', 'inform_area'],\n",
              " ['inform_pricerange'],\n",
              " ['inform_area'],\n",
              " ['request_food'],\n",
              " ['inform_pricerange', 'inform_area'],\n",
              " ['inform_area'],\n",
              " ['negate', 'inform_area'],\n",
              " ['inform_area'],\n",
              " ['inform_area'],\n",
              " ['request_addr', 'request_food'],\n",
              " ['request_food'],\n",
              " ['inform_food'],\n",
              " ['reqalts', 'inform_food'],\n",
              " ['inform_food'],\n",
              " ['request_addr', 'request_postcode'],\n",
              " ['inform_area'],\n",
              " ['confirm_food'],\n",
              " ['inform_food'],\n",
              " ['inform_food', 'inform_area'],\n",
              " ['reqalts', 'inform_food'],\n",
              " ['inform_food', 'inform_area'],\n",
              " ['inform_food', 'inform_area'],\n",
              " ['inform_pricerange', 'inform_area'],\n",
              " ['inform_pricerange'],\n",
              " ['request_area'],\n",
              " ['inform_pricerange', 'inform_area'],\n",
              " ['request_phone', 'request_addr'],\n",
              " ['inform_food', 'inform_pricerange'],\n",
              " ['inform_food'],\n",
              " ['request_food'],\n",
              " ['request_area'],\n",
              " ['inform_food', 'inform_area'],\n",
              " ['inform_food'],\n",
              " ['inform_food'],\n",
              " ['unknown'],\n",
              " ['inform_food'],\n",
              " ['inform_pricerange'],\n",
              " ['reqalts', 'inform_food'],\n",
              " ['unknown'],\n",
              " ['inform_food', 'inform_area'],\n",
              " ['reqalts', 'inform_food'],\n",
              " ['request_phone'],\n",
              " ['inform_food'],\n",
              " ['request_postcode'],\n",
              " ['inform_pricerange', 'inform_area'],\n",
              " ['request_addr', 'request_phone'],\n",
              " ['inform_pricerange', 'inform_area'],\n",
              " ['request_addr', 'request_phone', 'inform_area'],\n",
              " ['inform_pricerange', 'inform_area'],\n",
              " ['inform_pricerange', 'inform_area'],\n",
              " ['inform_area'],\n",
              " ['confirm_pricerange'],\n",
              " ['inform_pricerange', 'inform_area'],\n",
              " ['inform_this'],\n",
              " ['request_addr', 'request_phone'],\n",
              " ['repeat'],\n",
              " ['request_phone', 'request_addr'],\n",
              " ['request_addr'],\n",
              " ['thankyou', 'bye'],\n",
              " ['request_phone'],\n",
              " ['request_food'],\n",
              " ['inform_area'],\n",
              " ['inform_food', 'inform_area'],\n",
              " ['reqalts', 'inform_food'],\n",
              " ['request_addr'],\n",
              " ['inform_food'],\n",
              " ['affirm', 'inform_food', 'inform_pricerange'],\n",
              " ['reqalts', 'inform_food'],\n",
              " ['inform_area'],\n",
              " ['confirm_food'],\n",
              " ['affirm', 'inform_food'],\n",
              " ['request_phone'],\n",
              " ['ack'],\n",
              " ['unknown'],\n",
              " ['negate', 'thankyou', 'bye'],\n",
              " ['inform_food'],\n",
              " ['inform_name'],\n",
              " ['request_food'],\n",
              " ['inform_area'],\n",
              " ['inform_area'],\n",
              " ['inform_food', 'inform_area'],\n",
              " ['inform_food'],\n",
              " ['inform_food'],\n",
              " ['unknown'],\n",
              " ['inform_area'],\n",
              " ['inform_food', 'inform_area'],\n",
              " ['inform_area'],\n",
              " ['inform_food'],\n",
              " ['inform_food'],\n",
              " ['request_pricerange'],\n",
              " ['affirm', 'request_addr'],\n",
              " ['thankyou'],\n",
              " ['unknown'],\n",
              " ['inform_this'],\n",
              " ['confirm_area'],\n",
              " ['unknown'],\n",
              " ['inform_pricerange'],\n",
              " ['inform_food'],\n",
              " ['reqalts', 'inform_food'],\n",
              " ['inform_food', 'inform_area'],\n",
              " ['request_addr', 'request_phone'],\n",
              " ['request_phone'],\n",
              " ['inform_food', 'inform_area'],\n",
              " ['request_addr', 'request_phone'],\n",
              " ['request_postcode'],\n",
              " ['request_addr', 'request_phone'],\n",
              " ['request_addr'],\n",
              " ['inform_food', 'inform_pricerange'],\n",
              " ['reqalts', 'inform_food'],\n",
              " ['inform_pricerange', 'inform_area'],\n",
              " ['request_phone'],\n",
              " ['inform_pricerange', 'inform_area'],\n",
              " ['inform_food'],\n",
              " ['request_pricerange'],\n",
              " ['request_addr', 'request_phone'],\n",
              " ['inform_area'],\n",
              " ['inform_food'],\n",
              " ['reqalts', 'inform_food'],\n",
              " ['reqalts', 'inform_food'],\n",
              " ['inform_food'],\n",
              " ['reqalts', 'inform_food'],\n",
              " ['inform_food'],\n",
              " ['inform_area'],\n",
              " ['unknown'],\n",
              " ['inform_pricerange'],\n",
              " ['inform_area'],\n",
              " ['inform_food'],\n",
              " ['inform_food', 'inform_area'],\n",
              " ['request_phone'],\n",
              " ['inform_food', 'inform_pricerange'],\n",
              " ['request_postcode'],\n",
              " ['unknown'],\n",
              " ['unknown'],\n",
              " ['inform_food'],\n",
              " ['inform_food'],\n",
              " ['inform_food'],\n",
              " ['unknown'],\n",
              " ['reqalts'],\n",
              " ['inform_food'],\n",
              " ['reqalts', 'inform_food'],\n",
              " ['inform_food'],\n",
              " ['request_food'],\n",
              " ['reqalts', 'inform_food'],\n",
              " ['reqalts', 'inform_food'],\n",
              " ['request_pricerange'],\n",
              " ['reqalts', 'inform_pricerange'],\n",
              " ['request_pricerange'],\n",
              " ['request_pricerange'],\n",
              " ['request_phone'],\n",
              " ['inform_food', 'inform_pricerange'],\n",
              " ['inform_food'],\n",
              " ['inform_pricerange', 'inform_area'],\n",
              " ['request_addr', 'request_phone'],\n",
              " ['inform_food', 'inform_area'],\n",
              " ['request_addr', 'request_phone'],\n",
              " ['request_addr'],\n",
              " ['thankyou', 'bye'],\n",
              " ['inform_area'],\n",
              " ['inform_food'],\n",
              " ['inform_food', 'inform_area'],\n",
              " ['inform_food'],\n",
              " ['inform_pricerange'],\n",
              " ['inform_food', 'inform_pricerange'],\n",
              " ['inform_food', 'inform_pricerange'],\n",
              " ['inform_food', 'inform_pricerange'],\n",
              " ['reqalts'],\n",
              " ['bye'],\n",
              " ['inform_pricerange', 'inform_area'],\n",
              " ['inform_food', 'inform_area'],\n",
              " ['inform_food'],\n",
              " ['reqalts'],\n",
              " ['inform_pricerange', 'inform_area'],\n",
              " ['reqalts', 'deny_name'],\n",
              " ['inform_food'],\n",
              " ['inform_food'],\n",
              " ['inform_food'],\n",
              " ['reqalts', 'inform_food'],\n",
              " ['inform_pricerange', 'inform_area'],\n",
              " ['unknown'],\n",
              " ['reqalts', 'inform_food'],\n",
              " ['request_addr'],\n",
              " ['thankyou', 'bye'],\n",
              " ['inform_pricerange', 'inform_area'],\n",
              " ['inform_pricerange', 'inform_area'],\n",
              " ['inform_pricerange'],\n",
              " ['inform_area'],\n",
              " ['reqalts'],\n",
              " ['thankyou', 'bye'],\n",
              " ['inform_pricerange', 'inform_area'],\n",
              " ['unknown'],\n",
              " ['inform_food'],\n",
              " ['request_addr', 'request_phone', 'request_food'],\n",
              " ['request_food'],\n",
              " ['request_phone'],\n",
              " ['inform_food', 'inform_pricerange'],\n",
              " ['confirm_food'],\n",
              " ['affirm', 'inform_food'],\n",
              " ['request_addr'],\n",
              " ['inform_pricerange', 'inform_area'],\n",
              " ['request_phone', 'request_postcode'],\n",
              " ['inform_food'],\n",
              " ['request_phone', 'request_addr'],\n",
              " ['inform_area'],\n",
              " ['inform_food'],\n",
              " ['inform_food', 'inform_area'],\n",
              " ['inform_food'],\n",
              " ['inform_food', 'inform_pricerange'],\n",
              " ['inform_food'],\n",
              " ['inform_food'],\n",
              " ['inform_pricerange', 'request_addr'],\n",
              " ['inform_pricerange'],\n",
              " ['inform_food'],\n",
              " ['reqalts', 'inform_food'],\n",
              " ['request_postcode'],\n",
              " ['inform_food', 'inform_pricerange'],\n",
              " ['inform_food', 'inform_area'],\n",
              " ['inform_food'],\n",
              " ['reqalts', 'inform_food'],\n",
              " ['inform_food'],\n",
              " ['reqalts'],\n",
              " ['inform_food'],\n",
              " ['reqalts', 'inform_food'],\n",
              " ['inform_food'],\n",
              " ['inform_food', 'inform_pricerange'],\n",
              " ['request_addr'],\n",
              " ['thankyou', 'bye'],\n",
              " ['inform_food', 'inform_area'],\n",
              " ['reqalts', 'inform_food'],\n",
              " ['inform_food'],\n",
              " ['inform_this'],\n",
              " ['bye'],\n",
              " ['restart'],\n",
              " ['unknown'],\n",
              " ['inform_food'],\n",
              " ['unknown'],\n",
              " ['negate'],\n",
              " ['inform_food'],\n",
              " ['inform_food', 'inform_area'],\n",
              " ['inform_food', 'inform_area'],\n",
              " ['reqalts', 'inform_food'],\n",
              " ['affirm', 'inform_food'],\n",
              " ['confirm_food'],\n",
              " ['inform_food', 'inform_pricerange'],\n",
              " ['negate'],\n",
              " ['inform_food'],\n",
              " ['inform_food', 'inform_area'],\n",
              " ['inform_area'],\n",
              " ['request_addr', 'request_phone'],\n",
              " ['inform_food', 'inform_area'],\n",
              " ['reqalts', 'inform_food'],\n",
              " ['reqalts', 'inform_food'],\n",
              " ['inform_pricerange', 'inform_area'],\n",
              " ['inform_pricerange'],\n",
              " ['inform_food'],\n",
              " ['inform_food'],\n",
              " ['request_postcode'],\n",
              " ['inform_food', 'inform_area'],\n",
              " ['reqalts', 'inform_food'],\n",
              " ['request_phone'],\n",
              " ['inform_food', 'inform_pricerange'],\n",
              " ['inform_food', 'inform_area'],\n",
              " ['unknown'],\n",
              " ['unknown'],\n",
              " ['inform_food'],\n",
              " ['reqalts', 'inform_food'],\n",
              " ['reqalts', 'inform_food'],\n",
              " ['inform_food'],\n",
              " ['inform_food'],\n",
              " ['request_addr', 'request_postcode'],\n",
              " ['inform_food', 'inform_pricerange'],\n",
              " ['reqalts'],\n",
              " ['inform_food', 'inform_pricerange'],\n",
              " ['inform_food'],\n",
              " ['request_phone'],\n",
              " ['request_pricerange'],\n",
              " ['request_addr'],\n",
              " ['request_phone'],\n",
              " ['affirm', 'inform_food'],\n",
              " ['inform_food'],\n",
              " ['request_pricerange'],\n",
              " ['inform_food'],\n",
              " ['reqalts', 'inform_food'],\n",
              " ['request_phone'],\n",
              " ['inform_food', 'inform_area'],\n",
              " ['request_pricerange'],\n",
              " ['inform_pricerange'],\n",
              " ['inform_food', 'inform_area'],\n",
              " ['reqalts', 'inform_food'],\n",
              " ['request_addr', 'request_phone', 'request_postcode'],\n",
              " ['inform_food', 'inform_pricerange'],\n",
              " ['inform_food', 'inform_pricerange'],\n",
              " ['inform_food', 'inform_pricerange'],\n",
              " ['unknown'],\n",
              " ['inform_food', 'inform_area'],\n",
              " ['thankyou'],\n",
              " ['inform_pricerange', 'inform_area'],\n",
              " ['inform_food', 'inform_area'],\n",
              " ['inform_food', 'inform_area'],\n",
              " ['inform_food'],\n",
              " ['inform_pricerange', 'inform_area'],\n",
              " ['request_phone'],\n",
              " ['inform_food', 'inform_pricerange'],\n",
              " ['inform_food'],\n",
              " ['request_area'],\n",
              " ['inform_pricerange'],\n",
              " ['inform_area'],\n",
              " ['reqalts'],\n",
              " ['request_addr'],\n",
              " ['inform_food'],\n",
              " ['inform_food', 'inform_pricerange'],\n",
              " ['reqalts', 'inform_food'],\n",
              " ['request_phone'],\n",
              " ['inform_pricerange'],\n",
              " ['inform_food'],\n",
              " ['request_addr'],\n",
              " ['request_pricerange'],\n",
              " ['inform_pricerange'],\n",
              " ['inform_pricerange'],\n",
              " ['inform_food'],\n",
              " ['inform_food'],\n",
              " ['reqalts'],\n",
              " ['inform_food'],\n",
              " ['inform_food'],\n",
              " ['unknown'],\n",
              " ['request_area'],\n",
              " ['inform_food', 'inform_pricerange'],\n",
              " ['inform_food'],\n",
              " ['inform_area'],\n",
              " ['inform_food', 'inform_area'],\n",
              " ['bye'],\n",
              " ['inform_food'],\n",
              " ['request_food'],\n",
              " ['inform_food'],\n",
              " ['inform_pricerange'],\n",
              " ['inform_this'],\n",
              " ['request_phone'],\n",
              " ['inform_pricerange', 'inform_area'],\n",
              " ['affirm'],\n",
              " ['inform_pricerange', 'inform_area'],\n",
              " ['affirm', 'inform_pricerange'],\n",
              " ['request_addr'],\n",
              " ['unknown'],\n",
              " ['inform_food', 'inform_area'],\n",
              " ['confirm_food'],\n",
              " ['inform_area'],\n",
              " ['affirm', 'request_addr'],\n",
              " ['inform_area'],\n",
              " ['inform_food', 'inform_area'],\n",
              " ['inform_food'],\n",
              " ['inform_pricerange', 'inform_area'],\n",
              " ['reqalts'],\n",
              " ['inform_this'],\n",
              " ['inform_this', 'bye'],\n",
              " ['inform_pricerange', 'inform_area'],\n",
              " ['unknown'],\n",
              " ['inform_pricerange', 'inform_area'],\n",
              " ['reqalts'],\n",
              " ['thankyou', 'bye'],\n",
              " ['inform_pricerange', 'inform_area'],\n",
              " ['reqalts'],\n",
              " ['inform_pricerange', 'inform_area'],\n",
              " ['request_phone', 'request_food'],\n",
              " ['unknown'],\n",
              " ['unknown'],\n",
              " ['inform_food'],\n",
              " ['reqalts', 'inform_food'],\n",
              " ['inform_food'],\n",
              " ['reqalts', 'inform_food'],\n",
              " ['inform_pricerange'],\n",
              " ['request_area'],\n",
              " ['inform_food'],\n",
              " ['inform_food'],\n",
              " ['inform_food'],\n",
              " ['hello', 'inform_pricerange', 'inform_area'],\n",
              " ['inform_food'],\n",
              " ['reqalts', 'inform_food'],\n",
              " ['inform_area'],\n",
              " ['request_phone'],\n",
              " ['inform_food'],\n",
              " ['inform_food'],\n",
              " ['negate', 'inform_food'],\n",
              " ['inform_food'],\n",
              " ['reqalts'],\n",
              " ['negate', 'reqalts', 'inform_food'],\n",
              " ['deny_food', 'inform_food'],\n",
              " ['inform_food'],\n",
              " ['request_addr'],\n",
              " ['request_addr'],\n",
              " ['inform_food'],\n",
              " ['inform_food'],\n",
              " ['inform_area'],\n",
              " ['inform_pricerange', 'inform_area'],\n",
              " ['inform_food', 'inform_area'],\n",
              " ['inform_area'],\n",
              " ['inform_food'],\n",
              " ['reqalts', 'inform_food'],\n",
              " ['inform_food'],\n",
              " ['unknown'],\n",
              " ['inform_food', 'inform_area'],\n",
              " ['request_phone'],\n",
              " ['inform_pricerange'],\n",
              " ['inform_food'],\n",
              " ['reqalts'],\n",
              " ['request_area'],\n",
              " ['inform_pricerange', 'inform_area'],\n",
              " ['inform_pricerange', 'inform_area'],\n",
              " ['confirm_area'],\n",
              " ['request_addr', 'request_postcode'],\n",
              " ['inform_area'],\n",
              " ['inform_food', 'inform_area'],\n",
              " ['request_pricerange'],\n",
              " ['inform_food', 'inform_area'],\n",
              " ['inform_food'],\n",
              " ['ack'],\n",
              " ['inform_food'],\n",
              " ['inform_food'],\n",
              " ['request_addr', 'request_phone', 'request_pricerange'],\n",
              " ['unknown'],\n",
              " ['inform_food'],\n",
              " ['inform_food'],\n",
              " ['request_phone'],\n",
              " ['unknown'],\n",
              " ['inform_food', 'inform_pricerange'],\n",
              " ['inform_this'],\n",
              " ['unknown'],\n",
              " ['inform_food', 'inform_pricerange'],\n",
              " ['inform_food'],\n",
              " ['inform_food', 'inform_area'],\n",
              " ['inform_food', 'inform_area'],\n",
              " ['inform_food', 'inform_area'],\n",
              " ['request_pricerange'],\n",
              " ['inform_food', 'inform_area'],\n",
              " ['inform_food'],\n",
              " ['inform_food', 'inform_area'],\n",
              " ['request_phone'],\n",
              " ['inform_food'],\n",
              " ['request_area'],\n",
              " ['inform_food'],\n",
              " ['hello', 'inform_pricerange', 'inform_area'],\n",
              " ['inform_pricerange'],\n",
              " ['inform_pricerange'],\n",
              " ['request_area'],\n",
              " ['request_area'],\n",
              " ['request_postcode'],\n",
              " ['inform_food'],\n",
              " ['inform_food'],\n",
              " ['affirm', 'inform_food'],\n",
              " ['inform_food'],\n",
              " ['inform_food'],\n",
              " ['inform_food'],\n",
              " ['inform_food', 'inform_area'],\n",
              " ['request_food'],\n",
              " ['inform_pricerange', 'inform_area'],\n",
              " ['reqalts', 'inform_food'],\n",
              " ['affirm'],\n",
              " ['inform_pricerange'],\n",
              " ['request_postcode'],\n",
              " ['inform_food', 'inform_area'],\n",
              " ['inform_food', 'inform_area'],\n",
              " ['reqalts', 'inform_food'],\n",
              " ['inform_food', 'inform_pricerange', 'inform_area'],\n",
              " ['inform_pricerange', 'inform_area'],\n",
              " ['inform_pricerange', 'inform_area'],\n",
              " ['inform_area'],\n",
              " ['inform_area'],\n",
              " ['request_addr'],\n",
              " ['confirm_area'],\n",
              " ['restart'],\n",
              " ['inform_food'],\n",
              " ['inform_food'],\n",
              " ['confirm_food'],\n",
              " ['inform_pricerange', 'inform_area'],\n",
              " ['request_addr', 'request_phone', 'request_pricerange'],\n",
              " ['request_food'],\n",
              " ['inform_food', 'inform_area'],\n",
              " ['request_phone'],\n",
              " ['request_postcode'],\n",
              " ['affirm', 'inform_pricerange'],\n",
              " ['inform_this', 'inform_pricerange'],\n",
              " ['confirm_area'],\n",
              " ['reqalts', 'inform_area'],\n",
              " ['inform_pricerange', 'inform_area'],\n",
              " ['inform_food'],\n",
              " ['inform_pricerange', 'inform_area'],\n",
              " ['unknown'],\n",
              " ['inform_food', 'inform_pricerange'],\n",
              " ['request_addr', 'request_postcode'],\n",
              " ['inform_pricerange', 'inform_area'],\n",
              " ['request_addr', 'request_phone'],\n",
              " ['request_phone'],\n",
              " ['request_phone'],\n",
              " ['thankyou', 'bye'],\n",
              " ['hello', 'inform_pricerange', 'inform_area'],\n",
              " ['reqalts', 'deny_name'],\n",
              " ['reqalts'],\n",
              " ['request_addr'],\n",
              " ['request_food'],\n",
              " ['thankyou', 'bye'],\n",
              " ['inform_food'],\n",
              " ['reqalts', 'inform_food'],\n",
              " ['request_phone', 'request_pricerange'],\n",
              " ['inform_area'],\n",
              " ['inform_this', 'inform_pricerange'],\n",
              " ['request_addr'],\n",
              " ['inform_food'],\n",
              " ['inform_food'],\n",
              " ['inform_food'],\n",
              " ['reqalts', 'inform_food'],\n",
              " ['inform_food', 'inform_pricerange'],\n",
              " ['inform_food', 'inform_pricerange'],\n",
              " ['affirm', 'inform_food'],\n",
              " ['request_addr', 'request_phone', 'request_area'],\n",
              " ['inform_area'],\n",
              " ['inform_food'],\n",
              " ['reqalts', 'inform_food'],\n",
              " ['inform_food'],\n",
              " ['inform_food', 'inform_pricerange'],\n",
              " ['inform_pricerange', 'inform_area'],\n",
              " ['reqalts', 'inform_food'],\n",
              " ['inform_food'],\n",
              " ['inform_food'],\n",
              " ['inform_food'],\n",
              " ['unknown'],\n",
              " ['inform_food', 'deny_name'],\n",
              " ['reqalts', 'inform_food'],\n",
              " ['inform_pricerange', 'inform_area'],\n",
              " ['inform_this'],\n",
              " ['bye'],\n",
              " ['inform_food', 'inform_area'],\n",
              " ['request_addr', 'request_phone', 'request_pricerange'],\n",
              " ['negate'],\n",
              " ['thankyou', 'bye'],\n",
              " ['inform_food'],\n",
              " ['inform_food', 'inform_area'],\n",
              " ['reqalts', 'inform_food'],\n",
              " ['bye'],\n",
              " ['inform_food', 'inform_area'],\n",
              " ['reqalts', 'inform_area'],\n",
              " ['inform_food'],\n",
              " ['affirm', 'inform_food'],\n",
              " ['inform_this', 'inform_area'],\n",
              " ['request_phone'],\n",
              " ['request_addr'],\n",
              " ['thankyou', 'bye'],\n",
              " ['inform_food', 'inform_pricerange'],\n",
              " ['reqalts', 'inform_food'],\n",
              " ['inform_food', 'inform_pricerange'],\n",
              " ['inform_food', 'inform_area'],\n",
              " ['inform_food'],\n",
              " ['inform_food'],\n",
              " ['inform_pricerange', 'inform_area'],\n",
              " ['request_addr'],\n",
              " ['inform_food'],\n",
              " ['inform_food'],\n",
              " ['confirm_area'],\n",
              " ['request_phone'],\n",
              " ['thankyou', 'bye'],\n",
              " ['inform_food', 'inform_pricerange'],\n",
              " ['request_area'],\n",
              " ['request_addr'],\n",
              " ['confirm_area'],\n",
              " ['inform_pricerange'],\n",
              " ['inform_area'],\n",
              " ['inform_food'],\n",
              " ['inform_food', 'inform_area'],\n",
              " ['inform_food', 'inform_area'],\n",
              " ['reqalts', 'inform_food'],\n",
              " ['inform_food', 'inform_area'],\n",
              " ['inform_pricerange', 'inform_area'],\n",
              " ['inform_pricerange', 'inform_area'],\n",
              " ['inform_this'],\n",
              " ['inform_food'],\n",
              " ['inform_food'],\n",
              " ['inform_food'],\n",
              " ['inform_food'],\n",
              " ['request_pricerange', 'request_addr', 'request_phone'],\n",
              " ['request_pricerange'],\n",
              " ['inform_food'],\n",
              " ['unknown'],\n",
              " ['inform_food', 'inform_pricerange'],\n",
              " ['reqalts', 'inform_food'],\n",
              " ['request_addr', 'request_phone', 'request_area'],\n",
              " ['request_addr', 'request_phone'],\n",
              " ['confirm_pricerange'],\n",
              " ['inform_pricerange', 'inform_area'],\n",
              " ['inform_food'],\n",
              " ['inform_food'],\n",
              " ['unknown'],\n",
              " ['affirm', 'inform_food', 'inform_area'],\n",
              " ['reqalts', 'inform_food'],\n",
              " ['inform_food'],\n",
              " ['request_pricerange'],\n",
              " ['request_pricerange'],\n",
              " ['request_addr'],\n",
              " ['inform_pricerange'],\n",
              " ['inform_area'],\n",
              " ['unknown'],\n",
              " ['inform_food'],\n",
              " ['inform_food'],\n",
              " ['reqalts', 'inform_food'],\n",
              " ['request_pricerange'],\n",
              " ['reqalts', 'inform_pricerange'],\n",
              " ['inform_food', 'inform_pricerange'],\n",
              " ['inform_food'],\n",
              " ['confirm_food'],\n",
              " ['inform_food'],\n",
              " ['inform_area'],\n",
              " ['inform_food'],\n",
              " ['unknown'],\n",
              " ['unknown'],\n",
              " ['inform_food'],\n",
              " ['inform_food', 'inform_area'],\n",
              " ['reqalts', 'inform_food'],\n",
              " ['inform_food'],\n",
              " ['inform_food', 'inform_area'],\n",
              " ['inform_pricerange', 'inform_area'],\n",
              " ['inform_food'],\n",
              " ['request_addr'],\n",
              " ['bye', 'thankyou'],\n",
              " ['inform_food'],\n",
              " ['inform_pricerange'],\n",
              " ['inform_food'],\n",
              " ['reqalts', 'inform_food'],\n",
              " ['confirm_area'],\n",
              " ['inform_food'],\n",
              " ['inform_area'],\n",
              " ['request_addr'],\n",
              " ['request_area'],\n",
              " ['inform_area'],\n",
              " ['unknown'],\n",
              " ['inform_food', 'inform_pricerange'],\n",
              " ['reqalts', 'inform_food'],\n",
              " ['request_phone', 'request_postcode'],\n",
              " ['inform_area'],\n",
              " ['inform_food', 'inform_pricerange'],\n",
              " ['inform_food'],\n",
              " ['inform_food', 'inform_pricerange'],\n",
              " ['inform_food'],\n",
              " ['inform_food'],\n",
              " ['inform_food', 'inform_pricerange'],\n",
              " ['inform_food'],\n",
              " ['inform_pricerange'],\n",
              " ['inform_pricerange'],\n",
              " ['affirm', 'inform_pricerange', 'inform_area'],\n",
              " ['bye'],\n",
              " ['inform_pricerange'],\n",
              " ['request_area'],\n",
              " ['inform_food'],\n",
              " ['inform_food', 'inform_area'],\n",
              " ['reqalts', 'inform_area'],\n",
              " ['inform_pricerange', 'inform_area'],\n",
              " ['affirm', 'inform_food', 'inform_area'],\n",
              " ['inform_food'],\n",
              " ['confirm_food', 'confirm_area'],\n",
              " ['request_phone'],\n",
              " ['bye'],\n",
              " ['inform_this', 'inform_area'],\n",
              " ['request_addr'],\n",
              " ['inform_pricerange', 'inform_area'],\n",
              " ['inform_food'],\n",
              " ['request_phone'],\n",
              " ['unknown'],\n",
              " ['inform_food'],\n",
              " ['reqalts', 'inform_food'],\n",
              " ['request_addr', 'request_phone'],\n",
              " ['request_postcode'],\n",
              " ['inform_pricerange'],\n",
              " ['reqalts', 'inform_pricerange', 'inform_area'],\n",
              " ['inform_pricerange', 'inform_area'],\n",
              " ['inform_this'],\n",
              " ['inform_food', 'inform_pricerange'],\n",
              " ['reqalts', 'inform_food'],\n",
              " ['inform_food', 'inform_pricerange'],\n",
              " ['inform_food', 'inform_pricerange'],\n",
              " ['inform_food'],\n",
              " ['request_phone', 'request_area'],\n",
              " ['request_area'],\n",
              " ['inform_food'],\n",
              " ['hello', 'inform_food', 'inform_area'],\n",
              " ...]"
            ]
          },
          "metadata": {},
          "execution_count": 55
        }
      ]
    },
    {
      "cell_type": "code",
      "source": [
        "intent_list = []\n",
        "for x in train_intent:\n",
        "  for y in x:\n",
        "    if y not in intent_list:\n",
        "      intent_list.append(y)\n",
        "\n",
        "for x in valid_intent:\n",
        "  for y in x:\n",
        "    if y not in intent_list:\n",
        "      intent_list.append(y)\n",
        "\n",
        "for x in test_intent:\n",
        "  for y in x:\n",
        "    if y not in intent_list:\n",
        "      intent_list.append(y)"
      ],
      "metadata": {
        "id": "tPlaQeugLE5b"
      },
      "execution_count": 57,
      "outputs": []
    },
    {
      "cell_type": "code",
      "source": [
        "mlb = MultiLabelBinarizer(classes=intent_list)"
      ],
      "metadata": {
        "id": "m37ra9yUMuL-"
      },
      "execution_count": 58,
      "outputs": []
    },
    {
      "cell_type": "code",
      "source": [
        "train_labels = mlb.fit_transform(train_intent)\n",
        "valid_labels = mlb.fit_transform(valid_intent)\n",
        "test_labels = mlb.fit_transform(test_intent)"
      ],
      "metadata": {
        "id": "ePcalB0rTFCx"
      },
      "execution_count": 59,
      "outputs": []
    },
    {
      "cell_type": "code",
      "source": [
        "intent_num = len(intent_list)"
      ],
      "metadata": {
        "id": "M0ftGkQxTE6p"
      },
      "execution_count": 60,
      "outputs": []
    },
    {
      "cell_type": "code",
      "source": [
        "class MetricsCallback(tf.keras.callbacks.Callback):\n",
        "    def __init__(self):\n",
        "        super(MetricsCallback, self).__init__()\n",
        "    def  on_train_begin(self,logs={}):\n",
        "      self.f1_macro=[]\n",
        "    def on_epoch_end(self, epoch, logs=None):\n",
        "      y_pred = intent_model.predict([train_inp, train_mask])\n",
        "      y_pred[y_pred>=0.5] = 1\n",
        "      y_pred[y_pred<0.5] = 0\n",
        "      score=f1_score(train_labels, y_pred, average='macro')\n",
        "      self.f1_macro.append(score)\n",
        "      print(\" F1 macro :\",score)"
      ],
      "metadata": {
        "id": "i7GF1-Z-TxcN"
      },
      "execution_count": 61,
      "outputs": []
    },
    {
      "cell_type": "code",
      "source": [
        "metrics=MetricsCallback()"
      ],
      "metadata": {
        "id": "837748LzT0BD"
      },
      "execution_count": 62,
      "outputs": []
    },
    {
      "cell_type": "code",
      "source": [
        "bert = TFBertModel.from_pretrained('bert-base-uncased')\n",
        "\n",
        "input_ids = tf.keras.layers.Input(shape=(max_length,), name='input_ids', dtype='int32')\n",
        "mask = tf.keras.layers.Input(shape=(max_length,), name='attention_mask', dtype='int32')\n",
        "\n",
        "embeddings = bert(input_ids, attention_mask=mask)[1]\n",
        "x = tf.keras.layers.Dropout(0.2)(embeddings)\n",
        "y = tf.keras.layers.Dense(intent_num, activation='sigmoid', name='outputs')(x)\n",
        "\n",
        "intent_model = tf.keras.Model(inputs=[input_ids, mask], outputs=y)\n",
        "\n",
        "optimizer = tf.keras.optimizers.Adam(learning_rate=2e-5,epsilon=1e-08)\n",
        "\n",
        "intent_model.compile(optimizer=optimizer,\n",
        "              loss='binary_crossentropy',\n",
        "              metrics=['accuracy'])\n",
        "\n",
        "intent_model.summary()"
      ],
      "metadata": {
        "colab": {
          "base_uri": "https://localhost:8080/"
        },
        "id": "XK5XoQsST1qF",
        "outputId": "c8359f29-6841-4aa2-84b0-3d0c56e3696e"
      },
      "execution_count": 63,
      "outputs": [
        {
          "output_type": "stream",
          "name": "stderr",
          "text": [
            "Some layers from the model checkpoint at bert-base-uncased were not used when initializing TFBertModel: ['nsp___cls', 'mlm___cls']\n",
            "- This IS expected if you are initializing TFBertModel from the checkpoint of a model trained on another task or with another architecture (e.g. initializing a BertForSequenceClassification model from a BertForPreTraining model).\n",
            "- This IS NOT expected if you are initializing TFBertModel from the checkpoint of a model that you expect to be exactly identical (initializing a BertForSequenceClassification model from a BertForSequenceClassification model).\n",
            "All the layers of TFBertModel were initialized from the model checkpoint at bert-base-uncased.\n",
            "If your task is similar to the task the model of the checkpoint was trained on, you can already use TFBertModel for predictions without further training.\n"
          ]
        },
        {
          "output_type": "stream",
          "name": "stdout",
          "text": [
            "Model: \"model_2\"\n",
            "__________________________________________________________________________________________________\n",
            " Layer (type)                   Output Shape         Param #     Connected to                     \n",
            "==================================================================================================\n",
            " input_ids (InputLayer)         [(None, 30)]         0           []                               \n",
            "                                                                                                  \n",
            " attention_mask (InputLayer)    [(None, 30)]         0           []                               \n",
            "                                                                                                  \n",
            " tf_bert_model_2 (TFBertModel)  TFBaseModelOutputWi  109482240   ['input_ids[0][0]',              \n",
            "                                thPoolingAndCrossAt               'attention_mask[0][0]']         \n",
            "                                tentions(last_hidde                                               \n",
            "                                n_state=(None, 30,                                                \n",
            "                                768),                                                             \n",
            "                                 pooler_output=(Non                                               \n",
            "                                e, 768),                                                          \n",
            "                                 past_key_values=No                                               \n",
            "                                ne, hidden_states=N                                               \n",
            "                                one, attentions=Non                                               \n",
            "                                e, cross_attentions                                               \n",
            "                                =None)                                                            \n",
            "                                                                                                  \n",
            " dropout_112 (Dropout)          (None, 768)          0           ['tf_bert_model_2[0][1]']        \n",
            "                                                                                                  \n",
            " outputs (Dense)                (None, 29)           22301       ['dropout_112[0][0]']            \n",
            "                                                                                                  \n",
            "==================================================================================================\n",
            "Total params: 109,504,541\n",
            "Trainable params: 109,504,541\n",
            "Non-trainable params: 0\n",
            "__________________________________________________________________________________________________\n"
          ]
        }
      ]
    },
    {
      "cell_type": "code",
      "source": [
        "cp_callback = ModelCheckpoint('/content/drive/MyDrive/intent-detection-{epoch:03d}--{val_accuracy:03f}.h5', \n",
        "                             verbose=1, monitor='val_accuracy',save_best_only=True, \n",
        "                             save_weights_only=True, mode='max') "
      ],
      "metadata": {
        "id": "UUIyeOAtT5c5"
      },
      "execution_count": 64,
      "outputs": []
    },
    {
      "cell_type": "code",
      "source": [
        "history = intent_model.fit([train_inp, train_mask], train_labels,\n",
        "                       batch_size = 32,\n",
        "                       epochs = 20,\n",
        "                       validation_data = ([valid_inp, valid_mask], valid_labels), callbacks=[cp_callback, metrics])"
      ],
      "metadata": {
        "colab": {
          "base_uri": "https://localhost:8080/"
        },
        "id": "47UYHotDT-_3",
        "outputId": "bcca52e5-efb1-487d-bffb-539c74666959"
      },
      "execution_count": 65,
      "outputs": [
        {
          "output_type": "stream",
          "name": "stdout",
          "text": [
            "Epoch 1/20\n",
            "61/61 [==============================] - ETA: 0s - loss: 0.3708 - accuracy: 0.1873\n",
            "Epoch 1: val_accuracy improved from -inf to 0.32756, saving model to /content/drive/MyDrive/intent-detection-001--0.327562.h5\n",
            "61/61 [==============================] - 5s 27ms/step\n",
            " F1 macro : 0.00865440552142087\n",
            "61/61 [==============================] - 30s 223ms/step - loss: 0.3708 - accuracy: 0.1873 - val_loss: 0.1523 - val_accuracy: 0.3276\n",
            "Epoch 2/20\n",
            " 3/61 [>.............................] - ETA: 3s - loss: 0.1541 - accuracy: 0.3542"
          ]
        },
        {
          "output_type": "stream",
          "name": "stderr",
          "text": [
            "/usr/local/lib/python3.8/dist-packages/sklearn/metrics/_classification.py:1580: UndefinedMetricWarning: F-score is ill-defined and being set to 0.0 in labels with no true nor predicted samples. Use `zero_division` parameter to control this behavior.\n",
            "  _warn_prf(average, \"true nor predicted\", \"F-score is\", len(true_sum))\n"
          ]
        },
        {
          "output_type": "stream",
          "name": "stdout",
          "text": [
            "61/61 [==============================] - ETA: 0s - loss: 0.1341 - accuracy: 0.4190\n",
            "Epoch 2: val_accuracy improved from 0.32756 to 0.52701, saving model to /content/drive/MyDrive/intent-detection-002--0.527008.h5\n",
            "61/61 [==============================] - 2s 29ms/step\n",
            " F1 macro : 0.14009761063260992\n",
            "61/61 [==============================] - 8s 130ms/step - loss: 0.1341 - accuracy: 0.4190 - val_loss: 0.1010 - val_accuracy: 0.5270\n",
            "Epoch 3/20\n",
            " 3/61 [>.............................] - ETA: 3s - loss: 0.1053 - accuracy: 0.5208"
          ]
        },
        {
          "output_type": "stream",
          "name": "stderr",
          "text": [
            "/usr/local/lib/python3.8/dist-packages/sklearn/metrics/_classification.py:1580: UndefinedMetricWarning: F-score is ill-defined and being set to 0.0 in labels with no true nor predicted samples. Use `zero_division` parameter to control this behavior.\n",
            "  _warn_prf(average, \"true nor predicted\", \"F-score is\", len(true_sum))\n"
          ]
        },
        {
          "output_type": "stream",
          "name": "stdout",
          "text": [
            "61/61 [==============================] - ETA: 0s - loss: 0.0929 - accuracy: 0.5727\n",
            "Epoch 3: val_accuracy improved from 0.52701 to 0.62535, saving model to /content/drive/MyDrive/intent-detection-003--0.625346.h5\n",
            "61/61 [==============================] - 2s 27ms/step\n",
            " F1 macro : 0.2118694174460284\n",
            "61/61 [==============================] - 8s 126ms/step - loss: 0.0929 - accuracy: 0.5727 - val_loss: 0.0724 - val_accuracy: 0.6253\n",
            "Epoch 4/20\n",
            " 3/61 [>.............................] - ETA: 3s - loss: 0.0753 - accuracy: 0.6562"
          ]
        },
        {
          "output_type": "stream",
          "name": "stderr",
          "text": [
            "/usr/local/lib/python3.8/dist-packages/sklearn/metrics/_classification.py:1580: UndefinedMetricWarning: F-score is ill-defined and being set to 0.0 in labels with no true nor predicted samples. Use `zero_division` parameter to control this behavior.\n",
            "  _warn_prf(average, \"true nor predicted\", \"F-score is\", len(true_sum))\n"
          ]
        },
        {
          "output_type": "stream",
          "name": "stdout",
          "text": [
            "61/61 [==============================] - ETA: 0s - loss: 0.0679 - accuracy: 0.6906\n",
            "Epoch 4: val_accuracy improved from 0.62535 to 0.75762, saving model to /content/drive/MyDrive/intent-detection-004--0.757618.h5\n",
            "61/61 [==============================] - 2s 29ms/step\n",
            " F1 macro : 0.30780888507816845\n",
            "61/61 [==============================] - 8s 129ms/step - loss: 0.0679 - accuracy: 0.6906 - val_loss: 0.0556 - val_accuracy: 0.7576\n",
            "Epoch 5/20\n",
            " 3/61 [>.............................] - ETA: 3s - loss: 0.0641 - accuracy: 0.6562"
          ]
        },
        {
          "output_type": "stream",
          "name": "stderr",
          "text": [
            "/usr/local/lib/python3.8/dist-packages/sklearn/metrics/_classification.py:1580: UndefinedMetricWarning: F-score is ill-defined and being set to 0.0 in labels with no true nor predicted samples. Use `zero_division` parameter to control this behavior.\n",
            "  _warn_prf(average, \"true nor predicted\", \"F-score is\", len(true_sum))\n"
          ]
        },
        {
          "output_type": "stream",
          "name": "stdout",
          "text": [
            "61/61 [==============================] - ETA: 0s - loss: 0.0527 - accuracy: 0.7424\n",
            "Epoch 5: val_accuracy improved from 0.75762 to 0.76385, saving model to /content/drive/MyDrive/intent-detection-005--0.763850.h5\n",
            "61/61 [==============================] - 2s 28ms/step\n",
            " F1 macro : 0.397041571816702\n",
            "61/61 [==============================] - 8s 128ms/step - loss: 0.0527 - accuracy: 0.7424 - val_loss: 0.0455 - val_accuracy: 0.7639\n",
            "Epoch 6/20\n",
            " 3/61 [>.............................] - ETA: 3s - loss: 0.0449 - accuracy: 0.7292"
          ]
        },
        {
          "output_type": "stream",
          "name": "stderr",
          "text": [
            "/usr/local/lib/python3.8/dist-packages/sklearn/metrics/_classification.py:1580: UndefinedMetricWarning: F-score is ill-defined and being set to 0.0 in labels with no true nor predicted samples. Use `zero_division` parameter to control this behavior.\n",
            "  _warn_prf(average, \"true nor predicted\", \"F-score is\", len(true_sum))\n"
          ]
        },
        {
          "output_type": "stream",
          "name": "stdout",
          "text": [
            "61/61 [==============================] - ETA: 0s - loss: 0.0414 - accuracy: 0.7801\n",
            "Epoch 6: val_accuracy did not improve from 0.76385\n",
            "61/61 [==============================] - 2s 28ms/step\n",
            " F1 macro : 0.433476119907066\n",
            "61/61 [==============================] - 7s 109ms/step - loss: 0.0414 - accuracy: 0.7801 - val_loss: 0.0384 - val_accuracy: 0.7590\n",
            "Epoch 7/20\n",
            " 3/61 [>.............................] - ETA: 3s - loss: 0.0367 - accuracy: 0.7188"
          ]
        },
        {
          "output_type": "stream",
          "name": "stderr",
          "text": [
            "/usr/local/lib/python3.8/dist-packages/sklearn/metrics/_classification.py:1580: UndefinedMetricWarning: F-score is ill-defined and being set to 0.0 in labels with no true nor predicted samples. Use `zero_division` parameter to control this behavior.\n",
            "  _warn_prf(average, \"true nor predicted\", \"F-score is\", len(true_sum))\n"
          ]
        },
        {
          "output_type": "stream",
          "name": "stdout",
          "text": [
            "61/61 [==============================] - ETA: 0s - loss: 0.0338 - accuracy: 0.7822\n",
            "Epoch 7: val_accuracy improved from 0.76385 to 0.83657, saving model to /content/drive/MyDrive/intent-detection-007--0.836565.h5\n",
            "61/61 [==============================] - 2s 27ms/step\n",
            " F1 macro : 0.5032091416948975\n",
            "61/61 [==============================] - 8s 127ms/step - loss: 0.0338 - accuracy: 0.7822 - val_loss: 0.0335 - val_accuracy: 0.8366\n",
            "Epoch 8/20\n",
            " 3/61 [>.............................] - ETA: 3s - loss: 0.0243 - accuracy: 0.8438"
          ]
        },
        {
          "output_type": "stream",
          "name": "stderr",
          "text": [
            "/usr/local/lib/python3.8/dist-packages/sklearn/metrics/_classification.py:1580: UndefinedMetricWarning: F-score is ill-defined and being set to 0.0 in labels with no true nor predicted samples. Use `zero_division` parameter to control this behavior.\n",
            "  _warn_prf(average, \"true nor predicted\", \"F-score is\", len(true_sum))\n"
          ]
        },
        {
          "output_type": "stream",
          "name": "stdout",
          "text": [
            "61/61 [==============================] - ETA: 0s - loss: 0.0282 - accuracy: 0.8044\n",
            "Epoch 8: val_accuracy did not improve from 0.83657\n",
            "61/61 [==============================] - 2s 27ms/step\n",
            " F1 macro : 0.5734503257401503\n",
            "61/61 [==============================] - 6s 106ms/step - loss: 0.0282 - accuracy: 0.8044 - val_loss: 0.0299 - val_accuracy: 0.8109\n",
            "Epoch 9/20\n",
            " 3/61 [>.............................] - ETA: 3s - loss: 0.0180 - accuracy: 0.7812"
          ]
        },
        {
          "output_type": "stream",
          "name": "stderr",
          "text": [
            "/usr/local/lib/python3.8/dist-packages/sklearn/metrics/_classification.py:1580: UndefinedMetricWarning: F-score is ill-defined and being set to 0.0 in labels with no true nor predicted samples. Use `zero_division` parameter to control this behavior.\n",
            "  _warn_prf(average, \"true nor predicted\", \"F-score is\", len(true_sum))\n"
          ]
        },
        {
          "output_type": "stream",
          "name": "stdout",
          "text": [
            "61/61 [==============================] - ETA: 0s - loss: 0.0237 - accuracy: 0.7977\n",
            "Epoch 9: val_accuracy did not improve from 0.83657\n",
            "61/61 [==============================] - 2s 28ms/step\n",
            " F1 macro : 0.6220619509696891\n",
            "61/61 [==============================] - 7s 110ms/step - loss: 0.0237 - accuracy: 0.7977 - val_loss: 0.0268 - val_accuracy: 0.7722\n",
            "Epoch 10/20\n",
            " 3/61 [>.............................] - ETA: 3s - loss: 0.0220 - accuracy: 0.8229"
          ]
        },
        {
          "output_type": "stream",
          "name": "stderr",
          "text": [
            "/usr/local/lib/python3.8/dist-packages/sklearn/metrics/_classification.py:1580: UndefinedMetricWarning: F-score is ill-defined and being set to 0.0 in labels with no true nor predicted samples. Use `zero_division` parameter to control this behavior.\n",
            "  _warn_prf(average, \"true nor predicted\", \"F-score is\", len(true_sum))\n"
          ]
        },
        {
          "output_type": "stream",
          "name": "stdout",
          "text": [
            "61/61 [==============================] - ETA: 0s - loss: 0.0205 - accuracy: 0.8029\n",
            "Epoch 10: val_accuracy did not improve from 0.83657\n",
            "61/61 [==============================] - 2s 27ms/step\n",
            " F1 macro : 0.6284060558138557\n",
            "61/61 [==============================] - 6s 105ms/step - loss: 0.0205 - accuracy: 0.8029 - val_loss: 0.0257 - val_accuracy: 0.8075\n",
            "Epoch 11/20\n",
            " 3/61 [>.............................] - ETA: 3s - loss: 0.0188 - accuracy: 0.8229"
          ]
        },
        {
          "output_type": "stream",
          "name": "stderr",
          "text": [
            "/usr/local/lib/python3.8/dist-packages/sklearn/metrics/_classification.py:1580: UndefinedMetricWarning: F-score is ill-defined and being set to 0.0 in labels with no true nor predicted samples. Use `zero_division` parameter to control this behavior.\n",
            "  _warn_prf(average, \"true nor predicted\", \"F-score is\", len(true_sum))\n"
          ]
        },
        {
          "output_type": "stream",
          "name": "stdout",
          "text": [
            "60/61 [============================>.] - ETA: 0s - loss: 0.0178 - accuracy: 0.8167\n",
            "Epoch 11: val_accuracy did not improve from 0.83657\n",
            "61/61 [==============================] - 2s 27ms/step\n",
            " F1 macro : 0.6684728455343274\n",
            "61/61 [==============================] - 6s 106ms/step - loss: 0.0178 - accuracy: 0.8169 - val_loss: 0.0245 - val_accuracy: 0.7798\n",
            "Epoch 12/20\n",
            " 3/61 [>.............................] - ETA: 3s - loss: 0.0146 - accuracy: 0.8438"
          ]
        },
        {
          "output_type": "stream",
          "name": "stderr",
          "text": [
            "/usr/local/lib/python3.8/dist-packages/sklearn/metrics/_classification.py:1580: UndefinedMetricWarning: F-score is ill-defined and being set to 0.0 in labels with no true nor predicted samples. Use `zero_division` parameter to control this behavior.\n",
            "  _warn_prf(average, \"true nor predicted\", \"F-score is\", len(true_sum))\n"
          ]
        },
        {
          "output_type": "stream",
          "name": "stdout",
          "text": [
            "61/61 [==============================] - ETA: 0s - loss: 0.0158 - accuracy: 0.8086\n",
            "Epoch 12: val_accuracy did not improve from 0.83657\n",
            "61/61 [==============================] - 2s 26ms/step\n",
            " F1 macro : 0.6846939016919421\n",
            "61/61 [==============================] - 6s 104ms/step - loss: 0.0158 - accuracy: 0.8086 - val_loss: 0.0237 - val_accuracy: 0.8040\n",
            "Epoch 13/20\n",
            " 3/61 [>.............................] - ETA: 3s - loss: 0.0173 - accuracy: 0.7708"
          ]
        },
        {
          "output_type": "stream",
          "name": "stderr",
          "text": [
            "/usr/local/lib/python3.8/dist-packages/sklearn/metrics/_classification.py:1580: UndefinedMetricWarning: F-score is ill-defined and being set to 0.0 in labels with no true nor predicted samples. Use `zero_division` parameter to control this behavior.\n",
            "  _warn_prf(average, \"true nor predicted\", \"F-score is\", len(true_sum))\n"
          ]
        },
        {
          "output_type": "stream",
          "name": "stdout",
          "text": [
            "61/61 [==============================] - ETA: 0s - loss: 0.0143 - accuracy: 0.8008\n",
            "Epoch 13: val_accuracy did not improve from 0.83657\n",
            "61/61 [==============================] - 2s 27ms/step\n",
            " F1 macro : 0.6847243620354379\n",
            "61/61 [==============================] - 6s 106ms/step - loss: 0.0143 - accuracy: 0.8008 - val_loss: 0.0241 - val_accuracy: 0.7929\n",
            "Epoch 14/20\n",
            " 3/61 [>.............................] - ETA: 3s - loss: 0.0124 - accuracy: 0.8333"
          ]
        },
        {
          "output_type": "stream",
          "name": "stderr",
          "text": [
            "/usr/local/lib/python3.8/dist-packages/sklearn/metrics/_classification.py:1580: UndefinedMetricWarning: F-score is ill-defined and being set to 0.0 in labels with no true nor predicted samples. Use `zero_division` parameter to control this behavior.\n",
            "  _warn_prf(average, \"true nor predicted\", \"F-score is\", len(true_sum))\n"
          ]
        },
        {
          "output_type": "stream",
          "name": "stdout",
          "text": [
            "61/61 [==============================] - ETA: 0s - loss: 0.0127 - accuracy: 0.8086\n",
            "Epoch 14: val_accuracy did not improve from 0.83657\n",
            "61/61 [==============================] - 2s 27ms/step\n",
            " F1 macro : 0.6851163566332957\n",
            "61/61 [==============================] - 6s 105ms/step - loss: 0.0127 - accuracy: 0.8086 - val_loss: 0.0225 - val_accuracy: 0.7604\n",
            "Epoch 15/20\n",
            " 3/61 [>.............................] - ETA: 3s - loss: 0.0137 - accuracy: 0.8854"
          ]
        },
        {
          "output_type": "stream",
          "name": "stderr",
          "text": [
            "/usr/local/lib/python3.8/dist-packages/sklearn/metrics/_classification.py:1580: UndefinedMetricWarning: F-score is ill-defined and being set to 0.0 in labels with no true nor predicted samples. Use `zero_division` parameter to control this behavior.\n",
            "  _warn_prf(average, \"true nor predicted\", \"F-score is\", len(true_sum))\n"
          ]
        },
        {
          "output_type": "stream",
          "name": "stdout",
          "text": [
            "60/61 [============================>.] - ETA: 0s - loss: 0.0112 - accuracy: 0.8021\n",
            "Epoch 15: val_accuracy did not improve from 0.83657\n",
            "61/61 [==============================] - 2s 27ms/step\n",
            " F1 macro : 0.7136382730108505\n",
            "61/61 [==============================] - 6s 105ms/step - loss: 0.0112 - accuracy: 0.8029 - val_loss: 0.0220 - val_accuracy: 0.7763\n",
            "Epoch 16/20\n",
            " 3/61 [>.............................] - ETA: 3s - loss: 0.0103 - accuracy: 0.8229"
          ]
        },
        {
          "output_type": "stream",
          "name": "stderr",
          "text": [
            "/usr/local/lib/python3.8/dist-packages/sklearn/metrics/_classification.py:1580: UndefinedMetricWarning: F-score is ill-defined and being set to 0.0 in labels with no true nor predicted samples. Use `zero_division` parameter to control this behavior.\n",
            "  _warn_prf(average, \"true nor predicted\", \"F-score is\", len(true_sum))\n"
          ]
        },
        {
          "output_type": "stream",
          "name": "stdout",
          "text": [
            "61/61 [==============================] - ETA: 0s - loss: 0.0101 - accuracy: 0.7993\n",
            "Epoch 16: val_accuracy did not improve from 0.83657\n",
            "61/61 [==============================] - 2s 27ms/step\n",
            " F1 macro : 0.7148135116115412\n",
            "61/61 [==============================] - 6s 105ms/step - loss: 0.0101 - accuracy: 0.7993 - val_loss: 0.0215 - val_accuracy: 0.7680\n",
            "Epoch 17/20\n",
            " 3/61 [>.............................] - ETA: 3s - loss: 0.0082 - accuracy: 0.8229"
          ]
        },
        {
          "output_type": "stream",
          "name": "stderr",
          "text": [
            "/usr/local/lib/python3.8/dist-packages/sklearn/metrics/_classification.py:1580: UndefinedMetricWarning: F-score is ill-defined and being set to 0.0 in labels with no true nor predicted samples. Use `zero_division` parameter to control this behavior.\n",
            "  _warn_prf(average, \"true nor predicted\", \"F-score is\", len(true_sum))\n"
          ]
        },
        {
          "output_type": "stream",
          "name": "stdout",
          "text": [
            "61/61 [==============================] - ETA: 0s - loss: 0.0095 - accuracy: 0.7905\n",
            "Epoch 17: val_accuracy did not improve from 0.83657\n",
            "61/61 [==============================] - 2s 27ms/step\n",
            " F1 macro : 0.7472255251684503\n",
            "61/61 [==============================] - 6s 106ms/step - loss: 0.0095 - accuracy: 0.7905 - val_loss: 0.0219 - val_accuracy: 0.7992\n",
            "Epoch 18/20\n",
            " 3/61 [>.............................] - ETA: 3s - loss: 0.0082 - accuracy: 0.8438"
          ]
        },
        {
          "output_type": "stream",
          "name": "stderr",
          "text": [
            "/usr/local/lib/python3.8/dist-packages/sklearn/metrics/_classification.py:1580: UndefinedMetricWarning: F-score is ill-defined and being set to 0.0 in labels with no true nor predicted samples. Use `zero_division` parameter to control this behavior.\n",
            "  _warn_prf(average, \"true nor predicted\", \"F-score is\", len(true_sum))\n"
          ]
        },
        {
          "output_type": "stream",
          "name": "stdout",
          "text": [
            "61/61 [==============================] - ETA: 0s - loss: 0.0085 - accuracy: 0.8257\n",
            "Epoch 18: val_accuracy improved from 0.83657 to 0.84695, saving model to /content/drive/MyDrive/intent-detection-018--0.846953.h5\n",
            "61/61 [==============================] - 2s 27ms/step\n",
            " F1 macro : 0.7328774730785533\n",
            "61/61 [==============================] - 8s 124ms/step - loss: 0.0085 - accuracy: 0.8257 - val_loss: 0.0208 - val_accuracy: 0.8470\n",
            "Epoch 19/20\n",
            " 3/61 [>.............................] - ETA: 3s - loss: 0.0087 - accuracy: 0.8229"
          ]
        },
        {
          "output_type": "stream",
          "name": "stderr",
          "text": [
            "/usr/local/lib/python3.8/dist-packages/sklearn/metrics/_classification.py:1580: UndefinedMetricWarning: F-score is ill-defined and being set to 0.0 in labels with no true nor predicted samples. Use `zero_division` parameter to control this behavior.\n",
            "  _warn_prf(average, \"true nor predicted\", \"F-score is\", len(true_sum))\n"
          ]
        },
        {
          "output_type": "stream",
          "name": "stdout",
          "text": [
            "61/61 [==============================] - ETA: 0s - loss: 0.0080 - accuracy: 0.8060\n",
            "Epoch 19: val_accuracy did not improve from 0.84695\n",
            "61/61 [==============================] - 2s 26ms/step\n",
            " F1 macro : 0.7758882975177895\n",
            "61/61 [==============================] - 6s 105ms/step - loss: 0.0080 - accuracy: 0.8060 - val_loss: 0.0205 - val_accuracy: 0.8165\n",
            "Epoch 20/20\n",
            " 3/61 [>.............................] - ETA: 3s - loss: 0.0062 - accuracy: 0.8438"
          ]
        },
        {
          "output_type": "stream",
          "name": "stderr",
          "text": [
            "/usr/local/lib/python3.8/dist-packages/sklearn/metrics/_classification.py:1580: UndefinedMetricWarning: F-score is ill-defined and being set to 0.0 in labels with no true nor predicted samples. Use `zero_division` parameter to control this behavior.\n",
            "  _warn_prf(average, \"true nor predicted\", \"F-score is\", len(true_sum))\n"
          ]
        },
        {
          "output_type": "stream",
          "name": "stdout",
          "text": [
            "61/61 [==============================] - ETA: 0s - loss: 0.0074 - accuracy: 0.8132\n",
            "Epoch 20: val_accuracy did not improve from 0.84695\n",
            "61/61 [==============================] - 2s 28ms/step\n",
            " F1 macro : 0.7805389343792973\n",
            "61/61 [==============================] - 7s 111ms/step - loss: 0.0074 - accuracy: 0.8132 - val_loss: 0.0204 - val_accuracy: 0.7694\n"
          ]
        },
        {
          "output_type": "stream",
          "name": "stderr",
          "text": [
            "/usr/local/lib/python3.8/dist-packages/sklearn/metrics/_classification.py:1580: UndefinedMetricWarning: F-score is ill-defined and being set to 0.0 in labels with no true nor predicted samples. Use `zero_division` parameter to control this behavior.\n",
            "  _warn_prf(average, \"true nor predicted\", \"F-score is\", len(true_sum))\n"
          ]
        }
      ]
    },
    {
      "cell_type": "code",
      "source": [
        "!gdown --id 107XgCALcMBKQSTLuLeWWRMpkUPOkkOV-"
      ],
      "metadata": {
        "colab": {
          "base_uri": "https://localhost:8080/"
        },
        "id": "nDNh265BZ8-X",
        "outputId": "7942cfd2-553e-4965-d1dd-9483ca4f837e"
      },
      "execution_count": 68,
      "outputs": [
        {
          "output_type": "stream",
          "name": "stdout",
          "text": [
            "/usr/local/lib/python3.8/dist-packages/gdown/cli.py:121: FutureWarning: Option `--id` was deprecated in version 4.3.1 and will be removed in 5.0. You don't need to pass it anymore to use a file ID.\n",
            "  warnings.warn(\n",
            "Downloading...\n",
            "From: https://drive.google.com/uc?id=107XgCALcMBKQSTLuLeWWRMpkUPOkkOV-\n",
            "To: /content/intent-detection-018--0.846953.h5\n",
            "100% 438M/438M [00:02<00:00, 175MB/s]\n"
          ]
        }
      ]
    },
    {
      "cell_type": "code",
      "source": [
        "intent_model.load_weights('intent-detection-018--0.846953.h5')"
      ],
      "metadata": {
        "id": "DM0XwSNPaE1A"
      },
      "execution_count": 69,
      "outputs": []
    },
    {
      "cell_type": "code",
      "source": [
        "intent_model.evaluate([test_inp, test_mask], test_labels)"
      ],
      "metadata": {
        "colab": {
          "base_uri": "https://localhost:8080/"
        },
        "id": "Mr5skCgIaN7T",
        "outputId": "eed8736f-d751-4abe-ae6d-75b913eaf40c"
      },
      "execution_count": 70,
      "outputs": [
        {
          "output_type": "stream",
          "name": "stdout",
          "text": [
            "44/44 [==============================] - 1s 29ms/step - loss: 0.0204 - accuracy: 0.8463\n"
          ]
        },
        {
          "output_type": "execute_result",
          "data": {
            "text/plain": [
              "[0.020415393635630608, 0.8463203310966492]"
            ]
          },
          "metadata": {},
          "execution_count": 70
        }
      ]
    },
    {
      "cell_type": "code",
      "source": [
        "preds = intent_model.predict([test_inp, test_mask])\n",
        "preds[preds>=0.5] = 1\n",
        "preds[preds<0.5] = 0"
      ],
      "metadata": {
        "colab": {
          "base_uri": "https://localhost:8080/"
        },
        "id": "QMw__kt4aPLU",
        "outputId": "d27150fd-19da-4946-999e-7e8cec5e8173"
      },
      "execution_count": 71,
      "outputs": [
        {
          "output_type": "stream",
          "name": "stdout",
          "text": [
            "44/44 [==============================] - 1s 28ms/step\n"
          ]
        }
      ]
    },
    {
      "cell_type": "code",
      "source": [
        "print(classification_report(preds, test_labels))"
      ],
      "metadata": {
        "colab": {
          "base_uri": "https://localhost:8080/"
        },
        "id": "sVMbya0saRYo",
        "outputId": "0bef86c2-54c3-4cd5-93d7-062ef43b475f"
      },
      "execution_count": 72,
      "outputs": [
        {
          "output_type": "stream",
          "name": "stdout",
          "text": [
            "              precision    recall  f1-score   support\n",
            "\n",
            "           0       1.00      0.98      0.99       260\n",
            "           1       0.83      0.89      0.86        28\n",
            "           2       0.99      1.00      0.99       311\n",
            "           3       1.00      0.98      0.99       124\n",
            "           4       1.00      1.00      1.00       120\n",
            "           5       0.93      0.74      0.83        35\n",
            "           6       0.97      0.97      0.97        40\n",
            "           7       0.98      0.97      0.98       537\n",
            "           8       0.78      0.87      0.82        89\n",
            "           9       1.00      1.00      1.00         5\n",
            "          10       1.00      0.86      0.93        22\n",
            "          11       0.75      1.00      0.86        18\n",
            "          12       0.86      0.97      0.91        33\n",
            "          13       0.91      0.86      0.89       123\n",
            "          14       0.92      1.00      0.96        24\n",
            "          15       1.00      1.00      1.00        28\n",
            "          16       1.00      1.00      1.00        37\n",
            "          17       0.00      0.00      0.00         0\n",
            "          18       0.95      0.93      0.94        42\n",
            "          19       1.00      0.67      0.80         3\n",
            "          20       1.00      0.88      0.94        17\n",
            "          21       0.00      0.00      0.00         0\n",
            "          22       0.00      0.00      0.00         0\n",
            "          23       0.00      0.00      0.00         0\n",
            "          24       0.00      0.00      0.00         0\n",
            "          25       0.00      0.00      0.00         0\n",
            "          26       0.00      0.00      0.00         0\n",
            "          27       0.00      0.00      0.00         0\n",
            "          28       0.00      0.00      0.00         0\n",
            "\n",
            "   micro avg       0.95      0.96      0.96      1896\n",
            "   macro avg       0.65      0.64      0.64      1896\n",
            "weighted avg       0.96      0.96      0.96      1896\n",
            " samples avg       0.94      0.94      0.94      1896\n",
            "\n"
          ]
        },
        {
          "output_type": "stream",
          "name": "stderr",
          "text": [
            "/usr/local/lib/python3.8/dist-packages/sklearn/metrics/_classification.py:1318: UndefinedMetricWarning: Precision and F-score are ill-defined and being set to 0.0 in labels with no predicted samples. Use `zero_division` parameter to control this behavior.\n",
            "  _warn_prf(average, modifier, msg_start, len(result))\n",
            "/usr/local/lib/python3.8/dist-packages/sklearn/metrics/_classification.py:1318: UndefinedMetricWarning: Recall and F-score are ill-defined and being set to 0.0 in labels with no true samples. Use `zero_division` parameter to control this behavior.\n",
            "  _warn_prf(average, modifier, msg_start, len(result))\n",
            "/usr/local/lib/python3.8/dist-packages/sklearn/metrics/_classification.py:1318: UndefinedMetricWarning: Recall and F-score are ill-defined and being set to 0.0 in samples with no true labels. Use `zero_division` parameter to control this behavior.\n",
            "  _warn_prf(average, modifier, msg_start, len(result))\n"
          ]
        }
      ]
    },
    {
      "cell_type": "markdown",
      "source": [
        "###b"
      ],
      "metadata": {
        "id": "pnPJaVtUaaXN"
      }
    },
    {
      "cell_type": "code",
      "source": [
        "!gdown --id 101uOTEhpm7t3Y4iIPpA_isGUHGKXafsA"
      ],
      "metadata": {
        "colab": {
          "base_uri": "https://localhost:8080/"
        },
        "id": "KZWO-rmJab97",
        "outputId": "cc984134-3bd8-4a47-b7b0-3b52b21778b5"
      },
      "execution_count": 73,
      "outputs": [
        {
          "output_type": "stream",
          "name": "stdout",
          "text": [
            "/usr/local/lib/python3.8/dist-packages/gdown/cli.py:121: FutureWarning: Option `--id` was deprecated in version 4.3.1 and will be removed in 5.0. You don't need to pass it anymore to use a file ID.\n",
            "  warnings.warn(\n",
            "Downloading...\n",
            "From: https://drive.google.com/uc?id=101uOTEhpm7t3Y4iIPpA_isGUHGKXafsA\n",
            "To: /content/intent-test.txt\n",
            "100% 600/600 [00:00<00:00, 1.13MB/s]\n"
          ]
        }
      ]
    },
    {
      "cell_type": "code",
      "source": [
        "def detect_intent(sentence):\n",
        "  intents = []\n",
        "  sent_inp, sent_mask = encode_text(bert_tokenizer, [sentence], max_length)\n",
        "  predicted_intent = intent_model.predict([sent_inp, sent_mask])\n",
        "  predicted_intent[predicted_intent>=0.5] = 1\n",
        "  predicted_intent[predicted_intent<0.5] = 0\n",
        "  for i in range(len(predicted_intent[0])):\n",
        "    if predicted_intent[0][i] == 1:\n",
        "      intents.append(intent_list[i])\n",
        "\n",
        "  return intents"
      ],
      "metadata": {
        "id": "HYklU9lPad0j"
      },
      "execution_count": 74,
      "outputs": []
    },
    {
      "cell_type": "code",
      "source": [
        "with open('intent-test.txt') as f:\n",
        "  for sent in f:\n",
        "    sent = sent.strip()\n",
        "    intents = detect_intent(sent)\n",
        "    print(sent)\n",
        "    print(intents)\n",
        "    print('\\n\\n')"
      ],
      "metadata": {
        "colab": {
          "base_uri": "https://localhost:8080/"
        },
        "id": "r4GFUcY9ahCN",
        "outputId": "8bd1839d-6710-424c-d55f-08c2e586fcbf"
      },
      "execution_count": 76,
      "outputs": [
        {
          "output_type": "stream",
          "name": "stdout",
          "text": [
            "1/1 [==============================] - 0s 44ms/step\n",
            "is it in the cheap price range\n",
            "['confirm_pricerange']\n",
            "\n",
            "\n",
            "\n",
            "1/1 [==============================] - 0s 44ms/step\n",
            "is there a cheap restaurant that serves vietnamese food\n",
            "['confirm_pricerange', 'confirm_food']\n",
            "\n",
            "\n",
            "\n",
            "1/1 [==============================] - 0s 42ms/step\n",
            "can i please have their phone number\n",
            "['request_phone']\n",
            "\n",
            "\n",
            "\n",
            "1/1 [==============================] - 0s 43ms/step\n",
            "no thank you good bye\n",
            "['bye', 'negate']\n",
            "\n",
            "\n",
            "\n",
            "1/1 [==============================] - 0s 43ms/step\n",
            "i am looking for an expensive restaurant that serves australian food\n",
            "['inform_pricerange', 'inform_food']\n",
            "\n",
            "\n",
            "\n",
            "1/1 [==============================] - 0s 41ms/step\n",
            "how about asian oriental food\n",
            "['inform_food', 'reqalts']\n",
            "\n",
            "\n",
            "\n",
            "1/1 [==============================] - 0s 46ms/step\n",
            "i got to find a cheap restaurant that serves mexican food\n",
            "['inform_pricerange', 'inform_food']\n",
            "\n",
            "\n",
            "\n",
            "1/1 [==============================] - 0s 44ms/step\n",
            "okay and uh whats their phone number please\n",
            "['request_phone']\n",
            "\n",
            "\n",
            "\n",
            "1/1 [==============================] - 0s 47ms/step\n",
            "i would like to find a moderately priced restaurant in the north part of town\n",
            "['inform_pricerange', 'inform_area']\n",
            "\n",
            "\n",
            "\n",
            "1/1 [==============================] - 0s 46ms/step\n",
            "im looking for a restaurant that serves unusual food\n",
            "['inform_food']\n",
            "\n",
            "\n",
            "\n",
            "1/1 [==============================] - 0s 44ms/step\n",
            "im looking for a restaurant in the north part of town serving jamaican food\n",
            "['inform_area', 'inform_food']\n",
            "\n",
            "\n",
            "\n",
            "1/1 [==============================] - 0s 42ms/step\n",
            "how about gastro pub type of food\n",
            "['inform_food', 'reqalts']\n",
            "\n",
            "\n",
            "\n"
          ]
        }
      ]
    },
    {
      "cell_type": "markdown",
      "source": [
        "##Q3"
      ],
      "metadata": {
        "id": "JiiA_Roja3Sq"
      }
    },
    {
      "cell_type": "markdown",
      "source": [
        "###a"
      ],
      "metadata": {
        "id": "nH3yRLf_eswp"
      }
    },
    {
      "cell_type": "code",
      "source": [
        "def get_all_restaurants(path):\n",
        "  f = open (path, 'r')\n",
        "  data = json.loads(f.read())\n",
        "  db_results = []\n",
        "  for i in range(len(data)):\n",
        "    for res in data[i]:\n",
        "      if 'db_result' in res:\n",
        "        print('\\n\\n\\n')\n",
        "        if res['db_result']:\n",
        "          db_results.append(res['db_result'])\n",
        "  # f.close()\n",
        "  return db_results"
      ],
      "metadata": {
        "id": "2ztEwFobbbGE"
      },
      "execution_count": 103,
      "outputs": []
    },
    {
      "cell_type": "code",
      "source": [
        "restaurant_list = get_all_restaurants('simple-dstc2-trn.json')"
      ],
      "metadata": {
        "id": "-oRCzLClbggs"
      },
      "execution_count": null,
      "outputs": []
    },
    {
      "cell_type": "code",
      "source": [
        "# remove duplicates\n",
        "restaurant_list = [dict(t) for t in {tuple(d.items()) for d in restaurant_list}]"
      ],
      "metadata": {
        "id": "gikO5dpIeSIf"
      },
      "execution_count": 105,
      "outputs": []
    },
    {
      "cell_type": "code",
      "source": [
        "restaurant_list = sorted(restaurant_list, key=lambda d: d['name']) "
      ],
      "metadata": {
        "id": "BcBw7Wb7eUew"
      },
      "execution_count": 106,
      "outputs": []
    },
    {
      "cell_type": "markdown",
      "source": [
        "###b"
      ],
      "metadata": {
        "id": "zRDOprQ3evgV"
      }
    },
    {
      "cell_type": "code",
      "source": [
        "sorted_restaurant = []\n",
        "keys_list = ['name', 'food', 'area', 'pricerange', 'phone', 'addr', 'postcode']\n",
        "for i in range(len(restaurant_list)):\n",
        "  items = sorted(restaurant_list[i].items(), key=lambda pair: keys_list.index(pair[0]))\n",
        "  sorted_restaurant.append(items)"
      ],
      "metadata": {
        "id": "NpTU89sBeYd3"
      },
      "execution_count": 107,
      "outputs": []
    },
    {
      "cell_type": "markdown",
      "source": [
        "### c "
      ],
      "metadata": {
        "id": "AOKGiLpIe0k0"
      }
    },
    {
      "cell_type": "code",
      "source": [
        "!gdown --id 1-snND1ySP8qslXLVScy6z7lSPZTc4WI4"
      ],
      "metadata": {
        "colab": {
          "base_uri": "https://localhost:8080/"
        },
        "id": "h4arA7UAec9D",
        "outputId": "6478a867-b0d8-4c21-9861-0270aba87d65"
      },
      "execution_count": 108,
      "outputs": [
        {
          "output_type": "stream",
          "name": "stdout",
          "text": [
            "/usr/local/lib/python3.8/dist-packages/gdown/cli.py:121: FutureWarning: Option `--id` was deprecated in version 4.3.1 and will be removed in 5.0. You don't need to pass it anymore to use a file ID.\n",
            "  warnings.warn(\n",
            "Downloading...\n",
            "From: https://drive.google.com/uc?id=1-snND1ySP8qslXLVScy6z7lSPZTc4WI4\n",
            "To: /content/db-test.txt\n",
            "100% 188/188 [00:00<00:00, 335kB/s]\n"
          ]
        }
      ]
    },
    {
      "cell_type": "code",
      "source": [
        "db_test = []\n",
        "with open('db-test.txt') as f:\n",
        "  for query in f:\n",
        "    d = json.loads('{'+query.strip(',\\n')+'}')\n",
        "    db_test.append(d)"
      ],
      "metadata": {
        "id": "qM528xXde4ie"
      },
      "execution_count": 109,
      "outputs": []
    },
    {
      "cell_type": "code",
      "source": [
        "def find_restaurant(query):\n",
        "  res = []\n",
        "\n",
        "  for key, value in query.items():\n",
        "    tmp = []\n",
        "    for restaurant in restaurant_list:\n",
        "      if key in restaurant:\n",
        "        if restaurant[key] == value:\n",
        "          tmp.append(restaurant['name'])\n",
        "    if len(res) == 0:\n",
        "      res = tmp\n",
        "    else:\n",
        "      res = list(set(res) & set(tmp))  \n",
        "\n",
        "  res.sort()\n",
        "  return res"
      ],
      "metadata": {
        "id": "I0bzOTH8e_3_"
      },
      "execution_count": 110,
      "outputs": []
    },
    {
      "cell_type": "code",
      "source": [
        "for query in db_test:\n",
        "  result = find_restaurant(query)\n",
        "  print(query)\n",
        "  print(len(result))\n",
        "  for value in result:\n",
        "    print(value)\n",
        "  print('\\n'*5)"
      ],
      "metadata": {
        "colab": {
          "base_uri": "https://localhost:8080/"
        },
        "id": "5l9gqN10fCbL",
        "outputId": "2d0890c5-a461-4ff5-adaf-85e945b0dc2f"
      },
      "execution_count": 112,
      "outputs": [
        {
          "output_type": "stream",
          "name": "stdout",
          "text": [
            "{'food': 'indian', 'phone': '01223 506055'}\n",
            "1\n",
            "tandoori palace\n",
            "\n",
            "\n",
            "\n",
            "\n",
            "\n",
            "\n",
            "{'pricerange': 'cheap', 'area': 'east'}\n",
            "1\n",
            "the missing sock\n",
            "\n",
            "\n",
            "\n",
            "\n",
            "\n",
            "\n",
            "{'phone': '01223 311911', 'area': 'centre'}\n",
            "1\n",
            "kymmoy\n",
            "\n",
            "\n",
            "\n",
            "\n",
            "\n",
            "\n",
            "{'name': 'cocum'}\n",
            "1\n",
            "cocum\n",
            "\n",
            "\n",
            "\n",
            "\n",
            "\n",
            "\n",
            "{'addr': '290 mill road city centre'}\n",
            "1\n",
            "royal standard\n",
            "\n",
            "\n",
            "\n",
            "\n",
            "\n",
            "\n"
          ]
        }
      ]
    },
    {
      "cell_type": "markdown",
      "source": [
        "##Q4"
      ],
      "metadata": {
        "id": "-LqwRVZAfTDE"
      }
    },
    {
      "cell_type": "code",
      "source": [
        "templates = {}\n",
        "with open('simple-dstc2-templates.txt') as f:\n",
        "  for line in f:\n",
        "    key, value = line.strip().split('\\t')\n",
        "    templates[key] = value"
      ],
      "metadata": {
        "id": "uqxXdCNcfVUv"
      },
      "execution_count": 113,
      "outputs": []
    },
    {
      "cell_type": "code",
      "source": [
        "def get_addr(name):\n",
        "  res = ''\n",
        "  for rest in restaurant_list:\n",
        "    if rest['name'] == name:\n",
        "      res = rest['addr']\n",
        "  return res"
      ],
      "metadata": {
        "id": "6bB0D5qOfdDF"
      },
      "execution_count": 114,
      "outputs": []
    },
    {
      "cell_type": "code",
      "source": [
        "def get_phone(name):\n",
        "  res = ''\n",
        "  for rest in restaurant_list:\n",
        "    if rest['name'] == name:\n",
        "      res = rest['phone']\n",
        "  return res"
      ],
      "metadata": {
        "id": "YMhs9L40fgDd"
      },
      "execution_count": 115,
      "outputs": []
    },
    {
      "cell_type": "code",
      "source": [
        "def get_postcode(name):\n",
        "  res = ''\n",
        "  for rest in restaurant_list:\n",
        "    if rest['name'] == name:\n",
        "      res = rest['postcode']\n",
        "  return res"
      ],
      "metadata": {
        "id": "97LknPjnfhTs"
      },
      "execution_count": 116,
      "outputs": []
    },
    {
      "cell_type": "code",
      "source": [
        "def get_res(cach_dict):\n",
        "  tmp = cach_dict\n",
        "  name = ''\n",
        "  if 'food' in tmp and 'pricerange' in tmp and 'area' in tmp:\n",
        "    res = find_restaurant(tmp)\n",
        "    if len(res) > 0:\n",
        "      sent = templates['inform_area+inform_food+inform_pricerange+offer_name']\n",
        "      name = res[0]\n",
        "      sent = sent.replace('#name', res[0])\n",
        "      sent = sent.replace('#food', tmp['food'])\n",
        "      sent = sent.replace('#pricerange', tmp['pricerange'])\n",
        "      sent = sent.replace('#area', tmp['area'])\n",
        "      print(sent)\n",
        "    else:\n",
        "      sent = templates['canthelp_area_food_pricerange']\n",
        "      sent = sent.replace('#food', tmp['food'])\n",
        "      sent = sent.replace('#pricerange', caches['pricerange'])\n",
        "      sent = sent.replace('#area', tmp['area'])\n",
        "      print(sent)\n",
        "  elif 'food' in tmp and 'pricerange' in tmp and 'area' not in tmp:\n",
        "    res = find_restaurant(tmp)\n",
        "    if len(res) > 0:\n",
        "      name = res[0]\n",
        "      sent = templates['inform_food+inform_pricerange+offer_name']\n",
        "      sent = sent.replace('#name', res[0])\n",
        "      sent = sent.replace('#food', tmp['food'])\n",
        "      sent = sent.replace('#pricerange', tmp['pricerange'])\n",
        "      print(sent)\n",
        "    else:\n",
        "      sent = templates['canthelp_food_pricerange']\n",
        "      sent = sent.replace('#food', tmp['food'])\n",
        "      sent = sent.replace('#pricerange', tmp['pricerange'])\n",
        "      print(sent)\n",
        "  elif 'food' in tmp and 'area' in tmp and 'pricerange' not in tmp:\n",
        "    res = find_restaurant(tmp)\n",
        "    if len(res) > 0:\n",
        "      name = res[0]\n",
        "      sent = templates['inform_area+inform_food+offer_name']\n",
        "      sent = sent.replace('#name', res[0])\n",
        "      sent = sent.replace('#food', tmp['food'])\n",
        "      sent = sent.replace('#area', tmp['area'])\n",
        "      print(sent)\n",
        "    else:\n",
        "      sent = templates['canthelp_area_food']\n",
        "      sent = sent.replace('#food', tmp['food'])\n",
        "      sent = sent.replace('#area', tmp['area'])\n",
        "      print(sent) \n",
        "  elif 'food' in tmp and 'pricerange' not in tmp and 'area' not in tmp:\n",
        "    res = find_restaurant(tmp)\n",
        "    if len(res) > 0:\n",
        "      name = res[0]\n",
        "      sent = templates['inform_food+offer_name']\n",
        "      sent = sent.replace('#name', res[0])\n",
        "      sent = sent.replace('#food', tmp['food'])\n",
        "      print(sent)\n",
        "    else:\n",
        "      sent = templates['canthelp_food_pricerange']\n",
        "      sent = sent.replace('#food', tmp['food'])\n",
        "      print(sent)\n",
        "  elif 'food' not in tmp and 'pricerange' in tmp and 'area' in tmp:\n",
        "    res = find_restaurant(tmp)\n",
        "    if len(res) > 0:\n",
        "      name = res[0]\n",
        "      sent = templates['inform_area+inform_pricerange+offer_name']\n",
        "      sent = sent.replace('#name', res[0])\n",
        "      sent = sent.replace('#pricerange', tmp['pricerange'])\n",
        "      sent = sent.replace('#area', tmp['area'])\n",
        "      print(sent)\n",
        "    else:\n",
        "      sent = templates['canthelp_area_pricerange']\n",
        "      sent = sent.replace('#pricerange', tmp['pricerange'])\n",
        "      sent = sent.replace('#area', tmp['area'])\n",
        "      print(sent)\n",
        "  elif 'food' not in tmp and 'pricerange' in tmp and 'area' not in tmp:\n",
        "    res = find_restaurant(tmp)\n",
        "    if len(res) > 0:\n",
        "      name = res[0]\n",
        "      sent = templates['inform_pricerange+offer_name']\n",
        "      sent = sent.replace('#name', res[0])\n",
        "      sent = sent.replace('#pricerange', tmp['pricerange'])\n",
        "      print(sent)\n",
        "    else:\n",
        "      sent = templates['canthelp_pricerange']\n",
        "      sent = sent.replace('#pricerange', tmp['pricerange'])\n",
        "      print(sent)\n",
        "  elif 'food' not in tmp and 'pricerange' not in tmp and 'area' in tmp:\n",
        "    res = find_restaurant(tmp)\n",
        "    if len(res) > 0:\n",
        "      name = res[0]\n",
        "      sent = templates['inform_area+offer_name']\n",
        "      sent = sent.replace('#name', res[0])\n",
        "      sent = sent.replace('#area', tmp['area'])\n",
        "      print(sent)\n",
        "    else:\n",
        "      sent = templates['canthelp_area']\n",
        "      sent = sent.replace('#area', tmp['area'])\n",
        "      print(sent)\n",
        "  return name"
      ],
      "metadata": {
        "id": "NRuzlVNRfqoX"
      },
      "execution_count": 117,
      "outputs": []
    },
    {
      "cell_type": "code",
      "source": [
        "def process_query(sentence, caches, rest_name):\n",
        "\n",
        "  intents = detect_intent(sentence)\n",
        "  slots, tags = fill_slots(sentence)\n",
        "  name = ''\n",
        "  if len(intents) == 0:\n",
        "    print(templates['confirm-domain'])\n",
        "  elif 'hello' in intents:\n",
        "    print(templates['welcomemsg'])\n",
        "  elif 'thankyou' in intents:\n",
        "    print(templates['bye'])\n",
        "  elif 'bye' in intents:\n",
        "    print('Bye, Have a Great Time!')\n",
        "    caches = {'pricerange':'', 'food':'', 'area':''}\n",
        "    name = ''\n",
        "  elif 'restart' in intents:\n",
        "    print('restart system')\n",
        "    caches = {'pricerange':'', 'food':'', 'area':''}\n",
        "    name = ''\n",
        "  elif len(intents) == 1:\n",
        "    if intents[0] == 'inform_pricerange':\n",
        "      if 'pricerange' in slots:\n",
        "        pricerange = slots['pricerange']\n",
        "        caches['pricerange'] = pricerange\n",
        "        tmp = {key:val for key, val in caches.items() if val != ''}\n",
        "        name = get_res(tmp)\n",
        "        if caches['food'] == '':\n",
        "          print(templates['request_food'])\n",
        "        \n",
        "    elif intents[0] == 'inform_food':\n",
        "      if 'food' in slots:\n",
        "        food = slots['food']\n",
        "        caches['food'] = food\n",
        "        tmp = {key:val for key, val in caches.items() if val != ''}\n",
        "        name = get_res(tmp)\n",
        "    elif intents[0] == 'inform_area':\n",
        "      if 'area' in slots:\n",
        "        area = slots['area']\n",
        "        caches['area'] == area\n",
        "        tmp = {key:val for key, val in caches.items() if val != ''}\n",
        "        name = get_res(tmp)        \n",
        "        if caches['food'] == '':\n",
        "          print(templates['request_food'])\n",
        "\n",
        "    elif intents[0] == 'request_addr':\n",
        "      sent = templates['inform_addr+offer_name']\n",
        "      sent = sent.replace('#name', rest_name)\n",
        "      sent = sent.replace('#addr', get_addr(rest_name))\n",
        "      print(sent)\n",
        "    elif intents[0] == 'request_phone':\n",
        "      sent = templates['inform_phone+offer_name']\n",
        "      sent = sent.replace('#name', rest_name)\n",
        "      sent = sent.replace('#phone', get_phone(rest_name))\n",
        "      print(sent)\n",
        "\n",
        "    else:\n",
        "      print('I dont know')\n",
        "  \n",
        "  elif len(intents) == 2:\n",
        "    if 'inform_food' in intents and 'inform_pricerange' in intents:\n",
        "      pricerange = slots['pricerange']\n",
        "      food = slots['food']\n",
        "      caches['pricerange'] = pricerange\n",
        "      caches['food'] = food\n",
        "      tmp = {key:val for key, val in caches.items() if val != ''}\n",
        "      name = get_res(tmp)\n",
        "    elif 'inform_food' in intents and 'inform_area' in intents:\n",
        "      area = slots['area']\n",
        "      food = slots['food']\n",
        "      caches['food'] = food\n",
        "      caches['area'] = area\n",
        "      tmp = {key:val for key, val in caches.items() if val != ''}\n",
        "      name = get_res(tmp)\n",
        "\n",
        "    elif 'inform_pricerange' in intents and 'inform_area' in intents:\n",
        "      area = slots['area']\n",
        "      pricerange = slots['pricerange']\n",
        "      caches['area'] = area\n",
        "      caches['pricerange'] = pricerange\n",
        "      tmp = {key:val for key, val in caches.items() if val != ''}\n",
        "      name = get_res(tmp)  \n",
        "    elif 'inform_area' in intents:\n",
        "      area = slots['area']\n",
        "      caches['area'] = area\n",
        "      tmp = {key:val for key, val in caches.items() if val != ''}\n",
        "      name = get_res(tmp)  \n",
        "    else:\n",
        "      print('I dont know')      \n",
        "\n",
        "  elif len(intents) == 3:\n",
        "    if 'inform_food' in intents and 'inform_pricerange' in intents and 'inform_area' in intents:\n",
        "      area = slots['area']\n",
        "      pricerange = slots['pricerange']\n",
        "      food = slots['food']\n",
        "      caches['food'] = food\n",
        "      caches['pricerange'] = pricerange\n",
        "      caches['area'] = area\n",
        "      name = get_res(caches)\n",
        "  \n",
        "  else:\n",
        "    print('I dont know')\n",
        "  return caches,name"
      ],
      "metadata": {
        "id": "xC1tCBeofum1"
      },
      "execution_count": 127,
      "outputs": []
    },
    {
      "cell_type": "code",
      "source": [
        "caches = {'pricerange':'', 'food':'', 'area':''}\n",
        "rest_name = ''\n",
        "while(True):\n",
        "  sent = input()\n",
        "  if sent == 'exit':\n",
        "    break\n",
        "  caches, rest_name = process_query(sent, caches, rest_name)"
      ],
      "metadata": {
        "colab": {
          "base_uri": "https://localhost:8080/"
        },
        "id": "Y_F7XrUSfw6Z",
        "outputId": "f62fdde8-b503-4f18-89a5-e026c51d898c"
      },
      "execution_count": 129,
      "outputs": [
        {
          "name": "stdout",
          "output_type": "stream",
          "text": [
            "hi\n",
            "1/1 [==============================] - 0s 44ms/step\n",
            "1/1 [==============================] - 0s 44ms/step\n",
            "Hello, welcome to the Cambridge restaurant system. You can ask for restaurants by area, price range or food type. How may I help you?\n",
            "a cheap restaurant plz\n",
            "1/1 [==============================] - 0s 44ms/step\n",
            "1/1 [==============================] - 0s 44ms/step\n",
            "The price range at ask is cheap.\n",
            "What kind of food would you like?\n",
            "chinese\n",
            "1/1 [==============================] - 0s 45ms/step\n",
            "1/1 [==============================] - 0s 40ms/step\n",
            "charlie chan serves chinese food in the cheap price range.\n",
            "address\n",
            "1/1 [==============================] - 0s 46ms/step\n",
            "1/1 [==============================] - 0s 47ms/step\n",
            "Sure, charlie chan is on regent street city centre.\n",
            "what about west area?\n",
            "1/1 [==============================] - 0s 42ms/step\n",
            "1/1 [==============================] - 0s 42ms/step\n",
            "Sorry there is no cheap restaurant in the west of town serving chinese food.\n",
            "thanks\n",
            "1/1 [==============================] - 0s 41ms/step\n",
            "1/1 [==============================] - 0s 42ms/step\n",
            "You are welcome!\n",
            "bye\n",
            "1/1 [==============================] - 0s 43ms/step\n",
            "1/1 [==============================] - 0s 42ms/step\n",
            "Bye, Have a Great Time!\n",
            "exit\n"
          ]
        }
      ]
    },
    {
      "cell_type": "code",
      "source": [
        "caches = {'pricerange':'', 'food':'', 'area':''}\n",
        "rest_name = ''"
      ],
      "metadata": {
        "id": "N1GH2YjZf0Q1"
      },
      "execution_count": 130,
      "outputs": []
    },
    {
      "cell_type": "code",
      "source": [
        "detect_intent('cheap restaurant')"
      ],
      "metadata": {
        "colab": {
          "base_uri": "https://localhost:8080/"
        },
        "id": "sRCFdUVwg18O",
        "outputId": "730ad9d1-44e5-41c4-82e4-ae4b2b97121f"
      },
      "execution_count": 131,
      "outputs": [
        {
          "output_type": "stream",
          "name": "stdout",
          "text": [
            "1/1 [==============================] - 0s 46ms/step\n"
          ]
        },
        {
          "output_type": "execute_result",
          "data": {
            "text/plain": [
              "['inform_pricerange']"
            ]
          },
          "metadata": {},
          "execution_count": 131
        }
      ]
    }
  ]
}