{
  "cells": [
    {
      "cell_type": "markdown",
      "metadata": {
        "id": "pNcQdDxqtDVb"
      },
      "source": [
        "#HMW7"
      ]
    },
    {
      "cell_type": "code",
      "execution_count": null,
      "metadata": {
        "colab": {
          "base_uri": "https://localhost:8080/"
        },
        "id": "htwJm4M8mJgZ",
        "outputId": "739fe843-22e2-44c0-962e-6853777aad90"
      },
      "outputs": [
        {
          "name": "stdout",
          "output_type": "stream",
          "text": [
            "Collecting transformers\n",
            "  Downloading transformers-4.18.0-py3-none-any.whl (4.0 MB)\n",
            "\u001b[K     |████████████████████████████████| 4.0 MB 3.8 MB/s \n",
            "\u001b[?25hCollecting huggingface-hub<1.0,>=0.1.0\n",
            "  Downloading huggingface_hub-0.5.1-py3-none-any.whl (77 kB)\n",
            "\u001b[K     |████████████████████████████████| 77 kB 5.5 MB/s \n",
            "\u001b[?25hRequirement already satisfied: packaging>=20.0 in /usr/local/lib/python3.7/dist-packages (from transformers) (21.3)\n",
            "Collecting pyyaml>=5.1\n",
            "  Downloading PyYAML-6.0-cp37-cp37m-manylinux_2_5_x86_64.manylinux1_x86_64.manylinux_2_12_x86_64.manylinux2010_x86_64.whl (596 kB)\n",
            "\u001b[K     |████████████████████████████████| 596 kB 29.7 MB/s \n",
            "\u001b[?25hRequirement already satisfied: tqdm>=4.27 in /usr/local/lib/python3.7/dist-packages (from transformers) (4.64.0)\n",
            "Requirement already satisfied: regex!=2019.12.17 in /usr/local/lib/python3.7/dist-packages (from transformers) (2019.12.20)\n",
            "Requirement already satisfied: filelock in /usr/local/lib/python3.7/dist-packages (from transformers) (3.6.0)\n",
            "Requirement already satisfied: numpy>=1.17 in /usr/local/lib/python3.7/dist-packages (from transformers) (1.21.6)\n",
            "Requirement already satisfied: requests in /usr/local/lib/python3.7/dist-packages (from transformers) (2.23.0)\n",
            "Collecting sacremoses\n",
            "  Downloading sacremoses-0.0.49-py3-none-any.whl (895 kB)\n",
            "\u001b[K     |████████████████████████████████| 895 kB 34.9 MB/s \n",
            "\u001b[?25hCollecting tokenizers!=0.11.3,<0.13,>=0.11.1\n",
            "  Downloading tokenizers-0.12.1-cp37-cp37m-manylinux_2_12_x86_64.manylinux2010_x86_64.whl (6.6 MB)\n",
            "\u001b[K     |████████████████████████████████| 6.6 MB 34.7 MB/s \n",
            "\u001b[?25hRequirement already satisfied: importlib-metadata in /usr/local/lib/python3.7/dist-packages (from transformers) (4.11.3)\n",
            "Requirement already satisfied: typing-extensions>=3.7.4.3 in /usr/local/lib/python3.7/dist-packages (from huggingface-hub<1.0,>=0.1.0->transformers) (4.1.1)\n",
            "Requirement already satisfied: pyparsing!=3.0.5,>=2.0.2 in /usr/local/lib/python3.7/dist-packages (from packaging>=20.0->transformers) (3.0.8)\n",
            "Requirement already satisfied: zipp>=0.5 in /usr/local/lib/python3.7/dist-packages (from importlib-metadata->transformers) (3.8.0)\n",
            "Requirement already satisfied: idna<3,>=2.5 in /usr/local/lib/python3.7/dist-packages (from requests->transformers) (2.10)\n",
            "Requirement already satisfied: urllib3!=1.25.0,!=1.25.1,<1.26,>=1.21.1 in /usr/local/lib/python3.7/dist-packages (from requests->transformers) (1.24.3)\n",
            "Requirement already satisfied: chardet<4,>=3.0.2 in /usr/local/lib/python3.7/dist-packages (from requests->transformers) (3.0.4)\n",
            "Requirement already satisfied: certifi>=2017.4.17 in /usr/local/lib/python3.7/dist-packages (from requests->transformers) (2021.10.8)\n",
            "Requirement already satisfied: click in /usr/local/lib/python3.7/dist-packages (from sacremoses->transformers) (7.1.2)\n",
            "Requirement already satisfied: joblib in /usr/local/lib/python3.7/dist-packages (from sacremoses->transformers) (1.1.0)\n",
            "Requirement already satisfied: six in /usr/local/lib/python3.7/dist-packages (from sacremoses->transformers) (1.15.0)\n",
            "Installing collected packages: pyyaml, tokenizers, sacremoses, huggingface-hub, transformers\n",
            "  Attempting uninstall: pyyaml\n",
            "    Found existing installation: PyYAML 3.13\n",
            "    Uninstalling PyYAML-3.13:\n",
            "      Successfully uninstalled PyYAML-3.13\n",
            "Successfully installed huggingface-hub-0.5.1 pyyaml-6.0 sacremoses-0.0.49 tokenizers-0.12.1 transformers-4.18.0\n"
          ]
        }
      ],
      "source": [
        "!pip install transformers"
      ]
    },
    {
      "cell_type": "code",
      "execution_count": null,
      "metadata": {
        "id": "AyJPJ9ETnGUB"
      },
      "outputs": [],
      "source": [
        "import tensorflow as tf\n",
        "import pandas as pd\n",
        "import numpy as np\n",
        "import os\n",
        "import matplotlib.pyplot as plt\n",
        "from transformers import BertTokenizer\n",
        "from transformers import TFBertModel, TFBertForPreTraining\n",
        "from tensorflow.keras.callbacks import ModelCheckpoint"
      ]
    },
    {
      "cell_type": "code",
      "execution_count": null,
      "metadata": {
        "colab": {
          "base_uri": "https://localhost:8080/"
        },
        "id": "GNh8141gk1SP",
        "outputId": "9568c49d-3448-40a3-8474-4c7084128028"
      },
      "outputs": [
        {
          "name": "stdout",
          "output_type": "stream",
          "text": [
            "Mounted at /content/drive\n"
          ]
        }
      ],
      "source": [
        "from google.colab import drive\n",
        "drive.mount('/content/drive')"
      ]
    },
    {
      "cell_type": "code",
      "execution_count": null,
      "metadata": {
        "colab": {
          "base_uri": "https://localhost:8080/"
        },
        "id": "1odh523gmekE",
        "outputId": "abfffd49-acd6-4db9-aaba-096f93f405b3"
      },
      "outputs": [
        {
          "name": "stdout",
          "output_type": "stream",
          "text": [
            "/usr/local/lib/python3.7/dist-packages/gdown/cli.py:131: FutureWarning: Option `--id` was deprecated in version 4.3.1 and will be removed in 5.0. You don't need to pass it anymore to use a file ID.\n",
            "  category=FutureWarning,\n",
            "Downloading...\n",
            "From: https://drive.google.com/uc?id=1lct2GyNPE2UwI8geGXRha6j1yU8tksSw\n",
            "To: /content/train.csv\n",
            "100% 20.1M/20.1M [00:00<00:00, 176MB/s]\n",
            "/usr/local/lib/python3.7/dist-packages/gdown/cli.py:131: FutureWarning: Option `--id` was deprecated in version 4.3.1 and will be removed in 5.0. You don't need to pass it anymore to use a file ID.\n",
            "  category=FutureWarning,\n",
            "Downloading...\n",
            "From: https://drive.google.com/uc?id=13wDQLk8mXorxghxWFNfhWvXPWPPI27dL\n",
            "To: /content/valid.csv\n",
            "100% 1.87M/1.87M [00:00<00:00, 158MB/s]\n",
            "/usr/local/lib/python3.7/dist-packages/gdown/cli.py:131: FutureWarning: Option `--id` was deprecated in version 4.3.1 and will be removed in 5.0. You don't need to pass it anymore to use a file ID.\n",
            "  category=FutureWarning,\n",
            "Downloading...\n",
            "From: https://drive.google.com/uc?id=1St87-nfaqT5ZyiaDRY_NPy8PbRdTEPAY\n",
            "To: /content/test.csv\n",
            "100% 1.81M/1.81M [00:00<00:00, 152MB/s]\n"
          ]
        }
      ],
      "source": [
        "!gdown 1lct2GyNPE2UwI8geGXRha6j1yU8tksSw\n",
        "!gdown 13wDQLk8mXorxghxWFNfhWvXPWPPI27dL\n",
        "!gdown 1St87-nfaqT5ZyiaDRY_NPy8PbRdTEPAY"
      ]
    },
    {
      "cell_type": "code",
      "execution_count": null,
      "metadata": {
        "id": "OfJfouaopJnh"
      },
      "outputs": [],
      "source": [
        "train_df = pd.read_csv('train.csv')\n",
        "test_df = pd.read_csv('test.csv')\n",
        "valid_df = pd.read_csv('valid.csv')"
      ]
    },
    {
      "cell_type": "code",
      "execution_count": null,
      "metadata": {
        "id": "SFn8DtdVYgkx"
      },
      "outputs": [],
      "source": [
        "def clean(data):\n",
        "  tokens = data.split()\n",
        "  translation_table = str.maketrans('', '', \"\\\"#$%&'()*+-/:;<=>@[\\]^_`{|}~?!.,\")\n",
        "  tokens = [w.translate(translation_table) for w in tokens]\n",
        "  tokens = [word.lower() for word in tokens]\n",
        "  return ' '.join(tokens)"
      ]
    },
    {
      "cell_type": "code",
      "execution_count": null,
      "metadata": {
        "id": "VTRZjOSTYgky"
      },
      "outputs": [],
      "source": [
        "def cleaning_data(input_data):\n",
        "  first_clean = []\n",
        "  second_clean = []\n",
        "  for index, row in input_data.iterrows():\n",
        "    first_clean.append(clean(row['Input']))\n",
        "    second_clean.append(clean(row['Output']))\n",
        "  return first_clean,second_clean,input_data['Label'].tolist()"
      ]
    },
    {
      "cell_type": "code",
      "execution_count": null,
      "metadata": {
        "colab": {
          "base_uri": "https://localhost:8080/",
          "height": 206
        },
        "id": "fsWMaL6XphUI",
        "outputId": "7260ea32-0255-4da5-f1d1-d1db8c50d608"
      },
      "outputs": [
        {
          "data": {
            "text/html": [
              "\n",
              "  <div id=\"df-3d47c067-296f-403d-8a16-4f193262b4e5\">\n",
              "    <div class=\"colab-df-container\">\n",
              "      <div>\n",
              "<style scoped>\n",
              "    .dataframe tbody tr th:only-of-type {\n",
              "        vertical-align: middle;\n",
              "    }\n",
              "\n",
              "    .dataframe tbody tr th {\n",
              "        vertical-align: top;\n",
              "    }\n",
              "\n",
              "    .dataframe thead th {\n",
              "        text-align: right;\n",
              "    }\n",
              "</style>\n",
              "<table border=\"1\" class=\"dataframe\">\n",
              "  <thead>\n",
              "    <tr style=\"text-align: right;\">\n",
              "      <th></th>\n",
              "      <th>Input</th>\n",
              "      <th>Output</th>\n",
              "      <th>Label</th>\n",
              "    </tr>\n",
              "  </thead>\n",
              "  <tbody>\n",
              "    <tr>\n",
              "      <th>0</th>\n",
              "      <td>I'd like to start by talking about prices .</td>\n",
              "      <td>I'd be glad to answer any questions you may h...</td>\n",
              "      <td>1</td>\n",
              "    </tr>\n",
              "    <tr>\n",
              "      <th>1</th>\n",
              "      <td>Why ? Isn't it obvious ? First you impose way...</td>\n",
              "      <td>I'm very sorry for that , but I sent you seve...</td>\n",
              "      <td>1</td>\n",
              "    </tr>\n",
              "    <tr>\n",
              "      <th>2</th>\n",
              "      <td>Those guys work at the same company and go to ...</td>\n",
              "      <td>Birds of a feather flock together .</td>\n",
              "      <td>1</td>\n",
              "    </tr>\n",
              "    <tr>\n",
              "      <th>3</th>\n",
              "      <td>It must be locked .</td>\n",
              "      <td>Let me ask the old woman in that reception of...</td>\n",
              "      <td>1</td>\n",
              "    </tr>\n",
              "    <tr>\n",
              "      <th>4</th>\n",
              "      <td>Hey , Mary , nice to see you again . I heard y...</td>\n",
              "      <td>Where are you going now ?</td>\n",
              "      <td>0</td>\n",
              "    </tr>\n",
              "  </tbody>\n",
              "</table>\n",
              "</div>\n",
              "      <button class=\"colab-df-convert\" onclick=\"convertToInteractive('df-3d47c067-296f-403d-8a16-4f193262b4e5')\"\n",
              "              title=\"Convert this dataframe to an interactive table.\"\n",
              "              style=\"display:none;\">\n",
              "        \n",
              "  <svg xmlns=\"http://www.w3.org/2000/svg\" height=\"24px\"viewBox=\"0 0 24 24\"\n",
              "       width=\"24px\">\n",
              "    <path d=\"M0 0h24v24H0V0z\" fill=\"none\"/>\n",
              "    <path d=\"M18.56 5.44l.94 2.06.94-2.06 2.06-.94-2.06-.94-.94-2.06-.94 2.06-2.06.94zm-11 1L8.5 8.5l.94-2.06 2.06-.94-2.06-.94L8.5 2.5l-.94 2.06-2.06.94zm10 10l.94 2.06.94-2.06 2.06-.94-2.06-.94-.94-2.06-.94 2.06-2.06.94z\"/><path d=\"M17.41 7.96l-1.37-1.37c-.4-.4-.92-.59-1.43-.59-.52 0-1.04.2-1.43.59L10.3 9.45l-7.72 7.72c-.78.78-.78 2.05 0 2.83L4 21.41c.39.39.9.59 1.41.59.51 0 1.02-.2 1.41-.59l7.78-7.78 2.81-2.81c.8-.78.8-2.07 0-2.86zM5.41 20L4 18.59l7.72-7.72 1.47 1.35L5.41 20z\"/>\n",
              "  </svg>\n",
              "      </button>\n",
              "      \n",
              "  <style>\n",
              "    .colab-df-container {\n",
              "      display:flex;\n",
              "      flex-wrap:wrap;\n",
              "      gap: 12px;\n",
              "    }\n",
              "\n",
              "    .colab-df-convert {\n",
              "      background-color: #E8F0FE;\n",
              "      border: none;\n",
              "      border-radius: 50%;\n",
              "      cursor: pointer;\n",
              "      display: none;\n",
              "      fill: #1967D2;\n",
              "      height: 32px;\n",
              "      padding: 0 0 0 0;\n",
              "      width: 32px;\n",
              "    }\n",
              "\n",
              "    .colab-df-convert:hover {\n",
              "      background-color: #E2EBFA;\n",
              "      box-shadow: 0px 1px 2px rgba(60, 64, 67, 0.3), 0px 1px 3px 1px rgba(60, 64, 67, 0.15);\n",
              "      fill: #174EA6;\n",
              "    }\n",
              "\n",
              "    [theme=dark] .colab-df-convert {\n",
              "      background-color: #3B4455;\n",
              "      fill: #D2E3FC;\n",
              "    }\n",
              "\n",
              "    [theme=dark] .colab-df-convert:hover {\n",
              "      background-color: #434B5C;\n",
              "      box-shadow: 0px 1px 3px 1px rgba(0, 0, 0, 0.15);\n",
              "      filter: drop-shadow(0px 1px 2px rgba(0, 0, 0, 0.3));\n",
              "      fill: #FFFFFF;\n",
              "    }\n",
              "  </style>\n",
              "\n",
              "      <script>\n",
              "        const buttonEl =\n",
              "          document.querySelector('#df-3d47c067-296f-403d-8a16-4f193262b4e5 button.colab-df-convert');\n",
              "        buttonEl.style.display =\n",
              "          google.colab.kernel.accessAllowed ? 'block' : 'none';\n",
              "\n",
              "        async function convertToInteractive(key) {\n",
              "          const element = document.querySelector('#df-3d47c067-296f-403d-8a16-4f193262b4e5');\n",
              "          const dataTable =\n",
              "            await google.colab.kernel.invokeFunction('convertToInteractive',\n",
              "                                                     [key], {});\n",
              "          if (!dataTable) return;\n",
              "\n",
              "          const docLinkHtml = 'Like what you see? Visit the ' +\n",
              "            '<a target=\"_blank\" href=https://colab.research.google.com/notebooks/data_table.ipynb>data table notebook</a>'\n",
              "            + ' to learn more about interactive tables.';\n",
              "          element.innerHTML = '';\n",
              "          dataTable['output_type'] = 'display_data';\n",
              "          await google.colab.output.renderOutput(dataTable, element);\n",
              "          const docLink = document.createElement('div');\n",
              "          docLink.innerHTML = docLinkHtml;\n",
              "          element.appendChild(docLink);\n",
              "        }\n",
              "      </script>\n",
              "    </div>\n",
              "  </div>\n",
              "  "
            ],
            "text/plain": [
              "                                               Input  \\\n",
              "0       I'd like to start by talking about prices .    \n",
              "1   Why ? Isn't it obvious ? First you impose way...   \n",
              "2  Those guys work at the same company and go to ...   \n",
              "3                               It must be locked .    \n",
              "4  Hey , Mary , nice to see you again . I heard y...   \n",
              "\n",
              "                                              Output  Label  \n",
              "0   I'd be glad to answer any questions you may h...      1  \n",
              "1   I'm very sorry for that , but I sent you seve...      1  \n",
              "2               Birds of a feather flock together .       1  \n",
              "3   Let me ask the old woman in that reception of...      1  \n",
              "4                         Where are you going now ?       0  "
            ]
          },
          "execution_count": 7,
          "metadata": {},
          "output_type": "execute_result"
        }
      ],
      "source": [
        "train_df.head()"
      ]
    },
    {
      "cell_type": "code",
      "execution_count": null,
      "metadata": {
        "id": "UWt_SDG_plv5"
      },
      "outputs": [],
      "source": [
        "train_input,train_output,train_label = cleaning_data(train_df)\n",
        "test_input,test_output,test_label = cleaning_data(test_df)\n",
        "valid_input, valid_output,valid_label = cleaning_data(valid_df)"
      ]
    },
    {
      "cell_type": "markdown",
      "metadata": {
        "id": "o9mVll1RqAqF"
      },
      "source": [
        "#**Q1**"
      ]
    },
    {
      "cell_type": "code",
      "execution_count": null,
      "metadata": {
        "id": "QNaMPi7lYgkz"
      },
      "outputs": [],
      "source": [
        "def bert_tokenize(tokenizer, input_data, output_data, labels):\n",
        "  input_ids=[]\n",
        "  attention_masks=[]\n",
        "\n",
        "  for (input, output) in zip(input_data, output_data):\n",
        "    bert_inp = tokenizer.encode_plus(input, output, add_special_tokens = True, max_length =64, pad_to_max_length = True, \n",
        "                                        return_attention_mask = True)\n",
        "    input_ids.append(bert_inp['input_ids'])\n",
        "    attention_masks.append(bert_inp['attention_mask'])\n",
        "\n",
        "  input_ids = np.asarray(input_ids)\n",
        "  attention_masks = np.array(attention_masks)\n",
        "  labels = np.array(labels)\n",
        "  return input_ids, attention_masks, labels"
      ]
    },
    {
      "cell_type": "code",
      "execution_count": null,
      "metadata": {
        "id": "5cKV_Acjw-GR"
      },
      "outputs": [],
      "source": [
        "bert_tokenizer = BertTokenizer.from_pretrained('bert-base-uncased')\n",
        "train_inp, train_mask, train_label = bert_tokenize(bert_tokenizer, train_input, train_output, train_label)\n",
        "test_inp, test_mask, test_label = bert_tokenize(bert_tokenizer, test_input, test_output, test_label)\n",
        "valid_inp, valid_mask, valid_label = bert_tokenize(bert_tokenizer, valid_input, valid_output, valid_label)"
      ]
    },
    {
      "cell_type": "code",
      "execution_count": null,
      "metadata": {
        "id": "EG6T4DrdG1-q"
      },
      "outputs": [],
      "source": [
        "def build_model():\n",
        "  SEQ_LEN = 64\n",
        "\n",
        "  bert = TFBertModel.from_pretrained('bert-base-uncased')\n",
        "\n",
        "  input_ids = tf.keras.layers.Input(shape=(SEQ_LEN,), name='input_ids', dtype='int32')\n",
        "  mask = tf.keras.layers.Input(shape=(SEQ_LEN,), name='attention_mask', dtype='int32')\n",
        "\n",
        "  embeddings = bert(input_ids, attention_mask=mask)[0]\n",
        "  X = tf.keras.layers.Lambda(lambda x: tf.keras.backend.mean(x, axis=1))(embeddings)\n",
        "  y = tf.keras.layers.Dense(1, activation='sigmoid', name='outputs')(X)\n",
        "\n",
        "  bert_model = tf.keras.Model(inputs=[input_ids, mask], outputs=y)\n",
        "  return bert_model"
      ]
    },
    {
      "cell_type": "code",
      "execution_count": null,
      "metadata": {
        "id": "mqnMFqzoG5up"
      },
      "outputs": [],
      "source": [
        "tf.keras.backend.clear_session()\n",
        "\n",
        "resolver = tf.distribute.cluster_resolver.TPUClusterResolver(tpu='grpc://' + os.environ['COLAB_TPU_ADDR'])\n",
        "tf.config.experimental_connect_to_cluster(resolver)\n",
        "tf.tpu.experimental.initialize_tpu_system(resolver)\n",
        "\n",
        "strategy = tf.distribute.experimental.TPUStrategy(resolver)"
      ]
    },
    {
      "cell_type": "code",
      "execution_count": null,
      "metadata": {
        "colab": {
          "base_uri": "https://localhost:8080/"
        },
        "id": "bMrzgyUhHanG",
        "outputId": "21b5eed3-a48a-4ec4-ef88-28f7721bc6d7"
      },
      "outputs": [
        {
          "name": "stderr",
          "output_type": "stream",
          "text": [
            "Some layers from the model checkpoint at bert-base-uncased were not used when initializing TFBertModel: ['mlm___cls', 'nsp___cls']\n",
            "- This IS expected if you are initializing TFBertModel from the checkpoint of a model trained on another task or with another architecture (e.g. initializing a BertForSequenceClassification model from a BertForPreTraining model).\n",
            "- This IS NOT expected if you are initializing TFBertModel from the checkpoint of a model that you expect to be exactly identical (initializing a BertForSequenceClassification model from a BertForSequenceClassification model).\n",
            "All the layers of TFBertModel were initialized from the model checkpoint at bert-base-uncased.\n",
            "If your task is similar to the task the model of the checkpoint was trained on, you can already use TFBertModel for predictions without further training.\n"
          ]
        },
        {
          "name": "stdout",
          "output_type": "stream",
          "text": [
            "Model: \"model_1\"\n",
            "__________________________________________________________________________________________________\n",
            " Layer (type)                   Output Shape         Param #     Connected to                     \n",
            "==================================================================================================\n",
            " input_ids (InputLayer)         [(None, 64)]         0           []                               \n",
            "                                                                                                  \n",
            " attention_mask (InputLayer)    [(None, 64)]         0           []                               \n",
            "                                                                                                  \n",
            " tf_bert_model_1 (TFBertModel)  TFBaseModelOutputWi  109482240   ['input_ids[0][0]',              \n",
            "                                thPoolingAndCrossAt               'attention_mask[0][0]']         \n",
            "                                tentions(last_hidde                                               \n",
            "                                n_state=(None, 64,                                                \n",
            "                                768),                                                             \n",
            "                                 pooler_output=(Non                                               \n",
            "                                e, 768),                                                          \n",
            "                                 past_key_values=No                                               \n",
            "                                ne, hidden_states=N                                               \n",
            "                                one, attentions=Non                                               \n",
            "                                e, cross_attentions                                               \n",
            "                                =None)                                                            \n",
            "                                                                                                  \n",
            " lambda_1 (Lambda)              (None, 768)          0           ['tf_bert_model_1[0][0]']        \n",
            "                                                                                                  \n",
            " outputs (Dense)                (None, 1)            769         ['lambda_1[0][0]']               \n",
            "                                                                                                  \n",
            "==================================================================================================\n",
            "Total params: 109,483,009\n",
            "Trainable params: 109,483,009\n",
            "Non-trainable params: 0\n",
            "__________________________________________________________________________________________________\n"
          ]
        }
      ],
      "source": [
        "with strategy.scope():\n",
        "  bert_model = build_model()\n",
        "  optimizer = tf.keras.optimizers.Adam(learning_rate=2e-5,epsilon=1e-08)\n",
        "\n",
        "  bert_model.compile(optimizer=optimizer,\n",
        "              loss='binary_crossentropy',\n",
        "              metrics=['accuracy'])\n",
        "\n",
        "  bert_model.summary()"
      ]
    },
    {
      "cell_type": "code",
      "execution_count": null,
      "metadata": {
        "id": "Y7nv2Dp00Vgn"
      },
      "outputs": [],
      "source": [
        "cp_callback = ModelCheckpoint('/content/drive/MyDrive/bert-{epoch:03d}--{val_accuracy:03f}.h5', \n",
        "                             verbose=1, monitor='val_accuracy',save_best_only=True, \n",
        "                             save_weights_only=True, mode='max') "
      ]
    },
    {
      "cell_type": "code",
      "execution_count": null,
      "metadata": {
        "colab": {
          "base_uri": "https://localhost:8080/"
        },
        "id": "psfYCcfc03vZ",
        "outputId": "7f85290f-64f4-458f-bcb7-a1a24598fbae"
      },
      "outputs": [
        {
          "name": "stdout",
          "output_type": "stream",
          "text": [
            "Epoch 1/7\n",
            "WARNING:tensorflow:Gradients do not exist for variables ['tf_bert_model_1/bert/pooler/dense/kernel:0', 'tf_bert_model_1/bert/pooler/dense/bias:0'] when minimizing the loss. If you're using `model.compile()`, did you forget to provide a `loss`argument?\n"
          ]
        },
        {
          "name": "stderr",
          "output_type": "stream",
          "text": [
            "WARNING:tensorflow:Gradients do not exist for variables ['tf_bert_model_1/bert/pooler/dense/kernel:0', 'tf_bert_model_1/bert/pooler/dense/bias:0'] when minimizing the loss. If you're using `model.compile()`, did you forget to provide a `loss`argument?\n"
          ]
        },
        {
          "name": "stdout",
          "output_type": "stream",
          "text": [
            "WARNING:tensorflow:Gradients do not exist for variables ['tf_bert_model_1/bert/pooler/dense/kernel:0', 'tf_bert_model_1/bert/pooler/dense/bias:0'] when minimizing the loss. If you're using `model.compile()`, did you forget to provide a `loss`argument?\n"
          ]
        },
        {
          "name": "stderr",
          "output_type": "stream",
          "text": [
            "WARNING:tensorflow:Gradients do not exist for variables ['tf_bert_model_1/bert/pooler/dense/kernel:0', 'tf_bert_model_1/bert/pooler/dense/bias:0'] when minimizing the loss. If you're using `model.compile()`, did you forget to provide a `loss`argument?\n"
          ]
        },
        {
          "name": "stdout",
          "output_type": "stream",
          "text": [
            "4754/4754 [==============================] - ETA: 0s - loss: 0.3596 - accuracy: 0.8314\n",
            "Epoch 1: val_accuracy improved from -inf to 0.87841, saving model to /content/drive/MyDrive/HW-07/RahaAhmadi-bert-001--0.878413.h5\n",
            "4754/4754 [==============================] - 487s 84ms/step - loss: 0.3596 - accuracy: 0.8314 - val_loss: 0.2836 - val_accuracy: 0.8784\n",
            "Epoch 2/7\n",
            "4754/4754 [==============================] - ETA: 0s - loss: 0.2017 - accuracy: 0.9174\n",
            "Epoch 2: val_accuracy improved from 0.87841 to 0.88938, saving model to /content/drive/MyDrive/HW-07/RahaAhmadi-bert-002--0.889376.h5\n",
            "4754/4754 [==============================] - 345s 73ms/step - loss: 0.2017 - accuracy: 0.9174 - val_loss: 0.2759 - val_accuracy: 0.8894\n",
            "Epoch 3/7\n",
            "4754/4754 [==============================] - ETA: 0s - loss: 0.1141 - accuracy: 0.9554\n",
            "Epoch 3: val_accuracy did not improve from 0.88938\n",
            "4754/4754 [==============================] - 344s 72ms/step - loss: 0.1141 - accuracy: 0.9554 - val_loss: 0.3442 - val_accuracy: 0.8851\n",
            "Epoch 4/7\n",
            "4754/4754 [==============================] - ETA: 0s - loss: 0.0736 - accuracy: 0.9725\n",
            "Epoch 4: val_accuracy did not improve from 0.88938\n",
            "4754/4754 [==============================] - 339s 71ms/step - loss: 0.0736 - accuracy: 0.9725 - val_loss: 0.3976 - val_accuracy: 0.8860\n",
            "Epoch 5/7\n",
            "4754/4754 [==============================] - ETA: 0s - loss: 0.0525 - accuracy: 0.9809\n",
            "Epoch 5: val_accuracy did not improve from 0.88938\n",
            "4754/4754 [==============================] - 341s 72ms/step - loss: 0.0525 - accuracy: 0.9809 - val_loss: 0.4675 - val_accuracy: 0.8880\n",
            "Epoch 6/7\n",
            "4754/4754 [==============================] - ETA: 0s - loss: 0.0426 - accuracy: 0.9847\n",
            "Epoch 6: val_accuracy did not improve from 0.88938\n",
            "4754/4754 [==============================] - 340s 71ms/step - loss: 0.0426 - accuracy: 0.9847 - val_loss: 0.4769 - val_accuracy: 0.8881\n",
            "Epoch 7/7\n",
            "4754/4754 [==============================] - ETA: 0s - loss: 0.0360 - accuracy: 0.9871\n",
            "Epoch 7: val_accuracy did not improve from 0.88938\n",
            "4754/4754 [==============================] - 341s 72ms/step - loss: 0.0360 - accuracy: 0.9871 - val_loss: 0.4293 - val_accuracy: 0.8844\n"
          ]
        }
      ],
      "source": [
        "batch_size = 32\n",
        "epoches = 7\n",
        "history = bert_model.fit([train_inp, train_mask], train_label,\n",
        "                       batch_size = batch_size,\n",
        "                       epochs = epoches,\n",
        "                       steps_per_epoch = int(np.ceil(train_inp.shape[0] / batch_size)),\n",
        "                       validation_data = ([valid_inp, valid_mask],valid_label),\n",
        "                       callbacks=[cp_callback])"
      ]
    },
    {
      "cell_type": "code",
      "execution_count": null,
      "metadata": {
        "id": "mSfpfruv1L-M"
      },
      "outputs": [],
      "source": [
        "plt.style.use('ggplot')\n",
        "\n",
        "def plot_history(history):\n",
        "    acc = history.history['accuracy']\n",
        "    val_acc = history.history['val_accuracy']\n",
        "    loss = history.history['loss']\n",
        "    val_loss = history.history['val_loss']\n",
        "    x = range(1, len(acc) + 1)\n",
        "\n",
        "    plt.figure(figsize=(12, 5))\n",
        "    plt.subplot(1, 2, 1)\n",
        "    plt.plot(x, acc, 'b', label='Training acc')\n",
        "    plt.plot(x, val_acc, 'r', label='Validation acc')\n",
        "    plt.title('Training and validation accuracy')\n",
        "    plt.legend()\n",
        "    plt.subplot(1, 2, 2)\n",
        "    plt.plot(x, loss, 'b', label='Training loss')\n",
        "    plt.plot(x, val_loss, 'r', label='Validation loss')\n",
        "    plt.title('Training and validation loss')\n",
        "    plt.legend()"
      ]
    },
    {
      "cell_type": "code",
      "execution_count": null,
      "metadata": {
        "colab": {
          "base_uri": "https://localhost:8080/",
          "height": 337
        },
        "id": "Wf0HJPwG1VwX",
        "outputId": "4b3edf50-b604-4a75-c90f-46723a0987f8"
      },
      "outputs": [
        {
          "data": {
            "image/png": "[encoded data removed]",
            "text/plain": [
              "<Figure size 864x360 with 2 Axes>"
            ]
          },
          "metadata": {},
          "output_type": "display_data"
        }
      ],
      "source": [
        "plot_history(history)"
      ]
    },
    {
      "cell_type": "code",
      "execution_count": null,
      "metadata": {
        "id": "-y0uyVl8joAY"
      },
      "outputs": [],
      "source": [
        "bert_model.load_weights('bert-002--0.889376.h5')"
      ]
    },
    {
      "cell_type": "code",
      "execution_count": null,
      "metadata": {
        "colab": {
          "base_uri": "https://localhost:8080/"
        },
        "id": "Lz9e-P0RZaSE",
        "outputId": "3d37134c-e7be-4b5c-b511-ce19d05618e9"
      },
      "outputs": [
        {
          "name": "stdout",
          "output_type": "stream",
          "text": [
            "422/422 [==============================] - 11s 25ms/step - loss: 0.2673 - accuracy: 0.8887\n"
          ]
        },
        {
          "data": {
            "text/plain": [
              "[0.2672504782676697, 0.8887240290641785]"
            ]
          },
          "execution_count": 29,
          "metadata": {},
          "output_type": "execute_result"
        }
      ],
      "source": [
        "bert_model.evaluate([test_inp, test_mask], test_label)"
      ]
    },
    {
      "cell_type": "code",
      "execution_count": null,
      "metadata": {
        "id": "FSivG6ItkAU_"
      },
      "outputs": [],
      "source": [
        "preds = bert_model.predict([test_inp, test_mask])"
      ]
    },
    {
      "cell_type": "code",
      "execution_count": null,
      "metadata": {
        "id": "jWe6NhKrkQh5"
      },
      "outputs": [],
      "source": [
        "label_pred = np.where(preds > 0.5, 1, 0)"
      ]
    },
    {
      "cell_type": "code",
      "execution_count": null,
      "metadata": {
        "colab": {
          "base_uri": "https://localhost:8080/"
        },
        "id": "xEZkUnoxkdoc",
        "outputId": "10b6438f-7725-4443-a799-4cc65acf8d8e"
      },
      "outputs": [
        {
          "name": "stdout",
          "output_type": "stream",
          "text": [
            "Number of true prediction:  11980\n",
            "Number of false prediction:  1500\n",
            "accuracy:  0.8887240356083086\n"
          ]
        }
      ],
      "source": [
        "count = 0\n",
        "for i in range(len(test_label)):\n",
        "  if label_pred[i][0] == test_label[i]:\n",
        "    count += 1\n",
        "\n",
        "accuracy = count / test_label.shape[0]\n",
        "print('Number of true prediction: ', count)\n",
        "print('Number of false prediction: ', test_label.shape[0] - count)\n",
        "print('accuracy: ', accuracy)"
      ]
    },
    {
      "cell_type": "markdown",
      "metadata": {
        "id": "euitcISGlbdq"
      },
      "source": [
        "#**Q2**"
      ]
    },
    {
      "cell_type": "code",
      "execution_count": null,
      "metadata": {
        "id": "sT48qCTRlCG7"
      },
      "outputs": [],
      "source": [
        "inputs = ['what do you do for your weekend?',\n",
        "          'i am not quite sure yet . i like to go shopping .',\n",
        "          'well , i am not sure what you are doing .',\n",
        "          'i am not sure . i am not quite sure yet .',\n",
        "          'well , i am not sure if you are interested , you would not have been fired .',\n",
        "          'i am sorry , but i cannot . i have got a sore throat .',\n",
        "          'oh , i see . but i have never been here before . i have been looking for a long time . it is really a nice neighborhood here .',\n",
        "          'i really appreciate your help .',\n",
        "          'thank you . i really appreciate your help .',\n",
        "          'you are welcome . i hope you will enjoy your rest and hope to make up .']\n",
        "\n",
        "outputs = ['i am not quite sure yet . i like to go shopping .',\n",
        "           'well , i am not sure what you are doing .',\n",
        "           'i am not sure . i am not quite sure yet .',\n",
        "           'well , i am not sure if you are interested , you would not have been fired .',\n",
        "           'i am sorry , but i cannot . i have got a sore throat .',\n",
        "           'oh , i see . but i have never been here before . i have been looking for a long time . it is really a nice neighborhood here .',\n",
        "           'i really appreciate your help .',\n",
        "           'thank you . i really appreciate your help .',\n",
        "           'you are welcome . i hope you will enjoy your rest and hope to make up .',\n",
        "           'thank you . i will try to keep it to my li .']"
      ]
    },
    {
      "cell_type": "code",
      "execution_count": null,
      "metadata": {
        "colab": {
          "base_uri": "https://localhost:8080/"
        },
        "id": "48GaqFyVlc_D",
        "outputId": "792dcfa4-1846-48bf-e68a-59c5d4223016"
      },
      "outputs": [
        {
          "name": "stderr",
          "output_type": "stream",
          "text": [
            "/usr/local/lib/python3.7/dist-packages/transformers/tokenization_utils_base.py:2269: FutureWarning: The `pad_to_max_length` argument is deprecated and will be removed in a future version, use `padding=True` or `padding='longest'` to pad to the longest sequence in the batch, or use `padding='max_length'` to pad to a max length. In this case, you can give a specific length with `max_length` (e.g. `max_length=45`) or leave max_length to None to pad to the maximal input size of the model (e.g. 512 for Bert).\n",
            "  FutureWarning,\n"
          ]
        },
        {
          "name": "stdout",
          "output_type": "stream",
          "text": [
            "what do you do for your weekend?\n",
            "i am not quite sure yet . i like to go shopping .\n",
            "IsNext.\n",
            "i am not quite sure yet . i like to go shopping .\n",
            "well , i am not sure what you are doing .\n",
            "IsNext.\n",
            "well , i am not sure what you are doing .\n",
            "i am not sure . i am not quite sure yet .\n",
            "IsNext.\n",
            "i am not sure . i am not quite sure yet .\n",
            "well , i am not sure if you are interested , you would not have been fired .\n",
            "IsNext.\n",
            "well , i am not sure if you are interested , you would not have been fired .\n",
            "i am sorry , but i cannot . i have got a sore throat .\n",
            "NotNext.\n",
            "i am sorry , but i cannot . i have got a sore throat .\n",
            "oh , i see . but i have never been here before . i have been looking for a long time . it is really a nice neighborhood here .\n",
            "NotNext.\n",
            "oh , i see . but i have never been here before . i have been looking for a long time . it is really a nice neighborhood here .\n",
            "i really appreciate your help .\n",
            "IsNext.\n",
            "i really appreciate your help .\n",
            "thank you . i really appreciate your help .\n",
            "IsNext.\n",
            "thank you . i really appreciate your help .\n",
            "you are welcome . i hope you will enjoy your rest and hope to make up .\n",
            "IsNext.\n",
            "you are welcome . i hope you will enjoy your rest and hope to make up .\n",
            "thank you . i will try to keep it to my li .\n",
            "IsNext.\n"
          ]
        }
      ],
      "source": [
        "for (input, output) in zip(inputs, outputs):\n",
        "  inp, mask, _ = bert_tokenize(bert_tokenizer, [input], [output], [])\n",
        "  pred = bert_model.predict([inp, mask])\n",
        "  is_next = np.where(pred > 0.5, 1, 0)[0][0]\n",
        "  print(input)\n",
        "  print(output)\n",
        "  if is_next:\n",
        "    print('IsNext.')\n",
        "  else:\n",
        "    print('NotNext.')"
      ]
    },
    {
      "cell_type": "markdown",
      "metadata": {
        "id": "pLDdDqxTltOe"
      },
      "source": [
        "#**Q3**"
      ]
    },
    {
      "cell_type": "code",
      "execution_count": null,
      "metadata": {
        "id": "NTFMc6GGlhBm"
      },
      "outputs": [],
      "source": [
        "inputs = ['how are you?',\n",
        "          'what do you want to eat?',\n",
        "          'what is your favorite color?',\n",
        "          'what is your favorite color?',\n",
        "          'Where have you been?',\n",
        "          'Do you consider yourself a good mother?',\n",
        "          'I have two nice sisters.']\n",
        "\n",
        "outputs = ['Well, I love going to the cinema.',\n",
        "           'I want to drink coffee.',\n",
        "           'study.',\n",
        "           'pink.',\n",
        "           'i lived in England when i was at the conference . i always wanted to go out dancing.',\n",
        "           'Yes , I am a very good mother and successful career woman.',\n",
        "           'Is he very understanding and supportive?']"
      ]
    },
    {
      "cell_type": "code",
      "execution_count": null,
      "metadata": {
        "colab": {
          "base_uri": "https://localhost:8080/"
        },
        "id": "lgmgl7D2mtQn",
        "outputId": "ea1348a9-0992-4007-e2ec-f9e7f3bb600c"
      },
      "outputs": [
        {
          "name": "stderr",
          "output_type": "stream",
          "text": [
            "/usr/local/lib/python3.7/dist-packages/transformers/tokenization_utils_base.py:2269: FutureWarning: The `pad_to_max_length` argument is deprecated and will be removed in a future version, use `padding=True` or `padding='longest'` to pad to the longest sequence in the batch, or use `padding='max_length'` to pad to a max length. In this case, you can give a specific length with `max_length` (e.g. `max_length=45`) or leave max_length to None to pad to the maximal input size of the model (e.g. 512 for Bert).\n",
            "  FutureWarning,\n"
          ]
        },
        {
          "name": "stdout",
          "output_type": "stream",
          "text": [
            "how are you?\n",
            "Well, I love going to the cinema.\n",
            "NotNext.\n",
            "what do you want to eat?\n",
            "I want to drink coffee.\n",
            "IsNext.\n",
            "what is your favorite color?\n",
            "study.\n",
            "NotNext.\n",
            "what is your favorite color?\n",
            "pink.\n",
            "IsNext.\n",
            "Where have you been?\n",
            "i lived in England when i was at the conference . i always wanted to go out dancing.\n",
            "IsNext.\n",
            "Do you consider yourself a good mother?\n",
            "Yes , I am a very good mother and successful career woman.\n",
            "IsNext.\n",
            "I have two nice sisters.\n",
            "Is he very understanding and supportive?\n",
            "NotNext.\n"
          ]
        }
      ],
      "source": [
        "for (input, output) in zip(inputs, outputs):\n",
        "  inp, mask, _ = bert_tokenize(bert_tokenizer, [input], [output], [])\n",
        "  pred = bert_model.predict([inp, mask])\n",
        "  is_next = np.where(pred > 0.5, 1, 0)[0][0]\n",
        "  print(input)\n",
        "  print(output)\n",
        "  if is_next:\n",
        "    print('IsNext.')\n",
        "  else:\n",
        "    print('NotNext.')"
      ]
    },
    {
      "cell_type": "markdown",
      "metadata": {
        "id": "R1xFX8crm9VI"
      },
      "source": [
        "#**Q4**"
      ]
    },
    {
      "cell_type": "code",
      "execution_count": null,
      "metadata": {
        "colab": {
          "base_uri": "https://localhost:8080/"
        },
        "id": "aDPfPlRCmwWO",
        "outputId": "0f850fd2-5c84-47a4-92cb-ed501263311e"
      },
      "outputs": [
        {
          "name": "stdout",
          "output_type": "stream",
          "text": [
            "/usr/local/lib/python3.7/dist-packages/gdown/cli.py:131: FutureWarning: Option `--id` was deprecated in version 4.3.1 and will be removed in 5.0. You don't need to pass it anymore to use a file ID.\n",
            "  category=FutureWarning,\n",
            "Downloading...\n",
            "From: https://drive.google.com/uc?id=1TtUSvIUjIF7mz49ZVTw7lt2fXQ726vaa\n",
            "To: /content/SearchSpace.txt\n",
            "100% 4.32M/4.32M [00:00<00:00, 174MB/s]\n"
          ]
        }
      ],
      "source": [
        "!gdown 1TtUSvIUjIF7mz49ZVTw7lt2fXQ726vaa"
      ]
    },
    {
      "cell_type": "code",
      "execution_count": null,
      "metadata": {
        "id": "6CDHsvdNnAiI"
      },
      "outputs": [],
      "source": [
        "data = []\n",
        "with open('SearchSpace.txt') as f:\n",
        "    for line in f:\n",
        "      data.append(line.strip())"
      ]
    },
    {
      "cell_type": "code",
      "execution_count": null,
      "metadata": {
        "id": "jXN-Nw9Untqr"
      },
      "outputs": [],
      "source": [
        "result = []\n",
        "for input in inputs:\n",
        "  res = {}\n",
        "  # only first 2000\n",
        "  for output in data[:2000]:\n",
        "    inp, mask, _ = bert_tokenize(bert_tokenizer, [input], [output], [])\n",
        "    pred = bert_model.predict([inp, mask])\n",
        "    res[output] = pred[0][0]\n",
        "  best_pred = max(res, key=res.get)\n",
        "  result.append((input, best_pred, res[best_pred]))\n"
      ]
    },
    {
      "cell_type": "code",
      "execution_count": null,
      "metadata": {
        "colab": {
          "base_uri": "https://localhost:8080/"
        },
        "id": "rszj973MoImJ",
        "outputId": "0350a084-1c87-49ea-a246-6e2ad30f3130"
      },
      "outputs": [
        {
          "name": "stdout",
          "output_type": "stream",
          "text": [
            "input:  how are you?\n",
            "output:  Just fine , thanks.And you ?\n",
            "score:  0.9984804\n",
            "input:  what do you want to eat?\n",
            "output:  I don't know what I want to eat .\n",
            "score:  0.9983571\n",
            "input:  what is your favorite color?\n",
            "output:  What kind of color tones do you like ?\n",
            "score:  0.9986859\n",
            "input:  what is your favorite color?\n",
            "output:  What kind of color tones do you like ?\n",
            "score:  0.9986859\n",
            "input:  Where have you been?\n",
            "output:  I went to the library and lost my bag .\n",
            "score:  0.9964567\n",
            "input:  Do you consider yourself a good mother?\n",
            "output:  Not at all , but we don ’ t have a very traditional marriage either , so it suited us perfectly !\n",
            "score:  0.9931359\n",
            "input:  I have two nice sisters.\n",
            "output:  What about your sister ?\n",
            "score:  0.9988494\n"
          ]
        }
      ],
      "source": [
        "for x in result:\n",
        "  print('input: ', x[0])\n",
        "  print('output: ', x[1])\n",
        "  print('score: ', x[2])"
      ]
    }
  ],
  "metadata": {
    "accelerator": "TPU",
    "colab": {
      "collapsed_sections": [],
      "provenance": []
    },
    "kernelspec": {
      "display_name": "Python 3.9.4 64-bit",
      "language": "python",
      "name": "python3"
    },
    "language_info": {
      "name": "python",
      "version": "3.9.4"
    },
    "vscode": {
      "interpreter": {
        "hash": "7812ea015bdcee6f23a998adcdd2ef97c151c0c241b7b7070987d9313e41299d"
      }
    }
  },
  "nbformat": 4,
  "nbformat_minor": 0
}