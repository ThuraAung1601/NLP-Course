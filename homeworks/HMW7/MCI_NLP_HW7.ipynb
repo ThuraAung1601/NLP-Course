{
  "nbformat": 4,
  "nbformat_minor": 0,
  "metadata": {
    "colab": {
      "name": "MCI NLP HW7.ipynb",
      "provenance": [],
      "collapsed_sections": []
    },
    "kernelspec": {
      "name": "python3",
      "display_name": "Python 3"
    },
    "language_info": {
      "name": "python"
    },
    "accelerator": "TPU",
    "widgets": {
      "application/vnd.jupyter.widget-state+json": {
        "d33ce7e9358844a2a0dea4cb221938eb": {
          "model_module": "@jupyter-widgets/controls",
          "model_name": "HBoxModel",
          "model_module_version": "1.5.0",
          "state": {
            "_view_name": "HBoxView",
            "_dom_classes": [],
            "_model_name": "HBoxModel",
            "_view_module": "@jupyter-widgets/controls",
            "_model_module_version": "1.5.0",
            "_view_count": null,
            "_view_module_version": "1.5.0",
            "box_style": "",
            "layout": "IPY_MODEL_ac64b006757545329d55c2e8aa5ad11e",
            "_model_module": "@jupyter-widgets/controls",
            "children": [
              "IPY_MODEL_2a2fcaa90a404b47bd4d51d0a144f8e7",
              "IPY_MODEL_1df5f24f79a64b559650076360fe0040",
              "IPY_MODEL_cb8cd895ac7d492593504b745a62db18"
            ]
          }
        },
        "ac64b006757545329d55c2e8aa5ad11e": {
          "model_module": "@jupyter-widgets/base",
          "model_name": "LayoutModel",
          "model_module_version": "1.2.0",
          "state": {
            "_view_name": "LayoutView",
            "grid_template_rows": null,
            "right": null,
            "justify_content": null,
            "_view_module": "@jupyter-widgets/base",
            "overflow": null,
            "_model_module_version": "1.2.0",
            "_view_count": null,
            "flex_flow": null,
            "width": null,
            "min_width": null,
            "border": null,
            "align_items": null,
            "bottom": null,
            "_model_module": "@jupyter-widgets/base",
            "top": null,
            "grid_column": null,
            "overflow_y": null,
            "overflow_x": null,
            "grid_auto_flow": null,
            "grid_area": null,
            "grid_template_columns": null,
            "flex": null,
            "_model_name": "LayoutModel",
            "justify_items": null,
            "grid_row": null,
            "max_height": null,
            "align_content": null,
            "visibility": null,
            "align_self": null,
            "height": null,
            "min_height": null,
            "padding": null,
            "grid_auto_rows": null,
            "grid_gap": null,
            "max_width": null,
            "order": null,
            "_view_module_version": "1.2.0",
            "grid_template_areas": null,
            "object_position": null,
            "object_fit": null,
            "grid_auto_columns": null,
            "margin": null,
            "display": null,
            "left": null
          }
        },
        "2a2fcaa90a404b47bd4d51d0a144f8e7": {
          "model_module": "@jupyter-widgets/controls",
          "model_name": "HTMLModel",
          "model_module_version": "1.5.0",
          "state": {
            "_view_name": "HTMLView",
            "style": "IPY_MODEL_e0326c2a625e47f9b42e089b0c7092b9",
            "_dom_classes": [],
            "description": "",
            "_model_name": "HTMLModel",
            "placeholder": "​",
            "_view_module": "@jupyter-widgets/controls",
            "_model_module_version": "1.5.0",
            "value": "Downloading: 100%",
            "_view_count": null,
            "_view_module_version": "1.5.0",
            "description_tooltip": null,
            "_model_module": "@jupyter-widgets/controls",
            "layout": "IPY_MODEL_bfb92b153efc41008f5cd95452d2287a"
          }
        },
        "1df5f24f79a64b559650076360fe0040": {
          "model_module": "@jupyter-widgets/controls",
          "model_name": "FloatProgressModel",
          "model_module_version": "1.5.0",
          "state": {
            "_view_name": "ProgressView",
            "style": "IPY_MODEL_549e528d1fe84047aa97a5d3b2f774ba",
            "_dom_classes": [],
            "description": "",
            "_model_name": "FloatProgressModel",
            "bar_style": "success",
            "max": 28,
            "_view_module": "@jupyter-widgets/controls",
            "_model_module_version": "1.5.0",
            "value": 28,
            "_view_count": null,
            "_view_module_version": "1.5.0",
            "orientation": "horizontal",
            "min": 0,
            "description_tooltip": null,
            "_model_module": "@jupyter-widgets/controls",
            "layout": "IPY_MODEL_28298142d22a4f48be1c72ed7d87aa68"
          }
        },
        "cb8cd895ac7d492593504b745a62db18": {
          "model_module": "@jupyter-widgets/controls",
          "model_name": "HTMLModel",
          "model_module_version": "1.5.0",
          "state": {
            "_view_name": "HTMLView",
            "style": "IPY_MODEL_b6baf736d8e04d6d9548a5e5f7b829b0",
            "_dom_classes": [],
            "description": "",
            "_model_name": "HTMLModel",
            "placeholder": "​",
            "_view_module": "@jupyter-widgets/controls",
            "_model_module_version": "1.5.0",
            "value": " 28.0/28.0 [00:00&lt;00:00, 645B/s]",
            "_view_count": null,
            "_view_module_version": "1.5.0",
            "description_tooltip": null,
            "_model_module": "@jupyter-widgets/controls",
            "layout": "IPY_MODEL_0f082406a2954a2588ec9b3ceff9c275"
          }
        },
        "e0326c2a625e47f9b42e089b0c7092b9": {
          "model_module": "@jupyter-widgets/controls",
          "model_name": "DescriptionStyleModel",
          "model_module_version": "1.5.0",
          "state": {
            "_view_name": "StyleView",
            "_model_name": "DescriptionStyleModel",
            "description_width": "",
            "_view_module": "@jupyter-widgets/base",
            "_model_module_version": "1.5.0",
            "_view_count": null,
            "_view_module_version": "1.2.0",
            "_model_module": "@jupyter-widgets/controls"
          }
        },
        "bfb92b153efc41008f5cd95452d2287a": {
          "model_module": "@jupyter-widgets/base",
          "model_name": "LayoutModel",
          "model_module_version": "1.2.0",
          "state": {
            "_view_name": "LayoutView",
            "grid_template_rows": null,
            "right": null,
            "justify_content": null,
            "_view_module": "@jupyter-widgets/base",
            "overflow": null,
            "_model_module_version": "1.2.0",
            "_view_count": null,
            "flex_flow": null,
            "width": null,
            "min_width": null,
            "border": null,
            "align_items": null,
            "bottom": null,
            "_model_module": "@jupyter-widgets/base",
            "top": null,
            "grid_column": null,
            "overflow_y": null,
            "overflow_x": null,
            "grid_auto_flow": null,
            "grid_area": null,
            "grid_template_columns": null,
            "flex": null,
            "_model_name": "LayoutModel",
            "justify_items": null,
            "grid_row": null,
            "max_height": null,
            "align_content": null,
            "visibility": null,
            "align_self": null,
            "height": null,
            "min_height": null,
            "padding": null,
            "grid_auto_rows": null,
            "grid_gap": null,
            "max_width": null,
            "order": null,
            "_view_module_version": "1.2.0",
            "grid_template_areas": null,
            "object_position": null,
            "object_fit": null,
            "grid_auto_columns": null,
            "margin": null,
            "display": null,
            "left": null
          }
        },
        "549e528d1fe84047aa97a5d3b2f774ba": {
          "model_module": "@jupyter-widgets/controls",
          "model_name": "ProgressStyleModel",
          "model_module_version": "1.5.0",
          "state": {
            "_view_name": "StyleView",
            "_model_name": "ProgressStyleModel",
            "description_width": "",
            "_view_module": "@jupyter-widgets/base",
            "_model_module_version": "1.5.0",
            "_view_count": null,
            "_view_module_version": "1.2.0",
            "bar_color": null,
            "_model_module": "@jupyter-widgets/controls"
          }
        },
        "28298142d22a4f48be1c72ed7d87aa68": {
          "model_module": "@jupyter-widgets/base",
          "model_name": "LayoutModel",
          "model_module_version": "1.2.0",
          "state": {
            "_view_name": "LayoutView",
            "grid_template_rows": null,
            "right": null,
            "justify_content": null,
            "_view_module": "@jupyter-widgets/base",
            "overflow": null,
            "_model_module_version": "1.2.0",
            "_view_count": null,
            "flex_flow": null,
            "width": null,
            "min_width": null,
            "border": null,
            "align_items": null,
            "bottom": null,
            "_model_module": "@jupyter-widgets/base",
            "top": null,
            "grid_column": null,
            "overflow_y": null,
            "overflow_x": null,
            "grid_auto_flow": null,
            "grid_area": null,
            "grid_template_columns": null,
            "flex": null,
            "_model_name": "LayoutModel",
            "justify_items": null,
            "grid_row": null,
            "max_height": null,
            "align_content": null,
            "visibility": null,
            "align_self": null,
            "height": null,
            "min_height": null,
            "padding": null,
            "grid_auto_rows": null,
            "grid_gap": null,
            "max_width": null,
            "order": null,
            "_view_module_version": "1.2.0",
            "grid_template_areas": null,
            "object_position": null,
            "object_fit": null,
            "grid_auto_columns": null,
            "margin": null,
            "display": null,
            "left": null
          }
        },
        "b6baf736d8e04d6d9548a5e5f7b829b0": {
          "model_module": "@jupyter-widgets/controls",
          "model_name": "DescriptionStyleModel",
          "model_module_version": "1.5.0",
          "state": {
            "_view_name": "StyleView",
            "_model_name": "DescriptionStyleModel",
            "description_width": "",
            "_view_module": "@jupyter-widgets/base",
            "_model_module_version": "1.5.0",
            "_view_count": null,
            "_view_module_version": "1.2.0",
            "_model_module": "@jupyter-widgets/controls"
          }
        },
        "0f082406a2954a2588ec9b3ceff9c275": {
          "model_module": "@jupyter-widgets/base",
          "model_name": "LayoutModel",
          "model_module_version": "1.2.0",
          "state": {
            "_view_name": "LayoutView",
            "grid_template_rows": null,
            "right": null,
            "justify_content": null,
            "_view_module": "@jupyter-widgets/base",
            "overflow": null,
            "_model_module_version": "1.2.0",
            "_view_count": null,
            "flex_flow": null,
            "width": null,
            "min_width": null,
            "border": null,
            "align_items": null,
            "bottom": null,
            "_model_module": "@jupyter-widgets/base",
            "top": null,
            "grid_column": null,
            "overflow_y": null,
            "overflow_x": null,
            "grid_auto_flow": null,
            "grid_area": null,
            "grid_template_columns": null,
            "flex": null,
            "_model_name": "LayoutModel",
            "justify_items": null,
            "grid_row": null,
            "max_height": null,
            "align_content": null,
            "visibility": null,
            "align_self": null,
            "height": null,
            "min_height": null,
            "padding": null,
            "grid_auto_rows": null,
            "grid_gap": null,
            "max_width": null,
            "order": null,
            "_view_module_version": "1.2.0",
            "grid_template_areas": null,
            "object_position": null,
            "object_fit": null,
            "grid_auto_columns": null,
            "margin": null,
            "display": null,
            "left": null
          }
        },
        "c0494dec332447e68ec302d3fac07c95": {
          "model_module": "@jupyter-widgets/controls",
          "model_name": "HBoxModel",
          "model_module_version": "1.5.0",
          "state": {
            "_view_name": "HBoxView",
            "_dom_classes": [],
            "_model_name": "HBoxModel",
            "_view_module": "@jupyter-widgets/controls",
            "_model_module_version": "1.5.0",
            "_view_count": null,
            "_view_module_version": "1.5.0",
            "box_style": "",
            "layout": "IPY_MODEL_e111033faaa04de385e11c56bdf6d92a",
            "_model_module": "@jupyter-widgets/controls",
            "children": [
              "IPY_MODEL_b947c82695c6482188f3c85f4a2116e0",
              "IPY_MODEL_39011f4ac94d433a84b361f162afca38",
              "IPY_MODEL_85d090fa92d14dafb0323ad0b89accd0"
            ]
          }
        },
        "e111033faaa04de385e11c56bdf6d92a": {
          "model_module": "@jupyter-widgets/base",
          "model_name": "LayoutModel",
          "model_module_version": "1.2.0",
          "state": {
            "_view_name": "LayoutView",
            "grid_template_rows": null,
            "right": null,
            "justify_content": null,
            "_view_module": "@jupyter-widgets/base",
            "overflow": null,
            "_model_module_version": "1.2.0",
            "_view_count": null,
            "flex_flow": null,
            "width": null,
            "min_width": null,
            "border": null,
            "align_items": null,
            "bottom": null,
            "_model_module": "@jupyter-widgets/base",
            "top": null,
            "grid_column": null,
            "overflow_y": null,
            "overflow_x": null,
            "grid_auto_flow": null,
            "grid_area": null,
            "grid_template_columns": null,
            "flex": null,
            "_model_name": "LayoutModel",
            "justify_items": null,
            "grid_row": null,
            "max_height": null,
            "align_content": null,
            "visibility": null,
            "align_self": null,
            "height": null,
            "min_height": null,
            "padding": null,
            "grid_auto_rows": null,
            "grid_gap": null,
            "max_width": null,
            "order": null,
            "_view_module_version": "1.2.0",
            "grid_template_areas": null,
            "object_position": null,
            "object_fit": null,
            "grid_auto_columns": null,
            "margin": null,
            "display": null,
            "left": null
          }
        },
        "b947c82695c6482188f3c85f4a2116e0": {
          "model_module": "@jupyter-widgets/controls",
          "model_name": "HTMLModel",
          "model_module_version": "1.5.0",
          "state": {
            "_view_name": "HTMLView",
            "style": "IPY_MODEL_c81f3f23411b4da0b57f4d458992af4b",
            "_dom_classes": [],
            "description": "",
            "_model_name": "HTMLModel",
            "placeholder": "​",
            "_view_module": "@jupyter-widgets/controls",
            "_model_module_version": "1.5.0",
            "value": "Downloading: 100%",
            "_view_count": null,
            "_view_module_version": "1.5.0",
            "description_tooltip": null,
            "_model_module": "@jupyter-widgets/controls",
            "layout": "IPY_MODEL_08e79511a3ca451d83891d1572a92f83"
          }
        },
        "39011f4ac94d433a84b361f162afca38": {
          "model_module": "@jupyter-widgets/controls",
          "model_name": "FloatProgressModel",
          "model_module_version": "1.5.0",
          "state": {
            "_view_name": "ProgressView",
            "style": "IPY_MODEL_ed5955cffce2498a84093d4988527634",
            "_dom_classes": [],
            "description": "",
            "_model_name": "FloatProgressModel",
            "bar_style": "success",
            "max": 570,
            "_view_module": "@jupyter-widgets/controls",
            "_model_module_version": "1.5.0",
            "value": 570,
            "_view_count": null,
            "_view_module_version": "1.5.0",
            "orientation": "horizontal",
            "min": 0,
            "description_tooltip": null,
            "_model_module": "@jupyter-widgets/controls",
            "layout": "IPY_MODEL_f0debceceddd45f6a92fd05fd7a5d59a"
          }
        },
        "85d090fa92d14dafb0323ad0b89accd0": {
          "model_module": "@jupyter-widgets/controls",
          "model_name": "HTMLModel",
          "model_module_version": "1.5.0",
          "state": {
            "_view_name": "HTMLView",
            "style": "IPY_MODEL_944753b6731148de903a0e8d020b146a",
            "_dom_classes": [],
            "description": "",
            "_model_name": "HTMLModel",
            "placeholder": "​",
            "_view_module": "@jupyter-widgets/controls",
            "_model_module_version": "1.5.0",
            "value": " 570/570 [00:00&lt;00:00, 11.4kB/s]",
            "_view_count": null,
            "_view_module_version": "1.5.0",
            "description_tooltip": null,
            "_model_module": "@jupyter-widgets/controls",
            "layout": "IPY_MODEL_ff855902463e412b8cd0d68095a57148"
          }
        },
        "c81f3f23411b4da0b57f4d458992af4b": {
          "model_module": "@jupyter-widgets/controls",
          "model_name": "DescriptionStyleModel",
          "model_module_version": "1.5.0",
          "state": {
            "_view_name": "StyleView",
            "_model_name": "DescriptionStyleModel",
            "description_width": "",
            "_view_module": "@jupyter-widgets/base",
            "_model_module_version": "1.5.0",
            "_view_count": null,
            "_view_module_version": "1.2.0",
            "_model_module": "@jupyter-widgets/controls"
          }
        },
        "08e79511a3ca451d83891d1572a92f83": {
          "model_module": "@jupyter-widgets/base",
          "model_name": "LayoutModel",
          "model_module_version": "1.2.0",
          "state": {
            "_view_name": "LayoutView",
            "grid_template_rows": null,
            "right": null,
            "justify_content": null,
            "_view_module": "@jupyter-widgets/base",
            "overflow": null,
            "_model_module_version": "1.2.0",
            "_view_count": null,
            "flex_flow": null,
            "width": null,
            "min_width": null,
            "border": null,
            "align_items": null,
            "bottom": null,
            "_model_module": "@jupyter-widgets/base",
            "top": null,
            "grid_column": null,
            "overflow_y": null,
            "overflow_x": null,
            "grid_auto_flow": null,
            "grid_area": null,
            "grid_template_columns": null,
            "flex": null,
            "_model_name": "LayoutModel",
            "justify_items": null,
            "grid_row": null,
            "max_height": null,
            "align_content": null,
            "visibility": null,
            "align_self": null,
            "height": null,
            "min_height": null,
            "padding": null,
            "grid_auto_rows": null,
            "grid_gap": null,
            "max_width": null,
            "order": null,
            "_view_module_version": "1.2.0",
            "grid_template_areas": null,
            "object_position": null,
            "object_fit": null,
            "grid_auto_columns": null,
            "margin": null,
            "display": null,
            "left": null
          }
        },
        "ed5955cffce2498a84093d4988527634": {
          "model_module": "@jupyter-widgets/controls",
          "model_name": "ProgressStyleModel",
          "model_module_version": "1.5.0",
          "state": {
            "_view_name": "StyleView",
            "_model_name": "ProgressStyleModel",
            "description_width": "",
            "_view_module": "@jupyter-widgets/base",
            "_model_module_version": "1.5.0",
            "_view_count": null,
            "_view_module_version": "1.2.0",
            "bar_color": null,
            "_model_module": "@jupyter-widgets/controls"
          }
        },
        "f0debceceddd45f6a92fd05fd7a5d59a": {
          "model_module": "@jupyter-widgets/base",
          "model_name": "LayoutModel",
          "model_module_version": "1.2.0",
          "state": {
            "_view_name": "LayoutView",
            "grid_template_rows": null,
            "right": null,
            "justify_content": null,
            "_view_module": "@jupyter-widgets/base",
            "overflow": null,
            "_model_module_version": "1.2.0",
            "_view_count": null,
            "flex_flow": null,
            "width": null,
            "min_width": null,
            "border": null,
            "align_items": null,
            "bottom": null,
            "_model_module": "@jupyter-widgets/base",
            "top": null,
            "grid_column": null,
            "overflow_y": null,
            "overflow_x": null,
            "grid_auto_flow": null,
            "grid_area": null,
            "grid_template_columns": null,
            "flex": null,
            "_model_name": "LayoutModel",
            "justify_items": null,
            "grid_row": null,
            "max_height": null,
            "align_content": null,
            "visibility": null,
            "align_self": null,
            "height": null,
            "min_height": null,
            "padding": null,
            "grid_auto_rows": null,
            "grid_gap": null,
            "max_width": null,
            "order": null,
            "_view_module_version": "1.2.0",
            "grid_template_areas": null,
            "object_position": null,
            "object_fit": null,
            "grid_auto_columns": null,
            "margin": null,
            "display": null,
            "left": null
          }
        },
        "944753b6731148de903a0e8d020b146a": {
          "model_module": "@jupyter-widgets/controls",
          "model_name": "DescriptionStyleModel",
          "model_module_version": "1.5.0",
          "state": {
            "_view_name": "StyleView",
            "_model_name": "DescriptionStyleModel",
            "description_width": "",
            "_view_module": "@jupyter-widgets/base",
            "_model_module_version": "1.5.0",
            "_view_count": null,
            "_view_module_version": "1.2.0",
            "_model_module": "@jupyter-widgets/controls"
          }
        },
        "ff855902463e412b8cd0d68095a57148": {
          "model_module": "@jupyter-widgets/base",
          "model_name": "LayoutModel",
          "model_module_version": "1.2.0",
          "state": {
            "_view_name": "LayoutView",
            "grid_template_rows": null,
            "right": null,
            "justify_content": null,
            "_view_module": "@jupyter-widgets/base",
            "overflow": null,
            "_model_module_version": "1.2.0",
            "_view_count": null,
            "flex_flow": null,
            "width": null,
            "min_width": null,
            "border": null,
            "align_items": null,
            "bottom": null,
            "_model_module": "@jupyter-widgets/base",
            "top": null,
            "grid_column": null,
            "overflow_y": null,
            "overflow_x": null,
            "grid_auto_flow": null,
            "grid_area": null,
            "grid_template_columns": null,
            "flex": null,
            "_model_name": "LayoutModel",
            "justify_items": null,
            "grid_row": null,
            "max_height": null,
            "align_content": null,
            "visibility": null,
            "align_self": null,
            "height": null,
            "min_height": null,
            "padding": null,
            "grid_auto_rows": null,
            "grid_gap": null,
            "max_width": null,
            "order": null,
            "_view_module_version": "1.2.0",
            "grid_template_areas": null,
            "object_position": null,
            "object_fit": null,
            "grid_auto_columns": null,
            "margin": null,
            "display": null,
            "left": null
          }
        },
        "6a3af145602e4c7a8b1abe0b895a698e": {
          "model_module": "@jupyter-widgets/controls",
          "model_name": "HBoxModel",
          "model_module_version": "1.5.0",
          "state": {
            "_view_name": "HBoxView",
            "_dom_classes": [],
            "_model_name": "HBoxModel",
            "_view_module": "@jupyter-widgets/controls",
            "_model_module_version": "1.5.0",
            "_view_count": null,
            "_view_module_version": "1.5.0",
            "box_style": "",
            "layout": "IPY_MODEL_c225a25d82984046aa64fa9a0400ac25",
            "_model_module": "@jupyter-widgets/controls",
            "children": [
              "IPY_MODEL_0582761b93014bc5982d5a2fa353fe81",
              "IPY_MODEL_2b13e46748a9405ab528f4e1e98a846c",
              "IPY_MODEL_331389768b1f4eeb81f4ec00a346d42f"
            ]
          }
        },
        "c225a25d82984046aa64fa9a0400ac25": {
          "model_module": "@jupyter-widgets/base",
          "model_name": "LayoutModel",
          "model_module_version": "1.2.0",
          "state": {
            "_view_name": "LayoutView",
            "grid_template_rows": null,
            "right": null,
            "justify_content": null,
            "_view_module": "@jupyter-widgets/base",
            "overflow": null,
            "_model_module_version": "1.2.0",
            "_view_count": null,
            "flex_flow": null,
            "width": null,
            "min_width": null,
            "border": null,
            "align_items": null,
            "bottom": null,
            "_model_module": "@jupyter-widgets/base",
            "top": null,
            "grid_column": null,
            "overflow_y": null,
            "overflow_x": null,
            "grid_auto_flow": null,
            "grid_area": null,
            "grid_template_columns": null,
            "flex": null,
            "_model_name": "LayoutModel",
            "justify_items": null,
            "grid_row": null,
            "max_height": null,
            "align_content": null,
            "visibility": null,
            "align_self": null,
            "height": null,
            "min_height": null,
            "padding": null,
            "grid_auto_rows": null,
            "grid_gap": null,
            "max_width": null,
            "order": null,
            "_view_module_version": "1.2.0",
            "grid_template_areas": null,
            "object_position": null,
            "object_fit": null,
            "grid_auto_columns": null,
            "margin": null,
            "display": null,
            "left": null
          }
        },
        "0582761b93014bc5982d5a2fa353fe81": {
          "model_module": "@jupyter-widgets/controls",
          "model_name": "HTMLModel",
          "model_module_version": "1.5.0",
          "state": {
            "_view_name": "HTMLView",
            "style": "IPY_MODEL_19b53b6e1cdd4f71ac3c56a85afdac00",
            "_dom_classes": [],
            "description": "",
            "_model_name": "HTMLModel",
            "placeholder": "​",
            "_view_module": "@jupyter-widgets/controls",
            "_model_module_version": "1.5.0",
            "value": "Downloading: 100%",
            "_view_count": null,
            "_view_module_version": "1.5.0",
            "description_tooltip": null,
            "_model_module": "@jupyter-widgets/controls",
            "layout": "IPY_MODEL_3ad3fc9a2dc94883bc10fa2bd6fe128e"
          }
        },
        "2b13e46748a9405ab528f4e1e98a846c": {
          "model_module": "@jupyter-widgets/controls",
          "model_name": "FloatProgressModel",
          "model_module_version": "1.5.0",
          "state": {
            "_view_name": "ProgressView",
            "style": "IPY_MODEL_b4b5e2b9956743dd92cc7cfbbc7a8af4",
            "_dom_classes": [],
            "description": "",
            "_model_name": "FloatProgressModel",
            "bar_style": "success",
            "max": 231508,
            "_view_module": "@jupyter-widgets/controls",
            "_model_module_version": "1.5.0",
            "value": 231508,
            "_view_count": null,
            "_view_module_version": "1.5.0",
            "orientation": "horizontal",
            "min": 0,
            "description_tooltip": null,
            "_model_module": "@jupyter-widgets/controls",
            "layout": "IPY_MODEL_ea7bf1edabdb48119b36d639bcff3e32"
          }
        },
        "331389768b1f4eeb81f4ec00a346d42f": {
          "model_module": "@jupyter-widgets/controls",
          "model_name": "HTMLModel",
          "model_module_version": "1.5.0",
          "state": {
            "_view_name": "HTMLView",
            "style": "IPY_MODEL_5a3bc1b87f9b4d2cbf53886b385daca1",
            "_dom_classes": [],
            "description": "",
            "_model_name": "HTMLModel",
            "placeholder": "​",
            "_view_module": "@jupyter-widgets/controls",
            "_model_module_version": "1.5.0",
            "value": " 226k/226k [00:00&lt;00:00, 1.27MB/s]",
            "_view_count": null,
            "_view_module_version": "1.5.0",
            "description_tooltip": null,
            "_model_module": "@jupyter-widgets/controls",
            "layout": "IPY_MODEL_589bf1eb35504388bfb309a64c087f60"
          }
        },
        "19b53b6e1cdd4f71ac3c56a85afdac00": {
          "model_module": "@jupyter-widgets/controls",
          "model_name": "DescriptionStyleModel",
          "model_module_version": "1.5.0",
          "state": {
            "_view_name": "StyleView",
            "_model_name": "DescriptionStyleModel",
            "description_width": "",
            "_view_module": "@jupyter-widgets/base",
            "_model_module_version": "1.5.0",
            "_view_count": null,
            "_view_module_version": "1.2.0",
            "_model_module": "@jupyter-widgets/controls"
          }
        },
        "3ad3fc9a2dc94883bc10fa2bd6fe128e": {
          "model_module": "@jupyter-widgets/base",
          "model_name": "LayoutModel",
          "model_module_version": "1.2.0",
          "state": {
            "_view_name": "LayoutView",
            "grid_template_rows": null,
            "right": null,
            "justify_content": null,
            "_view_module": "@jupyter-widgets/base",
            "overflow": null,
            "_model_module_version": "1.2.0",
            "_view_count": null,
            "flex_flow": null,
            "width": null,
            "min_width": null,
            "border": null,
            "align_items": null,
            "bottom": null,
            "_model_module": "@jupyter-widgets/base",
            "top": null,
            "grid_column": null,
            "overflow_y": null,
            "overflow_x": null,
            "grid_auto_flow": null,
            "grid_area": null,
            "grid_template_columns": null,
            "flex": null,
            "_model_name": "LayoutModel",
            "justify_items": null,
            "grid_row": null,
            "max_height": null,
            "align_content": null,
            "visibility": null,
            "align_self": null,
            "height": null,
            "min_height": null,
            "padding": null,
            "grid_auto_rows": null,
            "grid_gap": null,
            "max_width": null,
            "order": null,
            "_view_module_version": "1.2.0",
            "grid_template_areas": null,
            "object_position": null,
            "object_fit": null,
            "grid_auto_columns": null,
            "margin": null,
            "display": null,
            "left": null
          }
        },
        "b4b5e2b9956743dd92cc7cfbbc7a8af4": {
          "model_module": "@jupyter-widgets/controls",
          "model_name": "ProgressStyleModel",
          "model_module_version": "1.5.0",
          "state": {
            "_view_name": "StyleView",
            "_model_name": "ProgressStyleModel",
            "description_width": "",
            "_view_module": "@jupyter-widgets/base",
            "_model_module_version": "1.5.0",
            "_view_count": null,
            "_view_module_version": "1.2.0",
            "bar_color": null,
            "_model_module": "@jupyter-widgets/controls"
          }
        },
        "ea7bf1edabdb48119b36d639bcff3e32": {
          "model_module": "@jupyter-widgets/base",
          "model_name": "LayoutModel",
          "model_module_version": "1.2.0",
          "state": {
            "_view_name": "LayoutView",
            "grid_template_rows": null,
            "right": null,
            "justify_content": null,
            "_view_module": "@jupyter-widgets/base",
            "overflow": null,
            "_model_module_version": "1.2.0",
            "_view_count": null,
            "flex_flow": null,
            "width": null,
            "min_width": null,
            "border": null,
            "align_items": null,
            "bottom": null,
            "_model_module": "@jupyter-widgets/base",
            "top": null,
            "grid_column": null,
            "overflow_y": null,
            "overflow_x": null,
            "grid_auto_flow": null,
            "grid_area": null,
            "grid_template_columns": null,
            "flex": null,
            "_model_name": "LayoutModel",
            "justify_items": null,
            "grid_row": null,
            "max_height": null,
            "align_content": null,
            "visibility": null,
            "align_self": null,
            "height": null,
            "min_height": null,
            "padding": null,
            "grid_auto_rows": null,
            "grid_gap": null,
            "max_width": null,
            "order": null,
            "_view_module_version": "1.2.0",
            "grid_template_areas": null,
            "object_position": null,
            "object_fit": null,
            "grid_auto_columns": null,
            "margin": null,
            "display": null,
            "left": null
          }
        },
        "5a3bc1b87f9b4d2cbf53886b385daca1": {
          "model_module": "@jupyter-widgets/controls",
          "model_name": "DescriptionStyleModel",
          "model_module_version": "1.5.0",
          "state": {
            "_view_name": "StyleView",
            "_model_name": "DescriptionStyleModel",
            "description_width": "",
            "_view_module": "@jupyter-widgets/base",
            "_model_module_version": "1.5.0",
            "_view_count": null,
            "_view_module_version": "1.2.0",
            "_model_module": "@jupyter-widgets/controls"
          }
        },
        "589bf1eb35504388bfb309a64c087f60": {
          "model_module": "@jupyter-widgets/base",
          "model_name": "LayoutModel",
          "model_module_version": "1.2.0",
          "state": {
            "_view_name": "LayoutView",
            "grid_template_rows": null,
            "right": null,
            "justify_content": null,
            "_view_module": "@jupyter-widgets/base",
            "overflow": null,
            "_model_module_version": "1.2.0",
            "_view_count": null,
            "flex_flow": null,
            "width": null,
            "min_width": null,
            "border": null,
            "align_items": null,
            "bottom": null,
            "_model_module": "@jupyter-widgets/base",
            "top": null,
            "grid_column": null,
            "overflow_y": null,
            "overflow_x": null,
            "grid_auto_flow": null,
            "grid_area": null,
            "grid_template_columns": null,
            "flex": null,
            "_model_name": "LayoutModel",
            "justify_items": null,
            "grid_row": null,
            "max_height": null,
            "align_content": null,
            "visibility": null,
            "align_self": null,
            "height": null,
            "min_height": null,
            "padding": null,
            "grid_auto_rows": null,
            "grid_gap": null,
            "max_width": null,
            "order": null,
            "_view_module_version": "1.2.0",
            "grid_template_areas": null,
            "object_position": null,
            "object_fit": null,
            "grid_auto_columns": null,
            "margin": null,
            "display": null,
            "left": null
          }
        },
        "dff862e8f00e42e0b79ca3022953b9ec": {
          "model_module": "@jupyter-widgets/controls",
          "model_name": "HBoxModel",
          "model_module_version": "1.5.0",
          "state": {
            "_view_name": "HBoxView",
            "_dom_classes": [],
            "_model_name": "HBoxModel",
            "_view_module": "@jupyter-widgets/controls",
            "_model_module_version": "1.5.0",
            "_view_count": null,
            "_view_module_version": "1.5.0",
            "box_style": "",
            "layout": "IPY_MODEL_c603c6a724324e40acacb37aad62717b",
            "_model_module": "@jupyter-widgets/controls",
            "children": [
              "IPY_MODEL_0664fc30f0c147f992a7bf550c2dec1e",
              "IPY_MODEL_0e3c4fa6e6154d1c957993124d5538f3",
              "IPY_MODEL_8d7f0d4621084c56a6577a6be4ae7daf"
            ]
          }
        },
        "c603c6a724324e40acacb37aad62717b": {
          "model_module": "@jupyter-widgets/base",
          "model_name": "LayoutModel",
          "model_module_version": "1.2.0",
          "state": {
            "_view_name": "LayoutView",
            "grid_template_rows": null,
            "right": null,
            "justify_content": null,
            "_view_module": "@jupyter-widgets/base",
            "overflow": null,
            "_model_module_version": "1.2.0",
            "_view_count": null,
            "flex_flow": null,
            "width": null,
            "min_width": null,
            "border": null,
            "align_items": null,
            "bottom": null,
            "_model_module": "@jupyter-widgets/base",
            "top": null,
            "grid_column": null,
            "overflow_y": null,
            "overflow_x": null,
            "grid_auto_flow": null,
            "grid_area": null,
            "grid_template_columns": null,
            "flex": null,
            "_model_name": "LayoutModel",
            "justify_items": null,
            "grid_row": null,
            "max_height": null,
            "align_content": null,
            "visibility": null,
            "align_self": null,
            "height": null,
            "min_height": null,
            "padding": null,
            "grid_auto_rows": null,
            "grid_gap": null,
            "max_width": null,
            "order": null,
            "_view_module_version": "1.2.0",
            "grid_template_areas": null,
            "object_position": null,
            "object_fit": null,
            "grid_auto_columns": null,
            "margin": null,
            "display": null,
            "left": null
          }
        },
        "0664fc30f0c147f992a7bf550c2dec1e": {
          "model_module": "@jupyter-widgets/controls",
          "model_name": "HTMLModel",
          "model_module_version": "1.5.0",
          "state": {
            "_view_name": "HTMLView",
            "style": "IPY_MODEL_a5411ccd1b8d4e64b524a3717ecf192d",
            "_dom_classes": [],
            "description": "",
            "_model_name": "HTMLModel",
            "placeholder": "​",
            "_view_module": "@jupyter-widgets/controls",
            "_model_module_version": "1.5.0",
            "value": "Downloading: 100%",
            "_view_count": null,
            "_view_module_version": "1.5.0",
            "description_tooltip": null,
            "_model_module": "@jupyter-widgets/controls",
            "layout": "IPY_MODEL_d22f8e6e5e4a46cd8988046699fcf76d"
          }
        },
        "0e3c4fa6e6154d1c957993124d5538f3": {
          "model_module": "@jupyter-widgets/controls",
          "model_name": "FloatProgressModel",
          "model_module_version": "1.5.0",
          "state": {
            "_view_name": "ProgressView",
            "style": "IPY_MODEL_87ed7758ff494ca0af64319e3df950cb",
            "_dom_classes": [],
            "description": "",
            "_model_name": "FloatProgressModel",
            "bar_style": "success",
            "max": 466062,
            "_view_module": "@jupyter-widgets/controls",
            "_model_module_version": "1.5.0",
            "value": 466062,
            "_view_count": null,
            "_view_module_version": "1.5.0",
            "orientation": "horizontal",
            "min": 0,
            "description_tooltip": null,
            "_model_module": "@jupyter-widgets/controls",
            "layout": "IPY_MODEL_e35e1e1e1c234da59995a3735ba79487"
          }
        },
        "8d7f0d4621084c56a6577a6be4ae7daf": {
          "model_module": "@jupyter-widgets/controls",
          "model_name": "HTMLModel",
          "model_module_version": "1.5.0",
          "state": {
            "_view_name": "HTMLView",
            "style": "IPY_MODEL_d51d7090b8fe4617b445580b725eb00e",
            "_dom_classes": [],
            "description": "",
            "_model_name": "HTMLModel",
            "placeholder": "​",
            "_view_module": "@jupyter-widgets/controls",
            "_model_module_version": "1.5.0",
            "value": " 455k/455k [00:00&lt;00:00, 857kB/s]",
            "_view_count": null,
            "_view_module_version": "1.5.0",
            "description_tooltip": null,
            "_model_module": "@jupyter-widgets/controls",
            "layout": "IPY_MODEL_3799e76b0990442380eaa2a925ee1915"
          }
        },
        "a5411ccd1b8d4e64b524a3717ecf192d": {
          "model_module": "@jupyter-widgets/controls",
          "model_name": "DescriptionStyleModel",
          "model_module_version": "1.5.0",
          "state": {
            "_view_name": "StyleView",
            "_model_name": "DescriptionStyleModel",
            "description_width": "",
            "_view_module": "@jupyter-widgets/base",
            "_model_module_version": "1.5.0",
            "_view_count": null,
            "_view_module_version": "1.2.0",
            "_model_module": "@jupyter-widgets/controls"
          }
        },
        "d22f8e6e5e4a46cd8988046699fcf76d": {
          "model_module": "@jupyter-widgets/base",
          "model_name": "LayoutModel",
          "model_module_version": "1.2.0",
          "state": {
            "_view_name": "LayoutView",
            "grid_template_rows": null,
            "right": null,
            "justify_content": null,
            "_view_module": "@jupyter-widgets/base",
            "overflow": null,
            "_model_module_version": "1.2.0",
            "_view_count": null,
            "flex_flow": null,
            "width": null,
            "min_width": null,
            "border": null,
            "align_items": null,
            "bottom": null,
            "_model_module": "@jupyter-widgets/base",
            "top": null,
            "grid_column": null,
            "overflow_y": null,
            "overflow_x": null,
            "grid_auto_flow": null,
            "grid_area": null,
            "grid_template_columns": null,
            "flex": null,
            "_model_name": "LayoutModel",
            "justify_items": null,
            "grid_row": null,
            "max_height": null,
            "align_content": null,
            "visibility": null,
            "align_self": null,
            "height": null,
            "min_height": null,
            "padding": null,
            "grid_auto_rows": null,
            "grid_gap": null,
            "max_width": null,
            "order": null,
            "_view_module_version": "1.2.0",
            "grid_template_areas": null,
            "object_position": null,
            "object_fit": null,
            "grid_auto_columns": null,
            "margin": null,
            "display": null,
            "left": null
          }
        },
        "87ed7758ff494ca0af64319e3df950cb": {
          "model_module": "@jupyter-widgets/controls",
          "model_name": "ProgressStyleModel",
          "model_module_version": "1.5.0",
          "state": {
            "_view_name": "StyleView",
            "_model_name": "ProgressStyleModel",
            "description_width": "",
            "_view_module": "@jupyter-widgets/base",
            "_model_module_version": "1.5.0",
            "_view_count": null,
            "_view_module_version": "1.2.0",
            "bar_color": null,
            "_model_module": "@jupyter-widgets/controls"
          }
        },
        "e35e1e1e1c234da59995a3735ba79487": {
          "model_module": "@jupyter-widgets/base",
          "model_name": "LayoutModel",
          "model_module_version": "1.2.0",
          "state": {
            "_view_name": "LayoutView",
            "grid_template_rows": null,
            "right": null,
            "justify_content": null,
            "_view_module": "@jupyter-widgets/base",
            "overflow": null,
            "_model_module_version": "1.2.0",
            "_view_count": null,
            "flex_flow": null,
            "width": null,
            "min_width": null,
            "border": null,
            "align_items": null,
            "bottom": null,
            "_model_module": "@jupyter-widgets/base",
            "top": null,
            "grid_column": null,
            "overflow_y": null,
            "overflow_x": null,
            "grid_auto_flow": null,
            "grid_area": null,
            "grid_template_columns": null,
            "flex": null,
            "_model_name": "LayoutModel",
            "justify_items": null,
            "grid_row": null,
            "max_height": null,
            "align_content": null,
            "visibility": null,
            "align_self": null,
            "height": null,
            "min_height": null,
            "padding": null,
            "grid_auto_rows": null,
            "grid_gap": null,
            "max_width": null,
            "order": null,
            "_view_module_version": "1.2.0",
            "grid_template_areas": null,
            "object_position": null,
            "object_fit": null,
            "grid_auto_columns": null,
            "margin": null,
            "display": null,
            "left": null
          }
        },
        "d51d7090b8fe4617b445580b725eb00e": {
          "model_module": "@jupyter-widgets/controls",
          "model_name": "DescriptionStyleModel",
          "model_module_version": "1.5.0",
          "state": {
            "_view_name": "StyleView",
            "_model_name": "DescriptionStyleModel",
            "description_width": "",
            "_view_module": "@jupyter-widgets/base",
            "_model_module_version": "1.5.0",
            "_view_count": null,
            "_view_module_version": "1.2.0",
            "_model_module": "@jupyter-widgets/controls"
          }
        },
        "3799e76b0990442380eaa2a925ee1915": {
          "model_module": "@jupyter-widgets/base",
          "model_name": "LayoutModel",
          "model_module_version": "1.2.0",
          "state": {
            "_view_name": "LayoutView",
            "grid_template_rows": null,
            "right": null,
            "justify_content": null,
            "_view_module": "@jupyter-widgets/base",
            "overflow": null,
            "_model_module_version": "1.2.0",
            "_view_count": null,
            "flex_flow": null,
            "width": null,
            "min_width": null,
            "border": null,
            "align_items": null,
            "bottom": null,
            "_model_module": "@jupyter-widgets/base",
            "top": null,
            "grid_column": null,
            "overflow_y": null,
            "overflow_x": null,
            "grid_auto_flow": null,
            "grid_area": null,
            "grid_template_columns": null,
            "flex": null,
            "_model_name": "LayoutModel",
            "justify_items": null,
            "grid_row": null,
            "max_height": null,
            "align_content": null,
            "visibility": null,
            "align_self": null,
            "height": null,
            "min_height": null,
            "padding": null,
            "grid_auto_rows": null,
            "grid_gap": null,
            "max_width": null,
            "order": null,
            "_view_module_version": "1.2.0",
            "grid_template_areas": null,
            "object_position": null,
            "object_fit": null,
            "grid_auto_columns": null,
            "margin": null,
            "display": null,
            "left": null
          }
        },
        "36e185a9381540a4a680045ccb9173ca": {
          "model_module": "@jupyter-widgets/controls",
          "model_name": "HBoxModel",
          "model_module_version": "1.5.0",
          "state": {
            "_view_name": "HBoxView",
            "_dom_classes": [],
            "_model_name": "HBoxModel",
            "_view_module": "@jupyter-widgets/controls",
            "_model_module_version": "1.5.0",
            "_view_count": null,
            "_view_module_version": "1.5.0",
            "box_style": "",
            "layout": "IPY_MODEL_30bf546d610a4d1da3f4250316b13d52",
            "_model_module": "@jupyter-widgets/controls",
            "children": [
              "IPY_MODEL_4af0938249924807b90a2b54375a0bf7",
              "IPY_MODEL_21ffcc096c9c4fa6805b9cbd09016a5d",
              "IPY_MODEL_acc70abef482449e901ac2949659029a"
            ]
          }
        },
        "30bf546d610a4d1da3f4250316b13d52": {
          "model_module": "@jupyter-widgets/base",
          "model_name": "LayoutModel",
          "model_module_version": "1.2.0",
          "state": {
            "_view_name": "LayoutView",
            "grid_template_rows": null,
            "right": null,
            "justify_content": null,
            "_view_module": "@jupyter-widgets/base",
            "overflow": null,
            "_model_module_version": "1.2.0",
            "_view_count": null,
            "flex_flow": null,
            "width": null,
            "min_width": null,
            "border": null,
            "align_items": null,
            "bottom": null,
            "_model_module": "@jupyter-widgets/base",
            "top": null,
            "grid_column": null,
            "overflow_y": null,
            "overflow_x": null,
            "grid_auto_flow": null,
            "grid_area": null,
            "grid_template_columns": null,
            "flex": null,
            "_model_name": "LayoutModel",
            "justify_items": null,
            "grid_row": null,
            "max_height": null,
            "align_content": null,
            "visibility": null,
            "align_self": null,
            "height": null,
            "min_height": null,
            "padding": null,
            "grid_auto_rows": null,
            "grid_gap": null,
            "max_width": null,
            "order": null,
            "_view_module_version": "1.2.0",
            "grid_template_areas": null,
            "object_position": null,
            "object_fit": null,
            "grid_auto_columns": null,
            "margin": null,
            "display": null,
            "left": null
          }
        },
        "4af0938249924807b90a2b54375a0bf7": {
          "model_module": "@jupyter-widgets/controls",
          "model_name": "HTMLModel",
          "model_module_version": "1.5.0",
          "state": {
            "_view_name": "HTMLView",
            "style": "IPY_MODEL_b94150c9440446ea86d143f40eb154e0",
            "_dom_classes": [],
            "description": "",
            "_model_name": "HTMLModel",
            "placeholder": "​",
            "_view_module": "@jupyter-widgets/controls",
            "_model_module_version": "1.5.0",
            "value": "Downloading: 100%",
            "_view_count": null,
            "_view_module_version": "1.5.0",
            "description_tooltip": null,
            "_model_module": "@jupyter-widgets/controls",
            "layout": "IPY_MODEL_50da3f15a3a04734aead407fcee8043f"
          }
        },
        "21ffcc096c9c4fa6805b9cbd09016a5d": {
          "model_module": "@jupyter-widgets/controls",
          "model_name": "FloatProgressModel",
          "model_module_version": "1.5.0",
          "state": {
            "_view_name": "ProgressView",
            "style": "IPY_MODEL_d68324e38ede4304b0c2bb86bbf7970e",
            "_dom_classes": [],
            "description": "",
            "_model_name": "FloatProgressModel",
            "bar_style": "success",
            "max": 536063208,
            "_view_module": "@jupyter-widgets/controls",
            "_model_module_version": "1.5.0",
            "value": 536063208,
            "_view_count": null,
            "_view_module_version": "1.5.0",
            "orientation": "horizontal",
            "min": 0,
            "description_tooltip": null,
            "_model_module": "@jupyter-widgets/controls",
            "layout": "IPY_MODEL_768f77d361f04039b814bae7b3459421"
          }
        },
        "acc70abef482449e901ac2949659029a": {
          "model_module": "@jupyter-widgets/controls",
          "model_name": "HTMLModel",
          "model_module_version": "1.5.0",
          "state": {
            "_view_name": "HTMLView",
            "style": "IPY_MODEL_f13ed66174b54316947a6aeb8964f384",
            "_dom_classes": [],
            "description": "",
            "_model_name": "HTMLModel",
            "placeholder": "​",
            "_view_module": "@jupyter-widgets/controls",
            "_model_module_version": "1.5.0",
            "value": " 511M/511M [00:13&lt;00:00, 42.9MB/s]",
            "_view_count": null,
            "_view_module_version": "1.5.0",
            "description_tooltip": null,
            "_model_module": "@jupyter-widgets/controls",
            "layout": "IPY_MODEL_a238ec80f0374926b28a8ac4ca058a21"
          }
        },
        "b94150c9440446ea86d143f40eb154e0": {
          "model_module": "@jupyter-widgets/controls",
          "model_name": "DescriptionStyleModel",
          "model_module_version": "1.5.0",
          "state": {
            "_view_name": "StyleView",
            "_model_name": "DescriptionStyleModel",
            "description_width": "",
            "_view_module": "@jupyter-widgets/base",
            "_model_module_version": "1.5.0",
            "_view_count": null,
            "_view_module_version": "1.2.0",
            "_model_module": "@jupyter-widgets/controls"
          }
        },
        "50da3f15a3a04734aead407fcee8043f": {
          "model_module": "@jupyter-widgets/base",
          "model_name": "LayoutModel",
          "model_module_version": "1.2.0",
          "state": {
            "_view_name": "LayoutView",
            "grid_template_rows": null,
            "right": null,
            "justify_content": null,
            "_view_module": "@jupyter-widgets/base",
            "overflow": null,
            "_model_module_version": "1.2.0",
            "_view_count": null,
            "flex_flow": null,
            "width": null,
            "min_width": null,
            "border": null,
            "align_items": null,
            "bottom": null,
            "_model_module": "@jupyter-widgets/base",
            "top": null,
            "grid_column": null,
            "overflow_y": null,
            "overflow_x": null,
            "grid_auto_flow": null,
            "grid_area": null,
            "grid_template_columns": null,
            "flex": null,
            "_model_name": "LayoutModel",
            "justify_items": null,
            "grid_row": null,
            "max_height": null,
            "align_content": null,
            "visibility": null,
            "align_self": null,
            "height": null,
            "min_height": null,
            "padding": null,
            "grid_auto_rows": null,
            "grid_gap": null,
            "max_width": null,
            "order": null,
            "_view_module_version": "1.2.0",
            "grid_template_areas": null,
            "object_position": null,
            "object_fit": null,
            "grid_auto_columns": null,
            "margin": null,
            "display": null,
            "left": null
          }
        },
        "d68324e38ede4304b0c2bb86bbf7970e": {
          "model_module": "@jupyter-widgets/controls",
          "model_name": "ProgressStyleModel",
          "model_module_version": "1.5.0",
          "state": {
            "_view_name": "StyleView",
            "_model_name": "ProgressStyleModel",
            "description_width": "",
            "_view_module": "@jupyter-widgets/base",
            "_model_module_version": "1.5.0",
            "_view_count": null,
            "_view_module_version": "1.2.0",
            "bar_color": null,
            "_model_module": "@jupyter-widgets/controls"
          }
        },
        "768f77d361f04039b814bae7b3459421": {
          "model_module": "@jupyter-widgets/base",
          "model_name": "LayoutModel",
          "model_module_version": "1.2.0",
          "state": {
            "_view_name": "LayoutView",
            "grid_template_rows": null,
            "right": null,
            "justify_content": null,
            "_view_module": "@jupyter-widgets/base",
            "overflow": null,
            "_model_module_version": "1.2.0",
            "_view_count": null,
            "flex_flow": null,
            "width": null,
            "min_width": null,
            "border": null,
            "align_items": null,
            "bottom": null,
            "_model_module": "@jupyter-widgets/base",
            "top": null,
            "grid_column": null,
            "overflow_y": null,
            "overflow_x": null,
            "grid_auto_flow": null,
            "grid_area": null,
            "grid_template_columns": null,
            "flex": null,
            "_model_name": "LayoutModel",
            "justify_items": null,
            "grid_row": null,
            "max_height": null,
            "align_content": null,
            "visibility": null,
            "align_self": null,
            "height": null,
            "min_height": null,
            "padding": null,
            "grid_auto_rows": null,
            "grid_gap": null,
            "max_width": null,
            "order": null,
            "_view_module_version": "1.2.0",
            "grid_template_areas": null,
            "object_position": null,
            "object_fit": null,
            "grid_auto_columns": null,
            "margin": null,
            "display": null,
            "left": null
          }
        },
        "f13ed66174b54316947a6aeb8964f384": {
          "model_module": "@jupyter-widgets/controls",
          "model_name": "DescriptionStyleModel",
          "model_module_version": "1.5.0",
          "state": {
            "_view_name": "StyleView",
            "_model_name": "DescriptionStyleModel",
            "description_width": "",
            "_view_module": "@jupyter-widgets/base",
            "_model_module_version": "1.5.0",
            "_view_count": null,
            "_view_module_version": "1.2.0",
            "_model_module": "@jupyter-widgets/controls"
          }
        },
        "a238ec80f0374926b28a8ac4ca058a21": {
          "model_module": "@jupyter-widgets/base",
          "model_name": "LayoutModel",
          "model_module_version": "1.2.0",
          "state": {
            "_view_name": "LayoutView",
            "grid_template_rows": null,
            "right": null,
            "justify_content": null,
            "_view_module": "@jupyter-widgets/base",
            "overflow": null,
            "_model_module_version": "1.2.0",
            "_view_count": null,
            "flex_flow": null,
            "width": null,
            "min_width": null,
            "border": null,
            "align_items": null,
            "bottom": null,
            "_model_module": "@jupyter-widgets/base",
            "top": null,
            "grid_column": null,
            "overflow_y": null,
            "overflow_x": null,
            "grid_auto_flow": null,
            "grid_area": null,
            "grid_template_columns": null,
            "flex": null,
            "_model_name": "LayoutModel",
            "justify_items": null,
            "grid_row": null,
            "max_height": null,
            "align_content": null,
            "visibility": null,
            "align_self": null,
            "height": null,
            "min_height": null,
            "padding": null,
            "grid_auto_rows": null,
            "grid_gap": null,
            "max_width": null,
            "order": null,
            "_view_module_version": "1.2.0",
            "grid_template_areas": null,
            "object_position": null,
            "object_fit": null,
            "grid_auto_columns": null,
            "margin": null,
            "display": null,
            "left": null
          }
        }
      }
    }
  },
  "cells": [
    {
      "cell_type": "code",
      "metadata": {
        "colab": {
          "base_uri": "https://localhost:8080/"
        },
        "id": "0lqEsXRpVz7z",
        "outputId": "33631947-fa7a-40b6-fb34-a27ca0a8c82c"
      },
      "source": [
        "!pip install optuna\n",
        "!pip install transformers\n",
        "!pip install SentencePiece"
      ],
      "execution_count": null,
      "outputs": [
        {
          "output_type": "stream",
          "name": "stdout",
          "text": [
            "Collecting optuna\n",
            "  Downloading optuna-2.10.0-py3-none-any.whl (308 kB)\n",
            "\u001b[?25l\r\u001b[K     |█                               | 10 kB 20.5 MB/s eta 0:00:01\r\u001b[K     |██▏                             | 20 kB 25.9 MB/s eta 0:00:01\r\u001b[K     |███▏                            | 30 kB 13.0 MB/s eta 0:00:01\r\u001b[K     |████▎                           | 40 kB 9.6 MB/s eta 0:00:01\r\u001b[K     |█████▎                          | 51 kB 5.3 MB/s eta 0:00:01\r\u001b[K     |██████▍                         | 61 kB 5.4 MB/s eta 0:00:01\r\u001b[K     |███████▍                        | 71 kB 6.0 MB/s eta 0:00:01\r\u001b[K     |████████▌                       | 81 kB 6.7 MB/s eta 0:00:01\r\u001b[K     |█████████▋                      | 92 kB 6.5 MB/s eta 0:00:01\r\u001b[K     |██████████▋                     | 102 kB 5.4 MB/s eta 0:00:01\r\u001b[K     |███████████▊                    | 112 kB 5.4 MB/s eta 0:00:01\r\u001b[K     |████████████▊                   | 122 kB 5.4 MB/s eta 0:00:01\r\u001b[K     |█████████████▉                  | 133 kB 5.4 MB/s eta 0:00:01\r\u001b[K     |██████████████▉                 | 143 kB 5.4 MB/s eta 0:00:01\r\u001b[K     |████████████████                | 153 kB 5.4 MB/s eta 0:00:01\r\u001b[K     |█████████████████               | 163 kB 5.4 MB/s eta 0:00:01\r\u001b[K     |██████████████████              | 174 kB 5.4 MB/s eta 0:00:01\r\u001b[K     |███████████████████▏            | 184 kB 5.4 MB/s eta 0:00:01\r\u001b[K     |████████████████████▏           | 194 kB 5.4 MB/s eta 0:00:01\r\u001b[K     |█████████████████████▎          | 204 kB 5.4 MB/s eta 0:00:01\r\u001b[K     |██████████████████████▎         | 215 kB 5.4 MB/s eta 0:00:01\r\u001b[K     |███████████████████████▍        | 225 kB 5.4 MB/s eta 0:00:01\r\u001b[K     |████████████████████████▌       | 235 kB 5.4 MB/s eta 0:00:01\r\u001b[K     |█████████████████████████▌      | 245 kB 5.4 MB/s eta 0:00:01\r\u001b[K     |██████████████████████████▋     | 256 kB 5.4 MB/s eta 0:00:01\r\u001b[K     |███████████████████████████▋    | 266 kB 5.4 MB/s eta 0:00:01\r\u001b[K     |████████████████████████████▊   | 276 kB 5.4 MB/s eta 0:00:01\r\u001b[K     |█████████████████████████████▊  | 286 kB 5.4 MB/s eta 0:00:01\r\u001b[K     |██████████████████████████████▉ | 296 kB 5.4 MB/s eta 0:00:01\r\u001b[K     |████████████████████████████████| 307 kB 5.4 MB/s eta 0:00:01\r\u001b[K     |████████████████████████████████| 308 kB 5.4 MB/s \n",
            "\u001b[?25hRequirement already satisfied: packaging>=20.0 in /usr/local/lib/python3.7/dist-packages (from optuna) (21.0)\n",
            "Requirement already satisfied: scipy!=1.4.0 in /usr/local/lib/python3.7/dist-packages (from optuna) (1.4.1)\n",
            "Requirement already satisfied: tqdm in /usr/local/lib/python3.7/dist-packages (from optuna) (4.62.3)\n",
            "Requirement already satisfied: PyYAML in /usr/local/lib/python3.7/dist-packages (from optuna) (3.13)\n",
            "Collecting colorlog\n",
            "  Downloading colorlog-6.4.1-py2.py3-none-any.whl (11 kB)\n",
            "Collecting cmaes>=0.8.2\n",
            "  Downloading cmaes-0.8.2-py3-none-any.whl (15 kB)\n",
            "Requirement already satisfied: numpy in /usr/local/lib/python3.7/dist-packages (from optuna) (1.19.5)\n",
            "Requirement already satisfied: sqlalchemy>=1.1.0 in /usr/local/lib/python3.7/dist-packages (from optuna) (1.4.25)\n",
            "Collecting cliff\n",
            "  Downloading cliff-3.9.0-py3-none-any.whl (80 kB)\n",
            "\u001b[K     |████████████████████████████████| 80 kB 9.8 MB/s \n",
            "\u001b[?25hCollecting alembic\n",
            "  Downloading alembic-1.7.3-py3-none-any.whl (208 kB)\n",
            "\u001b[K     |████████████████████████████████| 208 kB 58.2 MB/s \n",
            "\u001b[?25hRequirement already satisfied: pyparsing>=2.0.2 in /usr/local/lib/python3.7/dist-packages (from packaging>=20.0->optuna) (2.4.7)\n",
            "Requirement already satisfied: greenlet!=0.4.17 in /usr/local/lib/python3.7/dist-packages (from sqlalchemy>=1.1.0->optuna) (1.1.1)\n",
            "Requirement already satisfied: importlib-metadata in /usr/local/lib/python3.7/dist-packages (from sqlalchemy>=1.1.0->optuna) (4.8.1)\n",
            "Collecting Mako\n",
            "  Downloading Mako-1.1.5-py2.py3-none-any.whl (75 kB)\n",
            "\u001b[K     |████████████████████████████████| 75 kB 4.3 MB/s \n",
            "\u001b[?25hRequirement already satisfied: importlib-resources in /usr/local/lib/python3.7/dist-packages (from alembic->optuna) (5.2.2)\n",
            "Collecting pbr!=2.1.0,>=2.0.0\n",
            "  Downloading pbr-5.6.0-py2.py3-none-any.whl (111 kB)\n",
            "\u001b[K     |████████████████████████████████| 111 kB 59.3 MB/s \n",
            "\u001b[?25hCollecting cmd2>=1.0.0\n",
            "  Downloading cmd2-2.2.0-py3-none-any.whl (144 kB)\n",
            "\u001b[K     |████████████████████████████████| 144 kB 62.6 MB/s \n",
            "\u001b[?25hCollecting autopage>=0.4.0\n",
            "  Downloading autopage-0.4.0-py3-none-any.whl (20 kB)\n",
            "Requirement already satisfied: PrettyTable>=0.7.2 in /usr/local/lib/python3.7/dist-packages (from cliff->optuna) (2.2.0)\n",
            "Collecting stevedore>=2.0.1\n",
            "  Downloading stevedore-3.4.0-py3-none-any.whl (49 kB)\n",
            "\u001b[K     |████████████████████████████████| 49 kB 5.6 MB/s \n",
            "\u001b[?25hCollecting colorama>=0.3.7\n",
            "  Downloading colorama-0.4.4-py2.py3-none-any.whl (16 kB)\n",
            "Collecting pyperclip>=1.6\n",
            "  Downloading pyperclip-1.8.2.tar.gz (20 kB)\n",
            "Requirement already satisfied: typing-extensions in /usr/local/lib/python3.7/dist-packages (from cmd2>=1.0.0->cliff->optuna) (3.7.4.3)\n",
            "Requirement already satisfied: wcwidth>=0.1.7 in /usr/local/lib/python3.7/dist-packages (from cmd2>=1.0.0->cliff->optuna) (0.2.5)\n",
            "Requirement already satisfied: attrs>=16.3.0 in /usr/local/lib/python3.7/dist-packages (from cmd2>=1.0.0->cliff->optuna) (21.2.0)\n",
            "Requirement already satisfied: zipp>=0.5 in /usr/local/lib/python3.7/dist-packages (from importlib-metadata->sqlalchemy>=1.1.0->optuna) (3.5.0)\n",
            "Requirement already satisfied: MarkupSafe>=0.9.2 in /usr/local/lib/python3.7/dist-packages (from Mako->alembic->optuna) (2.0.1)\n",
            "Building wheels for collected packages: pyperclip\n",
            "  Building wheel for pyperclip (setup.py) ... \u001b[?25l\u001b[?25hdone\n",
            "  Created wheel for pyperclip: filename=pyperclip-1.8.2-py3-none-any.whl size=11136 sha256=087d3c26c311f4e0eab08059aa91210d543ddf6e84f2d43845c3d758a09d0028\n",
            "  Stored in directory: /root/.cache/pip/wheels/9f/18/84/8f69f8b08169c7bae2dde6bd7daf0c19fca8c8e500ee620a28\n",
            "Successfully built pyperclip\n",
            "Installing collected packages: pyperclip, pbr, colorama, stevedore, Mako, cmd2, autopage, colorlog, cmaes, cliff, alembic, optuna\n",
            "Successfully installed Mako-1.1.5 alembic-1.7.3 autopage-0.4.0 cliff-3.9.0 cmaes-0.8.2 cmd2-2.2.0 colorama-0.4.4 colorlog-6.4.1 optuna-2.10.0 pbr-5.6.0 pyperclip-1.8.2 stevedore-3.4.0\n",
            "Collecting transformers\n",
            "  Downloading transformers-4.11.2-py3-none-any.whl (2.9 MB)\n",
            "\u001b[K     |████████████████████████████████| 2.9 MB 5.4 MB/s \n",
            "\u001b[?25hRequirement already satisfied: numpy>=1.17 in /usr/local/lib/python3.7/dist-packages (from transformers) (1.19.5)\n",
            "Requirement already satisfied: tqdm>=4.27 in /usr/local/lib/python3.7/dist-packages (from transformers) (4.62.3)\n",
            "Requirement already satisfied: regex!=2019.12.17 in /usr/local/lib/python3.7/dist-packages (from transformers) (2019.12.20)\n",
            "Collecting pyyaml>=5.1\n",
            "  Downloading PyYAML-5.4.1-cp37-cp37m-manylinux1_x86_64.whl (636 kB)\n",
            "\u001b[K     |████████████████████████████████| 636 kB 59.1 MB/s \n",
            "\u001b[?25hCollecting sacremoses\n",
            "  Downloading sacremoses-0.0.46-py3-none-any.whl (895 kB)\n",
            "\u001b[K     |████████████████████████████████| 895 kB 57.7 MB/s \n",
            "\u001b[?25hCollecting tokenizers<0.11,>=0.10.1\n",
            "  Downloading tokenizers-0.10.3-cp37-cp37m-manylinux_2_5_x86_64.manylinux1_x86_64.manylinux_2_12_x86_64.manylinux2010_x86_64.whl (3.3 MB)\n",
            "\u001b[K     |████████████████████████████████| 3.3 MB 45.9 MB/s \n",
            "\u001b[?25hRequirement already satisfied: packaging>=20.0 in /usr/local/lib/python3.7/dist-packages (from transformers) (21.0)\n",
            "Requirement already satisfied: filelock in /usr/local/lib/python3.7/dist-packages (from transformers) (3.0.12)\n",
            "Requirement already satisfied: importlib-metadata in /usr/local/lib/python3.7/dist-packages (from transformers) (4.8.1)\n",
            "Requirement already satisfied: requests in /usr/local/lib/python3.7/dist-packages (from transformers) (2.23.0)\n",
            "Collecting huggingface-hub>=0.0.17\n",
            "  Downloading huggingface_hub-0.0.18-py3-none-any.whl (56 kB)\n",
            "\u001b[K     |████████████████████████████████| 56 kB 4.5 MB/s \n",
            "\u001b[?25hCollecting ruamel.yaml==0.17.16\n",
            "  Downloading ruamel.yaml-0.17.16-py3-none-any.whl (109 kB)\n",
            "\u001b[K     |████████████████████████████████| 109 kB 43.8 MB/s \n",
            "\u001b[?25hRequirement already satisfied: typing-extensions in /usr/local/lib/python3.7/dist-packages (from huggingface-hub>=0.0.17->transformers) (3.7.4.3)\n",
            "Collecting ruamel.yaml.clib>=0.1.2\n",
            "  Downloading ruamel.yaml.clib-0.2.6-cp37-cp37m-manylinux1_x86_64.whl (546 kB)\n",
            "\u001b[K     |████████████████████████████████| 546 kB 72.0 MB/s \n",
            "\u001b[?25hRequirement already satisfied: pyparsing>=2.0.2 in /usr/local/lib/python3.7/dist-packages (from packaging>=20.0->transformers) (2.4.7)\n",
            "Requirement already satisfied: zipp>=0.5 in /usr/local/lib/python3.7/dist-packages (from importlib-metadata->transformers) (3.5.0)\n",
            "Requirement already satisfied: certifi>=2017.4.17 in /usr/local/lib/python3.7/dist-packages (from requests->transformers) (2021.5.30)\n",
            "Requirement already satisfied: idna<3,>=2.5 in /usr/local/lib/python3.7/dist-packages (from requests->transformers) (2.10)\n",
            "Requirement already satisfied: urllib3!=1.25.0,!=1.25.1,<1.26,>=1.21.1 in /usr/local/lib/python3.7/dist-packages (from requests->transformers) (1.24.3)\n",
            "Requirement already satisfied: chardet<4,>=3.0.2 in /usr/local/lib/python3.7/dist-packages (from requests->transformers) (3.0.4)\n",
            "Requirement already satisfied: six in /usr/local/lib/python3.7/dist-packages (from sacremoses->transformers) (1.15.0)\n",
            "Requirement already satisfied: joblib in /usr/local/lib/python3.7/dist-packages (from sacremoses->transformers) (1.0.1)\n",
            "Requirement already satisfied: click in /usr/local/lib/python3.7/dist-packages (from sacremoses->transformers) (7.1.2)\n",
            "Installing collected packages: ruamel.yaml.clib, ruamel.yaml, tokenizers, sacremoses, pyyaml, huggingface-hub, transformers\n",
            "  Attempting uninstall: pyyaml\n",
            "    Found existing installation: PyYAML 3.13\n",
            "    Uninstalling PyYAML-3.13:\n",
            "      Successfully uninstalled PyYAML-3.13\n",
            "Successfully installed huggingface-hub-0.0.18 pyyaml-5.4.1 ruamel.yaml-0.17.16 ruamel.yaml.clib-0.2.6 sacremoses-0.0.46 tokenizers-0.10.3 transformers-4.11.2\n",
            "Collecting SentencePiece\n",
            "  Downloading sentencepiece-0.1.96-cp37-cp37m-manylinux_2_17_x86_64.manylinux2014_x86_64.whl (1.2 MB)\n",
            "\u001b[K     |████████████████████████████████| 1.2 MB 5.4 MB/s \n",
            "\u001b[?25hInstalling collected packages: SentencePiece\n",
            "Successfully installed SentencePiece-0.1.96\n"
          ]
        }
      ]
    },
    {
      "cell_type": "code",
      "metadata": {
        "colab": {
          "base_uri": "https://localhost:8080/"
        },
        "id": "fSzslNtYNP7q",
        "outputId": "352196d3-c9bd-4692-8aec-cc67566236b0"
      },
      "source": [
        "import tensorflow as tf\n",
        "\n",
        "# Detect hardware, return appropriate distribution strategy\n",
        "try:\n",
        "    # TPU detection. No parameters necessary if TPU_NAME environment variable is\n",
        "    # set: this is always the case on Kaggle.\n",
        "    tpu = tf.distribute.cluster_resolver.TPUClusterResolver()\n",
        "    print('Running on TPU ', tpu.master())\n",
        "except ValueError:\n",
        "    tpu = None\n",
        "\n",
        "if tpu:\n",
        "    tf.config.experimental_connect_to_cluster(tpu)\n",
        "    tf.tpu.experimental.initialize_tpu_system(tpu)\n",
        "    strategy = tf.distribute.experimental.TPUStrategy(tpu)\n",
        "else:\n",
        "    # Default distribution strategy in Tensorflow. Works on CPU and single GPU.\n",
        "    strategy = tf.distribute.get_strategy()\n",
        "\n",
        "print(\"REPLICAS: \", strategy.num_replicas_in_sync)"
      ],
      "execution_count": null,
      "outputs": [
        {
          "output_type": "stream",
          "name": "stdout",
          "text": [
            "Running on TPU  grpc://10.94.105.226:8470\n",
            "INFO:tensorflow:Clearing out eager caches\n"
          ]
        },
        {
          "output_type": "stream",
          "name": "stderr",
          "text": [
            "INFO:tensorflow:Clearing out eager caches\n"
          ]
        },
        {
          "output_type": "stream",
          "name": "stdout",
          "text": [
            "INFO:tensorflow:Initializing the TPU system: grpc://10.94.105.226:8470\n"
          ]
        },
        {
          "output_type": "stream",
          "name": "stderr",
          "text": [
            "INFO:tensorflow:Initializing the TPU system: grpc://10.94.105.226:8470\n"
          ]
        },
        {
          "output_type": "stream",
          "name": "stdout",
          "text": [
            "INFO:tensorflow:Finished initializing TPU system.\n"
          ]
        },
        {
          "output_type": "stream",
          "name": "stderr",
          "text": [
            "INFO:tensorflow:Finished initializing TPU system.\n",
            "WARNING:absl:`tf.distribute.experimental.TPUStrategy` is deprecated, please use  the non experimental symbol `tf.distribute.TPUStrategy` instead.\n"
          ]
        },
        {
          "output_type": "stream",
          "name": "stdout",
          "text": [
            "INFO:tensorflow:Found TPU system:\n"
          ]
        },
        {
          "output_type": "stream",
          "name": "stderr",
          "text": [
            "INFO:tensorflow:Found TPU system:\n"
          ]
        },
        {
          "output_type": "stream",
          "name": "stdout",
          "text": [
            "INFO:tensorflow:*** Num TPU Cores: 8\n"
          ]
        },
        {
          "output_type": "stream",
          "name": "stderr",
          "text": [
            "INFO:tensorflow:*** Num TPU Cores: 8\n"
          ]
        },
        {
          "output_type": "stream",
          "name": "stdout",
          "text": [
            "INFO:tensorflow:*** Num TPU Workers: 1\n"
          ]
        },
        {
          "output_type": "stream",
          "name": "stderr",
          "text": [
            "INFO:tensorflow:*** Num TPU Workers: 1\n"
          ]
        },
        {
          "output_type": "stream",
          "name": "stdout",
          "text": [
            "INFO:tensorflow:*** Num TPU Cores Per Worker: 8\n"
          ]
        },
        {
          "output_type": "stream",
          "name": "stderr",
          "text": [
            "INFO:tensorflow:*** Num TPU Cores Per Worker: 8\n"
          ]
        },
        {
          "output_type": "stream",
          "name": "stdout",
          "text": [
            "INFO:tensorflow:*** Available Device: _DeviceAttributes(/job:localhost/replica:0/task:0/device:CPU:0, CPU, 0, 0)\n"
          ]
        },
        {
          "output_type": "stream",
          "name": "stderr",
          "text": [
            "INFO:tensorflow:*** Available Device: _DeviceAttributes(/job:localhost/replica:0/task:0/device:CPU:0, CPU, 0, 0)\n"
          ]
        },
        {
          "output_type": "stream",
          "name": "stdout",
          "text": [
            "INFO:tensorflow:*** Available Device: _DeviceAttributes(/job:worker/replica:0/task:0/device:CPU:0, CPU, 0, 0)\n"
          ]
        },
        {
          "output_type": "stream",
          "name": "stderr",
          "text": [
            "INFO:tensorflow:*** Available Device: _DeviceAttributes(/job:worker/replica:0/task:0/device:CPU:0, CPU, 0, 0)\n"
          ]
        },
        {
          "output_type": "stream",
          "name": "stdout",
          "text": [
            "INFO:tensorflow:*** Available Device: _DeviceAttributes(/job:worker/replica:0/task:0/device:TPU:0, TPU, 0, 0)\n"
          ]
        },
        {
          "output_type": "stream",
          "name": "stderr",
          "text": [
            "INFO:tensorflow:*** Available Device: _DeviceAttributes(/job:worker/replica:0/task:0/device:TPU:0, TPU, 0, 0)\n"
          ]
        },
        {
          "output_type": "stream",
          "name": "stdout",
          "text": [
            "INFO:tensorflow:*** Available Device: _DeviceAttributes(/job:worker/replica:0/task:0/device:TPU:1, TPU, 0, 0)\n"
          ]
        },
        {
          "output_type": "stream",
          "name": "stderr",
          "text": [
            "INFO:tensorflow:*** Available Device: _DeviceAttributes(/job:worker/replica:0/task:0/device:TPU:1, TPU, 0, 0)\n"
          ]
        },
        {
          "output_type": "stream",
          "name": "stdout",
          "text": [
            "INFO:tensorflow:*** Available Device: _DeviceAttributes(/job:worker/replica:0/task:0/device:TPU:2, TPU, 0, 0)\n"
          ]
        },
        {
          "output_type": "stream",
          "name": "stderr",
          "text": [
            "INFO:tensorflow:*** Available Device: _DeviceAttributes(/job:worker/replica:0/task:0/device:TPU:2, TPU, 0, 0)\n"
          ]
        },
        {
          "output_type": "stream",
          "name": "stdout",
          "text": [
            "INFO:tensorflow:*** Available Device: _DeviceAttributes(/job:worker/replica:0/task:0/device:TPU:3, TPU, 0, 0)\n"
          ]
        },
        {
          "output_type": "stream",
          "name": "stderr",
          "text": [
            "INFO:tensorflow:*** Available Device: _DeviceAttributes(/job:worker/replica:0/task:0/device:TPU:3, TPU, 0, 0)\n"
          ]
        },
        {
          "output_type": "stream",
          "name": "stdout",
          "text": [
            "INFO:tensorflow:*** Available Device: _DeviceAttributes(/job:worker/replica:0/task:0/device:TPU:4, TPU, 0, 0)\n"
          ]
        },
        {
          "output_type": "stream",
          "name": "stderr",
          "text": [
            "INFO:tensorflow:*** Available Device: _DeviceAttributes(/job:worker/replica:0/task:0/device:TPU:4, TPU, 0, 0)\n"
          ]
        },
        {
          "output_type": "stream",
          "name": "stdout",
          "text": [
            "INFO:tensorflow:*** Available Device: _DeviceAttributes(/job:worker/replica:0/task:0/device:TPU:5, TPU, 0, 0)\n"
          ]
        },
        {
          "output_type": "stream",
          "name": "stderr",
          "text": [
            "INFO:tensorflow:*** Available Device: _DeviceAttributes(/job:worker/replica:0/task:0/device:TPU:5, TPU, 0, 0)\n"
          ]
        },
        {
          "output_type": "stream",
          "name": "stdout",
          "text": [
            "INFO:tensorflow:*** Available Device: _DeviceAttributes(/job:worker/replica:0/task:0/device:TPU:6, TPU, 0, 0)\n"
          ]
        },
        {
          "output_type": "stream",
          "name": "stderr",
          "text": [
            "INFO:tensorflow:*** Available Device: _DeviceAttributes(/job:worker/replica:0/task:0/device:TPU:6, TPU, 0, 0)\n"
          ]
        },
        {
          "output_type": "stream",
          "name": "stdout",
          "text": [
            "INFO:tensorflow:*** Available Device: _DeviceAttributes(/job:worker/replica:0/task:0/device:TPU:7, TPU, 0, 0)\n"
          ]
        },
        {
          "output_type": "stream",
          "name": "stderr",
          "text": [
            "INFO:tensorflow:*** Available Device: _DeviceAttributes(/job:worker/replica:0/task:0/device:TPU:7, TPU, 0, 0)\n"
          ]
        },
        {
          "output_type": "stream",
          "name": "stdout",
          "text": [
            "INFO:tensorflow:*** Available Device: _DeviceAttributes(/job:worker/replica:0/task:0/device:TPU_SYSTEM:0, TPU_SYSTEM, 0, 0)\n"
          ]
        },
        {
          "output_type": "stream",
          "name": "stderr",
          "text": [
            "INFO:tensorflow:*** Available Device: _DeviceAttributes(/job:worker/replica:0/task:0/device:TPU_SYSTEM:0, TPU_SYSTEM, 0, 0)\n"
          ]
        },
        {
          "output_type": "stream",
          "name": "stdout",
          "text": [
            "INFO:tensorflow:*** Available Device: _DeviceAttributes(/job:worker/replica:0/task:0/device:XLA_CPU:0, XLA_CPU, 0, 0)\n"
          ]
        },
        {
          "output_type": "stream",
          "name": "stderr",
          "text": [
            "INFO:tensorflow:*** Available Device: _DeviceAttributes(/job:worker/replica:0/task:0/device:XLA_CPU:0, XLA_CPU, 0, 0)\n"
          ]
        },
        {
          "output_type": "stream",
          "name": "stdout",
          "text": [
            "REPLICAS:  8\n"
          ]
        }
      ]
    },
    {
      "cell_type": "markdown",
      "metadata": {
        "id": "caVadtLLZwUw"
      },
      "source": [
        "# **Q1**"
      ]
    },
    {
      "cell_type": "code",
      "metadata": {
        "id": "rD4VtVeUcTuI"
      },
      "source": [
        "import pandas as pd\n",
        "import numpy as np\n",
        "import re\n",
        "from transformers import *\n",
        "import random"
      ],
      "execution_count": null,
      "outputs": []
    },
    {
      "cell_type": "code",
      "metadata": {
        "colab": {
          "base_uri": "https://localhost:8080/"
        },
        "id": "AT2eHmxNAp4P",
        "outputId": "9980ee01-e054-43ef-8b04-70352f9b3784"
      },
      "source": [
        "# train\n",
        "!gdown --id 1lct2GyNPE2UwI8geGXRha6j1yU8tksSw\n",
        "\n",
        "# valid\n",
        "!gdown --id 13wDQLk8mXorxghxWFNfhWvXPWPPI27dL\n",
        "\n",
        "# test\n",
        "!gdown --id 1St87-nfaqT5ZyiaDRY_NPy8PbRdTEPAY"
      ],
      "execution_count": null,
      "outputs": [
        {
          "output_type": "stream",
          "name": "stdout",
          "text": [
            "Downloading...\n",
            "From: https://drive.google.com/uc?id=1lct2GyNPE2UwI8geGXRha6j1yU8tksSw\n",
            "To: /content/train.csv\n",
            "20.1MB [00:00, 123MB/s]\n",
            "Downloading...\n",
            "From: https://drive.google.com/uc?id=13wDQLk8mXorxghxWFNfhWvXPWPPI27dL\n",
            "To: /content/valid.csv\n",
            "100% 1.87M/1.87M [00:00<00:00, 59.1MB/s]\n",
            "Downloading...\n",
            "From: https://drive.google.com/uc?id=1St87-nfaqT5ZyiaDRY_NPy8PbRdTEPAY\n",
            "To: /content/test.csv\n",
            "100% 1.81M/1.81M [00:00<00:00, 57.6MB/s]\n"
          ]
        }
      ]
    },
    {
      "cell_type": "code",
      "metadata": {
        "id": "KEeLawlSDQ7J"
      },
      "source": [
        "train = pd.read_csv('train.csv')\n",
        "valid = pd.read_csv('valid.csv')\n",
        "test = pd.read_csv('test.csv')"
      ],
      "execution_count": null,
      "outputs": []
    },
    {
      "cell_type": "code",
      "metadata": {
        "id": "FQ6V00J_RT-I"
      },
      "source": [
        "MODEL_NAME = 'bert-base-uncased'\n",
        "MAX_LEN = 64"
      ],
      "execution_count": null,
      "outputs": []
    },
    {
      "cell_type": "code",
      "metadata": {
        "id": "BfA2mrI-b6xw"
      },
      "source": [
        "def prepare_dataset(data, tokenizer, max_len):\n",
        "\n",
        "  ids = []\n",
        "  masks = []\n",
        "  labels = []\n",
        "  token_ids = []\n",
        "\n",
        "  labels = []\n",
        "  \n",
        "  for row in data.itertuples():\n",
        "    text = row.Input + ' [SEP] ' + row.Output\n",
        "    inputs = tokenizer(text, None, max_length=max_len, padding='max_length', truncation=True, return_attention_mask=True, return_token_type_ids=True, add_special_tokens=True)\n",
        "    ids.append(inputs['input_ids'])\n",
        "    masks.append(inputs['attention_mask'])\n",
        "    token_ids.append(inputs['token_type_ids'])\n",
        "\n",
        "    labels.append(row.Label)\n",
        "\n",
        "  return {\n",
        "      'input_ids': ids,\n",
        "      'attention_mask': masks,\n",
        "      'token_type_ids': token_ids,\n",
        "      'labels': labels\n",
        "      }"
      ],
      "execution_count": null,
      "outputs": []
    },
    {
      "cell_type": "code",
      "metadata": {
        "colab": {
          "base_uri": "https://localhost:8080/",
          "height": 145,
          "referenced_widgets": [
            "d33ce7e9358844a2a0dea4cb221938eb",
            "ac64b006757545329d55c2e8aa5ad11e",
            "2a2fcaa90a404b47bd4d51d0a144f8e7",
            "1df5f24f79a64b559650076360fe0040",
            "cb8cd895ac7d492593504b745a62db18",
            "e0326c2a625e47f9b42e089b0c7092b9",
            "bfb92b153efc41008f5cd95452d2287a",
            "549e528d1fe84047aa97a5d3b2f774ba",
            "28298142d22a4f48be1c72ed7d87aa68",
            "b6baf736d8e04d6d9548a5e5f7b829b0",
            "0f082406a2954a2588ec9b3ceff9c275",
            "c0494dec332447e68ec302d3fac07c95",
            "e111033faaa04de385e11c56bdf6d92a",
            "b947c82695c6482188f3c85f4a2116e0",
            "39011f4ac94d433a84b361f162afca38",
            "85d090fa92d14dafb0323ad0b89accd0",
            "c81f3f23411b4da0b57f4d458992af4b",
            "08e79511a3ca451d83891d1572a92f83",
            "ed5955cffce2498a84093d4988527634",
            "f0debceceddd45f6a92fd05fd7a5d59a",
            "944753b6731148de903a0e8d020b146a",
            "ff855902463e412b8cd0d68095a57148",
            "6a3af145602e4c7a8b1abe0b895a698e",
            "c225a25d82984046aa64fa9a0400ac25",
            "0582761b93014bc5982d5a2fa353fe81",
            "2b13e46748a9405ab528f4e1e98a846c",
            "331389768b1f4eeb81f4ec00a346d42f",
            "19b53b6e1cdd4f71ac3c56a85afdac00",
            "3ad3fc9a2dc94883bc10fa2bd6fe128e",
            "b4b5e2b9956743dd92cc7cfbbc7a8af4",
            "ea7bf1edabdb48119b36d639bcff3e32",
            "5a3bc1b87f9b4d2cbf53886b385daca1",
            "589bf1eb35504388bfb309a64c087f60",
            "dff862e8f00e42e0b79ca3022953b9ec",
            "c603c6a724324e40acacb37aad62717b",
            "0664fc30f0c147f992a7bf550c2dec1e",
            "0e3c4fa6e6154d1c957993124d5538f3",
            "8d7f0d4621084c56a6577a6be4ae7daf",
            "a5411ccd1b8d4e64b524a3717ecf192d",
            "d22f8e6e5e4a46cd8988046699fcf76d",
            "87ed7758ff494ca0af64319e3df950cb",
            "e35e1e1e1c234da59995a3735ba79487",
            "d51d7090b8fe4617b445580b725eb00e",
            "3799e76b0990442380eaa2a925ee1915"
          ]
        },
        "id": "0oFYFsevgZsF",
        "outputId": "99a45ca9-4951-401b-9bac-98472a707850"
      },
      "source": [
        "tokenizer = AutoTokenizer.from_pretrained(MODEL_NAME)\n",
        "tokenizer.add_special_tokens({'pad_token': '[PAD]'})\n",
        "\n",
        "training_set = prepare_dataset(train, tokenizer, MAX_LEN)\n",
        "validating_set = prepare_dataset(valid, tokenizer, MAX_LEN)\n",
        "testting_set = prepare_dataset(test, tokenizer, MAX_LEN)"
      ],
      "execution_count": null,
      "outputs": [
        {
          "output_type": "display_data",
          "data": {
            "application/vnd.jupyter.widget-view+json": {
              "model_id": "d33ce7e9358844a2a0dea4cb221938eb",
              "version_minor": 0,
              "version_major": 2
            },
            "text/plain": [
              "Downloading:   0%|          | 0.00/28.0 [00:00<?, ?B/s]"
            ]
          },
          "metadata": {}
        },
        {
          "output_type": "display_data",
          "data": {
            "application/vnd.jupyter.widget-view+json": {
              "model_id": "c0494dec332447e68ec302d3fac07c95",
              "version_minor": 0,
              "version_major": 2
            },
            "text/plain": [
              "Downloading:   0%|          | 0.00/570 [00:00<?, ?B/s]"
            ]
          },
          "metadata": {}
        },
        {
          "output_type": "display_data",
          "data": {
            "application/vnd.jupyter.widget-view+json": {
              "model_id": "6a3af145602e4c7a8b1abe0b895a698e",
              "version_minor": 0,
              "version_major": 2
            },
            "text/plain": [
              "Downloading:   0%|          | 0.00/226k [00:00<?, ?B/s]"
            ]
          },
          "metadata": {}
        },
        {
          "output_type": "display_data",
          "data": {
            "application/vnd.jupyter.widget-view+json": {
              "model_id": "dff862e8f00e42e0b79ca3022953b9ec",
              "version_minor": 0,
              "version_major": 2
            },
            "text/plain": [
              "Downloading:   0%|          | 0.00/455k [00:00<?, ?B/s]"
            ]
          },
          "metadata": {}
        }
      ]
    },
    {
      "cell_type": "code",
      "metadata": {
        "id": "nNpIsPOCJrRE"
      },
      "source": [
        "import tensorflow as tf\n",
        "from tensorflow.keras.layers import * \n",
        "from tensorflow.keras import optimizers, losses, layers\n",
        "from tensorflow.keras.models import Model\n",
        "from tensorflow.keras.utils import to_categorical\n",
        "from sklearn.metrics import accuracy_score\n",
        "from sklearn.metrics import recall_score\n",
        "from sklearn.metrics import precision_score\n",
        "import matplotlib.pyplot as plt"
      ],
      "execution_count": null,
      "outputs": []
    },
    {
      "cell_type": "code",
      "metadata": {
        "id": "kTblNya1YyCq"
      },
      "source": [
        "def get_model(MAX_LEN, MODEL_NAME):\n",
        "\n",
        "  input_ids = Input(shape=(MAX_LEN,), dtype=tf.int32)\n",
        "  attention_mask = Input(shape=(MAX_LEN,), dtype=tf.int32)\n",
        "  token_type_ids = Input(shape=(MAX_LEN,), dtype=tf.int32)\n",
        "    \n",
        "  encoder = TFAutoModel.from_pretrained(MODEL_NAME, return_dict=True)\n",
        "\n",
        "  pooler_outputs = encoder({\"input_ids\": input_ids, \"token_type_ids\": token_type_ids, \"attention_mask\": attention_mask}, training=True).pooler_output\n",
        "\n",
        "  dense_layer = Dense(256, activation='relu', name='dense_layer1')(pooler_outputs)\n",
        "  dropout = Dropout(0.25)(dense_layer)\n",
        "  output = Dense(1, activation='sigmoid')(dropout)\n",
        "    \n",
        "  model = Model(inputs=[input_ids, attention_mask, token_type_ids], outputs=output)\n",
        "\n",
        "  optimizer = optimizers.Adam(lr=2e-5)\n",
        "  loss = losses.binary_crossentropy\n",
        "\n",
        "  model.compile(loss=loss, optimizer=optimizer, metrics=['accuracy'])\n",
        "  \n",
        "  return model"
      ],
      "execution_count": null,
      "outputs": []
    },
    {
      "cell_type": "code",
      "metadata": {
        "colab": {
          "base_uri": "https://localhost:8080/",
          "height": 1000,
          "referenced_widgets": [
            "36e185a9381540a4a680045ccb9173ca",
            "30bf546d610a4d1da3f4250316b13d52",
            "4af0938249924807b90a2b54375a0bf7",
            "21ffcc096c9c4fa6805b9cbd09016a5d",
            "acc70abef482449e901ac2949659029a",
            "b94150c9440446ea86d143f40eb154e0",
            "50da3f15a3a04734aead407fcee8043f",
            "d68324e38ede4304b0c2bb86bbf7970e",
            "768f77d361f04039b814bae7b3459421",
            "f13ed66174b54316947a6aeb8964f384",
            "a238ec80f0374926b28a8ac4ca058a21"
          ]
        },
        "id": "TtKrQCcyZerF",
        "outputId": "5405ce63-016b-4e19-cf05-49ab5ba51975"
      },
      "source": [
        "with strategy.scope():\n",
        "  model = get_model(MAX_LEN, MODEL_NAME)\n",
        "\n",
        "model.summary()\n",
        "\n",
        "tf.keras.utils.plot_model(model, to_file='./model.png', show_shapes=True)"
      ],
      "execution_count": null,
      "outputs": [
        {
          "output_type": "display_data",
          "data": {
            "application/vnd.jupyter.widget-view+json": {
              "model_id": "36e185a9381540a4a680045ccb9173ca",
              "version_minor": 0,
              "version_major": 2
            },
            "text/plain": [
              "Downloading:   0%|          | 0.00/511M [00:00<?, ?B/s]"
            ]
          },
          "metadata": {}
        },
        {
          "output_type": "stream",
          "name": "stderr",
          "text": [
            "Some layers from the model checkpoint at bert-base-uncased were not used when initializing TFBertModel: ['nsp___cls', 'mlm___cls']\n",
            "- This IS expected if you are initializing TFBertModel from the checkpoint of a model trained on another task or with another architecture (e.g. initializing a BertForSequenceClassification model from a BertForPreTraining model).\n",
            "- This IS NOT expected if you are initializing TFBertModel from the checkpoint of a model that you expect to be exactly identical (initializing a BertForSequenceClassification model from a BertForSequenceClassification model).\n",
            "All the layers of TFBertModel were initialized from the model checkpoint at bert-base-uncased.\n",
            "If your task is similar to the task the model of the checkpoint was trained on, you can already use TFBertModel for predictions without further training.\n",
            "/usr/local/lib/python3.7/dist-packages/keras/optimizer_v2/optimizer_v2.py:356: UserWarning: The `lr` argument is deprecated, use `learning_rate` instead.\n",
            "  \"The `lr` argument is deprecated, use `learning_rate` instead.\")\n"
          ]
        },
        {
          "output_type": "stream",
          "name": "stdout",
          "text": [
            "Model: \"model\"\n",
            "__________________________________________________________________________________________________\n",
            "Layer (type)                    Output Shape         Param #     Connected to                     \n",
            "==================================================================================================\n",
            "input_2 (InputLayer)            [(None, 64)]         0                                            \n",
            "__________________________________________________________________________________________________\n",
            "input_1 (InputLayer)            [(None, 64)]         0                                            \n",
            "__________________________________________________________________________________________________\n",
            "input_3 (InputLayer)            [(None, 64)]         0                                            \n",
            "__________________________________________________________________________________________________\n",
            "tf_bert_model (TFBertModel)     TFBaseModelOutputWit 109482240   input_2[0][0]                    \n",
            "                                                                 input_1[0][0]                    \n",
            "                                                                 input_3[0][0]                    \n",
            "__________________________________________________________________________________________________\n",
            "dense_layer1 (Dense)            (None, 256)          196864      tf_bert_model[0][1]              \n",
            "__________________________________________________________________________________________________\n",
            "dropout_37 (Dropout)            (None, 256)          0           dense_layer1[0][0]               \n",
            "__________________________________________________________________________________________________\n",
            "dense (Dense)                   (None, 1)            257         dropout_37[0][0]                 \n",
            "==================================================================================================\n",
            "Total params: 109,679,361\n",
            "Trainable params: 109,679,361\n",
            "Non-trainable params: 0\n",
            "__________________________________________________________________________________________________\n"
          ]
        },
        {
          "output_type": "execute_result",
          "data": {
            "image/png": "[encoded data removed]",
            "text/plain": [
              "<IPython.core.display.Image object>"
            ]
          },
          "metadata": {},
          "execution_count": 11
        }
      ]
    },
    {
      "cell_type": "code",
      "metadata": {
        "id": "L2pFWJi2JmTz"
      },
      "source": [
        "x_train = [np.array(training_set['input_ids'], dtype=int), np.array(training_set['attention_mask'], dtype=int), np.array(training_set['token_type_ids'], dtype=int)]\n",
        "x_valid = [np.array(validating_set['input_ids'], dtype=int), np.array(validating_set['attention_mask'], dtype=int), np.array(validating_set['token_type_ids'], dtype=int)]\n",
        "x_test = [np.array(testting_set['input_ids'], dtype=int), np.array(testting_set['attention_mask'], dtype=int), np.array(testting_set['token_type_ids'], dtype=int)]\n",
        "\n",
        "y_train = train.Label\n",
        "y_valid = valid.Label\n",
        "y_test = test.Label"
      ],
      "execution_count": null,
      "outputs": []
    },
    {
      "cell_type": "code",
      "metadata": {
        "colab": {
          "base_uri": "https://localhost:8080/"
        },
        "id": "R62c5yRYKIJL",
        "outputId": "3ea8a9b1-1751-4208-e6d0-597e032981b6"
      },
      "source": [
        "history = model.fit(\n",
        "    x_train,\n",
        "    y_train,\n",
        "    validation_data = (x_valid, y_valid),\n",
        "    epochs=3,\n",
        "    verbose=1,\n",
        "    batch_size=32)"
      ],
      "execution_count": null,
      "outputs": [
        {
          "output_type": "stream",
          "name": "stdout",
          "text": [
            "Epoch 1/3\n"
          ]
        },
        {
          "output_type": "stream",
          "name": "stderr",
          "text": [
            "INFO:absl:TPU has inputs with dynamic shapes: [<tf.Tensor 'Const:0' shape=() dtype=int32>, <tf.Tensor 'cond_8/Identity:0' shape=(None, 64) dtype=int64>, <tf.Tensor 'cond_8/Identity_1:0' shape=(None, 64) dtype=int64>, <tf.Tensor 'cond_8/Identity_2:0' shape=(None, 64) dtype=int64>, <tf.Tensor 'cond_8/Identity_3:0' shape=(None,) dtype=int64>]\n",
            "INFO:absl:TPU has inputs with dynamic shapes: [<tf.Tensor 'Const:0' shape=() dtype=int32>, <tf.Tensor 'cond_8/Identity:0' shape=(None, 64) dtype=int64>, <tf.Tensor 'cond_8/Identity_1:0' shape=(None, 64) dtype=int64>, <tf.Tensor 'cond_8/Identity_2:0' shape=(None, 64) dtype=int64>, <tf.Tensor 'cond_8/Identity_3:0' shape=(None,) dtype=int64>]\n"
          ]
        },
        {
          "output_type": "stream",
          "name": "stdout",
          "text": [
            "4754/4754 [==============================] - ETA: 0s - loss: 0.3384 - accuracy: 0.8435"
          ]
        },
        {
          "output_type": "stream",
          "name": "stderr",
          "text": [
            "INFO:absl:TPU has inputs with dynamic shapes: [<tf.Tensor 'Const:0' shape=() dtype=int32>, <tf.Tensor 'cond_8/Identity:0' shape=(None, 64) dtype=int64>, <tf.Tensor 'cond_8/Identity_1:0' shape=(None, 64) dtype=int64>, <tf.Tensor 'cond_8/Identity_2:0' shape=(None, 64) dtype=int64>, <tf.Tensor 'cond_8/Identity_3:0' shape=(None,) dtype=int64>]\n"
          ]
        },
        {
          "output_type": "stream",
          "name": "stdout",
          "text": [
            "4754/4754 [==============================] - 456s 79ms/step - loss: 0.3384 - accuracy: 0.8435 - val_loss: 0.2874 - val_accuracy: 0.8747\n",
            "Epoch 2/3\n",
            "4754/4754 [==============================] - 318s 67ms/step - loss: 0.1972 - accuracy: 0.9181 - val_loss: 0.2811 - val_accuracy: 0.8798\n",
            "Epoch 3/3\n",
            "4754/4754 [==============================] - 316s 67ms/step - loss: 0.1187 - accuracy: 0.9521 - val_loss: 0.3278 - val_accuracy: 0.8810\n"
          ]
        }
      ]
    },
    {
      "cell_type": "code",
      "metadata": {
        "colab": {
          "base_uri": "https://localhost:8080/",
          "height": 299
        },
        "id": "XpgYNbLXbO8U",
        "outputId": "14200c65-ed92-4d27-efd8-ced09835b84d"
      },
      "source": [
        "import matplotlib.pyplot as plt\n",
        "\n",
        "plt.style.use('ggplot')\n",
        "\n",
        "plt.plot(history.history['loss'])\n",
        "plt.plot(history.history['val_loss'])\n",
        "plt.title('Model Loss')\n",
        "plt.ylabel('loss')\n",
        "plt.xlabel('epoch')\n",
        "plt.legend(['train', 'validation'], loc='upper left')\n",
        "plt.show()"
      ],
      "execution_count": null,
      "outputs": [
        {
          "output_type": "display_data",
          "data": {
            "image/png": "[encoded data removed]",
            "text/plain": [
              "<Figure size 432x288 with 1 Axes>"
            ]
          },
          "metadata": {}
        }
      ]
    },
    {
      "cell_type": "code",
      "metadata": {
        "colab": {
          "base_uri": "https://localhost:8080/",
          "height": 299
        },
        "id": "KXz51vQubQSc",
        "outputId": "09d2c12d-b06d-4765-a2d1-f31214eb5f2e"
      },
      "source": [
        "plt.plot(history.history['accuracy'])\n",
        "plt.plot(history.history['val_accuracy'])\n",
        "plt.title('Model Accuracy')\n",
        "plt.ylabel('accuracy')\n",
        "plt.xlabel('epoch')\n",
        "plt.legend(['train', 'validation'], loc='upper left')\n",
        "plt.show()"
      ],
      "execution_count": null,
      "outputs": [
        {
          "output_type": "display_data",
          "data": {
            "image/png": "[encoded data removed]",
            "text/plain": [
              "<Figure size 432x288 with 1 Axes>"
            ]
          },
          "metadata": {}
        }
      ]
    },
    {
      "cell_type": "code",
      "metadata": {
        "colab": {
          "base_uri": "https://localhost:8080/"
        },
        "id": "46kEY99UGDse",
        "outputId": "10483b55-eac0-423b-b3ca-6ec49fdadda2"
      },
      "source": [
        "predictions = model.predict(x_test)"
      ],
      "execution_count": null,
      "outputs": [
        {
          "output_type": "stream",
          "name": "stderr",
          "text": [
            "INFO:absl:TPU has inputs with dynamic shapes: [<tf.Tensor 'Const:0' shape=() dtype=int32>, <tf.Tensor 'cond_8/Identity:0' shape=(None, 64) dtype=int64>, <tf.Tensor 'cond_8/Identity_1:0' shape=(None, 64) dtype=int64>, <tf.Tensor 'cond_8/Identity_2:0' shape=(None, 64) dtype=int64>]\n"
          ]
        }
      ]
    },
    {
      "cell_type": "code",
      "metadata": {
        "colab": {
          "base_uri": "https://localhost:8080/"
        },
        "id": "AFLZO-aWG-BM",
        "outputId": "bd2f87f3-4d87-4c31-b059-b7fbe75019b5"
      },
      "source": [
        "import optuna\n",
        "\n",
        "def objective(trial):\n",
        "\n",
        "  sig_threshold = trial.suggest_float(\"sig_threshold\", 0.0, 1.0)\n",
        "  print(\"sig_threshold\", sig_threshold)\n",
        "\n",
        "  pred_labels = [1 if predictions[i] > sig_threshold else 0 for i in range(len(testting_set['labels']))]\n",
        "\n",
        "  acc = accuracy_score(testting_set['labels'], pred_labels)\n",
        "  print(\"acc\", acc)\n",
        "\n",
        "  return acc\n",
        "\n",
        "study = optuna.create_study(direction=\"maximize\")\n",
        "study.optimize(objective, n_trials=100)"
      ],
      "execution_count": null,
      "outputs": [
        {
          "output_type": "stream",
          "name": "stderr",
          "text": [
            "\u001b[32m[I 2021-10-05 13:19:31,959]\u001b[0m A new study created in memory with name: no-name-1a5e68cb-384a-4a4a-94ca-9cb707e4ce48\u001b[0m\n",
            "\u001b[32m[I 2021-10-05 13:19:32,007]\u001b[0m Trial 0 finished with value: 0.8719584569732938 and parameters: {'sig_threshold': 0.22949403042797212}. Best is trial 0 with value: 0.8719584569732938.\u001b[0m\n",
            "\u001b[32m[I 2021-10-05 13:19:32,046]\u001b[0m Trial 1 finished with value: 0.8659495548961424 and parameters: {'sig_threshold': 0.17630886935296985}. Best is trial 0 with value: 0.8719584569732938.\u001b[0m\n",
            "\u001b[32m[I 2021-10-05 13:19:32,083]\u001b[0m Trial 2 finished with value: 0.8301186943620178 and parameters: {'sig_threshold': 0.03831039169529282}. Best is trial 0 with value: 0.8719584569732938.\u001b[0m\n",
            "\u001b[32m[I 2021-10-05 13:19:32,120]\u001b[0m Trial 3 finished with value: 0.8850890207715133 and parameters: {'sig_threshold': 0.5534431951124599}. Best is trial 3 with value: 0.8850890207715133.\u001b[0m\n",
            "\u001b[32m[I 2021-10-05 13:19:32,154]\u001b[0m Trial 4 finished with value: 0.8841988130563798 and parameters: {'sig_threshold': 0.46235188686278617}. Best is trial 3 with value: 0.8850890207715133.\u001b[0m\n"
          ]
        },
        {
          "output_type": "stream",
          "name": "stdout",
          "text": [
            "sig_threshold 0.22949403042797212\n",
            "acc 0.8719584569732938\n",
            "sig_threshold 0.17630886935296985\n",
            "acc 0.8659495548961424\n",
            "sig_threshold 0.03831039169529282\n",
            "acc 0.8301186943620178\n",
            "sig_threshold 0.5534431951124599\n",
            "acc 0.8850890207715133\n",
            "sig_threshold 0.46235188686278617\n",
            "acc 0.8841988130563798\n",
            "sig_threshold 0.002164806188298174\n"
          ]
        },
        {
          "output_type": "stream",
          "name": "stderr",
          "text": [
            "\u001b[32m[I 2021-10-05 13:19:32,194]\u001b[0m Trial 5 finished with value: 0.7328635014836795 and parameters: {'sig_threshold': 0.002164806188298174}. Best is trial 3 with value: 0.8850890207715133.\u001b[0m\n",
            "\u001b[32m[I 2021-10-05 13:19:32,229]\u001b[0m Trial 6 finished with value: 0.8247774480712167 and parameters: {'sig_threshold': 0.03191461254064398}. Best is trial 3 with value: 0.8850890207715133.\u001b[0m\n",
            "\u001b[32m[I 2021-10-05 13:19:32,263]\u001b[0m Trial 7 finished with value: 0.8863501483679526 and parameters: {'sig_threshold': 0.7376784128112917}. Best is trial 7 with value: 0.8863501483679526.\u001b[0m\n",
            "\u001b[32m[I 2021-10-05 13:19:32,300]\u001b[0m Trial 8 finished with value: 0.8813056379821959 and parameters: {'sig_threshold': 0.35266053322543767}. Best is trial 7 with value: 0.8863501483679526.\u001b[0m\n",
            "\u001b[32m[I 2021-10-05 13:19:32,334]\u001b[0m Trial 9 finished with value: 0.8793768545994065 and parameters: {'sig_threshold': 0.2984051084209426}. Best is trial 7 with value: 0.8863501483679526.\u001b[0m\n",
            "\u001b[32m[I 2021-10-05 13:19:32,388]\u001b[0m Trial 10 finished with value: 0.8738872403560831 and parameters: {'sig_threshold': 0.8717526650712526}. Best is trial 7 with value: 0.8863501483679526.\u001b[0m\n"
          ]
        },
        {
          "output_type": "stream",
          "name": "stdout",
          "text": [
            "acc 0.7328635014836795\n",
            "sig_threshold 0.03191461254064398\n",
            "acc 0.8247774480712167\n",
            "sig_threshold 0.7376784128112917\n",
            "acc 0.8863501483679526\n",
            "sig_threshold 0.35266053322543767\n",
            "acc 0.8813056379821959\n",
            "sig_threshold 0.2984051084209426\n",
            "acc 0.8793768545994065\n",
            "sig_threshold 0.8717526650712526\n",
            "acc 0.8738872403560831\n",
            "sig_threshold 0.7548504603930947\n"
          ]
        },
        {
          "output_type": "stream",
          "name": "stderr",
          "text": [
            "\u001b[32m[I 2021-10-05 13:19:32,428]\u001b[0m Trial 11 finished with value: 0.8856824925816024 and parameters: {'sig_threshold': 0.7548504603930947}. Best is trial 7 with value: 0.8863501483679526.\u001b[0m\n",
            "\u001b[32m[I 2021-10-05 13:19:32,466]\u001b[0m Trial 12 finished with value: 0.8839762611275964 and parameters: {'sig_threshold': 0.7851844275146432}. Best is trial 7 with value: 0.8863501483679526.\u001b[0m\n",
            "\u001b[32m[I 2021-10-05 13:19:32,505]\u001b[0m Trial 13 finished with value: 0.8871661721068249 and parameters: {'sig_threshold': 0.6842391477231423}. Best is trial 13 with value: 0.8871661721068249.\u001b[0m\n",
            "\u001b[32m[I 2021-10-05 13:19:32,546]\u001b[0m Trial 14 finished with value: 0.8875370919881306 and parameters: {'sig_threshold': 0.6050553623940037}. Best is trial 14 with value: 0.8875370919881306.\u001b[0m\n",
            "\u001b[32m[I 2021-10-05 13:19:32,588]\u001b[0m Trial 15 finished with value: 0.8861275964391692 and parameters: {'sig_threshold': 0.5748591975237594}. Best is trial 14 with value: 0.8875370919881306.\u001b[0m\n",
            "\u001b[32m[I 2021-10-05 13:19:32,624]\u001b[0m Trial 16 finished with value: 0.7434718100890207 and parameters: {'sig_threshold': 0.9935726600785686}. Best is trial 14 with value: 0.8875370919881306.\u001b[0m\n"
          ]
        },
        {
          "output_type": "stream",
          "name": "stdout",
          "text": [
            "acc 0.8856824925816024\n",
            "sig_threshold 0.7851844275146432\n",
            "acc 0.8839762611275964\n",
            "sig_threshold 0.6842391477231423\n",
            "acc 0.8871661721068249\n",
            "sig_threshold 0.6050553623940037\n",
            "acc 0.8875370919881306\n",
            "sig_threshold 0.5748591975237594\n",
            "acc 0.8861275964391692\n",
            "sig_threshold 0.9935726600785686\n",
            "acc 0.7434718100890207\n",
            "sig_threshold 0.6393473388752365\n"
          ]
        },
        {
          "output_type": "stream",
          "name": "stderr",
          "text": [
            "\u001b[32m[I 2021-10-05 13:19:32,662]\u001b[0m Trial 17 finished with value: 0.8863501483679526 and parameters: {'sig_threshold': 0.6393473388752365}. Best is trial 14 with value: 0.8875370919881306.\u001b[0m\n",
            "\u001b[32m[I 2021-10-05 13:19:32,698]\u001b[0m Trial 18 finished with value: 0.8827151335311573 and parameters: {'sig_threshold': 0.3972851290514321}. Best is trial 14 with value: 0.8875370919881306.\u001b[0m\n",
            "\u001b[32m[I 2021-10-05 13:19:32,737]\u001b[0m Trial 19 finished with value: 0.8867210682492581 and parameters: {'sig_threshold': 0.6214841438063289}. Best is trial 14 with value: 0.8875370919881306.\u001b[0m\n",
            "\u001b[32m[I 2021-10-05 13:19:32,775]\u001b[0m Trial 20 finished with value: 0.8748516320474777 and parameters: {'sig_threshold': 0.8631940272184864}. Best is trial 14 with value: 0.8875370919881306.\u001b[0m\n",
            "\u001b[32m[I 2021-10-05 13:19:32,817]\u001b[0m Trial 21 finished with value: 0.8862017804154303 and parameters: {'sig_threshold': 0.6519328874153223}. Best is trial 14 with value: 0.8875370919881306.\u001b[0m\n",
            "\u001b[32m[I 2021-10-05 13:19:32,855]\u001b[0m Trial 22 finished with value: 0.8864985163204748 and parameters: {'sig_threshold': 0.6439104971351809}. Best is trial 14 with value: 0.8875370919881306.\u001b[0m\n"
          ]
        },
        {
          "output_type": "stream",
          "name": "stdout",
          "text": [
            "acc 0.8863501483679526\n",
            "sig_threshold 0.3972851290514321\n",
            "acc 0.8827151335311573\n",
            "sig_threshold 0.6214841438063289\n",
            "acc 0.8867210682492581\n",
            "sig_threshold 0.8631940272184864\n",
            "acc 0.8748516320474777\n",
            "sig_threshold 0.6519328874153223\n",
            "acc 0.8862017804154303\n",
            "sig_threshold 0.6439104971351809\n",
            "acc 0.8864985163204748\n",
            "sig_threshold 0.48414750777281684\n"
          ]
        },
        {
          "output_type": "stream",
          "name": "stderr",
          "text": [
            "\u001b[32m[I 2021-10-05 13:19:32,897]\u001b[0m Trial 23 finished with value: 0.8844955489614243 and parameters: {'sig_threshold': 0.48414750777281684}. Best is trial 14 with value: 0.8875370919881306.\u001b[0m\n",
            "\u001b[32m[I 2021-10-05 13:19:32,933]\u001b[0m Trial 24 finished with value: 0.885459940652819 and parameters: {'sig_threshold': 0.5590831598261123}. Best is trial 14 with value: 0.8875370919881306.\u001b[0m\n",
            "\u001b[32m[I 2021-10-05 13:19:32,969]\u001b[0m Trial 25 finished with value: 0.8873145400593472 and parameters: {'sig_threshold': 0.6752211484204499}. Best is trial 14 with value: 0.8875370919881306.\u001b[0m\n",
            "\u001b[32m[I 2021-10-05 13:19:33,007]\u001b[0m Trial 26 finished with value: 0.8784124629080119 and parameters: {'sig_threshold': 0.8382889792013613}. Best is trial 14 with value: 0.8875370919881306.\u001b[0m\n",
            "\u001b[32m[I 2021-10-05 13:19:33,045]\u001b[0m Trial 27 finished with value: 0.8863501483679526 and parameters: {'sig_threshold': 0.7115921591064305}. Best is trial 14 with value: 0.8875370919881306.\u001b[0m\n",
            "\u001b[32m[I 2021-10-05 13:19:33,084]\u001b[0m Trial 28 finished with value: 0.8548961424332344 and parameters: {'sig_threshold': 0.930045945101177}. Best is trial 14 with value: 0.8875370919881306.\u001b[0m\n"
          ]
        },
        {
          "output_type": "stream",
          "name": "stdout",
          "text": [
            "acc 0.8844955489614243\n",
            "sig_threshold 0.5590831598261123\n",
            "acc 0.885459940652819\n",
            "sig_threshold 0.6752211484204499\n",
            "acc 0.8873145400593472\n",
            "sig_threshold 0.8382889792013613\n",
            "acc 0.8784124629080119\n",
            "sig_threshold 0.7115921591064305\n",
            "acc 0.8863501483679526\n",
            "sig_threshold 0.930045945101177\n",
            "acc 0.8548961424332344\n",
            "sig_threshold 0.4288977010638711\n"
          ]
        },
        {
          "output_type": "stream",
          "name": "stderr",
          "text": [
            "\u001b[32m[I 2021-10-05 13:19:33,128]\u001b[0m Trial 29 finished with value: 0.8834569732937686 and parameters: {'sig_threshold': 0.4288977010638711}. Best is trial 14 with value: 0.8875370919881306.\u001b[0m\n",
            "\u001b[32m[I 2021-10-05 13:19:33,168]\u001b[0m Trial 30 finished with value: 0.8847922848664689 and parameters: {'sig_threshold': 0.5291277564634413}. Best is trial 14 with value: 0.8875370919881306.\u001b[0m\n",
            "\u001b[32m[I 2021-10-05 13:19:33,203]\u001b[0m Trial 31 finished with value: 0.8870178041543026 and parameters: {'sig_threshold': 0.6862002199117618}. Best is trial 14 with value: 0.8875370919881306.\u001b[0m\n",
            "\u001b[32m[I 2021-10-05 13:19:33,241]\u001b[0m Trial 32 finished with value: 0.8869436201780415 and parameters: {'sig_threshold': 0.6974389579586266}. Best is trial 14 with value: 0.8875370919881306.\u001b[0m\n",
            "\u001b[32m[I 2021-10-05 13:19:33,276]\u001b[0m Trial 33 finished with value: 0.8804154302670623 and parameters: {'sig_threshold': 0.8131345892406612}. Best is trial 14 with value: 0.8875370919881306.\u001b[0m\n",
            "\u001b[32m[I 2021-10-05 13:19:33,312]\u001b[0m Trial 34 finished with value: 0.887240356083086 and parameters: {'sig_threshold': 0.680967619886876}. Best is trial 14 with value: 0.8875370919881306.\u001b[0m\n"
          ]
        },
        {
          "output_type": "stream",
          "name": "stdout",
          "text": [
            "acc 0.8834569732937686\n",
            "sig_threshold 0.5291277564634413\n",
            "acc 0.8847922848664689\n",
            "sig_threshold 0.6862002199117618\n",
            "acc 0.8870178041543026\n",
            "sig_threshold 0.6974389579586266\n",
            "acc 0.8869436201780415\n",
            "sig_threshold 0.8131345892406612\n",
            "acc 0.8804154302670623\n",
            "sig_threshold 0.680967619886876\n",
            "acc 0.887240356083086\n",
            "sig_threshold 0.5868419998527324\n"
          ]
        },
        {
          "output_type": "stream",
          "name": "stderr",
          "text": [
            "\u001b[32m[I 2021-10-05 13:19:33,352]\u001b[0m Trial 35 finished with value: 0.8868694362017804 and parameters: {'sig_threshold': 0.5868419998527324}. Best is trial 14 with value: 0.8875370919881306.\u001b[0m\n",
            "\u001b[32m[I 2021-10-05 13:19:33,387]\u001b[0m Trial 36 finished with value: 0.8853115727002967 and parameters: {'sig_threshold': 0.4962021501489705}. Best is trial 14 with value: 0.8875370919881306.\u001b[0m\n",
            "\u001b[32m[I 2021-10-05 13:19:33,427]\u001b[0m Trial 37 finished with value: 0.8856083086053412 and parameters: {'sig_threshold': 0.7595319489927176}. Best is trial 14 with value: 0.8875370919881306.\u001b[0m\n",
            "\u001b[32m[I 2021-10-05 13:19:33,465]\u001b[0m Trial 38 finished with value: 0.8735163204747775 and parameters: {'sig_threshold': 0.24128549299716262}. Best is trial 14 with value: 0.8875370919881306.\u001b[0m\n",
            "\u001b[32m[I 2021-10-05 13:19:33,502]\u001b[0m Trial 39 finished with value: 0.8632047477744808 and parameters: {'sig_threshold': 0.9144696945025963}. Best is trial 14 with value: 0.8875370919881306.\u001b[0m\n",
            "\u001b[32m[I 2021-10-05 13:19:33,548]\u001b[0m Trial 40 finished with value: 0.8560830860534124 and parameters: {'sig_threshold': 0.1060962878706656}. Best is trial 14 with value: 0.8875370919881306.\u001b[0m\n"
          ]
        },
        {
          "output_type": "stream",
          "name": "stdout",
          "text": [
            "acc 0.8868694362017804\n",
            "sig_threshold 0.4962021501489705\n",
            "acc 0.8853115727002967\n",
            "sig_threshold 0.7595319489927176\n",
            "acc 0.8856083086053412\n",
            "sig_threshold 0.24128549299716262\n",
            "acc 0.8735163204747775\n",
            "sig_threshold 0.9144696945025963\n",
            "acc 0.8632047477744808\n",
            "sig_threshold 0.1060962878706656\n",
            "acc 0.8560830860534124\n",
            "sig_threshold 0.6858500312700013\n"
          ]
        },
        {
          "output_type": "stream",
          "name": "stderr",
          "text": [
            "\u001b[32m[I 2021-10-05 13:19:33,588]\u001b[0m Trial 41 finished with value: 0.8870919881305638 and parameters: {'sig_threshold': 0.6858500312700013}. Best is trial 14 with value: 0.8875370919881306.\u001b[0m\n",
            "\u001b[32m[I 2021-10-05 13:19:33,630]\u001b[0m Trial 42 finished with value: 0.8871661721068249 and parameters: {'sig_threshold': 0.6816604851042423}. Best is trial 14 with value: 0.8875370919881306.\u001b[0m\n",
            "\u001b[32m[I 2021-10-05 13:19:33,668]\u001b[0m Trial 43 finished with value: 0.8874629080118694 and parameters: {'sig_threshold': 0.6052868590514943}. Best is trial 14 with value: 0.8875370919881306.\u001b[0m\n",
            "\u001b[32m[I 2021-10-05 13:19:33,707]\u001b[0m Trial 44 finished with value: 0.887759643916914 and parameters: {'sig_threshold': 0.6119053114350225}. Best is trial 44 with value: 0.887759643916914.\u001b[0m\n",
            "\u001b[32m[I 2021-10-05 13:19:33,745]\u001b[0m Trial 45 finished with value: 0.887759643916914 and parameters: {'sig_threshold': 0.6104439360828924}. Best is trial 44 with value: 0.887759643916914.\u001b[0m\n",
            "\u001b[32m[I 2021-10-05 13:19:33,787]\u001b[0m Trial 46 finished with value: 0.8850148367952523 and parameters: {'sig_threshold': 0.5262539480933417}. Best is trial 44 with value: 0.887759643916914.\u001b[0m\n"
          ]
        },
        {
          "output_type": "stream",
          "name": "stdout",
          "text": [
            "acc 0.8870919881305638\n",
            "sig_threshold 0.6816604851042423\n",
            "acc 0.8871661721068249\n",
            "sig_threshold 0.6052868590514943\n",
            "acc 0.8874629080118694\n",
            "sig_threshold 0.6119053114350225\n",
            "acc 0.887759643916914\n",
            "sig_threshold 0.6104439360828924\n",
            "acc 0.887759643916914\n",
            "sig_threshold 0.5262539480933417\n",
            "acc 0.8850148367952523\n"
          ]
        },
        {
          "output_type": "stream",
          "name": "stderr",
          "text": [
            "\u001b[32m[I 2021-10-05 13:19:33,833]\u001b[0m Trial 47 finished with value: 0.8870178041543026 and parameters: {'sig_threshold': 0.5988679079332488}. Best is trial 44 with value: 0.887759643916914.\u001b[0m\n",
            "\u001b[32m[I 2021-10-05 13:19:33,876]\u001b[0m Trial 48 finished with value: 0.8836053412462908 and parameters: {'sig_threshold': 0.43726215036332516}. Best is trial 44 with value: 0.887759643916914.\u001b[0m\n",
            "\u001b[32m[I 2021-10-05 13:19:33,916]\u001b[0m Trial 49 finished with value: 0.8847922848664689 and parameters: {'sig_threshold': 0.5347379904166996}. Best is trial 44 with value: 0.887759643916914.\u001b[0m\n",
            "\u001b[32m[I 2021-10-05 13:19:33,954]\u001b[0m Trial 50 finished with value: 0.8815281899109793 and parameters: {'sig_threshold': 0.3609716819110794}. Best is trial 44 with value: 0.887759643916914.\u001b[0m\n",
            "\u001b[32m[I 2021-10-05 13:19:33,991]\u001b[0m Trial 51 finished with value: 0.8856824925816024 and parameters: {'sig_threshold': 0.7538217876957671}. Best is trial 44 with value: 0.887759643916914.\u001b[0m\n"
          ]
        },
        {
          "output_type": "stream",
          "name": "stdout",
          "text": [
            "sig_threshold 0.5988679079332488\n",
            "acc 0.8870178041543026\n",
            "sig_threshold 0.43726215036332516\n",
            "acc 0.8836053412462908\n",
            "sig_threshold 0.5347379904166996\n",
            "acc 0.8847922848664689\n",
            "sig_threshold 0.3609716819110794\n",
            "acc 0.8815281899109793\n",
            "sig_threshold 0.7538217876957671\n",
            "acc 0.8856824925816024\n",
            "sig_threshold 0.6017317547515225\n"
          ]
        },
        {
          "output_type": "stream",
          "name": "stderr",
          "text": [
            "\u001b[32m[I 2021-10-05 13:19:34,041]\u001b[0m Trial 52 finished with value: 0.8869436201780415 and parameters: {'sig_threshold': 0.6017317547515225}. Best is trial 44 with value: 0.887759643916914.\u001b[0m\n",
            "\u001b[32m[I 2021-10-05 13:19:34,083]\u001b[0m Trial 53 finished with value: 0.8859792284866469 and parameters: {'sig_threshold': 0.7251346463302368}. Best is trial 44 with value: 0.887759643916914.\u001b[0m\n",
            "\u001b[32m[I 2021-10-05 13:19:34,123]\u001b[0m Trial 54 finished with value: 0.8863501483679526 and parameters: {'sig_threshold': 0.6426394339943169}. Best is trial 44 with value: 0.887759643916914.\u001b[0m\n",
            "\u001b[32m[I 2021-10-05 13:19:34,164]\u001b[0m Trial 55 finished with value: 0.8835311572700296 and parameters: {'sig_threshold': 0.7962443738593772}. Best is trial 44 with value: 0.887759643916914.\u001b[0m\n",
            "\u001b[32m[I 2021-10-05 13:19:34,202]\u001b[0m Trial 56 finished with value: 0.8858308605341246 and parameters: {'sig_threshold': 0.5672060614625558}. Best is trial 44 with value: 0.887759643916914.\u001b[0m\n",
            "\u001b[32m[I 2021-10-05 13:19:34,242]\u001b[0m Trial 57 finished with value: 0.8862759643916914 and parameters: {'sig_threshold': 0.6563594626635699}. Best is trial 44 with value: 0.887759643916914.\u001b[0m\n"
          ]
        },
        {
          "output_type": "stream",
          "name": "stdout",
          "text": [
            "acc 0.8869436201780415\n",
            "sig_threshold 0.7251346463302368\n",
            "acc 0.8859792284866469\n",
            "sig_threshold 0.6426394339943169\n",
            "acc 0.8863501483679526\n",
            "sig_threshold 0.7962443738593772\n",
            "acc 0.8835311572700296\n",
            "sig_threshold 0.5672060614625558\n",
            "acc 0.8858308605341246\n",
            "sig_threshold 0.6563594626635699\n",
            "acc 0.8862759643916914\n"
          ]
        },
        {
          "output_type": "stream",
          "name": "stderr",
          "text": [
            "\u001b[32m[I 2021-10-05 13:19:34,287]\u001b[0m Trial 58 finished with value: 0.8874629080118694 and parameters: {'sig_threshold': 0.614340460245687}. Best is trial 44 with value: 0.887759643916914.\u001b[0m\n",
            "\u001b[32m[I 2021-10-05 13:19:34,325]\u001b[0m Trial 59 finished with value: 0.8841988130563798 and parameters: {'sig_threshold': 0.46151145101006696}. Best is trial 44 with value: 0.887759643916914.\u001b[0m\n",
            "\u001b[32m[I 2021-10-05 13:19:34,363]\u001b[0m Trial 60 finished with value: 0.8875370919881306 and parameters: {'sig_threshold': 0.6054992263153971}. Best is trial 44 with value: 0.887759643916914.\u001b[0m\n",
            "\u001b[32m[I 2021-10-05 13:19:34,403]\u001b[0m Trial 61 finished with value: 0.8873145400593472 and parameters: {'sig_threshold': 0.6175943667258387}. Best is trial 44 with value: 0.887759643916914.\u001b[0m\n",
            "\u001b[32m[I 2021-10-05 13:19:34,444]\u001b[0m Trial 62 finished with value: 0.887759643916914 and parameters: {'sig_threshold': 0.6103983275386982}. Best is trial 44 with value: 0.887759643916914.\u001b[0m\n"
          ]
        },
        {
          "output_type": "stream",
          "name": "stdout",
          "text": [
            "sig_threshold 0.614340460245687\n",
            "acc 0.8874629080118694\n",
            "sig_threshold 0.46151145101006696\n",
            "acc 0.8841988130563798\n",
            "sig_threshold 0.6054992263153971\n",
            "acc 0.8875370919881306\n",
            "sig_threshold 0.6175943667258387\n",
            "acc 0.8873145400593472\n",
            "sig_threshold 0.6103983275386982\n",
            "acc 0.887759643916914\n",
            "sig_threshold 0.5434938086211366\n"
          ]
        },
        {
          "output_type": "stream",
          "name": "stderr",
          "text": [
            "\u001b[32m[I 2021-10-05 13:19:34,488]\u001b[0m Trial 63 finished with value: 0.88486646884273 and parameters: {'sig_threshold': 0.5434938086211366}. Best is trial 44 with value: 0.887759643916914.\u001b[0m\n",
            "\u001b[32m[I 2021-10-05 13:19:34,527]\u001b[0m Trial 64 finished with value: 0.8864985163204748 and parameters: {'sig_threshold': 0.5802502428384259}. Best is trial 44 with value: 0.887759643916914.\u001b[0m\n",
            "\u001b[32m[I 2021-10-05 13:19:34,574]\u001b[0m Trial 65 finished with value: 0.8852373887240356 and parameters: {'sig_threshold': 0.4981931054746631}. Best is trial 44 with value: 0.887759643916914.\u001b[0m\n",
            "\u001b[32m[I 2021-10-05 13:19:34,619]\u001b[0m Trial 66 finished with value: 0.8870178041543026 and parameters: {'sig_threshold': 0.6201263421994784}. Best is trial 44 with value: 0.887759643916914.\u001b[0m\n",
            "\u001b[32m[I 2021-10-05 13:19:34,660]\u001b[0m Trial 67 finished with value: 0.8856083086053412 and parameters: {'sig_threshold': 0.5595665224113942}. Best is trial 44 with value: 0.887759643916914.\u001b[0m\n"
          ]
        },
        {
          "output_type": "stream",
          "name": "stdout",
          "text": [
            "acc 0.88486646884273\n",
            "sig_threshold 0.5802502428384259\n",
            "acc 0.8864985163204748\n",
            "sig_threshold 0.4981931054746631\n",
            "acc 0.8852373887240356\n",
            "sig_threshold 0.6201263421994784\n",
            "acc 0.8870178041543026\n",
            "sig_threshold 0.5595665224113942\n",
            "acc 0.8856083086053412\n",
            "sig_threshold 0.7253012149301441\n"
          ]
        },
        {
          "output_type": "stream",
          "name": "stderr",
          "text": [
            "\u001b[32m[I 2021-10-05 13:19:34,705]\u001b[0m Trial 68 finished with value: 0.8859792284866469 and parameters: {'sig_threshold': 0.7253012149301441}. Best is trial 44 with value: 0.887759643916914.\u001b[0m\n",
            "\u001b[32m[I 2021-10-05 13:19:34,745]\u001b[0m Trial 69 finished with value: 0.8841246290801187 and parameters: {'sig_threshold': 0.46361227949127404}. Best is trial 44 with value: 0.887759643916914.\u001b[0m\n",
            "\u001b[32m[I 2021-10-05 13:19:34,784]\u001b[0m Trial 70 finished with value: 0.8864985163204748 and parameters: {'sig_threshold': 0.6433161293415696}. Best is trial 44 with value: 0.887759643916914.\u001b[0m\n",
            "\u001b[32m[I 2021-10-05 13:19:34,822]\u001b[0m Trial 71 finished with value: 0.8867210682492581 and parameters: {'sig_threshold': 0.6217970188860066}. Best is trial 44 with value: 0.887759643916914.\u001b[0m\n",
            "\u001b[32m[I 2021-10-05 13:19:34,860]\u001b[0m Trial 72 finished with value: 0.8873887240356083 and parameters: {'sig_threshold': 0.6726297059309614}. Best is trial 44 with value: 0.887759643916914.\u001b[0m\n",
            "\u001b[32m[I 2021-10-05 13:19:34,903]\u001b[0m Trial 73 finished with value: 0.8852373887240356 and parameters: {'sig_threshold': 0.521278708605228}. Best is trial 44 with value: 0.887759643916914.\u001b[0m\n"
          ]
        },
        {
          "output_type": "stream",
          "name": "stdout",
          "text": [
            "acc 0.8859792284866469\n",
            "sig_threshold 0.46361227949127404\n",
            "acc 0.8841246290801187\n",
            "sig_threshold 0.6433161293415696\n",
            "acc 0.8864985163204748\n",
            "sig_threshold 0.6217970188860066\n",
            "acc 0.8867210682492581\n",
            "sig_threshold 0.6726297059309614\n",
            "acc 0.8873887240356083\n",
            "sig_threshold 0.521278708605228\n",
            "acc 0.8852373887240356\n",
            "sig_threshold 0.5934418775320401\n"
          ]
        },
        {
          "output_type": "stream",
          "name": "stderr",
          "text": [
            "\u001b[32m[I 2021-10-05 13:19:34,946]\u001b[0m Trial 74 finished with value: 0.8870919881305638 and parameters: {'sig_threshold': 0.5934418775320401}. Best is trial 44 with value: 0.887759643916914.\u001b[0m\n",
            "\u001b[32m[I 2021-10-05 13:19:34,991]\u001b[0m Trial 75 finished with value: 0.8853857566765578 and parameters: {'sig_threshold': 0.558643607566134}. Best is trial 44 with value: 0.887759643916914.\u001b[0m\n",
            "\u001b[32m[I 2021-10-05 13:19:35,031]\u001b[0m Trial 76 finished with value: 0.8867210682492581 and parameters: {'sig_threshold': 0.6656381745043566}. Best is trial 44 with value: 0.887759643916914.\u001b[0m\n",
            "\u001b[32m[I 2021-10-05 13:19:35,070]\u001b[0m Trial 77 finished with value: 0.886646884272997 and parameters: {'sig_threshold': 0.6241330294711582}. Best is trial 44 with value: 0.887759643916914.\u001b[0m\n",
            "\u001b[32m[I 2021-10-05 13:19:35,110]\u001b[0m Trial 78 finished with value: 0.8864243323442137 and parameters: {'sig_threshold': 0.7056637372820909}. Best is trial 44 with value: 0.887759643916914.\u001b[0m\n"
          ]
        },
        {
          "output_type": "stream",
          "name": "stdout",
          "text": [
            "acc 0.8870919881305638\n",
            "sig_threshold 0.558643607566134\n",
            "acc 0.8853857566765578\n",
            "sig_threshold 0.6656381745043566\n",
            "acc 0.8867210682492581\n",
            "sig_threshold 0.6241330294711582\n",
            "acc 0.886646884272997\n",
            "sig_threshold 0.7056637372820909\n",
            "acc 0.8864243323442137\n",
            "sig_threshold 0.7566384932739558\n"
          ]
        },
        {
          "output_type": "stream",
          "name": "stderr",
          "text": [
            "\u001b[32m[I 2021-10-05 13:19:35,155]\u001b[0m Trial 79 finished with value: 0.8855341246290801 and parameters: {'sig_threshold': 0.7566384932739558}. Best is trial 44 with value: 0.887759643916914.\u001b[0m\n",
            "\u001b[32m[I 2021-10-05 13:19:35,197]\u001b[0m Trial 80 finished with value: 0.8847922848664689 and parameters: {'sig_threshold': 0.5160358093482867}. Best is trial 44 with value: 0.887759643916914.\u001b[0m\n",
            "\u001b[32m[I 2021-10-05 13:19:35,239]\u001b[0m Trial 81 finished with value: 0.8862759643916914 and parameters: {'sig_threshold': 0.655808819727907}. Best is trial 44 with value: 0.887759643916914.\u001b[0m\n",
            "\u001b[32m[I 2021-10-05 13:19:35,278]\u001b[0m Trial 82 finished with value: 0.8871661721068249 and parameters: {'sig_threshold': 0.6030231182420206}. Best is trial 44 with value: 0.887759643916914.\u001b[0m\n",
            "\u001b[32m[I 2021-10-05 13:19:35,318]\u001b[0m Trial 83 finished with value: 0.8867210682492581 and parameters: {'sig_threshold': 0.6248344496397658}. Best is trial 44 with value: 0.887759643916914.\u001b[0m\n"
          ]
        },
        {
          "output_type": "stream",
          "name": "stdout",
          "text": [
            "acc 0.8855341246290801\n",
            "sig_threshold 0.5160358093482867\n",
            "acc 0.8847922848664689\n",
            "sig_threshold 0.655808819727907\n",
            "acc 0.8862759643916914\n",
            "sig_threshold 0.6030231182420206\n",
            "acc 0.8871661721068249\n",
            "sig_threshold 0.6248344496397658\n",
            "acc 0.8867210682492581\n",
            "sig_threshold 0.670564996460592\n"
          ]
        },
        {
          "output_type": "stream",
          "name": "stderr",
          "text": [
            "\u001b[32m[I 2021-10-05 13:19:35,360]\u001b[0m Trial 84 finished with value: 0.8871661721068249 and parameters: {'sig_threshold': 0.670564996460592}. Best is trial 44 with value: 0.887759643916914.\u001b[0m\n",
            "\u001b[32m[I 2021-10-05 13:19:35,402]\u001b[0m Trial 85 finished with value: 0.8864985163204748 and parameters: {'sig_threshold': 0.5772654304715126}. Best is trial 44 with value: 0.887759643916914.\u001b[0m\n",
            "\u001b[32m[I 2021-10-05 13:19:35,443]\u001b[0m Trial 86 finished with value: 0.886646884272997 and parameters: {'sig_threshold': 0.6995337271334429}. Best is trial 44 with value: 0.887759643916914.\u001b[0m\n",
            "\u001b[32m[I 2021-10-05 13:19:35,488]\u001b[0m Trial 87 finished with value: 0.8846439169139466 and parameters: {'sig_threshold': 0.775340159632366}. Best is trial 44 with value: 0.887759643916914.\u001b[0m\n",
            "\u001b[32m[I 2021-10-05 13:19:35,526]\u001b[0m Trial 88 finished with value: 0.8850148367952523 and parameters: {'sig_threshold': 0.5536850196818422}. Best is trial 44 with value: 0.887759643916914.\u001b[0m\n"
          ]
        },
        {
          "output_type": "stream",
          "name": "stdout",
          "text": [
            "acc 0.8871661721068249\n",
            "sig_threshold 0.5772654304715126\n",
            "acc 0.8864985163204748\n",
            "sig_threshold 0.6995337271334429\n",
            "acc 0.886646884272997\n",
            "sig_threshold 0.775340159632366\n",
            "acc 0.8846439169139466\n",
            "sig_threshold 0.5536850196818422\n",
            "acc 0.8850148367952523\n",
            "sig_threshold 0.5878698131909933\n"
          ]
        },
        {
          "output_type": "stream",
          "name": "stderr",
          "text": [
            "\u001b[32m[I 2021-10-05 13:19:35,584]\u001b[0m Trial 89 finished with value: 0.8870178041543026 and parameters: {'sig_threshold': 0.5878698131909933}. Best is trial 44 with value: 0.887759643916914.\u001b[0m\n",
            "\u001b[32m[I 2021-10-05 13:19:35,629]\u001b[0m Trial 90 finished with value: 0.8876854599406528 and parameters: {'sig_threshold': 0.6114318318273748}. Best is trial 44 with value: 0.887759643916914.\u001b[0m\n",
            "\u001b[32m[I 2021-10-05 13:19:35,669]\u001b[0m Trial 91 finished with value: 0.8863501483679526 and parameters: {'sig_threshold': 0.6428861482583087}. Best is trial 44 with value: 0.887759643916914.\u001b[0m\n",
            "\u001b[32m[I 2021-10-05 13:19:35,711]\u001b[0m Trial 92 finished with value: 0.886572700296736 and parameters: {'sig_threshold': 0.730628602076162}. Best is trial 44 with value: 0.887759643916914.\u001b[0m\n",
            "\u001b[32m[I 2021-10-05 13:19:35,755]\u001b[0m Trial 93 finished with value: 0.8870178041543026 and parameters: {'sig_threshold': 0.6682312412920257}. Best is trial 44 with value: 0.887759643916914.\u001b[0m\n"
          ]
        },
        {
          "output_type": "stream",
          "name": "stdout",
          "text": [
            "acc 0.8870178041543026\n",
            "sig_threshold 0.6114318318273748\n",
            "acc 0.8876854599406528\n",
            "sig_threshold 0.6428861482583087\n",
            "acc 0.8863501483679526\n",
            "sig_threshold 0.730628602076162\n",
            "acc 0.886572700296736\n",
            "sig_threshold 0.6682312412920257\n",
            "acc 0.8870178041543026\n",
            "sig_threshold 0.6237142206909891\n"
          ]
        },
        {
          "output_type": "stream",
          "name": "stderr",
          "text": [
            "\u001b[32m[I 2021-10-05 13:19:35,802]\u001b[0m Trial 94 finished with value: 0.8867210682492581 and parameters: {'sig_threshold': 0.6237142206909891}. Best is trial 44 with value: 0.887759643916914.\u001b[0m\n",
            "\u001b[32m[I 2021-10-05 13:19:35,846]\u001b[0m Trial 95 finished with value: 0.886572700296736 and parameters: {'sig_threshold': 0.709313835556073}. Best is trial 44 with value: 0.887759643916914.\u001b[0m\n",
            "\u001b[32m[I 2021-10-05 13:19:35,895]\u001b[0m Trial 96 finished with value: 0.8847922848664689 and parameters: {'sig_threshold': 0.5422697270322974}. Best is trial 44 with value: 0.887759643916914.\u001b[0m\n",
            "\u001b[32m[I 2021-10-05 13:19:35,938]\u001b[0m Trial 97 finished with value: 0.8844955489614243 and parameters: {'sig_threshold': 0.48286772729815924}. Best is trial 44 with value: 0.887759643916914.\u001b[0m\n",
            "\u001b[32m[I 2021-10-05 13:19:35,979]\u001b[0m Trial 98 finished with value: 0.8871661721068249 and parameters: {'sig_threshold': 0.6035855263847388}. Best is trial 44 with value: 0.887759643916914.\u001b[0m\n"
          ]
        },
        {
          "output_type": "stream",
          "name": "stdout",
          "text": [
            "acc 0.8867210682492581\n",
            "sig_threshold 0.709313835556073\n",
            "acc 0.886572700296736\n",
            "sig_threshold 0.5422697270322974\n",
            "acc 0.8847922848664689\n",
            "sig_threshold 0.48286772729815924\n",
            "acc 0.8844955489614243\n",
            "sig_threshold 0.6035855263847388\n",
            "acc 0.8871661721068249\n",
            "sig_threshold 0.5751672721412755\n"
          ]
        },
        {
          "output_type": "stream",
          "name": "stderr",
          "text": [
            "\u001b[32m[I 2021-10-05 13:19:36,033]\u001b[0m Trial 99 finished with value: 0.8861275964391692 and parameters: {'sig_threshold': 0.5751672721412755}. Best is trial 44 with value: 0.887759643916914.\u001b[0m\n"
          ]
        },
        {
          "output_type": "stream",
          "name": "stdout",
          "text": [
            "acc 0.8861275964391692\n"
          ]
        }
      ]
    },
    {
      "cell_type": "code",
      "metadata": {
        "colab": {
          "base_uri": "https://localhost:8080/"
        },
        "id": "BGlFOBgSY0ks",
        "outputId": "4d926ad9-948e-4c9c-963a-46eec4dcfb52"
      },
      "source": [
        "best_sig_threshold = study.best_value  \n",
        "\n",
        "pred_labels = [1 if predictions[i] > best_sig_threshold else 0 for i in range(len(testting_set['labels']))]\n",
        "\n",
        "print('Test Accuracy:', accuracy_score(testting_set['labels'], pred_labels))"
      ],
      "execution_count": null,
      "outputs": [
        {
          "output_type": "stream",
          "name": "stdout",
          "text": [
            "Test Accuracy: 0.8701038575667656\n"
          ]
        }
      ]
    },
    {
      "cell_type": "code",
      "metadata": {
        "colab": {
          "base_uri": "https://localhost:8080/"
        },
        "id": "ZFwv1mAy5ufG",
        "outputId": "c7940f31-f826-4ff4-b899-ae526d73895e"
      },
      "source": [
        "best_sig_threshold"
      ],
      "execution_count": null,
      "outputs": [
        {
          "output_type": "execute_result",
          "data": {
            "text/plain": [
              "0.887759643916914"
            ]
          },
          "metadata": {},
          "execution_count": 19
        }
      ]
    },
    {
      "cell_type": "code",
      "metadata": {
        "id": "V4dSW1ZXFSWD"
      },
      "source": [
        "def find_group_of_questions(questions, labels):\n",
        "  \n",
        "  begins = []\n",
        "  ends = []\n",
        "  tag = []\n",
        "  i = 0\n",
        "  begins.append(i)\n",
        "  curr_ques = ''\n",
        "\n",
        "  for index in range(len(questions)):\n",
        "        question = questions[index]\n",
        "        tag.append(int(labels[index]))\n",
        "      \n",
        "        if i == 0:\n",
        "          curr_ques = question       \n",
        "        \n",
        "        if curr_ques != question:\n",
        "          curr_ques = question\n",
        "          ends.append(i)\n",
        "          begins.append(i)\n",
        "\n",
        "        i += 1\n",
        "  ends.append(i)\n",
        "\n",
        "  return begins, ends, tag"
      ],
      "execution_count": null,
      "outputs": []
    },
    {
      "cell_type": "code",
      "metadata": {
        "id": "ExUAadOnFULe"
      },
      "source": [
        "def calculate_measures(predictions, labels):\n",
        "\n",
        "  predictions, labels = zip(*sorted(zip(predictions, labels), reverse=True))\n",
        "\n",
        "  rank = 0.0\n",
        "\n",
        "  for i in range(0, len(labels)):\n",
        "            \n",
        "    if labels[i] == 1:\n",
        "      if rank == 0.0:\n",
        "        rank = 1 / (i + 1)\n",
        "  \n",
        "  return rank"
      ],
      "execution_count": null,
      "outputs": []
    },
    {
      "cell_type": "code",
      "metadata": {
        "id": "0pALHDHIFajC"
      },
      "source": [
        "def calculate_MAP_and_MRR(begins, ends, labels, predictions) :\n",
        "\n",
        "  tmp = []\n",
        "\n",
        "  for pred in predictions:\n",
        "    tmp.append(pred)\n",
        "\n",
        "  RR_s = []\n",
        "\n",
        "  for i in range (0, len(begins)):\n",
        "    begin = begins[i]\n",
        "    end = ends[i]\n",
        "\n",
        "    RR = calculate_measures(tmp[begin:end + 1], labels[begin:end + 1])\n",
        "\n",
        "    RR_s.append(RR)\n",
        "\n",
        "  return np.mean(RR_s)"
      ],
      "execution_count": null,
      "outputs": []
    },
    {
      "cell_type": "code",
      "metadata": {
        "id": "rqrFfW4WPk9g"
      },
      "source": [
        "sorted_test = test.sort_values('Input')"
      ],
      "execution_count": null,
      "outputs": []
    },
    {
      "cell_type": "code",
      "metadata": {
        "colab": {
          "base_uri": "https://localhost:8080/"
        },
        "id": "cmiEzWn6GWNs",
        "outputId": "38d3065a-3654-408d-b533-ee3a29a77721"
      },
      "source": [
        "begins, ends, labels = find_group_of_questions(sorted_test.Input, sorted_test.Label)\n",
        "MRR = calculate_MAP_and_MRR(begins, ends, labels, predictions)\n",
        "print(\"MRR:\", MRR)"
      ],
      "execution_count": null,
      "outputs": [
        {
          "output_type": "stream",
          "name": "stdout",
          "text": [
            "MRR: 0.740077157059129\n"
          ]
        }
      ]
    },
    {
      "cell_type": "markdown",
      "metadata": {
        "id": "U_qmtLXiZ752"
      },
      "source": [
        "# **Q2 & Q3**"
      ]
    },
    {
      "cell_type": "code",
      "metadata": {
        "id": "w_pqRn4y80U4"
      },
      "source": [
        "def prepare_test_dataset(data, tokenizer, max_len):\n",
        "\n",
        "  ids = []\n",
        "  masks = []\n",
        "  labels = []\n",
        "  token_ids = []\n",
        "  \n",
        "  for row in data.itertuples():\n",
        "    text = row.Input + ' [SEP] ' + row.Output\n",
        "    inputs = tokenizer(text, None, max_length=max_len, padding='max_length', truncation=True, return_attention_mask=True, return_token_type_ids=True, add_special_tokens=True)\n",
        "    ids.append(inputs['input_ids'])\n",
        "    masks.append(inputs['attention_mask'])\n",
        "    token_ids.append(inputs['token_type_ids'])\n",
        "\n",
        "  return {\n",
        "      'input_ids': ids,\n",
        "      'attention_mask': masks,\n",
        "      'token_type_ids': token_ids,\n",
        "      }"
      ],
      "execution_count": null,
      "outputs": []
    },
    {
      "cell_type": "code",
      "metadata": {
        "id": "5-ejyDnXDlB9"
      },
      "source": [
        "extra_test = pd.DataFrame([['what do you do for your weekend?', 'i am not quite sure yet . i like to go shopping.'],\n",
        "                           ['i am not quite sure yet . i like to go shopping.', 'well , i am not sure what you are doing.'],\n",
        "                           ['well , i am not sure what you are doing.', 'i am not sure . i am not quite sure yet.'], \n",
        "                           ['i am not sure . i am not quite sure yet.', 'well , i am not sure if you are interested , you would not have been fired.'],\n",
        "                           ['well , i am not sure if you are interested , you would not have been fired.', 'i am sorry , but i cannot . i have got a sore throat.'],\n",
        "                           ['i am sorry , but i cannot . i have got a sore throat.', 'oh , i see . but i have never been here before . i have been looking for a long time . it is really a nice neighborhood here.'],\n",
        "                           ['oh , i see . but i have never been here before . i have been looking for a long time . it is really a nice neighborhood here.', 'i really appreciate your help.'],\n",
        "                           ['i really appreciate your help.', 'thank you . i really appreciate your help.'],\n",
        "                           ['thank you . i really appreciate your help.', 'you are welcome . i hope you will enjoy your rest and hope to make up.'], \n",
        "                           ['you are welcome . i hope you will enjoy your rest and hope to make up.', 'thank you . i will try to keep it to my li.'],\n",
        "                           ['how are you?', 'Well, I love going to the cinema.'],\n",
        "                           ['what do you want to eat?', 'I want to drink coffee.'],\n",
        "                           ['what is your favorite color?', 'study.'],\n",
        "                           ['what is your favorite color?', 'pink.'],\n",
        "                           ['Where have you been?', 'i lived in england when i was at the conference . i always wanted to go out dancing.'],\n",
        "                           ['Do you consider yourself a good mother?', 'Yes , I am a very good mother and successful career woman.'],\n",
        "                           ['Yes , I am a very good mother and successful career woman.', 'How can you manage to do both ?'],\n",
        "                           ['How can you manage to do both ?', 'I have a good manager.'],\n",
        "                           ['I have a good manager.', 'How was your first day at work?'],\n",
        "                           ['How was your first day at work?', 'I do not know.'],\n",
        "                           ['I do not know.', 'great.'],\n",
        "                           ['great.', 'I think the most important thing is that you should be nice to yourself.'],\n",
        "                           ['I think the most important thing is that you should be nice to yourself.', 'Yeah, that is right.'],\n",
        "                           ['Yeah, that is right.', 'You can only be nice to others when you can be nice to yourself.'],\n",
        "                           ['You can only be nice to others when you can be nice to yourself.', 'I have two nice sisters.'],\n",
        "                           ['I have two nice sisters.', 'Is he very understanding and supportive?']], \n",
        "                          columns=[\"Input\", \"Output\"])"
      ],
      "execution_count": null,
      "outputs": []
    },
    {
      "cell_type": "code",
      "metadata": {
        "id": "zZAeh-q59NUI"
      },
      "source": [
        "extra_testting_set = prepare_test_dataset(extra_test, tokenizer, MAX_LEN)\n",
        "extra_prepared_test = [np.array(extra_testting_set['input_ids'], dtype=int), np.array(extra_testting_set['attention_mask'], dtype=int), np.array(extra_testting_set['token_type_ids'], dtype=int)]\n",
        "\n",
        "predictions = model.predict(extra_prepared_test)\n",
        "\n",
        "pred_labels = [1 if predictions[i] > best_sig_threshold else 0 for i in range(len(predictions))]"
      ],
      "execution_count": null,
      "outputs": []
    },
    {
      "cell_type": "code",
      "metadata": {
        "colab": {
          "base_uri": "https://localhost:8080/"
        },
        "id": "9o1kREghGP6O",
        "outputId": "417dc989-1a61-4b9e-996d-3a7af9948ac3"
      },
      "source": [
        "for index, row in extra_test.iterrows():\n",
        "\n",
        "  print(\"Input:\", row.Input)\n",
        "  print(\"Output:\", row.Output)\n",
        "\n",
        "  if pred_labels[index]:\n",
        "    print(\"IsNext.\")\n",
        "  else:\n",
        "    print(\"NotNext\")\n",
        "\n",
        "  print()"
      ],
      "execution_count": null,
      "outputs": [
        {
          "output_type": "stream",
          "name": "stdout",
          "text": [
            "Input: what do you do for your weekend?\n",
            "Output: i am not quite sure yet . i like to go shopping.\n",
            "IsNext.\n",
            "\n",
            "Input: i am not quite sure yet . i like to go shopping.\n",
            "Output: well , i am not sure what you are doing.\n",
            "IsNext.\n",
            "\n",
            "Input: well , i am not sure what you are doing.\n",
            "Output: i am not sure . i am not quite sure yet.\n",
            "IsNext.\n",
            "\n",
            "Input: i am not sure . i am not quite sure yet.\n",
            "Output: well , i am not sure if you are interested , you would not have been fired.\n",
            "IsNext.\n",
            "\n",
            "Input: well , i am not sure if you are interested , you would not have been fired.\n",
            "Output: i am sorry , but i cannot . i have got a sore throat.\n",
            "NotNext\n",
            "\n",
            "Input: i am sorry , but i cannot . i have got a sore throat.\n",
            "Output: oh , i see . but i have never been here before . i have been looking for a long time . it is really a nice neighborhood here.\n",
            "NotNext\n",
            "\n",
            "Input: oh , i see . but i have never been here before . i have been looking for a long time . it is really a nice neighborhood here.\n",
            "Output: i really appreciate your help.\n",
            "NotNext\n",
            "\n",
            "Input: i really appreciate your help.\n",
            "Output: thank you . i really appreciate your help.\n",
            "IsNext.\n",
            "\n",
            "Input: thank you . i really appreciate your help.\n",
            "Output: you are welcome . i hope you will enjoy your rest and hope to make up.\n",
            "IsNext.\n",
            "\n",
            "Input: you are welcome . i hope you will enjoy your rest and hope to make up.\n",
            "Output: thank you . i will try to keep it to my li.\n",
            "IsNext.\n",
            "\n",
            "Input: how are you?\n",
            "Output: Well, I love going to the cinema.\n",
            "NotNext\n",
            "\n",
            "Input: what do you want to eat?\n",
            "Output: I want to drink coffee.\n",
            "IsNext.\n",
            "\n",
            "Input: what is your favorite color?\n",
            "Output: study.\n",
            "NotNext\n",
            "\n",
            "Input: what is your favorite color?\n",
            "Output: pink.\n",
            "IsNext.\n",
            "\n",
            "Input: Where have you been?\n",
            "Output: i lived in england when i was at the conference . i always wanted to go out dancing.\n",
            "IsNext.\n",
            "\n",
            "Input: Do you consider yourself a good mother?\n",
            "Output: Yes , I am a very good mother and successful career woman.\n",
            "IsNext.\n",
            "\n",
            "Input: Yes , I am a very good mother and successful career woman.\n",
            "Output: How can you manage to do both ?\n",
            "IsNext.\n",
            "\n",
            "Input: How can you manage to do both ?\n",
            "Output: I have a good manager.\n",
            "IsNext.\n",
            "\n",
            "Input: I have a good manager.\n",
            "Output: How was your first day at work?\n",
            "IsNext.\n",
            "\n",
            "Input: How was your first day at work?\n",
            "Output: I do not know.\n",
            "NotNext\n",
            "\n",
            "Input: I do not know.\n",
            "Output: great.\n",
            "NotNext\n",
            "\n",
            "Input: great.\n",
            "Output: I think the most important thing is that you should be nice to yourself.\n",
            "NotNext\n",
            "\n",
            "Input: I think the most important thing is that you should be nice to yourself.\n",
            "Output: Yeah, that is right.\n",
            "NotNext\n",
            "\n",
            "Input: Yeah, that is right.\n",
            "Output: You can only be nice to others when you can be nice to yourself.\n",
            "NotNext\n",
            "\n",
            "Input: You can only be nice to others when you can be nice to yourself.\n",
            "Output: I have two nice sisters.\n",
            "NotNext\n",
            "\n",
            "Input: I have two nice sisters.\n",
            "Output: Is he very understanding and supportive?\n",
            "NotNext\n",
            "\n"
          ]
        }
      ]
    },
    {
      "cell_type": "markdown",
      "metadata": {
        "id": "TRMq_JAVZeoA"
      },
      "source": [
        "# **Q4**"
      ]
    },
    {
      "cell_type": "code",
      "metadata": {
        "colab": {
          "base_uri": "https://localhost:8080/"
        },
        "id": "-wMjgCKIUFwa",
        "outputId": "69928a2e-d69d-4a69-b221-1ce942db6b41"
      },
      "source": [
        "# search space\n",
        "!gdown --id 1TtUSvIUjIF7mz49ZVTw7lt2fXQ726vaa"
      ],
      "execution_count": null,
      "outputs": [
        {
          "output_type": "stream",
          "name": "stdout",
          "text": [
            "Downloading...\n",
            "From: https://drive.google.com/uc?id=1TtUSvIUjIF7mz49ZVTw7lt2fXQ726vaa\n",
            "To: /content/SearchSpace.txt\n",
            "\r0.00B [00:00, ?B/s]\r4.32MB [00:00, 65.4MB/s]\n"
          ]
        }
      ]
    },
    {
      "cell_type": "code",
      "metadata": {
        "id": "fhkCj3DcZsNV"
      },
      "source": [
        "test_inp = [\"how are you?\", \"what do you want to eat?\", \"what is your favorite color?\", \n",
        "            \"where have you been?\", \"do you consider yourself a good mother?\", \"I have two nice sisters.\"]"
      ],
      "execution_count": null,
      "outputs": []
    },
    {
      "cell_type": "code",
      "metadata": {
        "id": "weHW4cS6Ukoq"
      },
      "source": [
        "with open(\"SearchSpace.txt\") as f:\n",
        "  unique_out = f.readlines()"
      ],
      "execution_count": null,
      "outputs": []
    },
    {
      "cell_type": "code",
      "metadata": {
        "id": "L59yPXJ0-eA6"
      },
      "source": [
        "test = []\n",
        "\n",
        "for inp in test_inp:\n",
        "  for out in unique_out:\n",
        "    test.append([inp, out.strip()])\n",
        "\n",
        "extra_test = pd.DataFrame(test, columns=[\"Input\", \"Output\"])   "
      ],
      "execution_count": null,
      "outputs": []
    },
    {
      "cell_type": "code",
      "metadata": {
        "id": "fyw4Xhew_fuo"
      },
      "source": [
        "extra_testting_set = prepare_test_dataset(extra_test, tokenizer, MAX_LEN)\n",
        "extra_prepared_test = [np.array(extra_testting_set['input_ids'], dtype=int), np.array(extra_testting_set['attention_mask'], dtype=int), np.array(extra_testting_set['token_type_ids'], dtype=int)]\n",
        "\n",
        "predictions = model.predict(extra_prepared_test)\n",
        "extra_test[\"Score\"] = predictions"
      ],
      "execution_count": null,
      "outputs": []
    },
    {
      "cell_type": "code",
      "metadata": {
        "colab": {
          "base_uri": "https://localhost:8080/"
        },
        "id": "LaJYGYQXMdnJ",
        "outputId": "db453e79-83ea-48e2-e9d6-94fe33c2cdc5"
      },
      "source": [
        "answer = extra_test.groupby(\"Input\").apply(lambda x: x.sort_values(ascending=False, by='Score').head(1))\n",
        "answer.reset_index(drop=True, inplace=True)\n",
        "answer"
      ],
      "execution_count": null,
      "outputs": [
        {
          "output_type": "execute_result",
          "data": {
            "text/html": [
              "<div>\n",
              "<style scoped>\n",
              "    .dataframe tbody tr th:only-of-type {\n",
              "        vertical-align: middle;\n",
              "    }\n",
              "\n",
              "    .dataframe tbody tr th {\n",
              "        vertical-align: top;\n",
              "    }\n",
              "\n",
              "    .dataframe thead th {\n",
              "        text-align: right;\n",
              "    }\n",
              "</style>\n",
              "<table border=\"1\" class=\"dataframe\">\n",
              "  <thead>\n",
              "    <tr style=\"text-align: right;\">\n",
              "      <th></th>\n",
              "      <th>Input</th>\n",
              "      <th>Output</th>\n",
              "      <th>Score</th>\n",
              "    </tr>\n",
              "  </thead>\n",
              "  <tbody>\n",
              "    <tr>\n",
              "      <th>0</th>\n",
              "      <td>I have two nice sisters.</td>\n",
              "      <td>That right . One of my sisters is a doctor and...</td>\n",
              "      <td>0.999699</td>\n",
              "    </tr>\n",
              "    <tr>\n",
              "      <th>1</th>\n",
              "      <td>do you consider yourself a good mother?</td>\n",
              "      <td>I do a good old lady . I wouldn't mind being t...</td>\n",
              "      <td>0.999472</td>\n",
              "    </tr>\n",
              "    <tr>\n",
              "      <th>2</th>\n",
              "      <td>how are you?</td>\n",
              "      <td>I ’ m all right , thanks . Just a little tired .</td>\n",
              "      <td>0.998849</td>\n",
              "    </tr>\n",
              "    <tr>\n",
              "      <th>3</th>\n",
              "      <td>what do you want to eat?</td>\n",
              "      <td>I just eat some oatmeal , toast , and orange j...</td>\n",
              "      <td>0.999319</td>\n",
              "    </tr>\n",
              "    <tr>\n",
              "      <th>4</th>\n",
              "      <td>what is your favorite color?</td>\n",
              "      <td>Black is not my favorite colour .</td>\n",
              "      <td>0.999673</td>\n",
              "    </tr>\n",
              "    <tr>\n",
              "      <th>5</th>\n",
              "      <td>where have you been?</td>\n",
              "      <td>I've been away on a vacation .</td>\n",
              "      <td>0.999380</td>\n",
              "    </tr>\n",
              "  </tbody>\n",
              "</table>\n",
              "</div>"
            ],
            "text/plain": [
              "                                     Input  ...     Score\n",
              "0                 I have two nice sisters.  ...  0.999699\n",
              "1  do you consider yourself a good mother?  ...  0.999472\n",
              "2                             how are you?  ...  0.998849\n",
              "3                 what do you want to eat?  ...  0.999319\n",
              "4             what is your favorite color?  ...  0.999673\n",
              "5                     where have you been?  ...  0.999380\n",
              "\n",
              "[6 rows x 3 columns]"
            ]
          },
          "metadata": {},
          "execution_count": 34
        }
      ]
    },
    {
      "cell_type": "code",
      "metadata": {
        "colab": {
          "base_uri": "https://localhost:8080/"
        },
        "id": "TOtznoeucbOj",
        "outputId": "25428d07-f259-47e6-d15b-c5976413c492"
      },
      "source": [
        "for index, row in answer.iterrows():\n",
        "  print(\"Input:\", row.Input)\n",
        "  print(\"Output:\", row.Output)\n",
        "  print()"
      ],
      "execution_count": null,
      "outputs": [
        {
          "output_type": "stream",
          "name": "stdout",
          "text": [
            "Input: I have two nice sisters.\n",
            "Output: That right . One of my sisters is a doctor and the other one teaches at a university .\n",
            "\n",
            "Input: do you consider yourself a good mother?\n",
            "Output: I do a good old lady . I wouldn't mind being the damsel in distress once in a while .\n",
            "\n",
            "Input: how are you?\n",
            "Output: I ’ m all right , thanks . Just a little tired .\n",
            "\n",
            "Input: what do you want to eat?\n",
            "Output: I just eat some oatmeal , toast , and orange juice .\n",
            "\n",
            "Input: what is your favorite color?\n",
            "Output: Black is not my favorite colour .\n",
            "\n",
            "Input: where have you been?\n",
            "Output: I've been away on a vacation .\n",
            "\n"
          ]
        }
      ]
    }
  ]
}