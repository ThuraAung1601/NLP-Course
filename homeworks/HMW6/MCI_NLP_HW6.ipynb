{
  "nbformat": 4,
  "nbformat_minor": 0,
  "metadata": {
    "colab": {
      "name": "HW6.ipynb",
      "provenance": [],
      "collapsed_sections": []
    },
    "kernelspec": {
      "display_name": "Python 3",
      "language": "python",
      "name": "python3"
    },
    "language_info": {
      "codemirror_mode": {
        "name": "ipython",
        "version": 3
      },
      "file_extension": ".py",
      "mimetype": "text/x-python",
      "name": "python",
      "nbconvert_exporter": "python",
      "pygments_lexer": "ipython3",
      "version": "3.7.0"
    },
    "accelerator": "GPU",
    "widgets": {
      "application/vnd.jupyter.widget-state+json": {
        "f0cd6bae3ca2475987300357ee376922": {
          "model_module": "@jupyter-widgets/controls",
          "model_name": "HBoxModel",
          "model_module_version": "1.5.0",
          "state": {
            "_view_name": "HBoxView",
            "_dom_classes": [],
            "_model_name": "HBoxModel",
            "_view_module": "@jupyter-widgets/controls",
            "_model_module_version": "1.5.0",
            "_view_count": null,
            "_view_module_version": "1.5.0",
            "box_style": "",
            "layout": "IPY_MODEL_97f3155f5a554ce9898d017721f394e5",
            "_model_module": "@jupyter-widgets/controls",
            "children": [
              "IPY_MODEL_259aac51c67b4acd89ddd36fdaf5d87b",
              "IPY_MODEL_03b5270086804414802cad9d58898ef8",
              "IPY_MODEL_e836a2771ce941548a50ffccdddcf660"
            ]
          }
        },
        "97f3155f5a554ce9898d017721f394e5": {
          "model_module": "@jupyter-widgets/base",
          "model_name": "LayoutModel",
          "model_module_version": "1.2.0",
          "state": {
            "_view_name": "LayoutView",
            "grid_template_rows": null,
            "right": null,
            "justify_content": null,
            "_view_module": "@jupyter-widgets/base",
            "overflow": null,
            "_model_module_version": "1.2.0",
            "_view_count": null,
            "flex_flow": null,
            "width": null,
            "min_width": null,
            "border": null,
            "align_items": null,
            "bottom": null,
            "_model_module": "@jupyter-widgets/base",
            "top": null,
            "grid_column": null,
            "overflow_y": null,
            "overflow_x": null,
            "grid_auto_flow": null,
            "grid_area": null,
            "grid_template_columns": null,
            "flex": null,
            "_model_name": "LayoutModel",
            "justify_items": null,
            "grid_row": null,
            "max_height": null,
            "align_content": null,
            "visibility": null,
            "align_self": null,
            "height": null,
            "min_height": null,
            "padding": null,
            "grid_auto_rows": null,
            "grid_gap": null,
            "max_width": null,
            "order": null,
            "_view_module_version": "1.2.0",
            "grid_template_areas": null,
            "object_position": null,
            "object_fit": null,
            "grid_auto_columns": null,
            "margin": null,
            "display": null,
            "left": null
          }
        },
        "259aac51c67b4acd89ddd36fdaf5d87b": {
          "model_module": "@jupyter-widgets/controls",
          "model_name": "HTMLModel",
          "model_module_version": "1.5.0",
          "state": {
            "_view_name": "HTMLView",
            "style": "IPY_MODEL_2cc8008e709744e59dea1fd6577ddb6a",
            "_dom_classes": [],
            "description": "",
            "_model_name": "HTMLModel",
            "placeholder": "​",
            "_view_module": "@jupyter-widgets/controls",
            "_model_module_version": "1.5.0",
            "value": "100%",
            "_view_count": null,
            "_view_module_version": "1.5.0",
            "description_tooltip": null,
            "_model_module": "@jupyter-widgets/controls",
            "layout": "IPY_MODEL_6c44b3e0611b404c94d7c469446e0248"
          }
        },
        "03b5270086804414802cad9d58898ef8": {
          "model_module": "@jupyter-widgets/controls",
          "model_name": "FloatProgressModel",
          "model_module_version": "1.5.0",
          "state": {
            "_view_name": "ProgressView",
            "style": "IPY_MODEL_ce261581a87c4ff6b9122f341c310bfa",
            "_dom_classes": [],
            "description": "",
            "_model_name": "FloatProgressModel",
            "bar_style": "success",
            "max": 3,
            "_view_module": "@jupyter-widgets/controls",
            "_model_module_version": "1.5.0",
            "value": 3,
            "_view_count": null,
            "_view_module_version": "1.5.0",
            "orientation": "horizontal",
            "min": 0,
            "description_tooltip": null,
            "_model_module": "@jupyter-widgets/controls",
            "layout": "IPY_MODEL_dd22969665334b078fec08bafab986b3"
          }
        },
        "e836a2771ce941548a50ffccdddcf660": {
          "model_module": "@jupyter-widgets/controls",
          "model_name": "HTMLModel",
          "model_module_version": "1.5.0",
          "state": {
            "_view_name": "HTMLView",
            "style": "IPY_MODEL_f8ab7e4804cd447eae75dffcd05c918e",
            "_dom_classes": [],
            "description": "",
            "_model_name": "HTMLModel",
            "placeholder": "​",
            "_view_module": "@jupyter-widgets/controls",
            "_model_module_version": "1.5.0",
            "value": " 3/3 [00:00&lt;00:00, 40.62it/s]",
            "_view_count": null,
            "_view_module_version": "1.5.0",
            "description_tooltip": null,
            "_model_module": "@jupyter-widgets/controls",
            "layout": "IPY_MODEL_5c3e8f007a734611aacc74c00ff99135"
          }
        },
        "2cc8008e709744e59dea1fd6577ddb6a": {
          "model_module": "@jupyter-widgets/controls",
          "model_name": "DescriptionStyleModel",
          "model_module_version": "1.5.0",
          "state": {
            "_view_name": "StyleView",
            "_model_name": "DescriptionStyleModel",
            "description_width": "",
            "_view_module": "@jupyter-widgets/base",
            "_model_module_version": "1.5.0",
            "_view_count": null,
            "_view_module_version": "1.2.0",
            "_model_module": "@jupyter-widgets/controls"
          }
        },
        "6c44b3e0611b404c94d7c469446e0248": {
          "model_module": "@jupyter-widgets/base",
          "model_name": "LayoutModel",
          "model_module_version": "1.2.0",
          "state": {
            "_view_name": "LayoutView",
            "grid_template_rows": null,
            "right": null,
            "justify_content": null,
            "_view_module": "@jupyter-widgets/base",
            "overflow": null,
            "_model_module_version": "1.2.0",
            "_view_count": null,
            "flex_flow": null,
            "width": null,
            "min_width": null,
            "border": null,
            "align_items": null,
            "bottom": null,
            "_model_module": "@jupyter-widgets/base",
            "top": null,
            "grid_column": null,
            "overflow_y": null,
            "overflow_x": null,
            "grid_auto_flow": null,
            "grid_area": null,
            "grid_template_columns": null,
            "flex": null,
            "_model_name": "LayoutModel",
            "justify_items": null,
            "grid_row": null,
            "max_height": null,
            "align_content": null,
            "visibility": null,
            "align_self": null,
            "height": null,
            "min_height": null,
            "padding": null,
            "grid_auto_rows": null,
            "grid_gap": null,
            "max_width": null,
            "order": null,
            "_view_module_version": "1.2.0",
            "grid_template_areas": null,
            "object_position": null,
            "object_fit": null,
            "grid_auto_columns": null,
            "margin": null,
            "display": null,
            "left": null
          }
        },
        "ce261581a87c4ff6b9122f341c310bfa": {
          "model_module": "@jupyter-widgets/controls",
          "model_name": "ProgressStyleModel",
          "model_module_version": "1.5.0",
          "state": {
            "_view_name": "StyleView",
            "_model_name": "ProgressStyleModel",
            "description_width": "",
            "_view_module": "@jupyter-widgets/base",
            "_model_module_version": "1.5.0",
            "_view_count": null,
            "_view_module_version": "1.2.0",
            "bar_color": null,
            "_model_module": "@jupyter-widgets/controls"
          }
        },
        "dd22969665334b078fec08bafab986b3": {
          "model_module": "@jupyter-widgets/base",
          "model_name": "LayoutModel",
          "model_module_version": "1.2.0",
          "state": {
            "_view_name": "LayoutView",
            "grid_template_rows": null,
            "right": null,
            "justify_content": null,
            "_view_module": "@jupyter-widgets/base",
            "overflow": null,
            "_model_module_version": "1.2.0",
            "_view_count": null,
            "flex_flow": null,
            "width": null,
            "min_width": null,
            "border": null,
            "align_items": null,
            "bottom": null,
            "_model_module": "@jupyter-widgets/base",
            "top": null,
            "grid_column": null,
            "overflow_y": null,
            "overflow_x": null,
            "grid_auto_flow": null,
            "grid_area": null,
            "grid_template_columns": null,
            "flex": null,
            "_model_name": "LayoutModel",
            "justify_items": null,
            "grid_row": null,
            "max_height": null,
            "align_content": null,
            "visibility": null,
            "align_self": null,
            "height": null,
            "min_height": null,
            "padding": null,
            "grid_auto_rows": null,
            "grid_gap": null,
            "max_width": null,
            "order": null,
            "_view_module_version": "1.2.0",
            "grid_template_areas": null,
            "object_position": null,
            "object_fit": null,
            "grid_auto_columns": null,
            "margin": null,
            "display": null,
            "left": null
          }
        },
        "f8ab7e4804cd447eae75dffcd05c918e": {
          "model_module": "@jupyter-widgets/controls",
          "model_name": "DescriptionStyleModel",
          "model_module_version": "1.5.0",
          "state": {
            "_view_name": "StyleView",
            "_model_name": "DescriptionStyleModel",
            "description_width": "",
            "_view_module": "@jupyter-widgets/base",
            "_model_module_version": "1.5.0",
            "_view_count": null,
            "_view_module_version": "1.2.0",
            "_model_module": "@jupyter-widgets/controls"
          }
        },
        "5c3e8f007a734611aacc74c00ff99135": {
          "model_module": "@jupyter-widgets/base",
          "model_name": "LayoutModel",
          "model_module_version": "1.2.0",
          "state": {
            "_view_name": "LayoutView",
            "grid_template_rows": null,
            "right": null,
            "justify_content": null,
            "_view_module": "@jupyter-widgets/base",
            "overflow": null,
            "_model_module_version": "1.2.0",
            "_view_count": null,
            "flex_flow": null,
            "width": null,
            "min_width": null,
            "border": null,
            "align_items": null,
            "bottom": null,
            "_model_module": "@jupyter-widgets/base",
            "top": null,
            "grid_column": null,
            "overflow_y": null,
            "overflow_x": null,
            "grid_auto_flow": null,
            "grid_area": null,
            "grid_template_columns": null,
            "flex": null,
            "_model_name": "LayoutModel",
            "justify_items": null,
            "grid_row": null,
            "max_height": null,
            "align_content": null,
            "visibility": null,
            "align_self": null,
            "height": null,
            "min_height": null,
            "padding": null,
            "grid_auto_rows": null,
            "grid_gap": null,
            "max_width": null,
            "order": null,
            "_view_module_version": "1.2.0",
            "grid_template_areas": null,
            "object_position": null,
            "object_fit": null,
            "grid_auto_columns": null,
            "margin": null,
            "display": null,
            "left": null
          }
        },
        "9c88e26457e34897893e7dd7f01c37be": {
          "model_module": "@jupyter-widgets/controls",
          "model_name": "HBoxModel",
          "model_module_version": "1.5.0",
          "state": {
            "_view_name": "HBoxView",
            "_dom_classes": [],
            "_model_name": "HBoxModel",
            "_view_module": "@jupyter-widgets/controls",
            "_model_module_version": "1.5.0",
            "_view_count": null,
            "_view_module_version": "1.5.0",
            "box_style": "",
            "layout": "IPY_MODEL_f7f03ed58f0549618cfe29cbf2224bcf",
            "_model_module": "@jupyter-widgets/controls",
            "children": [
              "IPY_MODEL_4f910a982b50449882f0c344b9f4d744",
              "IPY_MODEL_6283a7c5b4c443ddb9af4e2c6cbb4ccf",
              "IPY_MODEL_72e04339af664089947f5c6e18a9ea69"
            ]
          }
        },
        "f7f03ed58f0549618cfe29cbf2224bcf": {
          "model_module": "@jupyter-widgets/base",
          "model_name": "LayoutModel",
          "model_module_version": "1.2.0",
          "state": {
            "_view_name": "LayoutView",
            "grid_template_rows": null,
            "right": null,
            "justify_content": null,
            "_view_module": "@jupyter-widgets/base",
            "overflow": null,
            "_model_module_version": "1.2.0",
            "_view_count": null,
            "flex_flow": null,
            "width": null,
            "min_width": null,
            "border": null,
            "align_items": null,
            "bottom": null,
            "_model_module": "@jupyter-widgets/base",
            "top": null,
            "grid_column": null,
            "overflow_y": null,
            "overflow_x": null,
            "grid_auto_flow": null,
            "grid_area": null,
            "grid_template_columns": null,
            "flex": null,
            "_model_name": "LayoutModel",
            "justify_items": null,
            "grid_row": null,
            "max_height": null,
            "align_content": null,
            "visibility": null,
            "align_self": null,
            "height": null,
            "min_height": null,
            "padding": null,
            "grid_auto_rows": null,
            "grid_gap": null,
            "max_width": null,
            "order": null,
            "_view_module_version": "1.2.0",
            "grid_template_areas": null,
            "object_position": null,
            "object_fit": null,
            "grid_auto_columns": null,
            "margin": null,
            "display": null,
            "left": null
          }
        },
        "4f910a982b50449882f0c344b9f4d744": {
          "model_module": "@jupyter-widgets/controls",
          "model_name": "HTMLModel",
          "model_module_version": "1.5.0",
          "state": {
            "_view_name": "HTMLView",
            "style": "IPY_MODEL_a6c30b142a9747e7a177bec2b3fda6c3",
            "_dom_classes": [],
            "description": "",
            "_model_name": "HTMLModel",
            "placeholder": "​",
            "_view_module": "@jupyter-widgets/controls",
            "_model_module_version": "1.5.0",
            "value": "",
            "_view_count": null,
            "_view_module_version": "1.5.0",
            "description_tooltip": null,
            "_model_module": "@jupyter-widgets/controls",
            "layout": "IPY_MODEL_f11eaed07aa847f3b8add78161f8da10"
          }
        },
        "6283a7c5b4c443ddb9af4e2c6cbb4ccf": {
          "model_module": "@jupyter-widgets/controls",
          "model_name": "FloatProgressModel",
          "model_module_version": "1.5.0",
          "state": {
            "_view_name": "ProgressView",
            "style": "IPY_MODEL_139deeeaeace4e5791c4e373ffd81184",
            "_dom_classes": [],
            "description": "",
            "_model_name": "FloatProgressModel",
            "bar_style": "success",
            "max": 1,
            "_view_module": "@jupyter-widgets/controls",
            "_model_module_version": "1.5.0",
            "value": 1,
            "_view_count": null,
            "_view_module_version": "1.5.0",
            "orientation": "horizontal",
            "min": 0,
            "description_tooltip": null,
            "_model_module": "@jupyter-widgets/controls",
            "layout": "IPY_MODEL_4e14d3789cb7489c8afe529e48ebbb51"
          }
        },
        "72e04339af664089947f5c6e18a9ea69": {
          "model_module": "@jupyter-widgets/controls",
          "model_name": "HTMLModel",
          "model_module_version": "1.5.0",
          "state": {
            "_view_name": "HTMLView",
            "style": "IPY_MODEL_8b79207b88aa435a9e818fd3e4a4a2ef",
            "_dom_classes": [],
            "description": "",
            "_model_name": "HTMLModel",
            "placeholder": "​",
            "_view_module": "@jupyter-widgets/controls",
            "_model_module_version": "1.5.0",
            "value": " 15000/? [00:00&lt;00:00, 63411.16it/s]",
            "_view_count": null,
            "_view_module_version": "1.5.0",
            "description_tooltip": null,
            "_model_module": "@jupyter-widgets/controls",
            "layout": "IPY_MODEL_0bb26147ae2141edbb17938133553fc0"
          }
        },
        "a6c30b142a9747e7a177bec2b3fda6c3": {
          "model_module": "@jupyter-widgets/controls",
          "model_name": "DescriptionStyleModel",
          "model_module_version": "1.5.0",
          "state": {
            "_view_name": "StyleView",
            "_model_name": "DescriptionStyleModel",
            "description_width": "",
            "_view_module": "@jupyter-widgets/base",
            "_model_module_version": "1.5.0",
            "_view_count": null,
            "_view_module_version": "1.2.0",
            "_model_module": "@jupyter-widgets/controls"
          }
        },
        "f11eaed07aa847f3b8add78161f8da10": {
          "model_module": "@jupyter-widgets/base",
          "model_name": "LayoutModel",
          "model_module_version": "1.2.0",
          "state": {
            "_view_name": "LayoutView",
            "grid_template_rows": null,
            "right": null,
            "justify_content": null,
            "_view_module": "@jupyter-widgets/base",
            "overflow": null,
            "_model_module_version": "1.2.0",
            "_view_count": null,
            "flex_flow": null,
            "width": null,
            "min_width": null,
            "border": null,
            "align_items": null,
            "bottom": null,
            "_model_module": "@jupyter-widgets/base",
            "top": null,
            "grid_column": null,
            "overflow_y": null,
            "overflow_x": null,
            "grid_auto_flow": null,
            "grid_area": null,
            "grid_template_columns": null,
            "flex": null,
            "_model_name": "LayoutModel",
            "justify_items": null,
            "grid_row": null,
            "max_height": null,
            "align_content": null,
            "visibility": null,
            "align_self": null,
            "height": null,
            "min_height": null,
            "padding": null,
            "grid_auto_rows": null,
            "grid_gap": null,
            "max_width": null,
            "order": null,
            "_view_module_version": "1.2.0",
            "grid_template_areas": null,
            "object_position": null,
            "object_fit": null,
            "grid_auto_columns": null,
            "margin": null,
            "display": null,
            "left": null
          }
        },
        "139deeeaeace4e5791c4e373ffd81184": {
          "model_module": "@jupyter-widgets/controls",
          "model_name": "ProgressStyleModel",
          "model_module_version": "1.5.0",
          "state": {
            "_view_name": "StyleView",
            "_model_name": "ProgressStyleModel",
            "description_width": "",
            "_view_module": "@jupyter-widgets/base",
            "_model_module_version": "1.5.0",
            "_view_count": null,
            "_view_module_version": "1.2.0",
            "bar_color": null,
            "_model_module": "@jupyter-widgets/controls"
          }
        },
        "4e14d3789cb7489c8afe529e48ebbb51": {
          "model_module": "@jupyter-widgets/base",
          "model_name": "LayoutModel",
          "model_module_version": "1.2.0",
          "state": {
            "_view_name": "LayoutView",
            "grid_template_rows": null,
            "right": null,
            "justify_content": null,
            "_view_module": "@jupyter-widgets/base",
            "overflow": null,
            "_model_module_version": "1.2.0",
            "_view_count": null,
            "flex_flow": null,
            "width": "20px",
            "min_width": null,
            "border": null,
            "align_items": null,
            "bottom": null,
            "_model_module": "@jupyter-widgets/base",
            "top": null,
            "grid_column": null,
            "overflow_y": null,
            "overflow_x": null,
            "grid_auto_flow": null,
            "grid_area": null,
            "grid_template_columns": null,
            "flex": null,
            "_model_name": "LayoutModel",
            "justify_items": null,
            "grid_row": null,
            "max_height": null,
            "align_content": null,
            "visibility": null,
            "align_self": null,
            "height": null,
            "min_height": null,
            "padding": null,
            "grid_auto_rows": null,
            "grid_gap": null,
            "max_width": null,
            "order": null,
            "_view_module_version": "1.2.0",
            "grid_template_areas": null,
            "object_position": null,
            "object_fit": null,
            "grid_auto_columns": null,
            "margin": null,
            "display": null,
            "left": null
          }
        },
        "8b79207b88aa435a9e818fd3e4a4a2ef": {
          "model_module": "@jupyter-widgets/controls",
          "model_name": "DescriptionStyleModel",
          "model_module_version": "1.5.0",
          "state": {
            "_view_name": "StyleView",
            "_model_name": "DescriptionStyleModel",
            "description_width": "",
            "_view_module": "@jupyter-widgets/base",
            "_model_module_version": "1.5.0",
            "_view_count": null,
            "_view_module_version": "1.2.0",
            "_model_module": "@jupyter-widgets/controls"
          }
        },
        "0bb26147ae2141edbb17938133553fc0": {
          "model_module": "@jupyter-widgets/base",
          "model_name": "LayoutModel",
          "model_module_version": "1.2.0",
          "state": {
            "_view_name": "LayoutView",
            "grid_template_rows": null,
            "right": null,
            "justify_content": null,
            "_view_module": "@jupyter-widgets/base",
            "overflow": null,
            "_model_module_version": "1.2.0",
            "_view_count": null,
            "flex_flow": null,
            "width": null,
            "min_width": null,
            "border": null,
            "align_items": null,
            "bottom": null,
            "_model_module": "@jupyter-widgets/base",
            "top": null,
            "grid_column": null,
            "overflow_y": null,
            "overflow_x": null,
            "grid_auto_flow": null,
            "grid_area": null,
            "grid_template_columns": null,
            "flex": null,
            "_model_name": "LayoutModel",
            "justify_items": null,
            "grid_row": null,
            "max_height": null,
            "align_content": null,
            "visibility": null,
            "align_self": null,
            "height": null,
            "min_height": null,
            "padding": null,
            "grid_auto_rows": null,
            "grid_gap": null,
            "max_width": null,
            "order": null,
            "_view_module_version": "1.2.0",
            "grid_template_areas": null,
            "object_position": null,
            "object_fit": null,
            "grid_auto_columns": null,
            "margin": null,
            "display": null,
            "left": null
          }
        },
        "d8ed83dbbb8d418598d072df946d5dd1": {
          "model_module": "@jupyter-widgets/controls",
          "model_name": "HBoxModel",
          "model_module_version": "1.5.0",
          "state": {
            "_view_name": "HBoxView",
            "_dom_classes": [],
            "_model_name": "HBoxModel",
            "_view_module": "@jupyter-widgets/controls",
            "_model_module_version": "1.5.0",
            "_view_count": null,
            "_view_module_version": "1.5.0",
            "box_style": "",
            "layout": "IPY_MODEL_84d00faa40a84849b04f6aa598fb80d9",
            "_model_module": "@jupyter-widgets/controls",
            "children": [
              "IPY_MODEL_68dc11b7cf8c42fdbefc6533d2278c68",
              "IPY_MODEL_45dc064223b94d74acb64857ce02a7a0",
              "IPY_MODEL_9d20061f803a4b5f9597b6172bcea79e"
            ]
          }
        },
        "84d00faa40a84849b04f6aa598fb80d9": {
          "model_module": "@jupyter-widgets/base",
          "model_name": "LayoutModel",
          "model_module_version": "1.2.0",
          "state": {
            "_view_name": "LayoutView",
            "grid_template_rows": null,
            "right": null,
            "justify_content": null,
            "_view_module": "@jupyter-widgets/base",
            "overflow": null,
            "_model_module_version": "1.2.0",
            "_view_count": null,
            "flex_flow": null,
            "width": null,
            "min_width": null,
            "border": null,
            "align_items": null,
            "bottom": null,
            "_model_module": "@jupyter-widgets/base",
            "top": null,
            "grid_column": null,
            "overflow_y": null,
            "overflow_x": null,
            "grid_auto_flow": null,
            "grid_area": null,
            "grid_template_columns": null,
            "flex": null,
            "_model_name": "LayoutModel",
            "justify_items": null,
            "grid_row": null,
            "max_height": null,
            "align_content": null,
            "visibility": null,
            "align_self": null,
            "height": null,
            "min_height": null,
            "padding": null,
            "grid_auto_rows": null,
            "grid_gap": null,
            "max_width": null,
            "order": null,
            "_view_module_version": "1.2.0",
            "grid_template_areas": null,
            "object_position": null,
            "object_fit": null,
            "grid_auto_columns": null,
            "margin": null,
            "display": null,
            "left": null
          }
        },
        "68dc11b7cf8c42fdbefc6533d2278c68": {
          "model_module": "@jupyter-widgets/controls",
          "model_name": "HTMLModel",
          "model_module_version": "1.5.0",
          "state": {
            "_view_name": "HTMLView",
            "style": "IPY_MODEL_4bae6c80368c4f6589bb7e75672c4d8e",
            "_dom_classes": [],
            "description": "",
            "_model_name": "HTMLModel",
            "placeholder": "​",
            "_view_module": "@jupyter-widgets/controls",
            "_model_module_version": "1.5.0",
            "value": "",
            "_view_count": null,
            "_view_module_version": "1.5.0",
            "description_tooltip": null,
            "_model_module": "@jupyter-widgets/controls",
            "layout": "IPY_MODEL_a41f9bf21a7a45069eec183b328187a2"
          }
        },
        "45dc064223b94d74acb64857ce02a7a0": {
          "model_module": "@jupyter-widgets/controls",
          "model_name": "FloatProgressModel",
          "model_module_version": "1.5.0",
          "state": {
            "_view_name": "ProgressView",
            "style": "IPY_MODEL_b76bd63edde24d8a907ca1891ae7aafb",
            "_dom_classes": [],
            "description": "",
            "_model_name": "FloatProgressModel",
            "bar_style": "success",
            "max": 1,
            "_view_module": "@jupyter-widgets/controls",
            "_model_module_version": "1.5.0",
            "value": 1,
            "_view_count": null,
            "_view_module_version": "1.5.0",
            "orientation": "horizontal",
            "min": 0,
            "description_tooltip": null,
            "_model_module": "@jupyter-widgets/controls",
            "layout": "IPY_MODEL_5b044834af93495f8a44d88a9a02b786"
          }
        },
        "9d20061f803a4b5f9597b6172bcea79e": {
          "model_module": "@jupyter-widgets/controls",
          "model_name": "HTMLModel",
          "model_module_version": "1.5.0",
          "state": {
            "_view_name": "HTMLView",
            "style": "IPY_MODEL_6b76a3f41785477ea8bd7de1a49acaff",
            "_dom_classes": [],
            "description": "",
            "_model_name": "HTMLModel",
            "placeholder": "​",
            "_view_module": "@jupyter-widgets/controls",
            "_model_module_version": "1.5.0",
            "value": " 15000/? [00:00&lt;00:00, 51708.21it/s]",
            "_view_count": null,
            "_view_module_version": "1.5.0",
            "description_tooltip": null,
            "_model_module": "@jupyter-widgets/controls",
            "layout": "IPY_MODEL_d2d45b6bb2774ca8944ffa7be6b348a8"
          }
        },
        "4bae6c80368c4f6589bb7e75672c4d8e": {
          "model_module": "@jupyter-widgets/controls",
          "model_name": "DescriptionStyleModel",
          "model_module_version": "1.5.0",
          "state": {
            "_view_name": "StyleView",
            "_model_name": "DescriptionStyleModel",
            "description_width": "",
            "_view_module": "@jupyter-widgets/base",
            "_model_module_version": "1.5.0",
            "_view_count": null,
            "_view_module_version": "1.2.0",
            "_model_module": "@jupyter-widgets/controls"
          }
        },
        "a41f9bf21a7a45069eec183b328187a2": {
          "model_module": "@jupyter-widgets/base",
          "model_name": "LayoutModel",
          "model_module_version": "1.2.0",
          "state": {
            "_view_name": "LayoutView",
            "grid_template_rows": null,
            "right": null,
            "justify_content": null,
            "_view_module": "@jupyter-widgets/base",
            "overflow": null,
            "_model_module_version": "1.2.0",
            "_view_count": null,
            "flex_flow": null,
            "width": null,
            "min_width": null,
            "border": null,
            "align_items": null,
            "bottom": null,
            "_model_module": "@jupyter-widgets/base",
            "top": null,
            "grid_column": null,
            "overflow_y": null,
            "overflow_x": null,
            "grid_auto_flow": null,
            "grid_area": null,
            "grid_template_columns": null,
            "flex": null,
            "_model_name": "LayoutModel",
            "justify_items": null,
            "grid_row": null,
            "max_height": null,
            "align_content": null,
            "visibility": null,
            "align_self": null,
            "height": null,
            "min_height": null,
            "padding": null,
            "grid_auto_rows": null,
            "grid_gap": null,
            "max_width": null,
            "order": null,
            "_view_module_version": "1.2.0",
            "grid_template_areas": null,
            "object_position": null,
            "object_fit": null,
            "grid_auto_columns": null,
            "margin": null,
            "display": null,
            "left": null
          }
        },
        "b76bd63edde24d8a907ca1891ae7aafb": {
          "model_module": "@jupyter-widgets/controls",
          "model_name": "ProgressStyleModel",
          "model_module_version": "1.5.0",
          "state": {
            "_view_name": "StyleView",
            "_model_name": "ProgressStyleModel",
            "description_width": "",
            "_view_module": "@jupyter-widgets/base",
            "_model_module_version": "1.5.0",
            "_view_count": null,
            "_view_module_version": "1.2.0",
            "bar_color": null,
            "_model_module": "@jupyter-widgets/controls"
          }
        },
        "5b044834af93495f8a44d88a9a02b786": {
          "model_module": "@jupyter-widgets/base",
          "model_name": "LayoutModel",
          "model_module_version": "1.2.0",
          "state": {
            "_view_name": "LayoutView",
            "grid_template_rows": null,
            "right": null,
            "justify_content": null,
            "_view_module": "@jupyter-widgets/base",
            "overflow": null,
            "_model_module_version": "1.2.0",
            "_view_count": null,
            "flex_flow": null,
            "width": "20px",
            "min_width": null,
            "border": null,
            "align_items": null,
            "bottom": null,
            "_model_module": "@jupyter-widgets/base",
            "top": null,
            "grid_column": null,
            "overflow_y": null,
            "overflow_x": null,
            "grid_auto_flow": null,
            "grid_area": null,
            "grid_template_columns": null,
            "flex": null,
            "_model_name": "LayoutModel",
            "justify_items": null,
            "grid_row": null,
            "max_height": null,
            "align_content": null,
            "visibility": null,
            "align_self": null,
            "height": null,
            "min_height": null,
            "padding": null,
            "grid_auto_rows": null,
            "grid_gap": null,
            "max_width": null,
            "order": null,
            "_view_module_version": "1.2.0",
            "grid_template_areas": null,
            "object_position": null,
            "object_fit": null,
            "grid_auto_columns": null,
            "margin": null,
            "display": null,
            "left": null
          }
        },
        "6b76a3f41785477ea8bd7de1a49acaff": {
          "model_module": "@jupyter-widgets/controls",
          "model_name": "DescriptionStyleModel",
          "model_module_version": "1.5.0",
          "state": {
            "_view_name": "StyleView",
            "_model_name": "DescriptionStyleModel",
            "description_width": "",
            "_view_module": "@jupyter-widgets/base",
            "_model_module_version": "1.5.0",
            "_view_count": null,
            "_view_module_version": "1.2.0",
            "_model_module": "@jupyter-widgets/controls"
          }
        },
        "d2d45b6bb2774ca8944ffa7be6b348a8": {
          "model_module": "@jupyter-widgets/base",
          "model_name": "LayoutModel",
          "model_module_version": "1.2.0",
          "state": {
            "_view_name": "LayoutView",
            "grid_template_rows": null,
            "right": null,
            "justify_content": null,
            "_view_module": "@jupyter-widgets/base",
            "overflow": null,
            "_model_module_version": "1.2.0",
            "_view_count": null,
            "flex_flow": null,
            "width": null,
            "min_width": null,
            "border": null,
            "align_items": null,
            "bottom": null,
            "_model_module": "@jupyter-widgets/base",
            "top": null,
            "grid_column": null,
            "overflow_y": null,
            "overflow_x": null,
            "grid_auto_flow": null,
            "grid_area": null,
            "grid_template_columns": null,
            "flex": null,
            "_model_name": "LayoutModel",
            "justify_items": null,
            "grid_row": null,
            "max_height": null,
            "align_content": null,
            "visibility": null,
            "align_self": null,
            "height": null,
            "min_height": null,
            "padding": null,
            "grid_auto_rows": null,
            "grid_gap": null,
            "max_width": null,
            "order": null,
            "_view_module_version": "1.2.0",
            "grid_template_areas": null,
            "object_position": null,
            "object_fit": null,
            "grid_auto_columns": null,
            "margin": null,
            "display": null,
            "left": null
          }
        }
      }
    }
  },
  "cells": [
    {
      "cell_type": "code",
      "metadata": {
        "colab": {
          "base_uri": "https://localhost:8080/"
        },
        "id": "AS4udQts-HSy",
        "outputId": "f01e31af-1416-4bc3-f311-80556cb8985d"
      },
      "source": [
        "!pip install datasets"
      ],
      "execution_count": null,
      "outputs": [
        {
          "output_type": "stream",
          "name": "stdout",
          "text": [
            "Collecting datasets\n",
            "  Downloading datasets-1.12.1-py3-none-any.whl (270 kB)\n",
            "\u001b[K     |████████████████████████████████| 270 kB 13.3 MB/s \n",
            "\u001b[?25hCollecting xxhash\n",
            "  Downloading xxhash-2.0.2-cp37-cp37m-manylinux2010_x86_64.whl (243 kB)\n",
            "\u001b[K     |████████████████████████████████| 243 kB 43.0 MB/s \n",
            "\u001b[?25hRequirement already satisfied: tqdm>=4.62.1 in /usr/local/lib/python3.7/dist-packages (from datasets) (4.62.2)\n",
            "Requirement already satisfied: pandas in /usr/local/lib/python3.7/dist-packages (from datasets) (1.1.5)\n",
            "Collecting aiohttp\n",
            "  Downloading aiohttp-3.7.4.post0-cp37-cp37m-manylinux2014_x86_64.whl (1.3 MB)\n",
            "\u001b[K     |████████████████████████████████| 1.3 MB 38.7 MB/s \n",
            "\u001b[?25hRequirement already satisfied: packaging in /usr/local/lib/python3.7/dist-packages (from datasets) (21.0)\n",
            "Requirement already satisfied: numpy>=1.17 in /usr/local/lib/python3.7/dist-packages (from datasets) (1.19.5)\n",
            "Requirement already satisfied: pyarrow!=4.0.0,>=1.0.0 in /usr/local/lib/python3.7/dist-packages (from datasets) (3.0.0)\n",
            "Requirement already satisfied: requests>=2.19.0 in /usr/local/lib/python3.7/dist-packages (from datasets) (2.23.0)\n",
            "Collecting huggingface-hub<0.1.0,>=0.0.14\n",
            "  Downloading huggingface_hub-0.0.17-py3-none-any.whl (52 kB)\n",
            "\u001b[K     |████████████████████████████████| 52 kB 1.6 MB/s \n",
            "\u001b[?25hRequirement already satisfied: dill in /usr/local/lib/python3.7/dist-packages (from datasets) (0.3.4)\n",
            "Requirement already satisfied: multiprocess in /usr/local/lib/python3.7/dist-packages (from datasets) (0.70.12.2)\n",
            "Requirement already satisfied: importlib-metadata in /usr/local/lib/python3.7/dist-packages (from datasets) (4.8.1)\n",
            "Collecting fsspec[http]>=2021.05.0\n",
            "  Downloading fsspec-2021.9.0-py3-none-any.whl (123 kB)\n",
            "\u001b[K     |████████████████████████████████| 123 kB 24.3 MB/s \n",
            "\u001b[?25hRequirement already satisfied: filelock in /usr/local/lib/python3.7/dist-packages (from huggingface-hub<0.1.0,>=0.0.14->datasets) (3.0.12)\n",
            "Requirement already satisfied: typing-extensions in /usr/local/lib/python3.7/dist-packages (from huggingface-hub<0.1.0,>=0.0.14->datasets) (3.7.4.3)\n",
            "Requirement already satisfied: pyparsing>=2.0.2 in /usr/local/lib/python3.7/dist-packages (from packaging->datasets) (2.4.7)\n",
            "Requirement already satisfied: certifi>=2017.4.17 in /usr/local/lib/python3.7/dist-packages (from requests>=2.19.0->datasets) (2021.5.30)\n",
            "Requirement already satisfied: idna<3,>=2.5 in /usr/local/lib/python3.7/dist-packages (from requests>=2.19.0->datasets) (2.10)\n",
            "Requirement already satisfied: urllib3!=1.25.0,!=1.25.1,<1.26,>=1.21.1 in /usr/local/lib/python3.7/dist-packages (from requests>=2.19.0->datasets) (1.24.3)\n",
            "Requirement already satisfied: chardet<4,>=3.0.2 in /usr/local/lib/python3.7/dist-packages (from requests>=2.19.0->datasets) (3.0.4)\n",
            "Requirement already satisfied: attrs>=17.3.0 in /usr/local/lib/python3.7/dist-packages (from aiohttp->datasets) (21.2.0)\n",
            "Collecting async-timeout<4.0,>=3.0\n",
            "  Downloading async_timeout-3.0.1-py3-none-any.whl (8.2 kB)\n",
            "Collecting yarl<2.0,>=1.0\n",
            "  Downloading yarl-1.6.3-cp37-cp37m-manylinux2014_x86_64.whl (294 kB)\n",
            "\u001b[K     |████████████████████████████████| 294 kB 2.4 MB/s \n",
            "\u001b[?25hCollecting multidict<7.0,>=4.5\n",
            "  Downloading multidict-5.1.0-cp37-cp37m-manylinux2014_x86_64.whl (142 kB)\n",
            "\u001b[K     |████████████████████████████████| 142 kB 47.7 MB/s \n",
            "\u001b[?25hRequirement already satisfied: zipp>=0.5 in /usr/local/lib/python3.7/dist-packages (from importlib-metadata->datasets) (3.5.0)\n",
            "Requirement already satisfied: pytz>=2017.2 in /usr/local/lib/python3.7/dist-packages (from pandas->datasets) (2018.9)\n",
            "Requirement already satisfied: python-dateutil>=2.7.3 in /usr/local/lib/python3.7/dist-packages (from pandas->datasets) (2.8.2)\n",
            "Requirement already satisfied: six>=1.5 in /usr/local/lib/python3.7/dist-packages (from python-dateutil>=2.7.3->pandas->datasets) (1.15.0)\n",
            "Installing collected packages: multidict, yarl, async-timeout, fsspec, aiohttp, xxhash, huggingface-hub, datasets\n",
            "Successfully installed aiohttp-3.7.4.post0 async-timeout-3.0.1 datasets-1.12.1 fsspec-2021.9.0 huggingface-hub-0.0.17 multidict-5.1.0 xxhash-2.0.2 yarl-1.6.3\n"
          ]
        }
      ]
    },
    {
      "cell_type": "code",
      "metadata": {
        "id": "NbpEljPf90Bs"
      },
      "source": [
        "usePretrained = True\n",
        "DriveAccess = False "
      ],
      "execution_count": null,
      "outputs": []
    },
    {
      "cell_type": "code",
      "metadata": {
        "colab": {
          "base_uri": "https://localhost:8080/"
        },
        "id": "UUQSqHD696k8",
        "outputId": "36a09b84-afc9-4ad7-f789-254b210b18fe"
      },
      "source": [
        "if DriveAccess:\n",
        "  from google.colab import drive\n",
        "  drive.mount('/content/drive')"
      ],
      "execution_count": null,
      "outputs": [
        {
          "output_type": "stream",
          "name": "stdout",
          "text": [
            "Drive already mounted at /content/drive; to attempt to forcibly remount, call drive.mount(\"/content/drive\", force_remount=True).\n"
          ]
        }
      ]
    },
    {
      "cell_type": "markdown",
      "metadata": {
        "id": "Hmfg1PQ9xTvu"
      },
      "source": [
        "## Setup"
      ]
    },
    {
      "cell_type": "code",
      "metadata": {
        "id": "K6MgRHMPxTvv"
      },
      "source": [
        "import pathlib\n",
        "import random\n",
        "import string\n",
        "import re\n",
        "import numpy as np\n",
        "import tensorflow as tf\n",
        "from tensorflow import keras\n",
        "from tensorflow.keras import layers\n",
        "from tensorflow.keras.layers import TextVectorization"
      ],
      "execution_count": null,
      "outputs": []
    },
    {
      "cell_type": "markdown",
      "metadata": {
        "id": "2BinwcsqfM40"
      },
      "source": [
        "## Data Preprocessing"
      ]
    },
    {
      "cell_type": "code",
      "metadata": {
        "id": "808G4THdnm_6"
      },
      "source": [
        "def preprocess_sentence(sentence):\n",
        "  sentence = sentence.lower().strip()\n",
        "  # creating a space between a word and the punctuation following it\n",
        "  # eg: \"he is a boy.\" => \"he is a boy .\"\n",
        "  sentence = re.sub(r\"([?.!,])\", r\" \\1 \", sentence)\n",
        "  sentence = re.sub(r'[\" \"]+', \" \", sentence)\n",
        "  # removing contractions\n",
        "  sentence = re.sub(r\"i'm\", \"i am\", sentence)\n",
        "  sentence = re.sub(r\"he's\", \"he is\", sentence)\n",
        "  sentence = re.sub(r\"she's\", \"she is\", sentence)\n",
        "  sentence = re.sub(r\"it's\", \"it is\", sentence)\n",
        "  sentence = re.sub(r\"that's\", \"that is\", sentence)\n",
        "  sentence = re.sub(r\"what's\", \"what is\", sentence)\n",
        "  sentence = re.sub(r\"where's\", \"where is\", sentence)\n",
        "  sentence = re.sub(r\"how's\", \"how is\", sentence)\n",
        "  sentence = re.sub(r\"\\'ll\", \" will\", sentence)\n",
        "  sentence = re.sub(r\"\\'ve\", \" have\", sentence)\n",
        "  sentence = re.sub(r\"\\'re\", \" are\", sentence)\n",
        "  sentence = re.sub(r\"\\'d\", \" would\", sentence)\n",
        "  sentence = re.sub(r\"won't\", \"will not\", sentence)\n",
        "  sentence = re.sub(r\"can't\", \"cannot\", sentence)\n",
        "  sentence = re.sub(r\"n't\", \" not\", sentence)\n",
        "  sentence = re.sub(r\"n'\", \"ng\", sentence)\n",
        "  sentence = re.sub(r\"'bout\", \"about\", sentence)\n",
        "  # replacing everything with space except (a-z, A-Z, \".\", \"?\", \"!\", \",\")\n",
        "  sentence = re.sub(r\"[^a-zA-Z?.!,]+\", \" \", sentence)\n",
        "  sentence = sentence.strip()\n",
        "  return sentence"
      ],
      "execution_count": null,
      "outputs": []
    },
    {
      "cell_type": "code",
      "metadata": {
        "id": "1aiGHK00Bkz3"
      },
      "source": [
        "def format_dataset(dataset):\n",
        "\n",
        "  text = []\n",
        "  for dialog in dataset:\n",
        "    for index in range(1,len(dialog)):\n",
        "      sentence1 = dialog[index-1]\n",
        "      sentence2 = dialog[index]\n",
        "      sentence1 = sentence1.rstrip()\n",
        "      sentence2 = sentence2.rstrip()\n",
        "\n",
        "      sentence1 = preprocess_sentence(sentence1)\n",
        "      sentence2 = preprocess_sentence(sentence2)\n",
        "      text.append(sentence1)\n",
        "      text.append(\"[start] \" + sentence2 + \" [end]\")\n",
        "  \n",
        "  return text"
      ],
      "execution_count": null,
      "outputs": []
    },
    {
      "cell_type": "code",
      "metadata": {
        "colab": {
          "base_uri": "https://localhost:8080/",
          "height": 84,
          "referenced_widgets": [
            "f0cd6bae3ca2475987300357ee376922",
            "97f3155f5a554ce9898d017721f394e5",
            "259aac51c67b4acd89ddd36fdaf5d87b",
            "03b5270086804414802cad9d58898ef8",
            "e836a2771ce941548a50ffccdddcf660",
            "2cc8008e709744e59dea1fd6577ddb6a",
            "6c44b3e0611b404c94d7c469446e0248",
            "ce261581a87c4ff6b9122f341c310bfa",
            "dd22969665334b078fec08bafab986b3",
            "f8ab7e4804cd447eae75dffcd05c918e",
            "5c3e8f007a734611aacc74c00ff99135"
          ]
        },
        "id": "rFMm0TWG-NjK",
        "outputId": "587cf516-a978-453e-bd65-a67b03f07e10"
      },
      "source": [
        "from datasets import load_dataset\n",
        "dataset = load_dataset('daily_dialog')"
      ],
      "execution_count": null,
      "outputs": [
        {
          "output_type": "stream",
          "name": "stderr",
          "text": [
            "Using custom data configuration default\n",
            "Reusing dataset daily_dialog (/root/.cache/huggingface/datasets/daily_dialog/default/1.0.0/c03444008e9508b8b76f1f6793742d37d5e5f83364f8d573c2747bff435ea55c)\n"
          ]
        },
        {
          "output_type": "display_data",
          "data": {
            "application/vnd.jupyter.widget-view+json": {
              "model_id": "f0cd6bae3ca2475987300357ee376922",
              "version_minor": 0,
              "version_major": 2
            },
            "text/plain": [
              "  0%|          | 0/3 [00:00<?, ?it/s]"
            ]
          },
          "metadata": {}
        }
      ]
    },
    {
      "cell_type": "code",
      "metadata": {
        "id": "RY6htPVQAszg"
      },
      "source": [
        "train_text = format_dataset(dataset['train']['dialog'])\n",
        "test_text = format_dataset(dataset['test']['dialog'])\n",
        "valid_text = format_dataset(dataset['validation']['dialog'])"
      ],
      "execution_count": null,
      "outputs": []
    },
    {
      "cell_type": "code",
      "metadata": {
        "colab": {
          "base_uri": "https://localhost:8080/"
        },
        "id": "y_U08xt3nUqq",
        "outputId": "516c24c7-25ce-494d-ab83-30d0f873f8d3"
      },
      "source": [
        "print(f\"Train Length: {len(train_text)}\")\n",
        "print(f\"Test Length: {len(test_text)}\")\n",
        "print(f\"Valid Length: {len(valid_text)}\")"
      ],
      "execution_count": null,
      "outputs": [
        {
          "output_type": "stream",
          "name": "stdout",
          "text": [
            "Train Length: 152104\n",
            "Test Length: 13480\n",
            "Valid Length: 14138\n"
          ]
        }
      ]
    },
    {
      "cell_type": "code",
      "metadata": {
        "id": "nGBzPjccvSa0"
      },
      "source": [
        "dataset = train_text + test_text + valid_text"
      ],
      "execution_count": null,
      "outputs": []
    },
    {
      "cell_type": "code",
      "metadata": {
        "id": "3lYjtkqCwoE-"
      },
      "source": [
        "index = len(train_text)\n",
        "train_input = [train_text[i] for i in range(0,index) if i % 2 == 0]\n",
        "train_output = [train_text[i] for i in range(0,index) if i % 2 == 1]\n",
        "train_pairs = [(train, test) for train, test in zip(train_input, train_output)]"
      ],
      "execution_count": null,
      "outputs": []
    },
    {
      "cell_type": "code",
      "metadata": {
        "id": "Ve4nIJgixxU-"
      },
      "source": [
        "index = len(test_text)\n",
        "test_input = [test_text[i] for i in range(0,index) if i % 2 == 0]\n",
        "test_output = [test_text[i] for i in range(0,index) if i % 2 == 1]\n",
        "test_pairs = [(train, test) for train, test in zip(test_input, test_output)]"
      ],
      "execution_count": null,
      "outputs": []
    },
    {
      "cell_type": "code",
      "metadata": {
        "id": "cbyqjVOOx3hi"
      },
      "source": [
        "index = len(valid_text)\n",
        "val_input = [valid_text[i] for i in range(0,index) if i % 2 == 0]\n",
        "val_output = [valid_text[i] for i in range(0,index) if i % 2 == 1]\n",
        "val_pairs = [(train, test) for train, test in zip(val_input, val_output)]"
      ],
      "execution_count": null,
      "outputs": []
    },
    {
      "cell_type": "markdown",
      "metadata": {
        "id": "ECP_LoVmxTv2"
      },
      "source": [
        "## Vectorizing the text data"
      ]
    },
    {
      "cell_type": "code",
      "metadata": {
        "id": "7R3hoTFLxTv3"
      },
      "source": [
        "vocab_size = 15000\n",
        "sequence_length = 40\n",
        "batch_size = 64\n",
        "\n",
        "strip_chars_one = string.punctuation\n",
        "strip_chars_one = strip_chars_one.replace(\"?\", \"\")\n",
        "strip_chars_one = strip_chars_one.replace(\"!\", \"\")\n",
        "strip_chars_one = strip_chars_one.replace(\".\", \"\")\n",
        "strip_chars_one = strip_chars_one.replace(\",\", \"\")\n",
        "\n",
        "def custom_standardization_encoder(input_string):\n",
        "    lowercase = tf.strings.lower(input_string)\n",
        "    return tf.strings.regex_replace(lowercase, \"[%s]\" % re.escape(strip_chars_one), \"\")\n",
        "\n",
        "\n",
        "inp_vectorization = TextVectorization(\n",
        "    max_tokens=vocab_size, output_mode=\"int\", output_sequence_length=sequence_length,\n",
        "    standardize = custom_standardization_encoder\n",
        ")\n",
        "\n",
        "strip_chars = string.punctuation\n",
        "strip_chars = strip_chars.replace(\"[\", \"\")\n",
        "strip_chars = strip_chars.replace(\"]\", \"\")\n",
        "strip_chars = strip_chars.replace(\"?\", \"\")\n",
        "strip_chars = strip_chars.replace(\"!\", \"\")\n",
        "strip_chars = strip_chars.replace(\".\", \"\")\n",
        "strip_chars = strip_chars.replace(\",\", \"\")\n",
        "\n",
        "def custom_standardization(input_string):\n",
        "    lowercase = tf.strings.lower(input_string)\n",
        "    return tf.strings.regex_replace(lowercase, \"[%s]\" % re.escape(strip_chars), \"\")\n",
        "\n",
        "out_vectorization = TextVectorization(\n",
        "    max_tokens=vocab_size, output_mode=\"int\", output_sequence_length=sequence_length+1,\n",
        "    standardize=custom_standardization,\n",
        ")\n",
        "\n",
        "index = len(dataset)\n",
        "inp_texts = [dataset[i] for i in range(0,index) if i % 2 == 0]\n",
        "out_texts = [dataset[i] for i in range(0,index) if i % 2 == 1]\n",
        "\n",
        "\n",
        "inp_vectorization.adapt(inp_texts)\n",
        "out_vectorization.adapt(out_texts)\n"
      ],
      "execution_count": null,
      "outputs": []
    },
    {
      "cell_type": "code",
      "metadata": {
        "id": "eptR75PKxTv5"
      },
      "source": [
        "def format_dataset(inp, out):\n",
        "    inp = inp_vectorization(inp)\n",
        "    out = out_vectorization(out)\n",
        "    return ({\"encoder_inputs\": inp, \"decoder_inputs\": out[:, :-1],}, out[:, 1:])\n",
        "\n",
        "\n",
        "def make_dataset(pairs):\n",
        "    inp_texts, out_texts = zip(*pairs)\n",
        "    inp_texts = list(inp_texts)\n",
        "    out_texts = list(out_texts)\n",
        "    dataset = tf.data.Dataset.from_tensor_slices((inp_texts, out_texts))\n",
        "    dataset = dataset.batch(batch_size)\n",
        "    dataset = dataset.map(format_dataset)\n",
        "    return dataset.shuffle(2048).prefetch(16).cache()\n",
        "\n",
        "\n",
        "train_ds = make_dataset(train_pairs)\n",
        "val_ds = make_dataset(val_pairs)\n",
        "test_ds = make_dataset(test_pairs)"
      ],
      "execution_count": null,
      "outputs": []
    },
    {
      "cell_type": "code",
      "metadata": {
        "id": "rEvogWfzxTv6",
        "colab": {
          "base_uri": "https://localhost:8080/"
        },
        "outputId": "908216b2-79c6-4d57-83d0-3fa17c1b8a04"
      },
      "source": [
        "for inputs, targets in train_ds.take(1):\n",
        "    print(f'inputs[\"encoder_inputs\"].shape: {inputs[\"encoder_inputs\"].shape}')\n",
        "    print(f'inputs[\"decoder_inputs\"].shape: {inputs[\"decoder_inputs\"].shape}')\n",
        "    \n",
        "    print(f\"targets.shape: {targets.shape}\")"
      ],
      "execution_count": null,
      "outputs": [
        {
          "output_type": "stream",
          "name": "stdout",
          "text": [
            "inputs[\"encoder_inputs\"].shape: (64, 40)\n",
            "inputs[\"decoder_inputs\"].shape: (64, 40)\n",
            "targets.shape: (64, 40)\n"
          ]
        }
      ]
    },
    {
      "cell_type": "code",
      "metadata": {
        "id": "gurylvk-LtF9"
      },
      "source": [
        "import numpy as np\n",
        "embedding_matrix_inp = np.random.uniform(-1, 1, (vocab_size, 100))\n",
        "embedding_matrix_out = np.random.uniform(-1, 1, (vocab_size, 100))\n",
        "# embedding_matrix = np.zeros((vocab_size, 100))"
      ],
      "execution_count": null,
      "outputs": []
    },
    {
      "cell_type": "code",
      "metadata": {
        "id": "kZprru7NO1Fm"
      },
      "source": [
        "from gensim.models import Word2Vec\n",
        "model_i = Word2Vec(sentences=[sentence[0].split() for sentence in train_pairs], size=100, min_count=1, window=3, workers=4, sg=1)\n",
        "model_o = Word2Vec(sentences=[sentence[1].split() for sentence in train_pairs], size=100, min_count=1, window=3, workers=4, sg=1)"
      ],
      "execution_count": null,
      "outputs": []
    },
    {
      "cell_type": "code",
      "metadata": {
        "colab": {
          "base_uri": "https://localhost:8080/",
          "height": 101,
          "referenced_widgets": [
            "9c88e26457e34897893e7dd7f01c37be",
            "f7f03ed58f0549618cfe29cbf2224bcf",
            "4f910a982b50449882f0c344b9f4d744",
            "6283a7c5b4c443ddb9af4e2c6cbb4ccf",
            "72e04339af664089947f5c6e18a9ea69",
            "a6c30b142a9747e7a177bec2b3fda6c3",
            "f11eaed07aa847f3b8add78161f8da10",
            "139deeeaeace4e5791c4e373ffd81184",
            "4e14d3789cb7489c8afe529e48ebbb51",
            "8b79207b88aa435a9e818fd3e4a4a2ef",
            "0bb26147ae2141edbb17938133553fc0"
          ]
        },
        "id": "g0pwffFkOZEz",
        "outputId": "407d49c1-8153-479a-c301-e8f83f701df2"
      },
      "source": [
        "from tqdm import tqdm_notebook\n",
        "for idx, word in tqdm_notebook(enumerate(inp_vectorization.get_vocabulary())):\n",
        "  if word in model_i.wv.vocab:\n",
        "    embedding_matrix_inp[idx] = model_i.wv[word]"
      ],
      "execution_count": null,
      "outputs": [
        {
          "output_type": "stream",
          "name": "stderr",
          "text": [
            "/usr/local/lib/python3.7/dist-packages/ipykernel_launcher.py:2: TqdmDeprecationWarning: This function will be removed in tqdm==5.0.0\n",
            "Please use `tqdm.notebook.tqdm` instead of `tqdm.tqdm_notebook`\n",
            "  \n"
          ]
        },
        {
          "output_type": "display_data",
          "data": {
            "application/vnd.jupyter.widget-view+json": {
              "model_id": "9c88e26457e34897893e7dd7f01c37be",
              "version_minor": 0,
              "version_major": 2
            },
            "text/plain": [
              "0it [00:00, ?it/s]"
            ]
          },
          "metadata": {}
        }
      ]
    },
    {
      "cell_type": "code",
      "metadata": {
        "colab": {
          "base_uri": "https://localhost:8080/",
          "height": 101,
          "referenced_widgets": [
            "d8ed83dbbb8d418598d072df946d5dd1",
            "84d00faa40a84849b04f6aa598fb80d9",
            "68dc11b7cf8c42fdbefc6533d2278c68",
            "45dc064223b94d74acb64857ce02a7a0",
            "9d20061f803a4b5f9597b6172bcea79e",
            "4bae6c80368c4f6589bb7e75672c4d8e",
            "a41f9bf21a7a45069eec183b328187a2",
            "b76bd63edde24d8a907ca1891ae7aafb",
            "5b044834af93495f8a44d88a9a02b786",
            "6b76a3f41785477ea8bd7de1a49acaff",
            "d2d45b6bb2774ca8944ffa7be6b348a8"
          ]
        },
        "id": "6rNlcG4lcCFW",
        "outputId": "952f1634-39b4-4355-9b05-18517e5deaf5"
      },
      "source": [
        "for idx, word in tqdm_notebook(enumerate(out_vectorization.get_vocabulary())):\n",
        "  if word in model_o.wv.vocab:\n",
        "    embedding_matrix_out[idx] = model_o.wv[word]"
      ],
      "execution_count": null,
      "outputs": [
        {
          "output_type": "stream",
          "name": "stderr",
          "text": [
            "/usr/local/lib/python3.7/dist-packages/ipykernel_launcher.py:1: TqdmDeprecationWarning: This function will be removed in tqdm==5.0.0\n",
            "Please use `tqdm.notebook.tqdm` instead of `tqdm.tqdm_notebook`\n",
            "  \"\"\"Entry point for launching an IPython kernel.\n"
          ]
        },
        {
          "output_type": "display_data",
          "data": {
            "application/vnd.jupyter.widget-view+json": {
              "model_id": "d8ed83dbbb8d418598d072df946d5dd1",
              "version_minor": 0,
              "version_major": 2
            },
            "text/plain": [
              "0it [00:00, ?it/s]"
            ]
          },
          "metadata": {}
        }
      ]
    },
    {
      "cell_type": "markdown",
      "metadata": {
        "id": "1ImeF9s7YvK6"
      },
      "source": [
        "# Question 1"
      ]
    },
    {
      "cell_type": "code",
      "metadata": {
        "id": "CGLP3RXctWu8"
      },
      "source": [
        "class TransformerEncoder(layers.Layer):\n",
        "    def __init__(self, embed_dim, dense_dim, num_heads, **kwargs):\n",
        "        super(TransformerEncoder, self).__init__(**kwargs)\n",
        "        self.embed_dim = embed_dim\n",
        "        self.dense_dim = dense_dim\n",
        "        self.num_heads = num_heads\n",
        "        \n",
        "        self.attention = layers.MultiHeadAttention(\n",
        "            num_heads=num_heads, key_dim=embed_dim\n",
        "        )\n",
        "        self.dense_proj = keras.Sequential(\n",
        "            [layers.Dense(dense_dim, activation=\"relu\"), layers.Dense(embed_dim),]\n",
        "        )\n",
        "        self.layernorm_1 = layers.LayerNormalization()\n",
        "        self.layernorm_2 = layers.LayerNormalization()\n",
        "        self.supports_masking = True\n",
        "\n",
        "    def call(self, inputs, mask=None):\n",
        "        if mask is not None:\n",
        "            padding_mask = tf.cast(mask[:, tf.newaxis, tf.newaxis, :], dtype=\"int32\")\n",
        "        attention_output = self.attention(\n",
        "            query=inputs, value=inputs, key=inputs, attention_mask=padding_mask\n",
        "        )\n",
        "        proj_input = self.layernorm_1(inputs + attention_output)\n",
        "        proj_output = self.dense_proj(proj_input)\n",
        "        return self.layernorm_2(proj_input + proj_output)\n",
        "\n",
        "    def get_config(self):\n",
        "      config = {\n",
        "                'num_heads': self.num_heads,\n",
        "            'embed_dim': self.embed_dim,\n",
        "            'dense_dim':self.dense_dim,\n",
        "               }\n",
        "      base_config = super(TransformerEncoder, self).get_config()\n",
        "      return dict(list(base_config.items()) + list(config.items()))"
      ],
      "execution_count": null,
      "outputs": []
    },
    {
      "cell_type": "code",
      "metadata": {
        "id": "D_kFlKPHxTv7"
      },
      "source": [
        "class PositionalEmbedding(layers.Layer):\n",
        "    def __init__(self, sequence_length, vocab_size, embed_dim, weights, **kwargs):\n",
        "        super(PositionalEmbedding, self).__init__(**kwargs)\n",
        "        self.token_embeddings = layers.Embedding(\n",
        "            input_dim=vocab_size, output_dim=embed_dim, trainable=True, weights=[weights], mask_zero=True\n",
        "        )\n",
        "        self.position_embeddings = layers.Embedding(\n",
        "            input_dim=sequence_length, output_dim=embed_dim\n",
        "        )\n",
        "        self.sequence_length = sequence_length\n",
        "        self.vocab_size = vocab_size\n",
        "        self.embed_dim = embed_dim\n",
        "\n",
        "    def call(self, inputs):\n",
        "        length = tf.shape(inputs)[-1]\n",
        "        positions = tf.range(start=0, limit=length, delta=1)\n",
        "        embedded_tokens = self.token_embeddings(inputs)\n",
        "        embedded_positions = self.position_embeddings(positions)\n",
        "        return embedded_tokens + embedded_positions\n",
        "\n",
        "    def compute_mask(self, inputs, mask=None):\n",
        "        return tf.math.not_equal(inputs, 0)\n",
        "    \n",
        "    def get_config(self):\n",
        "      config = {\n",
        "                'vocab_size': self.vocab_size,\n",
        "            'embed_dim': self.embed_dim,\n",
        "            'sequence_length':self.sequence_length,\n",
        "            'weights': self.weights}\n",
        "      base_config = super(PositionalEmbedding, self).get_config()\n",
        "      return dict(list(base_config.items()) + list(config.items()))"
      ],
      "execution_count": null,
      "outputs": []
    },
    {
      "cell_type": "code",
      "metadata": {
        "id": "XPBKEDB1tbsV"
      },
      "source": [
        "class TransformerDecoder(layers.Layer):\n",
        "    def __init__(self, embed_dim, latent_dim, num_heads, **kwargs):\n",
        "        super(TransformerDecoder, self).__init__(**kwargs)\n",
        "        self.embed_dim = embed_dim\n",
        "        self.latent_dim = latent_dim\n",
        "        self.num_heads = num_heads\n",
        "\n",
        "        self.attention_1 = layers.MultiHeadAttention(\n",
        "            num_heads=num_heads, key_dim=embed_dim\n",
        "        )\n",
        "        self.attention_2 = layers.MultiHeadAttention(\n",
        "            num_heads=num_heads, key_dim=embed_dim\n",
        "        )\n",
        "\n",
        "        self.dense_proj = keras.Sequential(\n",
        "            [layers.Dense(latent_dim, activation=\"relu\"), layers.Dense(embed_dim),]\n",
        "        )\n",
        "\n",
        "        self.layernorm_1 = layers.LayerNormalization()\n",
        "        self.layernorm_2 = layers.LayerNormalization()\n",
        "        self.layernorm_3 = layers.LayerNormalization()\n",
        "        \n",
        "        self.supports_masking = True\n",
        "\n",
        "    def call(self, inputs, encoder_outputs, mask=None):\n",
        "        causal_mask = self.get_causal_attention_mask(inputs)\n",
        "        if mask is not None:\n",
        "            padding_mask = tf.cast(mask[:, tf.newaxis, :], dtype=\"int32\")\n",
        "            padding_mask = tf.minimum(padding_mask, causal_mask)\n",
        "\n",
        "        attention_output_1 = self.attention_1(\n",
        "            query=inputs, value=inputs, key=inputs, attention_mask=causal_mask\n",
        "        )\n",
        "        out_1 = self.layernorm_1(inputs + attention_output_1)\n",
        "\n",
        "        attention_output_2 = self.attention_2(\n",
        "            query=out_1,\n",
        "            value=encoder_outputs,\n",
        "            key=encoder_outputs,\n",
        "            attention_mask=padding_mask,\n",
        "        )\n",
        "        out_2 = self.layernorm_2(out_1 + attention_output_2)\n",
        "\n",
        "        proj_output = self.dense_proj(out_2)\n",
        "        return self.layernorm_3(out_2 + proj_output)\n",
        "\n",
        "    def get_causal_attention_mask(self, inputs):\n",
        "        input_shape = tf.shape(inputs)\n",
        "        batch_size, sequence_length = input_shape[0], input_shape[1]\n",
        "        i = tf.range(sequence_length)[:, tf.newaxis]\n",
        "        j = tf.range(sequence_length)\n",
        "        mask = tf.cast(i >= j, dtype=\"int32\")\n",
        "        mask = tf.reshape(mask, (1, input_shape[1], input_shape[1]))\n",
        "        mult = tf.concat(\n",
        "            [tf.expand_dims(batch_size, -1), tf.constant([1, 1], dtype=tf.int32)],\n",
        "            axis=0,\n",
        "        )\n",
        "        return tf.tile(mask, mult)\n",
        "\n",
        "    def get_config(self):\n",
        "      config = {\n",
        "                'num_heads': self.num_heads,\n",
        "            'embed_dim': self.embed_dim,\n",
        "            'latent_dim':self.latent_dim,\n",
        "                }\n",
        "      base_config = super(TransformerDecoder, self).get_config()\n",
        "      return dict(list(base_config.items()) + list(config.items()))"
      ],
      "execution_count": null,
      "outputs": []
    },
    {
      "cell_type": "code",
      "metadata": {
        "id": "rwo9Fr10xTv8"
      },
      "source": [
        "embed_dim = 100\n",
        "latent_dim = 2048\n",
        "num_heads = 8\n",
        "\n",
        "# Encoder \n",
        "encoder_inputs = keras.Input(shape=(None,), dtype=\"int64\", name=\"encoder_inputs\")\n",
        "x = PositionalEmbedding(sequence_length, vocab_size, embed_dim, embedding_matrix_inp)(encoder_inputs)\n",
        "encoder1 = TransformerEncoder(embed_dim, latent_dim, num_heads)(x)\n",
        "encoder2 = TransformerEncoder(embed_dim, latent_dim, num_heads)(encoder1)\n",
        "encoder = keras.Model(encoder_inputs, encoder2)\n",
        "\n",
        "# Decoder\n",
        "decoder_inputs = keras.Input(shape=(None,), dtype=\"int64\", name=\"decoder_inputs\")\n",
        "encoded_seq_inputs = keras.Input(shape=(None, embed_dim), name=\"decoder_state_inputs\")\n",
        "\n",
        "x = PositionalEmbedding(sequence_length, vocab_size, embed_dim, embedding_matrix_out)(decoder_inputs)\n",
        "x = TransformerDecoder(embed_dim, latent_dim, num_heads)(x, encoded_seq_inputs)\n",
        "x = TransformerDecoder(embed_dim, latent_dim, num_heads)(x, encoded_seq_inputs)\n",
        "x = layers.Dropout(0.5)(x)\n",
        "decoder_outputs = layers.Dense(vocab_size, activation=\"softmax\")(x)\n",
        "decoder = keras.Model([decoder_inputs, encoded_seq_inputs], decoder_outputs)\n",
        "\n",
        "decoder_outputs = decoder([decoder_inputs, encoder.output])\n",
        "\n",
        "transformer = keras.Model(\n",
        "    [encoder_inputs, decoder_inputs], decoder_outputs, name=\"transformer\"\n",
        ")"
      ],
      "execution_count": null,
      "outputs": []
    },
    {
      "cell_type": "code",
      "metadata": {
        "id": "NPqL-g2UxTv-",
        "colab": {
          "base_uri": "https://localhost:8080/"
        },
        "outputId": "80e7efb8-ad07-47c4-a2aa-95e5a83bc3d9"
      },
      "source": [
        "epochs = 30\n",
        "\n",
        "transformer.summary()\n",
        "transformer.compile(\n",
        "    \"nadam\", loss=\"sparse_categorical_crossentropy\", metrics=[\"accuracy\"]\n",
        ")"
      ],
      "execution_count": null,
      "outputs": [
        {
          "output_type": "stream",
          "name": "stdout",
          "text": [
            "Model: \"transformer\"\n",
            "__________________________________________________________________________________________________\n",
            "Layer (type)                    Output Shape         Param #     Connected to                     \n",
            "==================================================================================================\n",
            "encoder_inputs (InputLayer)     [(None, None)]       0                                            \n",
            "__________________________________________________________________________________________________\n",
            "positional_embedding_2 (Positio (None, None, 100)    1504000     encoder_inputs[0][0]             \n",
            "__________________________________________________________________________________________________\n",
            "transformer_encoder_2 (Transfor (None, None, 100)    734648      positional_embedding_2[0][0]     \n",
            "__________________________________________________________________________________________________\n",
            "decoder_inputs (InputLayer)     [(None, None)]       0                                            \n",
            "__________________________________________________________________________________________________\n",
            "transformer_encoder_3 (Transfor (None, None, 100)    734648      transformer_encoder_2[0][0]      \n",
            "__________________________________________________________________________________________________\n",
            "model_3 (Functional)            (None, None, 15000)  5133696     decoder_inputs[0][0]             \n",
            "                                                                 transformer_encoder_3[0][0]      \n",
            "==================================================================================================\n",
            "Total params: 8,106,992\n",
            "Trainable params: 8,106,992\n",
            "Non-trainable params: 0\n",
            "__________________________________________________________________________________________________\n"
          ]
        }
      ]
    },
    {
      "cell_type": "code",
      "metadata": {
        "id": "DifZDXi-HLN1"
      },
      "source": [
        "from tensorflow.keras.callbacks import ModelCheckpoint, EarlyStopping\n",
        "\n",
        "checkpoint_path = '/content/drive/MyDrive/HW-06/model-transformer.h5'\n",
        "\n",
        "cp_callback = [ModelCheckpoint(filepath=checkpoint_path, save_weights_only=True, monitor = 'val_loss',mode = 'min',save_best_only=True),\n",
        "               EarlyStopping(patience=10),]\n",
        "               "
      ],
      "execution_count": null,
      "outputs": []
    },
    {
      "cell_type": "code",
      "metadata": {
        "colab": {
          "base_uri": "https://localhost:8080/"
        },
        "id": "5vjbwlpGhpnk",
        "outputId": "81f8661f-f72f-4077-eddc-a9f9b62161ab"
      },
      "source": [
        "if not usePretrained:\n",
        "  import time \n",
        "  start = time.time()\n",
        "  history = transformer.fit(train_ds, epochs=epochs, validation_data=val_ds, shuffle=True, callbacks=[cp_callback])\n",
        "  end = time.time()\n",
        "  print(f\"Transformer Training Time: {end - start}\")"
      ],
      "execution_count": null,
      "outputs": [
        {
          "output_type": "stream",
          "name": "stdout",
          "text": [
            "Epoch 1/30\n",
            "1189/1189 [==============================] - 230s 183ms/step - loss: 1.7173 - accuracy: 0.2998 - val_loss: 1.4674 - val_accuracy: 0.3482\n",
            "Epoch 2/30\n",
            "1189/1189 [==============================] - 216s 181ms/step - loss: 1.4928 - accuracy: 0.3470 - val_loss: 1.3909 - val_accuracy: 0.3668\n",
            "Epoch 3/30\n",
            "1189/1189 [==============================] - 215s 181ms/step - loss: 1.4208 - accuracy: 0.3640 - val_loss: 1.3528 - val_accuracy: 0.3760\n",
            "Epoch 4/30\n",
            "1189/1189 [==============================] - 216s 181ms/step - loss: 1.3681 - accuracy: 0.3773 - val_loss: 1.3346 - val_accuracy: 0.3800\n",
            "Epoch 5/30\n",
            "1189/1189 [==============================] - 216s 181ms/step - loss: 1.3250 - accuracy: 0.3889 - val_loss: 1.3241 - val_accuracy: 0.3847\n",
            "Epoch 6/30\n",
            "1189/1189 [==============================] - 216s 182ms/step - loss: 1.2888 - accuracy: 0.3989 - val_loss: 1.3187 - val_accuracy: 0.3876\n",
            "Epoch 7/30\n",
            "1189/1189 [==============================] - 216s 182ms/step - loss: 1.2585 - accuracy: 0.4076 - val_loss: 1.3190 - val_accuracy: 0.3888\n",
            "Epoch 8/30\n",
            "1189/1189 [==============================] - 216s 182ms/step - loss: 1.2289 - accuracy: 0.4168 - val_loss: 1.3193 - val_accuracy: 0.3898\n",
            "Epoch 9/30\n",
            "1189/1189 [==============================] - 216s 182ms/step - loss: 1.2032 - accuracy: 0.4248 - val_loss: 1.3251 - val_accuracy: 0.3900\n",
            "Epoch 10/30\n",
            "1189/1189 [==============================] - 216s 182ms/step - loss: 1.1794 - accuracy: 0.4324 - val_loss: 1.3255 - val_accuracy: 0.3909\n",
            "Epoch 11/30\n",
            "1189/1189 [==============================] - 216s 182ms/step - loss: 1.1570 - accuracy: 0.4398 - val_loss: 1.3303 - val_accuracy: 0.3920\n",
            "Epoch 12/30\n",
            "1189/1189 [==============================] - 216s 182ms/step - loss: 1.1360 - accuracy: 0.4468 - val_loss: 1.3330 - val_accuracy: 0.3906\n",
            "Epoch 13/30\n",
            "1189/1189 [==============================] - 216s 181ms/step - loss: 1.1163 - accuracy: 0.4534 - val_loss: 1.3367 - val_accuracy: 0.3921\n",
            "Epoch 14/30\n",
            "1189/1189 [==============================] - 216s 181ms/step - loss: 1.0983 - accuracy: 0.4597 - val_loss: 1.3458 - val_accuracy: 0.3933\n",
            "Epoch 15/30\n",
            "1189/1189 [==============================] - 216s 181ms/step - loss: 1.0807 - accuracy: 0.4657 - val_loss: 1.3500 - val_accuracy: 0.3948\n",
            "Epoch 16/30\n",
            "1189/1189 [==============================] - 216s 182ms/step - loss: 1.0644 - accuracy: 0.4714 - val_loss: 1.3493 - val_accuracy: 0.3965\n",
            "Transformer Training Time: 3972.252774953842\n"
          ]
        }
      ]
    },
    {
      "cell_type": "code",
      "metadata": {
        "id": "O7TzgNxv2GpK"
      },
      "source": [
        "import matplotlib.pyplot as plt\n",
        "plt.style.use('ggplot')\n",
        "\n",
        "def plot_history(history):\n",
        "    acc = history.history['accuracy']\n",
        "    val_acc = history.history['val_accuracy']\n",
        "    loss = history.history['loss']\n",
        "    val_loss = history.history['val_loss']\n",
        "    x = range(1, len(acc) + 1)\n",
        "\n",
        "    plt.figure(figsize=(12, 5))\n",
        "    plt.subplot(1, 2, 1)\n",
        "    plt.plot(x, acc, 'b', label='Training acc')\n",
        "    plt.plot(x, val_acc, 'r', label='Validation acc')\n",
        "    plt.title('Training and validation accuracy')\n",
        "    plt.legend()\n",
        "    plt.subplot(1, 2, 2)\n",
        "    plt.plot(x, loss, 'b', label='Training loss')\n",
        "    plt.plot(x, val_loss, 'r', label='Validation loss')\n",
        "    plt.title('Training and validation loss')\n",
        "    plt.legend()"
      ],
      "execution_count": null,
      "outputs": []
    },
    {
      "cell_type": "code",
      "metadata": {
        "id": "6bCaqbkw9Vz8",
        "colab": {
          "base_uri": "https://localhost:8080/",
          "height": 337
        },
        "outputId": "9e303b07-1638-4aea-b33e-6d16eaad5aa6"
      },
      "source": [
        "  plot_history(history)"
      ],
      "execution_count": null,
      "outputs": [
        {
          "output_type": "display_data",
          "data": {
            "image/png": "[encoded data removed]",
            "text/plain": [
              "<Figure size 864x360 with 2 Axes>"
            ]
          },
          "metadata": {}
        }
      ]
    },
    {
      "cell_type": "markdown",
      "metadata": {
        "id": "WtA5kRnDxTv_"
      },
      "source": [
        "## Decoding test sentences\n",
        "\n",
        "Finally, let's demonstrate how to reply to a conversation.\n",
        "We simply feed into the model the vectorized input sentence\n",
        "as well as the target token `\"[start]\"`, then we repeatedly generated the next token, until\n",
        "we hit the token `\"[end]\"`."
      ]
    },
    {
      "cell_type": "code",
      "metadata": {
        "id": "Lq7E2YvqxTv_"
      },
      "source": [
        "out_vocab = out_vectorization.get_vocabulary()\n",
        "out_index_lookup = dict(zip(range(len(out_vocab)), out_vocab))\n",
        "max_decoded_sentence_length = 20\n",
        "\n",
        "\n",
        "def decode_sequence(input_sentence):\n",
        "    tokenized_input_sentence = inp_vectorization([input_sentence])\n",
        "    decoded_sentence = \"[start]\"\n",
        "    for i in range(max_decoded_sentence_length):\n",
        "        tokenized_target_sentence = out_vectorization([decoded_sentence])[:, :-1]\n",
        "        predictions = model_transformer([tokenized_input_sentence, tokenized_target_sentence])\n",
        "\n",
        "        sampled_token_index = np.argmax(predictions[0, i, :])\n",
        "        sampled_token = out_index_lookup[sampled_token_index]\n",
        "        decoded_sentence += \" \" + sampled_token\n",
        "\n",
        "        if sampled_token == \"[end]\":\n",
        "          break\n",
        "    return decoded_sentence"
      ],
      "execution_count": null,
      "outputs": []
    },
    {
      "cell_type": "code",
      "metadata": {
        "id": "hAEUMk8sECm6"
      },
      "source": [
        "input_sentence = ['what do you do for your weekend?']\n",
        "turn_count = 10 "
      ],
      "execution_count": null,
      "outputs": []
    },
    {
      "cell_type": "code",
      "metadata": {
        "id": "Nd0-DzM5Fj_1",
        "colab": {
          "base_uri": "https://localhost:8080/"
        },
        "outputId": "8db87c9b-8155-4414-996a-8e80dfaa75f0"
      },
      "source": [
        "for idx in range(turn_count):\n",
        "  print(f'*************** Turn {idx + 1} ***************\\n') \n",
        "  print(input_sentence)\n",
        "  translated = decode_sequence(input_sentence)\n",
        "  print(translated)\n",
        "  input_sentence = translated.strip(\"[start]\").strip(\"[end]\")\n",
        "  print()\n",
        "  print('***************'*3) "
      ],
      "execution_count": null,
      "outputs": [
        {
          "output_type": "stream",
          "name": "stdout",
          "text": [
            "*************** Turn 1 ***************\n",
            "\n",
            "['what do you do for your weekend?']\n",
            "[start] i am a little bit tired . [end]\n",
            "\n",
            "*********************************************\n",
            "*************** Turn 2 ***************\n",
            "\n",
            " i am a little bit tired . \n",
            "[start] what do you mean ? [end]\n",
            "\n",
            "*********************************************\n",
            "*************** Turn 3 ***************\n",
            "\n",
            " what do you mean ? \n",
            "[start] i am not sure . i am a little tired . [end]\n",
            "\n",
            "*********************************************\n",
            "*************** Turn 4 ***************\n",
            "\n",
            " i am not sure . i am a little tired . \n",
            "[start] i am going to have to get a lot of money . [end]\n",
            "\n",
            "*********************************************\n",
            "*************** Turn 5 ***************\n",
            "\n",
            " i am going to have to get a lot of money . \n",
            "[start] i am going to have to get a lot of money . [end]\n",
            "\n",
            "*********************************************\n",
            "*************** Turn 6 ***************\n",
            "\n",
            " i am going to have to get a lot of money . \n",
            "[start] i am going to have to get a lot of money . [end]\n",
            "\n",
            "*********************************************\n",
            "*************** Turn 7 ***************\n",
            "\n",
            " i am going to have to get a lot of money . \n",
            "[start] i am going to have to get a lot of money . [end]\n",
            "\n",
            "*********************************************\n",
            "*************** Turn 8 ***************\n",
            "\n",
            " i am going to have to get a lot of money . \n",
            "[start] i am going to have to get a lot of money . [end]\n",
            "\n",
            "*********************************************\n",
            "*************** Turn 9 ***************\n",
            "\n",
            " i am going to have to get a lot of money . \n",
            "[start] i am going to have to get a lot of money . [end]\n",
            "\n",
            "*********************************************\n",
            "*************** Turn 10 ***************\n",
            "\n",
            " i am going to have to get a lot of money . \n",
            "[start] i am going to have to get a lot of money . [end]\n",
            "\n",
            "*********************************************\n"
          ]
        }
      ]
    },
    {
      "cell_type": "code",
      "metadata": {
        "id": "Xhg78DmgwpKT"
      },
      "source": [
        "sentences = [\n",
        "             'where have you been?',\n",
        "             'what is your name?',\n",
        "             'where are you from?',\n",
        "             'what do you want to drink?'\n",
        "             ]"
      ],
      "execution_count": null,
      "outputs": []
    },
    {
      "cell_type": "code",
      "metadata": {
        "colab": {
          "base_uri": "https://localhost:8080/"
        },
        "id": "iAH70MrvxFJ9",
        "outputId": "cf862881-0001-495a-ce2f-393797255ca3"
      },
      "source": [
        "for input_sentence in sentences:\n",
        "    translated = decode_sequence(input_sentence)\n",
        "    print(input_sentence)\n",
        "    print(translated)\n",
        "    print('\\n***************\\n')"
      ],
      "execution_count": null,
      "outputs": [
        {
          "output_type": "stream",
          "name": "stdout",
          "text": [
            "where have you been?\n",
            "[start] i am going to go to the beach . [end]\n",
            "\n",
            "***************\n",
            "\n",
            "what is your name?\n",
            "[start] i am a little bit tired . [end]\n",
            "\n",
            "***************\n",
            "\n",
            "where are you from?\n",
            "[start] i am going to the park . [end]\n",
            "\n",
            "***************\n",
            "\n",
            "what do you want to drink?\n",
            "[start] i am going to have a new one . [end]\n",
            "\n",
            "***************\n",
            "\n"
          ]
        }
      ]
    },
    {
      "cell_type": "code",
      "metadata": {
        "id": "5DXxqQzrAzzP",
        "colab": {
          "base_uri": "https://localhost:8080/"
        },
        "outputId": "69bcbede-6a1b-428e-d9c3-f31f22ce2a53"
      },
      "source": [
        "for _ in range(30):\n",
        "    input_sentence = random.choice(test_input)\n",
        "    translated = decode_sequence(input_sentence)\n",
        "    print(input_sentence)\n",
        "    print(translated)\n",
        "    print('***************')"
      ],
      "execution_count": null,
      "outputs": [
        {
          "output_type": "stream",
          "name": "stdout",
          "text": [
            "a you must be wily . it is nice to meet you .\n",
            "[start] hello , mr . smith . [end]\n",
            "***************\n",
            "and what is the cause of that ?\n",
            "[start] it is a little bit of a problem . [end]\n",
            "***************\n",
            "ok , got it . is there anything else i need to know before we go ahead ?\n",
            "[start] i am afraid you have to pay a discount . [end]\n",
            "***************\n",
            "that is kind of weird ! what if she is a psycho or something like that ?\n",
            "[start] he is a little bit tired . [end]\n",
            "***************\n",
            "good afternoon . british airline . is there any thing i can do for you ?\n",
            "[start] yes , i am looking for a new one . [end]\n",
            "***************\n",
            "so , if the cause is poverty , there should be a program to make the country richer . if the problem is resources , share them .\n",
            "[start] that is right . the government is a good thing to do is not really good . [end]\n",
            "***************\n",
            "here are some . they re on special sale these days .\n",
            "[start] i am afraid i have not seen you for a long time . [end]\n",
            "***************\n",
            "i like seafood on my pizza .\n",
            "[start] i am going to have a party . [end]\n",
            "***************\n",
            "i also heard that tom cruise and katie holmes made an appearance at the oscars .\n",
            "[start] i think that the world is a good idea . [end]\n",
            "***************\n",
            "may i try it on ?\n",
            "[start] yes , sir . [end]\n",
            "***************\n",
            "when was america discovered , tony ?\n",
            "[start] i had a lot of time . i had a lot of time to do that . [end]\n",
            "***************\n",
            "ok , well , my friends and i are planning on going to the beach on sunday . we tend to leave around noon whenever we go anywhere , so you could still sleep in . do you want to come with us ?\n",
            "[start] i am going to have to go to the beach . [end]\n",
            "***************\n",
            "that sounds good . you order the beer while i go to the bathroom . where is the can in this place ?\n",
            "[start] i am afraid you are not going to have to go to the store . [end]\n",
            "***************\n",
            "oh , yes . how do you do , miss wang ? sit down , please .\n",
            "[start] i am fine , thanks . [end]\n",
            "***************\n",
            "why do not you try chinese herbal medicine ?\n",
            "[start] i think i can do it . [end]\n",
            "***************\n",
            "just call her lisa , mary . she is cooking dinner .\n",
            "[start] i am sorry . i am not a bit tired . [end]\n",
            "***************\n",
            "here s my name card .\n",
            "[start] thank you . [end]\n",
            "***************\n",
            "yes , what kind of room do you want ?\n",
            "[start] i am not sure . [end]\n",
            "***************\n",
            "oh , when does it close ?\n",
            "[start] about minutes ago . [end]\n",
            "***************\n",
            "i did not do anything . finally , he left . but then i saw him again today . outside the shoe store . near the cafe . i went into a cd store and pretended i was looking at cd s . but then he came in too .\n",
            "[start] what did you do ? [end]\n",
            "***************\n",
            "wait , will i have five insurances and one fund ?\n",
            "[start] yes , the most important thing is to do . the new year is a lot of money . [end]\n",
            "***************\n",
            "i know . but it is my lucky charm . i carry it all the time .\n",
            "[start] you can t have it . [end]\n",
            "***************\n",
            "doris , helen mall is having a big sale this weekend . do you wanna go ?\n",
            "[start] yes , i have been to the beach . [end]\n",
            "***************\n",
            "my father lives in washington dc .\n",
            "[start] what is the matter ? [end]\n",
            "***************\n",
            "i know i am going to be busy , but i know i can handle it . i have been looking forward to this day for a long long time .\n",
            "[start] i am going to have to go to the office . [end]\n",
            "***************\n",
            "please .\n",
            "[start] here is the change . [end]\n",
            "***************\n",
            "you are asking the right person . here are two very important tips . first , you need to visit no more than one site to find the best products and prices . i can recommend you some online merchants . second , write your mail address correctly . otherwise , you can t receive your delivery in time .\n",
            "[start] i think that i will be able to get a discount of the price . [end]\n",
            "***************\n",
            "sure . here is your receipt .\n",
            "[start] thank you . [end]\n",
            "***************\n",
            "did you know that abortion is still illegal in many states in the usa ?\n",
            "[start] yes , i think that is a good idea . i think it is a good idea . [end]\n",
            "***************\n",
            "oh , my god . i cannot take it any more .\n",
            "[start] i am afraid you are not going to be late . [end]\n",
            "***************\n"
          ]
        }
      ]
    },
    {
      "cell_type": "markdown",
      "metadata": {
        "id": "UUYlG906wt8l"
      },
      "source": [
        "# Question 2"
      ]
    },
    {
      "cell_type": "code",
      "metadata": {
        "id": "GycEj0uUw27_"
      },
      "source": [
        "out_vocab = out_vectorization.get_vocabulary()\n",
        "out_index_lookup = dict(zip(range(len(out_vocab)), out_vocab))\n",
        "max_decoded_sentence_length = 20\n",
        "\n",
        "\n",
        "def decode_sequence(input_sentence):\n",
        "    tokenized_input_sentence = inp_vectorization([input_sentence])\n",
        "    decoded_sentence = \"[start]\"\n",
        "    for i in range(max_decoded_sentence_length):\n",
        "        tokenized_target_sentence = out_vectorization([decoded_sentence])[:, :-1]\n",
        "        predictions = model_transformer([tokenized_input_sentence, tokenized_target_sentence])\n",
        "\n",
        "        sampled_token_index = np.argmax(predictions[0, i, :])\n",
        "        sampled_token = out_index_lookup[sampled_token_index]\n",
        "        decoded_sentence += \" \" + sampled_token\n",
        "\n",
        "        if sampled_token == \"[end]\":\n",
        "          break\n",
        "    return decoded_sentence\n",
        "\n",
        "\n",
        "\n"
      ],
      "execution_count": null,
      "outputs": []
    },
    {
      "cell_type": "code",
      "metadata": {
        "id": "IRAOSr0nw28H"
      },
      "source": [
        "input_sentence = ['what do you do for your weekend?']\n",
        "turn_count = 10 "
      ],
      "execution_count": null,
      "outputs": []
    },
    {
      "cell_type": "code",
      "metadata": {
        "colab": {
          "base_uri": "https://localhost:8080/"
        },
        "id": "6JFNz6Ugw28L",
        "outputId": "78be8873-524b-40e1-94d6-3bf13b6a51d1"
      },
      "source": [
        "for idx in range(turn_count):\n",
        "  print(f'*************** Turn {idx + 1} ***************\\n') \n",
        "  print(input_sentence)\n",
        "  translated = decode_sequence(input_sentence)\n",
        "  print(translated)\n",
        "  input_sentence = translated.strip(\"[start]\").strip(\"[end]\")\n",
        "  print()\n",
        "  print('***************'*3) "
      ],
      "execution_count": null,
      "outputs": [
        {
          "output_type": "stream",
          "name": "stdout",
          "text": [
            "*************** Turn 1 ***************\n",
            "\n",
            "['what do you do for your weekend?']\n",
            "[start] i am a little bit tired . [end]\n",
            "\n",
            "*********************************************\n",
            "*************** Turn 2 ***************\n",
            "\n",
            " i am a little bit tired . \n",
            "[start] what do you mean ? [end]\n",
            "\n",
            "*********************************************\n",
            "*************** Turn 3 ***************\n",
            "\n",
            " what do you mean ? \n",
            "[start] i am not sure . i am a little tired . [end]\n",
            "\n",
            "*********************************************\n",
            "*************** Turn 4 ***************\n",
            "\n",
            " i am not sure . i am a little tired . \n",
            "[start] i am going to have to get a lot of money . [end]\n",
            "\n",
            "*********************************************\n",
            "*************** Turn 5 ***************\n",
            "\n",
            " i am going to have to get a lot of money . \n",
            "[start] i am going to have to get a lot of money . [end]\n",
            "\n",
            "*********************************************\n",
            "*************** Turn 6 ***************\n",
            "\n",
            " i am going to have to get a lot of money . \n",
            "[start] i am going to have to get a lot of money . [end]\n",
            "\n",
            "*********************************************\n",
            "*************** Turn 7 ***************\n",
            "\n",
            " i am going to have to get a lot of money . \n",
            "[start] i am going to have to get a lot of money . [end]\n",
            "\n",
            "*********************************************\n",
            "*************** Turn 8 ***************\n",
            "\n",
            " i am going to have to get a lot of money . \n",
            "[start] i am going to have to get a lot of money . [end]\n",
            "\n",
            "*********************************************\n",
            "*************** Turn 9 ***************\n",
            "\n",
            " i am going to have to get a lot of money . \n",
            "[start] i am going to have to get a lot of money . [end]\n",
            "\n",
            "*********************************************\n",
            "*************** Turn 10 ***************\n",
            "\n",
            " i am going to have to get a lot of money . \n",
            "[start] i am going to have to get a lot of money . [end]\n",
            "\n",
            "*********************************************\n"
          ]
        }
      ]
    },
    {
      "cell_type": "markdown",
      "metadata": {
        "id": "zSYpGiF5e308"
      },
      "source": [
        "# Question 3"
      ]
    },
    {
      "cell_type": "code",
      "metadata": {
        "id": "Za6z2fzBghI_"
      },
      "source": [
        "from keras.layers import Embedding\n",
        "from keras.layers import Input, Dense, LSTM, TimeDistributed\n",
        "from keras.models import Model"
      ],
      "execution_count": null,
      "outputs": []
    },
    {
      "cell_type": "code",
      "metadata": {
        "id": "QU3h5GLbjOme"
      },
      "source": [
        "sequence_length = 40\n",
        "def seq2seq_model_builder(HIDDEN_DIM=300):    \n",
        "  # Encoder \n",
        "  encoder_inputs = keras.Input(shape=(None,), dtype=\"int64\", name=\"encoder_inputs\")\n",
        "  x = Embedding(input_dim=vocab_size, output_dim=100, input_length=sequence_length, trainable=True, weights=[embedding_matrix_inp])(encoder_inputs)\n",
        "  encoder1, state_h, state_c = LSTM(HIDDEN_DIM, return_state=True)(x)\n",
        "\n",
        "  # Decoder\n",
        "  decoder_inputs = keras.Input(shape=(None,), dtype=\"int64\", name=\"decoder_inputs\")\n",
        "\n",
        "  x = Embedding(input_dim=vocab_size, output_dim=100, input_length=sequence_length, trainable=True, weights=[embedding_matrix_out])(decoder_inputs)\n",
        "  x, _, _ = LSTM(HIDDEN_DIM, return_state=True, return_sequences=True)(x, initial_state=[state_h, state_c])\n",
        "\n",
        "  decoder_outputs = layers.Dense(vocab_size, activation=\"softmax\")(x)\n",
        "\n",
        "  model = keras.Model(\n",
        "      [encoder_inputs, decoder_inputs], decoder_outputs\n",
        "  )\n",
        "  return model\n",
        "  \n"
      ],
      "execution_count": null,
      "outputs": []
    },
    {
      "cell_type": "code",
      "metadata": {
        "colab": {
          "base_uri": "https://localhost:8080/"
        },
        "id": "vwnL3eF_e9n7",
        "outputId": "f4d641da-d51c-4395-878d-3e214ffd7748"
      },
      "source": [
        "model = seq2seq_model_builder(HIDDEN_DIM=300)\n",
        "model.summary()"
      ],
      "execution_count": null,
      "outputs": [
        {
          "output_type": "stream",
          "name": "stdout",
          "text": [
            "Model: \"model\"\n",
            "__________________________________________________________________________________________________\n",
            "Layer (type)                    Output Shape         Param #     Connected to                     \n",
            "==================================================================================================\n",
            "encoder_inputs (InputLayer)     [(None, None)]       0                                            \n",
            "__________________________________________________________________________________________________\n",
            "decoder_inputs (InputLayer)     [(None, None)]       0                                            \n",
            "__________________________________________________________________________________________________\n",
            "embedding_1 (Embedding)         (None, None, 100)    1500000     encoder_inputs[0][0]             \n",
            "__________________________________________________________________________________________________\n",
            "embedding_2 (Embedding)         (None, None, 100)    1500000     decoder_inputs[0][0]             \n",
            "__________________________________________________________________________________________________\n",
            "lstm (LSTM)                     [(None, 300), (None, 481200      embedding_1[0][0]                \n",
            "__________________________________________________________________________________________________\n",
            "lstm_1 (LSTM)                   [(None, None, 300),  481200      embedding_2[0][0]                \n",
            "                                                                 lstm[0][1]                       \n",
            "                                                                 lstm[0][2]                       \n",
            "__________________________________________________________________________________________________\n",
            "dense (Dense)                   (None, None, 15000)  4515000     lstm_1[0][0]                     \n",
            "==================================================================================================\n",
            "Total params: 8,477,400\n",
            "Trainable params: 8,477,400\n",
            "Non-trainable params: 0\n",
            "__________________________________________________________________________________________________\n"
          ]
        }
      ]
    },
    {
      "cell_type": "code",
      "metadata": {
        "colab": {
          "base_uri": "https://localhost:8080/",
          "height": 466
        },
        "id": "jE8jKe1YXDYa",
        "outputId": "9d28927b-4d02-4f20-ed8c-1d944a4c9149"
      },
      "source": [
        "from tensorflow.keras.utils import plot_model\n",
        "plot_model(model, to_file='./seq2seq.png')"
      ],
      "execution_count": null,
      "outputs": [
        {
          "output_type": "execute_result",
          "data": {
            "image/png": "[encoded data removed]",
            "text/plain": [
              "<IPython.core.display.Image object>"
            ]
          },
          "metadata": {},
          "execution_count": 29
        }
      ]
    },
    {
      "cell_type": "code",
      "metadata": {
        "id": "yeqgVjqMBynE"
      },
      "source": [
        "model.compile(optimizer='adam', loss ='sparse_categorical_crossentropy', metrics = ['accuracy'])"
      ],
      "execution_count": null,
      "outputs": []
    },
    {
      "cell_type": "code",
      "metadata": {
        "id": "aSwTRF1vB_k9"
      },
      "source": [
        "epochs = 30"
      ],
      "execution_count": null,
      "outputs": []
    },
    {
      "cell_type": "code",
      "metadata": {
        "id": "mA8i5lDOaDbx"
      },
      "source": [
        "from tensorflow.keras.callbacks import ModelCheckpoint, EarlyStopping\n",
        "\n",
        "checkpoint_path = '/content/drive/MyDrive/HW-06/model-lstm.ckpt'\n",
        "\n",
        "cp_callback = [ModelCheckpoint(filepath=checkpoint_path, monitor = 'val_loss',mode = 'min',save_best_only=True),\n",
        "               EarlyStopping(patience=5),]"
      ],
      "execution_count": null,
      "outputs": []
    },
    {
      "cell_type": "code",
      "metadata": {
        "id": "hs6sKwoCcQVy"
      },
      "source": [
        "history = history_lstm\n",
        "import matplotlib.pyplot as plt\n",
        "plt.style.use('ggplot')\n",
        "\n",
        "def plot_history(history):\n",
        "    acc = history.history['accuracy']\n",
        "    val_acc = history.history['val_accuracy']\n",
        "    loss = history.history['loss']\n",
        "    val_loss = history.history['val_loss']\n",
        "    x = range(1, len(acc) + 1)\n",
        "\n",
        "    plt.figure(figsize=(12, 5))\n",
        "    plt.subplot(1, 2, 1)\n",
        "    plt.plot(x, acc, 'b', label='Training acc')\n",
        "    plt.plot(x, val_acc, 'r', label='Validation acc')\n",
        "    plt.title('Training and validation accuracy')\n",
        "    plt.legend()\n",
        "    plt.subplot(1, 2, 2)\n",
        "    plt.plot(x, loss, 'b', label='Training loss')\n",
        "    plt.plot(x, val_loss, 'r', label='Validation loss')\n",
        "    plt.title('Training and validation loss')\n",
        "    plt.legend()"
      ],
      "execution_count": null,
      "outputs": []
    },
    {
      "cell_type": "code",
      "metadata": {
        "colab": {
          "base_uri": "https://localhost:8080/",
          "height": 337
        },
        "id": "xLmvjwE0Z1vO",
        "outputId": "c9d0fb5e-986c-432a-9fb9-31a3a96b6510"
      },
      "source": [
        "plot_history(history)"
      ],
      "execution_count": null,
      "outputs": [
        {
          "output_type": "display_data",
          "data": {
            "image/png": "[encoded data removed]",
            "text/plain": [
              "<Figure size 864x360 with 2 Axes>"
            ]
          },
          "metadata": {}
        }
      ]
    },
    {
      "cell_type": "code",
      "metadata": {
        "id": "d3f-L5D1cbhg"
      },
      "source": [
        "out_vocab = out_vectorization.get_vocabulary()\n",
        "out_index_lookup = dict(zip(range(len(out_vocab)), out_vocab))\n",
        "max_decoded_sentence_length = 20\n",
        "\n",
        "\n",
        "def decode_sequence(input_sentence):\n",
        "    tokenized_input_sentence = inp_vectorization([input_sentence])\n",
        "    decoded_sentence = \"[start]\"\n",
        "    for i in range(max_decoded_sentence_length):\n",
        "        tokenized_target_sentence = out_vectorization([decoded_sentence])[:, :-1]\n",
        "        predictions = model([tokenized_input_sentence, tokenized_target_sentence])\n",
        "\n",
        "        sampled_token_index = np.argmax(predictions[0, i, :])\n",
        "        sampled_token = out_index_lookup[sampled_token_index]\n",
        "        decoded_sentence += \" \" + sampled_token\n",
        "\n",
        "        if sampled_token == \"[end]\":\n",
        "          break\n",
        "    return decoded_sentence"
      ],
      "execution_count": null,
      "outputs": []
    },
    {
      "cell_type": "code",
      "metadata": {
        "id": "5WeryQTHcbhn"
      },
      "source": [
        "input_sentence = ['what do you do for your weekend?']\n",
        "turn_count = 10 "
      ],
      "execution_count": null,
      "outputs": []
    },
    {
      "cell_type": "code",
      "metadata": {
        "colab": {
          "base_uri": "https://localhost:8080/"
        },
        "id": "c6--oVhCcbhp",
        "outputId": "03a85750-d218-46e3-b07e-9ea1f1bc1dfd"
      },
      "source": [
        "for idx in range(turn_count):\n",
        "  print(f'*************** Turn {idx + 1} ***************\\n') \n",
        "  print(input_sentence)\n",
        "  translated = decode_sequence(input_sentence)\n",
        "  print(translated)\n",
        "  input_sentence = translated.strip(\"[start]\").strip(\"[end]\")\n",
        "  print()\n",
        "  print('***************'*3) "
      ],
      "execution_count": null,
      "outputs": [
        {
          "output_type": "stream",
          "name": "stdout",
          "text": [
            "*************** Turn 1 ***************\n",
            "\n",
            "['what do you do for your weekend?']\n",
            "[start] i am not sure . [end]\n",
            "\n",
            "*********************************************\n",
            "*************** Turn 2 ***************\n",
            "\n",
            " i am not sure . \n",
            "[start] i am sorry to hear that . [end]\n",
            "\n",
            "*********************************************\n",
            "*************** Turn 3 ***************\n",
            "\n",
            " i am sorry to hear that . \n",
            "[start] i am sorry to hear that . [end]\n",
            "\n",
            "*********************************************\n",
            "*************** Turn 4 ***************\n",
            "\n",
            " i am sorry to hear that . \n",
            "[start] i am sorry to hear that . [end]\n",
            "\n",
            "*********************************************\n",
            "*************** Turn 5 ***************\n",
            "\n",
            " i am sorry to hear that . \n",
            "[start] i am sorry to hear that . [end]\n",
            "\n",
            "*********************************************\n",
            "*************** Turn 6 ***************\n",
            "\n",
            " i am sorry to hear that . \n",
            "[start] i am sorry to hear that . [end]\n",
            "\n",
            "*********************************************\n",
            "*************** Turn 7 ***************\n",
            "\n",
            " i am sorry to hear that . \n",
            "[start] i am sorry to hear that . [end]\n",
            "\n",
            "*********************************************\n",
            "*************** Turn 8 ***************\n",
            "\n",
            " i am sorry to hear that . \n",
            "[start] i am sorry to hear that . [end]\n",
            "\n",
            "*********************************************\n",
            "*************** Turn 9 ***************\n",
            "\n",
            " i am sorry to hear that . \n",
            "[start] i am sorry to hear that . [end]\n",
            "\n",
            "*********************************************\n",
            "*************** Turn 10 ***************\n",
            "\n",
            " i am sorry to hear that . \n",
            "[start] i am sorry to hear that . [end]\n",
            "\n",
            "*********************************************\n"
          ]
        }
      ]
    },
    {
      "cell_type": "code",
      "metadata": {
        "colab": {
          "base_uri": "https://localhost:8080/"
        },
        "id": "X6uutaxrcbhw",
        "outputId": "f31226fd-fb20-4570-9574-231a5ae4966b"
      },
      "source": [
        "for _ in range(30):\n",
        "    input_sentence = random.choice(test_input)\n",
        "    translated = decode_sequence(input_sentence)\n",
        "    print(input_sentence)\n",
        "    print(translated)\n",
        "    print('***************')"
      ],
      "execution_count": null,
      "outputs": [
        {
          "output_type": "stream",
          "name": "stdout",
          "text": [
            "i did not like it at all until i started to learn violin when i was eight . from then on . classical music has been an important part of my life .\n",
            "[start] i know . i have been working in the city centre . [end]\n",
            "***************\n",
            "i should not be surprised , many customers have the same opinion . do you have any suggestion in mind ? our salesman told your secretary that the price could be negotiable .\n",
            "[start] i see . i will take it . [end]\n",
            "***************\n",
            "no , i m sorry . i disagree . i don t think you ve been working at full speed at all .\n",
            "[start] i know . i have been working with a lot of things . [end]\n",
            "***************\n",
            "i have heard its name is connected with someone , is that right ?\n",
            "[start] i am afraid not . i am afraid i cannot . [end]\n",
            "***************\n",
            "there is plenty of room for our king sized bed , and i love the light in this room .\n",
            "[start] ok . i will take it . [end]\n",
            "***************\n",
            "this is room . where is my laundry ? you promised to send to me this morning .\n",
            "[start] i am sorry , sir . i am afraid i have not seen you any longer . [end]\n",
            "***************\n",
            "that is gucci s influence . i love science fiction movies !\n",
            "[start] that is great ! i am not sure . i think i will be more careful about it . [end]\n",
            "***************\n",
            "sure , anything you say .\n",
            "[start] i am glad you like it . [end]\n",
            "***************\n",
            "what were you planning on seeing ?\n",
            "[start] i was told that i was a child . [end]\n",
            "***************\n",
            "that is a good idea . let s go !\n",
            "[start] i will take it . [end]\n",
            "***************\n",
            "no , absolutely not ! on the contrary , you will be considered a well connected , sociable man , if you keep involved in the conversation all the time . but always pay attention to what you say . if the table has a senior guest , say something as upbeat and cheerful as possible . or maybe , you may give the floor to him and keep listening as if very interested .\n",
            "[start] i know . i am not sure . [end]\n",
            "***************\n",
            "so you must be very familiar with export procedures .\n",
            "[start] yes , i have . i have to go to the gym . [end]\n",
            "***************\n",
            "those are the only things you eat ?\n",
            "[start] i am not sure . [end]\n",
            "***************\n",
            "i have been there ! it really is an amazing work of architecture and art . the entire complex is made of white marble and in the interior of the tomb , the walls are covered with gems and emeralds !\n",
            "[start] i know . i have been working with a lot of things . [end]\n",
            "***************\n",
            "could i have my bill , please ?\n",
            "[start] sure . [end]\n",
            "***************\n",
            "i know , i know . but it reminds me of the great christmas we just had . all of us were here my parents , your parents , the kids , and the cousins the food was good , and everybody got what they wanted .\n",
            "[start] oh , i see . i m sure i can t get it . i m going to be a\n",
            "***************\n",
            "i am allergic to these things , you know .\n",
            "[start] thank you . i am glad you like it . [end]\n",
            "***************\n",
            "yeah , but what kit lens does this camera come with ? i don t want some bulky telephoto lens .\n",
            "[start] it is a good idea . you can also get a discount for the price of the price . [end]\n",
            "***************\n",
            "i will say the movie s starting in the minute .\n",
            "[start] i am sorry , sir . i will be back in the next couple of days . [end]\n",
            "***************\n",
            "i thought you knew .\n",
            "[start] i know . i am not sure . [end]\n",
            "***************\n",
            "terrible ! does he want to divorce ?\n",
            "[start] yes , he is . he is a very serious person who is having a big mistake . [end]\n",
            "***************\n",
            "what size do you wear ? these shoes are on sale .\n",
            "[start] well , i think i will be there . [end]\n",
            "***************\n",
            "it is a lot better than paying someone .\n",
            "[start] i know . i am not sure . [end]\n",
            "***************\n",
            "sorry , i am using it myself . but you can use it this afternoon .\n",
            "[start] i see . [end]\n",
            "***************\n",
            "wait . let me tell the lady what we would like to order in front of the seafood fridge first .\n",
            "[start] i will take it . [end]\n",
            "***************\n",
            "i m doing well .\n",
            "[start] what is wrong with it ? [end]\n",
            "***************\n",
            "all our bathrooms have full size baths with a shower attachment .\n",
            "[start] how much is it ? [end]\n",
            "***************\n",
            "wonderful ! how much is the ticket ?\n",
            "[start] it is . [end]\n",
            "***************\n",
            "i am sorry , but i do not think this damage is our fault .\n",
            "[start] i am afraid not . i am afraid i cannot find it . [end]\n",
            "***************\n",
            "a vegan . i do not eat or use any animal based products . i do not wear leather , eat eggs , drink milk or anything that comes from an animal . i used to be a pescatarian before , which basically means you do not eat meat , but still have fish and seafood .\n",
            "[start] i will be glad to help you . [end]\n",
            "***************\n"
          ]
        }
      ]
    },
    {
      "cell_type": "markdown",
      "metadata": {
        "id": "iVjnYYOvjIhi"
      },
      "source": [
        "# Question 4"
      ]
    },
    {
      "cell_type": "code",
      "metadata": {
        "id": "H6eU539_cbhs"
      },
      "source": [
        "sentences = [\n",
        "             'where have you been?',\n",
        "             'what is your name?',\n",
        "             'where are you from?',\n",
        "             'what do you want to drink?'\n",
        "             ]"
      ],
      "execution_count": null,
      "outputs": []
    },
    {
      "cell_type": "code",
      "metadata": {
        "colab": {
          "base_uri": "https://localhost:8080/"
        },
        "id": "X9zC0hLOcbhu",
        "outputId": "9e12fcdb-4f23-4489-9ddb-735f63943408"
      },
      "source": [
        "for input_sentence in sentences:\n",
        "    translated = decode_sequence(input_sentence)\n",
        "    print(input_sentence)\n",
        "    print(translated)\n",
        "    print('\\n***************\\n')"
      ],
      "execution_count": null,
      "outputs": [
        {
          "output_type": "stream",
          "name": "stdout",
          "text": [
            "where have you been?\n",
            "[start] i am a little bit of a dancer . [end]\n",
            "\n",
            "***************\n",
            "\n",
            "what is your name?\n",
            "[start] i am not sure . [end]\n",
            "\n",
            "***************\n",
            "\n",
            "where are you from?\n",
            "[start] i am in the mood for a few days . [end]\n",
            "\n",
            "***************\n",
            "\n",
            "what do you want to drink?\n",
            "[start] i am going to have a new projector . [end]\n",
            "\n",
            "***************\n",
            "\n"
          ]
        }
      ]
    }
  ]
}