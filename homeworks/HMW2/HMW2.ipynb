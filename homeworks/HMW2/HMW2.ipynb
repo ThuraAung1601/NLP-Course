{
  "cells": [
    {
      "cell_type": "markdown",
      "metadata": {
        "id": "Sjq6MC8BIsSk"
      },
      "source": [
        "# HW2"
      ]
    },
    {
      "cell_type": "code",
      "execution_count": 1,
      "metadata": {
        "colab": {
          "base_uri": "https://localhost:8080/"
        },
        "id": "Qj1KBOTlI-Rp",
        "outputId": "7c2f5ba0-3323-4f37-f56b-ffcbba35e03c"
      },
      "outputs": [
        {
          "name": "stdout",
          "output_type": "stream",
          "text": [
            "Downloading...\n",
            "From: https://drive.google.com/uc?id=1qCVYpb67RuzUbyrJ3w-ohtCf-tzZKTal\n",
            "To: /content/train.txt\n",
            "100% 9.87M/9.87M [00:00<00:00, 295MB/s]\n",
            "Downloading...\n",
            "From: https://drive.google.com/uc?id=1dW5SkCYIFbXmNe3xKv4EhrLPDPlXyIDy\n",
            "To: /content/test.txt\n",
            "100% 5.80k/5.80k [00:00<00:00, 9.72MB/s]\n"
          ]
        }
      ],
      "source": [
        "!gdown 1qCVYpb67RuzUbyrJ3w-ohtCf-tzZKTal\n",
        "!gdown 1dW5SkCYIFbXmNe3xKv4EhrLPDPlXyIDy"
      ]
    },
    {
      "cell_type": "code",
      "execution_count": 48,
      "metadata": {
        "colab": {
          "base_uri": "https://localhost:8080/"
        },
        "id": "lTcGc_oZ42zN",
        "outputId": "b71d1110-f15b-4f9e-d609-ca8f596366be"
      },
      "outputs": [
        {
          "name": "stdout",
          "output_type": "stream",
          "text": [
            "Drive already mounted at /content/drive; to attempt to forcibly remount, call drive.mount(\"/content/drive\", force_remount=True).\n"
          ]
        }
      ],
      "source": [
        "from google.colab import drive\n",
        "drive.mount('/content/drive')"
      ]
    },
    {
      "cell_type": "markdown",
      "metadata": {
        "id": "6T67ohI8LyYB"
      },
      "source": [
        "## Question 1"
      ]
    },
    {
      "cell_type": "markdown",
      "metadata": {
        "id": "7nJVv0xJ7hrv"
      },
      "source": [
        "Bayesian smoothing with dirichlet prior : \n",
        "\n",
        "p ( wi | wi-1 ) = ( C ( wi | wi-1 ) + (mu * Pbg) ) / C( wi-1) + mu"
      ]
    },
    {
      "cell_type": "markdown",
      "metadata": {
        "id": "VU-qJNLiETp8"
      },
      "source": [
        "#### 1. Dependencies"
      ]
    },
    {
      "cell_type": "code",
      "execution_count": 3,
      "metadata": {
        "id": "0q9HZLbKIlzZ"
      },
      "outputs": [],
      "source": [
        "import re"
      ]
    },
    {
      "cell_type": "markdown",
      "metadata": {
        "id": "5S3w76oVEVvv"
      },
      "source": [
        "#### 2. Preprocessing"
      ]
    },
    {
      "cell_type": "code",
      "execution_count": 4,
      "metadata": {
        "id": "2dSY73Z1JP56"
      },
      "outputs": [],
      "source": [
        "def preprocessing(file_name):\n",
        "  sentences = []\n",
        "  with open(file_name) as file:\n",
        "    for line in file:\n",
        "      line = re.sub(r\"[\\s]{2,}\",' ',line)\n",
        "      line = line.strip()\n",
        "      words = line.split(' ')\n",
        "      if len(words) > 2 :\n",
        "        sentences.append(words)\n",
        "  return sentences"
      ]
    },
    {
      "cell_type": "code",
      "execution_count": 5,
      "metadata": {
        "id": "HDnHAJC6I9Ee"
      },
      "outputs": [],
      "source": [
        "train_sentences = preprocessing('train.txt')\n",
        "test_sentences = preprocessing('test.txt')"
      ]
    },
    {
      "cell_type": "code",
      "execution_count": 6,
      "metadata": {
        "colab": {
          "base_uri": "https://localhost:8080/"
        },
        "id": "G9UiW8R3LVtM",
        "outputId": "620348dc-758f-46d7-ee3e-49dc5d581ade"
      },
      "outputs": [
        {
          "name": "stdout",
          "output_type": "stream",
          "text": [
            "188876\n",
            "108\n"
          ]
        }
      ],
      "source": [
        "print(len(train_sentences))\n",
        "print(len(test_sentences))"
      ]
    },
    {
      "cell_type": "code",
      "execution_count": 7,
      "metadata": {
        "id": "Dfr1OBibNzr6"
      },
      "outputs": [],
      "source": [
        "def word_count(sentences):\n",
        "  word_count = 0\n",
        "  word_dic = {}\n",
        "  for sentence in sentences:\n",
        "    for word in sentence:\n",
        "      if word not in word_dic.keys():\n",
        "        word_dic[word] = 1\n",
        "      else:\n",
        "        word_dic[word] += 1\n",
        "      word_count+=1\n",
        "  return word_dic, word_count"
      ]
    },
    {
      "cell_type": "code",
      "execution_count": 8,
      "metadata": {
        "id": "AyXo75GJOVev"
      },
      "outputs": [],
      "source": [
        "train_dic, train_count = word_count(train_sentences)\n",
        "test_dic, test_count = word_count(test_sentences)"
      ]
    },
    {
      "cell_type": "code",
      "execution_count": 9,
      "metadata": {
        "colab": {
          "base_uri": "https://localhost:8080/"
        },
        "id": "YQbNunyROvWY",
        "outputId": "8bc22360-2a24-4a9d-9c03-0a34c4176327"
      },
      "outputs": [
        {
          "name": "stdout",
          "output_type": "stream",
          "text": [
            "1308729\n",
            "764\n"
          ]
        }
      ],
      "source": [
        "print(train_count)\n",
        "print(test_count)"
      ]
    },
    {
      "cell_type": "markdown",
      "metadata": {
        "id": "OxJfdInKEOU1"
      },
      "source": [
        "#### 3. Implementation"
      ]
    },
    {
      "cell_type": "code",
      "execution_count": 10,
      "metadata": {
        "id": "t-anzuuuPEVW"
      },
      "outputs": [],
      "source": [
        "from nltk.util import ngrams\n",
        "from nltk import FreqDist\n",
        "import collections"
      ]
    },
    {
      "cell_type": "code",
      "execution_count": 11,
      "metadata": {
        "id": "KycpHbWCPM2v"
      },
      "outputs": [],
      "source": [
        "def calc_bigram(sentences):\n",
        "  bg_freqdist = FreqDist()\n",
        "  for sentence in sentences:\n",
        "    bigrams = ngrams(sentence,2)\n",
        "    bg_freqdist.update(bigrams)\n",
        "  bigram_dic = {k : v for k,v in collections.Counter(bg_freqdist).most_common()[:]}\n",
        "  return bigram_dic"
      ]
    },
    {
      "cell_type": "code",
      "execution_count": 12,
      "metadata": {
        "id": "tfgzUsLSQFfY"
      },
      "outputs": [],
      "source": [
        "train_bigram_dic = calc_bigram(train_sentences)\n",
        "test_bigram_dic = calc_bigram(test_sentences)"
      ]
    },
    {
      "cell_type": "code",
      "execution_count": 13,
      "metadata": {
        "id": "71XYcrN3NNOM"
      },
      "outputs": [],
      "source": [
        "v = train_count\n",
        "pbg = 1 / v\n",
        "mu = 0.01"
      ]
    },
    {
      "cell_type": "code",
      "execution_count": 14,
      "metadata": {
        "id": "TA78fVFILxWn"
      },
      "outputs": [],
      "source": [
        "incomplete_sentences = [\n",
        "     (2 ,'چون مشک سیه بود مرا هر دو'),\n",
        "     (1,'گر خورد سوگند هم آن'),\n",
        "     (1,'زانک نفس آشفته تر گردد از'),\n",
        "     (1,'ازین زشت تر در جهان رنگ'),\n",
        "     (2 ,'دوست در خانه و ما گرد'),\n",
        "     (1,'شب است و شمع و شراب و')]\n"
      ]
    },
    {
      "cell_type": "code",
      "execution_count": 15,
      "metadata": {
        "id": "jemMjYgXQ8s8"
      },
      "outputs": [],
      "source": [
        "def predict_drichlet_prior(sentence):\n",
        "  tokens = sentence.strip().split(' ')\n",
        "  last_word = tokens[-1]\n",
        "  last_word_count = train_dic[last_word]\n",
        "  possible_words = {k: ((v + (mu * pbg))/(last_word_count + mu)) for k,v in train_bigram_dic.items() if k[0] == last_word}\n",
        "  sorted_possible_words = {k:v for k,v in sorted(possible_words.items(), key = lambda item : item[1], reverse = True)}\n",
        "  return list(sorted_possible_words.keys())[0][1]"
      ]
    },
    {
      "cell_type": "code",
      "execution_count": 16,
      "metadata": {
        "colab": {
          "base_uri": "https://localhost:8080/"
        },
        "id": "_W_zLUPZTyc0",
        "outputId": "b0c0ea72-5cef-406f-ace1-0c9564e9c8da"
      },
      "outputs": [
        {
          "name": "stdout",
          "output_type": "stream",
          "text": [
            "چون مشک سیه بود مرا هر دو\n",
            "چون مشک سیه بود مرا هر دو چشم من\n",
            "-------\n",
            "گر خورد سوگند هم آن\n",
            "گر خورد سوگند هم آن را\n",
            "-------\n",
            "زانک نفس آشفته تر گردد از\n",
            "زانک نفس آشفته تر گردد از آن\n",
            "-------\n",
            "ازین زشت تر در جهان رنگ\n",
            "ازین زشت تر در جهان رنگ و\n",
            "-------\n",
            "دوست در خانه و ما گرد\n",
            "دوست در خانه و ما گرد و از\n",
            "-------\n",
            "شب است و شمع و شراب و\n",
            "شب است و شمع و شراب و از\n",
            "-------\n"
          ]
        }
      ],
      "source": [
        "for n,sentence in incomplete_sentences:\n",
        "  print(sentence)\n",
        "\n",
        "  if n > 1 :\n",
        "    for i in range(0, n):\n",
        "      possible_word= predict_drichlet_prior(sentence)\n",
        "      sentence = \" \".join([sentence, possible_word])\n",
        "  else:\n",
        "    possible_word= predict_drichlet_prior(sentence)\n",
        "    sentence = \" \".join([sentence, possible_word])\n",
        "\n",
        "  print(sentence)\n",
        "  print('-------')"
      ]
    },
    {
      "cell_type": "markdown",
      "metadata": {
        "id": "w9xOXzaVakAV"
      },
      "source": [
        "## Question 2"
      ]
    },
    {
      "cell_type": "markdown",
      "metadata": {
        "id": "KwAB5ynw03M2"
      },
      "source": [
        "Perplexity of sentence and corpus : https://stats.stackexchange.com/questions/129352/how-to-find-the-perplexity-of-a-corpus#:~:text=As%20you%20said%20in%20your,We%20are%20done.&text=A"
      ]
    },
    {
      "cell_type": "code",
      "execution_count": 17,
      "metadata": {
        "id": "3Tl8OWDI04iS"
      },
      "outputs": [],
      "source": [
        "import math"
      ]
    },
    {
      "cell_type": "code",
      "execution_count": 18,
      "metadata": {
        "id": "WKy4Yn5yrL9C"
      },
      "outputs": [],
      "source": [
        "def drichlet_prior(tokens,corpus_bigram_dic,corpus_unigram_dic,corpus_count):\n",
        "  pbg = 1 / test_count\n",
        "  sent_bigram = ngrams(tokens,2)\n",
        "  prob = corpus_unigram_dic[tokens[0]] / corpus_count\n",
        "  for w1,w2 in sent_bigram:\n",
        "    prob *= ((corpus_bigram_dic.get((w1,w2),0) + (mu * pbg)) / (corpus_unigram_dic[w1] + mu))\n",
        "  return prob   "
      ]
    },
    {
      "cell_type": "code",
      "execution_count": 19,
      "metadata": {
        "id": "EeZsQ1FqOfKp"
      },
      "outputs": [],
      "source": [
        "corpus_prob = 0\n",
        "for sentence in test_sentences:\n",
        "  corpus_prob += math.log(drichlet_prior(sentence,test_bigram_dic,test_dic,test_count))\n",
        "perplexity = 2 ** ((-1 / test_count) * corpus_prob)"
      ]
    },
    {
      "cell_type": "code",
      "execution_count": 20,
      "metadata": {
        "colab": {
          "base_uri": "https://localhost:8080/"
        },
        "id": "cQ7lSDE_1FQ1",
        "outputId": "83a7cb7c-9d6c-4397-9192-f4af57800211"
      },
      "outputs": [
        {
          "data": {
            "text/plain": [
              "3.1369633871450855"
            ]
          },
          "execution_count": 20,
          "metadata": {},
          "output_type": "execute_result"
        }
      ],
      "source": [
        "perplexity"
      ]
    },
    {
      "cell_type": "markdown",
      "metadata": {
        "id": "kpzq5RmCapLS"
      },
      "source": [
        "## Question 3"
      ]
    },
    {
      "cell_type": "markdown",
      "metadata": {
        "id": "eF6AMh0bDMCC"
      },
      "source": [
        "#### 1. Dependencies"
      ]
    },
    {
      "cell_type": "code",
      "execution_count": 22,
      "metadata": {
        "id": "Ri7un3lE5RSl"
      },
      "outputs": [],
      "source": [
        "import tensorflow as tf\n",
        "from nltk.util import ngrams\n",
        "from keras.preprocessing.text import Tokenizer\n",
        "import numpy as np\n",
        "from tensorflow.keras.utils import to_categorical"
      ]
    },
    {
      "cell_type": "markdown",
      "metadata": {
        "id": "NY4Q7uRBCGS-"
      },
      "source": [
        "#### 2. Create sequences based on length of input"
      ]
    },
    {
      "cell_type": "code",
      "execution_count": 23,
      "metadata": {
        "id": "cYqiTYEmatlV"
      },
      "outputs": [],
      "source": [
        "def create_sequence(sentences,nn_input):\n",
        "  seq_length = nn_input + 1\n",
        "  sequences = []\n",
        "  for sen in sentences:\n",
        "    sequence = ngrams(sen,seq_length) \n",
        "    sequences.extend([list(x) for x in sequence])\n",
        "  return sequences"
      ]
    },
    {
      "cell_type": "code",
      "execution_count": 24,
      "metadata": {
        "id": "fo6_CRPBATBt"
      },
      "outputs": [],
      "source": [
        "train_sequences = create_sequence(train_sentences,2)\n",
        "test_sequences = create_sequence(test_sentences,2)"
      ]
    },
    {
      "cell_type": "code",
      "execution_count": 25,
      "metadata": {
        "colab": {
          "base_uri": "https://localhost:8080/"
        },
        "id": "fve__1OdAu4P",
        "outputId": "7dee9eb3-92ef-436a-8c94-06a0f2eeb67c"
      },
      "outputs": [
        {
          "name": "stdout",
          "output_type": "stream",
          "text": [
            "['زانک', 'دل', 'یا']\n",
            "['هل', 'تا', 'نفسی']\n"
          ]
        }
      ],
      "source": [
        "print(train_sequences[0])\n",
        "print(test_sequences[0])"
      ]
    },
    {
      "cell_type": "code",
      "execution_count": 26,
      "metadata": {
        "colab": {
          "base_uri": "https://localhost:8080/"
        },
        "id": "nK91AVTK8o_X",
        "outputId": "1f48649a-b9f5-4a02-ef2b-1a73c39df670"
      },
      "outputs": [
        {
          "name": "stdout",
          "output_type": "stream",
          "text": [
            "930977\n",
            "548\n"
          ]
        }
      ],
      "source": [
        "print(len(train_sequences))\n",
        "print(len(test_sequences))"
      ]
    },
    {
      "cell_type": "markdown",
      "metadata": {
        "id": "VmnXG5W0CP_m"
      },
      "source": [
        "#### 3. Tokenzing sequences to numbers"
      ]
    },
    {
      "cell_type": "code",
      "execution_count": 27,
      "metadata": {
        "id": "Ug6xhWC99Zy0"
      },
      "outputs": [],
      "source": [
        "tokenizer = Tokenizer()\n",
        "tokenizer.fit_on_texts(train_sequences)\n",
        "tokenizer.fit_on_texts(test_sequences)\n",
        "test_sequences = tokenizer.texts_to_sequences(test_sequences)\n",
        "train_sequences = tokenizer.texts_to_sequences(train_sequences)"
      ]
    },
    {
      "cell_type": "code",
      "execution_count": 28,
      "metadata": {
        "colab": {
          "base_uri": "https://localhost:8080/"
        },
        "id": "A26rI41BArGR",
        "outputId": "039ccc34-0aab-46f7-ef46-2db5f0865a1e"
      },
      "outputs": [
        {
          "name": "stdout",
          "output_type": "stream",
          "text": [
            "[973, 17, 104]\n",
            "[3005, 21, 1848]\n"
          ]
        }
      ],
      "source": [
        "print(train_sequences[0])\n",
        "print(test_sequences[0])"
      ]
    },
    {
      "cell_type": "code",
      "execution_count": 29,
      "metadata": {
        "colab": {
          "base_uri": "https://localhost:8080/"
        },
        "id": "6fIyt0CcCf-R",
        "outputId": "86e23169-c1df-4e7a-8fc2-25717c9475e2"
      },
      "outputs": [
        {
          "name": "stdout",
          "output_type": "stream",
          "text": [
            "(930977, 3)\n",
            "(548, 3)\n"
          ]
        }
      ],
      "source": [
        "print(np.shape(train_sequences))\n",
        "print(np.shape(test_sequences))"
      ]
    },
    {
      "cell_type": "markdown",
      "metadata": {
        "id": "jFKLv8VrCWU9"
      },
      "source": [
        "#### 4. Find out how many unique words we have"
      ]
    },
    {
      "cell_type": "code",
      "execution_count": 30,
      "metadata": {
        "id": "33pOBaQRB9B1"
      },
      "outputs": [],
      "source": [
        "v_size = len(tokenizer.word_index) + 1"
      ]
    },
    {
      "cell_type": "code",
      "execution_count": 31,
      "metadata": {
        "colab": {
          "base_uri": "https://localhost:8080/"
        },
        "id": "-7bqEmG4Cc3O",
        "outputId": "0e1f251c-c360-48df-d6e0-a203377b5d8f"
      },
      "outputs": [
        {
          "name": "stdout",
          "output_type": "stream",
          "text": [
            "56711\n"
          ]
        }
      ],
      "source": [
        "print(v_size)"
      ]
    },
    {
      "cell_type": "markdown",
      "metadata": {
        "id": "T9Jpst9uCwSz"
      },
      "source": [
        "#### 5. Spliting sequences to input and output of neural net"
      ]
    },
    {
      "cell_type": "code",
      "execution_count": 32,
      "metadata": {
        "id": "tVaFe48NEz6a"
      },
      "outputs": [],
      "source": [
        "train_sequences = np.array(train_sequences)\n",
        "test_sequences = np.array(test_sequences)"
      ]
    },
    {
      "cell_type": "code",
      "execution_count": 33,
      "metadata": {
        "id": "A_TJURTQC0iY"
      },
      "outputs": [],
      "source": [
        "input_train = train_sequences[:,:2]\n",
        "output_train = train_sequences[:,-1]"
      ]
    },
    {
      "cell_type": "code",
      "execution_count": 34,
      "metadata": {
        "id": "h_YCNg_SSOj_"
      },
      "outputs": [],
      "source": [
        "input_test = test_sequences[:,:2]\n",
        "output_test = test_sequences[:,-1]"
      ]
    },
    {
      "cell_type": "code",
      "execution_count": 35,
      "metadata": {
        "colab": {
          "base_uri": "https://localhost:8080/"
        },
        "id": "823bGNFCFElr",
        "outputId": "309ad8c8-033f-4218-9d4d-949859b11217"
      },
      "outputs": [
        {
          "name": "stdout",
          "output_type": "stream",
          "text": [
            "(930977, 2)\n",
            "(930977,)\n"
          ]
        }
      ],
      "source": [
        "print(np.shape(input_train))\n",
        "print(np.shape(output_train))"
      ]
    },
    {
      "cell_type": "code",
      "execution_count": 36,
      "metadata": {
        "colab": {
          "base_uri": "https://localhost:8080/"
        },
        "id": "P3v7jDi1FGcd",
        "outputId": "82ead851-59bb-4258-c13f-52395b360f8c"
      },
      "outputs": [
        {
          "name": "stdout",
          "output_type": "stream",
          "text": [
            "(930977, 1)\n"
          ]
        }
      ],
      "source": [
        "output_train = output_train.reshape(-1,1)\n",
        "print(np.shape(output_train))"
      ]
    },
    {
      "cell_type": "code",
      "execution_count": 37,
      "metadata": {
        "colab": {
          "base_uri": "https://localhost:8080/"
        },
        "id": "zUjEzxXHSea7",
        "outputId": "282bf498-6637-46f8-ec3a-3b0443114b28"
      },
      "outputs": [
        {
          "name": "stdout",
          "output_type": "stream",
          "text": [
            "(548, 2)\n",
            "(548,)\n"
          ]
        }
      ],
      "source": [
        "print(np.shape(input_test))\n",
        "print(np.shape(output_test))"
      ]
    },
    {
      "cell_type": "code",
      "execution_count": 38,
      "metadata": {
        "colab": {
          "base_uri": "https://localhost:8080/"
        },
        "id": "0JpuJs2fSiLc",
        "outputId": "1283a436-dec3-4721-e52b-58173e2e0a82"
      },
      "outputs": [
        {
          "name": "stdout",
          "output_type": "stream",
          "text": [
            "(548, 1)\n"
          ]
        }
      ],
      "source": [
        "output_test = output_test.reshape(-1,1)\n",
        "print(np.shape(output_test))"
      ]
    },
    {
      "cell_type": "markdown",
      "metadata": {
        "id": "4MVz592-FfIg"
      },
      "source": [
        "#### 6. make the output layer the probability distribution of all words using to catagorical"
      ]
    },
    {
      "cell_type": "code",
      "execution_count": 39,
      "metadata": {
        "id": "stijp0AXomb-"
      },
      "outputs": [],
      "source": [
        "# We should use yield when we want to iterate over a sequence, but don’t want to store the entire sequence in memory.\n",
        "# This allows its code to produce a series of values over time, rather than computing them at once and sending them back like a list.\n",
        "def generator(X_, y_, batch_size, num_classes):\n",
        "    num_samples = len(X_)\n",
        "    while True: \n",
        "        for offset in range(0, num_samples, batch_size):\n",
        "            X_batch_samples = X_[offset:offset+batch_size]\n",
        "            y_batch_samples = y_[offset:offset+batch_size]\n",
        "            y_batch_samples = to_categorical(y_batch_samples, num_classes)\n",
        "            yield X_batch_samples, y_batch_samples"
      ]
    },
    {
      "cell_type": "code",
      "execution_count": 40,
      "metadata": {
        "id": "1Z2wk3V3S_U7"
      },
      "outputs": [],
      "source": [
        "# we will lack ram since training set is big\n",
        "# we conver to categorical using batches\n",
        "train_generator = generator(input_train,output_train,2000,v_size)\n",
        "output_test = to_categorical(output_test,num_classes=v_size)"
      ]
    },
    {
      "cell_type": "code",
      "execution_count": 41,
      "metadata": {
        "colab": {
          "base_uri": "https://localhost:8080/"
        },
        "id": "uza8vjhqpIj3",
        "outputId": "b4dbff63-3bd9-4da8-975b-da4089e4409a"
      },
      "outputs": [
        {
          "data": {
            "text/plain": [
              "array([[0., 0., 0., ..., 0., 0., 0.],\n",
              "       [0., 0., 0., ..., 0., 0., 0.],\n",
              "       [0., 0., 0., ..., 0., 0., 0.],\n",
              "       ...,\n",
              "       [0., 0., 0., ..., 0., 0., 0.],\n",
              "       [0., 0., 0., ..., 0., 0., 0.],\n",
              "       [0., 0., 0., ..., 0., 0., 0.]], dtype=float32)"
            ]
          },
          "execution_count": 41,
          "metadata": {},
          "output_type": "execute_result"
        }
      ],
      "source": [
        "output_test"
      ]
    },
    {
      "cell_type": "markdown",
      "metadata": {
        "id": "ElvQTA8-rymy"
      },
      "source": [
        "#### 7. Model implementation"
      ]
    },
    {
      "cell_type": "code",
      "execution_count": 42,
      "metadata": {
        "id": "QEJ41AwGsf-5"
      },
      "outputs": [],
      "source": [
        "# sequential is a model\n",
        "from keras.models import Sequential\n",
        "# different type of layers\n",
        "from keras.layers import Embedding\n",
        "from keras.layers import Dense\n",
        "from keras.layers import Flatten\n",
        "from keras.callbacks import ModelCheckpoint"
      ]
    },
    {
      "cell_type": "code",
      "execution_count": 43,
      "metadata": {
        "id": "Lyy3bIWAr2Nc"
      },
      "outputs": [],
      "source": [
        "import keras\n",
        "import matplotlib.pyplot as plt\n",
        "from IPython.display import clear_output\n",
        "\n",
        "class plot_loss(keras.callbacks.Callback):\n",
        "  def on_train_begin(self,logs={}):\n",
        "        self.i = 0\n",
        "        self.xs = []\n",
        "        self.losses = []\n",
        "        self.val_losses = []\n",
        "        self.fig = plt.figure()\n",
        "        self.logs = []\n",
        "\n",
        "  def on_epoch_end(self,epoch,logs={}):\n",
        "        self.logs.append(logs)\n",
        "        self.xs.append(self.i)\n",
        "        self.losses.append(logs.get('loss'))\n",
        "        self.val_losses.append(logs.get('val_loss'))\n",
        "        self.i += 1\n",
        "        clear_output(wait=True)\n",
        "        plt.plot(self.xs, self.losses, label=\"loss\")\n",
        "        plt.plot(self.xs, self.val_losses, label=\"val_loss\")\n",
        "        plt.legend()\n",
        "        plt.show();\n",
        "plots = plot_loss()"
      ]
    },
    {
      "cell_type": "code",
      "execution_count": 44,
      "metadata": {
        "id": "hGHjIBNjsc-X"
      },
      "outputs": [],
      "source": [
        "model = Sequential()\n",
        "# 50 is length of each word embedding \n",
        "# v_size is range of integer numbers we have (max number we can get as input of embedding)\n",
        "model.add(Embedding(v_size , 50 ,input_length=2 ,name='Embedding-layer'))\n",
        "model.add(Flatten())\n",
        "model.add(Dense(int(v_size/2), activation='relu', name='Hidden-layer'))\n",
        "model.add(Dense(v_size,activation='softmax',name='Output-layer'))"
      ]
    },
    {
      "cell_type": "code",
      "execution_count": 45,
      "metadata": {
        "colab": {
          "base_uri": "https://localhost:8080/"
        },
        "id": "gaxx0EXj0wby",
        "outputId": "bbd7e77d-c03c-4c76-a75a-f87bf53ce8d0"
      },
      "outputs": [
        {
          "name": "stdout",
          "output_type": "stream",
          "text": [
            "Model: \"sequential\"\n",
            "_________________________________________________________________\n",
            " Layer (type)                Output Shape              Param #   \n",
            "=================================================================\n",
            " Embedding-layer (Embedding)  (None, 2, 50)            2835550   \n",
            "                                                                 \n",
            " flatten (Flatten)           (None, 100)               0         \n",
            "                                                                 \n",
            " Hidden-layer (Dense)        (None, 28355)             2863855   \n",
            "                                                                 \n",
            " Output-layer (Dense)        (None, 56711)             1608097116\n",
            "                                                                 \n",
            "=================================================================\n",
            "Total params: 1,613,796,521\n",
            "Trainable params: 1,613,796,521\n",
            "Non-trainable params: 0\n",
            "_________________________________________________________________\n"
          ]
        }
      ],
      "source": [
        "model.summary()"
      ]
    },
    {
      "cell_type": "code",
      "execution_count": 46,
      "metadata": {
        "id": "7rFeqHoG1eYM"
      },
      "outputs": [],
      "source": [
        "#check point saves the best model in a specific address\n",
        "checkpoint = ModelCheckpoint('/content/drive/MyDrive/model-{epoch:03d}--{val_accuracy:03f}.h5', verbose=1, monitor='val_loss',save_best_only=True, save_weights_only=True, mode='min')  "
      ]
    },
    {
      "cell_type": "code",
      "execution_count": 47,
      "metadata": {
        "id": "uZHJUK1Q2Nqt"
      },
      "outputs": [],
      "source": [
        "model.compile(loss='categorical_crossentropy',optimizer='adam',metrics=['accuracy'])"
      ]
    },
    {
      "cell_type": "code",
      "execution_count": 50,
      "metadata": {
        "colab": {
          "base_uri": "https://localhost:8080/",
          "height": 334
        },
        "id": "gVf5fiNP2Qrf",
        "outputId": "ef210fdf-51ab-4836-bc38-ccde9425d139"
      },
      "outputs": [
        {
          "data": {
            "image/png": "[encoded data removed]",
            "text/plain": [
              "<Figure size 432x288 with 1 Axes>"
            ]
          },
          "metadata": {
            "needs_background": "light"
          },
          "output_type": "display_data"
        },
        {
          "name": "stdout",
          "output_type": "stream",
          "text": [
            "\n",
            "Epoch 10: val_loss did not improve from 6.93360\n",
            "465/465 [==============================] - 235s 506ms/step - loss: 2.1421 - accuracy: 0.4850 - val_loss: 11.3451 - val_accuracy: 0.0766\n"
          ]
        },
        {
          "data": {
            "text/plain": [
              "<keras.callbacks.History at 0x7f1116d94d90>"
            ]
          },
          "execution_count": 50,
          "metadata": {},
          "output_type": "execute_result"
        }
      ],
      "source": [
        "model.fit(train_generator, batch_size=1000, epochs=10, steps_per_epoch=(len(train_sequences)//1000), validation_data=(input_test,output_test), callbacks=[plots,checkpoint])"
      ]
    },
    {
      "cell_type": "markdown",
      "metadata": {
        "id": "ld7LGJBm3ygE"
      },
      "source": [
        "#### 8. Testing model"
      ]
    },
    {
      "cell_type": "code",
      "execution_count": 51,
      "metadata": {
        "id": "QFrgEq5qmtAr"
      },
      "outputs": [],
      "source": [
        "best_model_path = '/content/drive/MyDrive/model-001--0.082117.h5'\n",
        "model.load_weights(best_model_path)"
      ]
    },
    {
      "cell_type": "code",
      "execution_count": 52,
      "metadata": {
        "id": "an44FiFNyzur"
      },
      "outputs": [],
      "source": [
        "# return word corresponding to input number\n",
        "def convert_ID_to_word(ID):  \n",
        "  for word, index in tokenizer.word_index.items():\n",
        "    if np.int64(index) == ID:\n",
        "      return word\n",
        "  return"
      ]
    },
    {
      "cell_type": "code",
      "execution_count": 53,
      "metadata": {
        "id": "LjiM4b04y2cQ"
      },
      "outputs": [],
      "source": [
        "# create sentences from corresponding ids\n",
        "def get_sentence_from_IDs(x):\n",
        "  sent = ''\n",
        "  for elem in x:\n",
        "    sent += convert_ID_to_word(elem) + ' '\n",
        "  return sent"
      ]
    },
    {
      "cell_type": "code",
      "execution_count": 64,
      "metadata": {
        "id": "V5wrzfFjzRSM"
      },
      "outputs": [],
      "source": [
        "sentences = ['چون مشک سیه بود مرا هر دو',\n",
        " 'گر خورد سوگند هم آن',\n",
        " 'زانک نفس آشفته تر گردد از',\n",
        " 'ازین زشت تر در جهان رنگ',\n",
        " 'دوست در خانه و ما گرد',\n",
        " 'شب است و شمع و شراب و']"
      ]
    },
    {
      "cell_type": "code",
      "execution_count": 65,
      "metadata": {
        "id": "Alafe_p-1VCN"
      },
      "outputs": [],
      "source": [
        "sentences_encodeed = tokenizer.texts_to_sequences(sentence)"
      ]
    },
    {
      "cell_type": "code",
      "execution_count": 70,
      "metadata": {
        "id": "nnotGFxx1izw"
      },
      "outputs": [],
      "source": [
        "# for sentences with one gap\n",
        "X_test = np.array([sent[-2:] for sent in sentences_encodeed])\n",
        "word_output = model.predict(X_test)\n",
        "word_output = np.argmax(word_output, axis=1)"
      ]
    },
    {
      "cell_type": "code",
      "execution_count": 71,
      "metadata": {
        "colab": {
          "base_uri": "https://localhost:8080/"
        },
        "id": "zp1zBpMX1pbq",
        "outputId": "8f973e62-4ea5-46c0-c2eb-b5d4ba543a3f"
      },
      "outputs": [
        {
          "data": {
            "text/plain": [
              "array([ 7,  7, 10,  1,  6, 14])"
            ]
          },
          "execution_count": 71,
          "metadata": {},
          "output_type": "execute_result"
        }
      ],
      "source": [
        "word_output"
      ]
    },
    {
      "cell_type": "code",
      "execution_count": 72,
      "metadata": {
        "id": "vkc1dUyw4JXC"
      },
      "outputs": [],
      "source": [
        "# for sentences with two gaps\n",
        "w1 = np.array([sent[-1:] for sent in sentences_encodeed])\n",
        "w2 = word_output\n",
        "X_test = np.column_stack((w1, w2))\n",
        "two_word_prediction = model.predict(X_test)\n",
        "two_word_prediction = np.argmax(two_word_prediction, axis=1)"
      ]
    },
    {
      "cell_type": "code",
      "execution_count": 75,
      "metadata": {
        "colab": {
          "base_uri": "https://localhost:8080/"
        },
        "id": "S1XM3ajF4SXs",
        "outputId": "69465973-4e11-44f6-a9dd-1c4f9131ede6"
      },
      "outputs": [
        {
          "name": "stdout",
          "output_type": "stream",
          "text": [
            "چون مشک سیه بود مرا هر دو را به\n",
            "گر خورد سوگند هم آن را\n",
            "زانک نفس آشفته تر گردد از آن\n",
            "ازین زشت تر در جهان رنگ و\n",
            "دوست در خانه و ما گرد تو بر\n",
            "شب است و شمع و شراب و می\n",
            "\n"
          ]
        }
      ],
      "source": [
        "output = ''\n",
        "for i in range(len(sentences)):\n",
        "  output += sentences[i] + ' ' + convert_ID_to_word(word_output[i])\n",
        "  if (i == 0 or i == 4):\n",
        "    output += ' ' + convert_ID_to_word(two_word_prediction[i])\n",
        "  output += '\\n'\n",
        "print(output)"
      ]
    }
  ],
  "metadata": {
    "accelerator": "GPU",
    "colab": {
      "collapsed_sections": [
        "ulKSVXtrI1BI",
        "d58dLCZ0I35I",
        "6T67ohI8LyYB",
        "w9xOXzaVakAV",
        "eF6AMh0bDMCC",
        "NY4Q7uRBCGS-",
        "VmnXG5W0CP_m",
        "jFKLv8VrCWU9"
      ],
      "machine_shape": "hm",
      "provenance": []
    },
    "gpuClass": "premium",
    "kernelspec": {
      "display_name": "Python 3",
      "name": "python3"
    },
    "language_info": {
      "name": "python"
    }
  },
  "nbformat": 4,
  "nbformat_minor": 0
}
