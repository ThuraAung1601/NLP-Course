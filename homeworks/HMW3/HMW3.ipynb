{
  "nbformat": 4,
  "nbformat_minor": 0,
  "metadata": {
    "colab": {
      "provenance": [],
      "collapsed_sections": [
        "2H_13-VHNWIk",
        "Q7RNGQBEf87-"
      ],
      "machine_shape": "hm"
    },
    "kernelspec": {
      "name": "python3",
      "display_name": "Python 3"
    },
    "language_info": {
      "name": "python"
    },
    "accelerator": "GPU"
  },
  "cells": [
    {
      "cell_type": "markdown",
      "source": [
        "# HW3"
      ],
      "metadata": {
        "id": "EoKvm6g-Ke99"
      }
    },
    {
      "cell_type": "code",
      "execution_count": 143,
      "metadata": {
        "colab": {
          "base_uri": "https://localhost:8080/"
        },
        "id": "LyQYSr_2KKt0",
        "outputId": "5b7b0eb8-4869-4ce9-931b-3d4d9353355b"
      },
      "outputs": [
        {
          "output_type": "stream",
          "name": "stdout",
          "text": [
            "Downloading...\n",
            "From: https://drive.google.com/uc?id=1rovazK48q7pHcEM271aX70Dr594NYQ77\n",
            "To: /content/train.csv\n",
            "100% 20.1M/20.1M [00:00<00:00, 232MB/s]\n",
            "Downloading...\n",
            "From: https://drive.google.com/uc?id=1ZCHuj6JtyOkb5ismn3qF3Rp2DRGJ1tRk\n",
            "To: /content/test.csv\n",
            "100% 2.03M/2.03M [00:00<00:00, 207MB/s]\n"
          ]
        }
      ],
      "source": [
        "!gdown 1rovazK48q7pHcEM271aX70Dr594NYQ77\n",
        "!gdown 1ZCHuj6JtyOkb5ismn3qF3Rp2DRGJ1tRk"
      ]
    },
    {
      "cell_type": "code",
      "source": [
        "!pip install --upgrade gensim\n",
        "!pip install arabic_reshaper\n",
        "!pip install python-bidi"
      ],
      "metadata": {
        "colab": {
          "base_uri": "https://localhost:8080/"
        },
        "id": "U3HPfsDN-TQr",
        "outputId": "ca3a56fb-a313-42b1-c22a-fdd385600daa"
      },
      "execution_count": 144,
      "outputs": [
        {
          "output_type": "stream",
          "name": "stdout",
          "text": [
            "Looking in indexes: https://pypi.org/simple, https://us-python.pkg.dev/colab-wheels/public/simple/\n",
            "Requirement already satisfied: gensim in /root/.local/lib/python3.7/site-packages (4.2.0)\n",
            "Requirement already satisfied: scipy>=0.18.1 in /usr/local/lib/python3.7/dist-packages (from gensim) (1.7.3)\n",
            "Requirement already satisfied: numpy>=1.17.0 in /usr/local/lib/python3.7/dist-packages (from gensim) (1.21.6)\n",
            "Requirement already satisfied: smart-open>=1.8.1 in /usr/local/lib/python3.7/dist-packages (from gensim) (5.2.1)\n",
            "Looking in indexes: https://pypi.org/simple, https://us-python.pkg.dev/colab-wheels/public/simple/\n",
            "Requirement already satisfied: arabic_reshaper in /usr/local/lib/python3.7/dist-packages (2.1.4)\n",
            "Requirement already satisfied: future in /usr/local/lib/python3.7/dist-packages (from arabic_reshaper) (0.16.0)\n",
            "Looking in indexes: https://pypi.org/simple, https://us-python.pkg.dev/colab-wheels/public/simple/\n",
            "Requirement already satisfied: python-bidi in /usr/local/lib/python3.7/dist-packages (0.4.2)\n",
            "Requirement already satisfied: six in /usr/local/lib/python3.7/dist-packages (from python-bidi) (1.15.0)\n"
          ]
        }
      ]
    },
    {
      "cell_type": "code",
      "source": [
        "import pandas\n",
        "from gensim.models import Word2Vec\n",
        "from gensim.models.doc2vec import Doc2Vec, TaggedDocument\n",
        "import numpy as np"
      ],
      "metadata": {
        "id": "xu0lzyQKMs4c"
      },
      "execution_count": 145,
      "outputs": []
    },
    {
      "cell_type": "code",
      "source": [
        "pandas.set_option('display.max_colwidth', None)"
      ],
      "metadata": {
        "id": "hR8M73LINxxi"
      },
      "execution_count": 146,
      "outputs": []
    },
    {
      "cell_type": "markdown",
      "source": [
        "## Question 1"
      ],
      "metadata": {
        "id": "2H_13-VHNWIk"
      }
    },
    {
      "cell_type": "code",
      "source": [
        "train_input = pandas.read_csv('train.csv')\n",
        "test_input = pandas.read_csv('test.csv')"
      ],
      "metadata": {
        "id": "FVVSVFG4NVcn"
      },
      "execution_count": 147,
      "outputs": []
    },
    {
      "cell_type": "code",
      "source": [
        "def clean_text(document):\n",
        "  words = document.split(' ')\n",
        "  words = [w.replace('\\u200c','') for w in words]\n",
        "  # third parameter says remove these character\n",
        "  # first parameter says to replace that argument with the argument in second parameter\n",
        "  translation_table = str.maketrans('', '', \"><.،؟؛:{}\\|+ـ()*&^٪$#❊!/[]=-\")\n",
        "  words = [w.translate(translation_table) for w in words]\n",
        "  words = [w for w in words if w.isalpha()]\n",
        "  return words"
      ],
      "metadata": {
        "id": "YtvatvXtVyar"
      },
      "execution_count": 148,
      "outputs": []
    },
    {
      "cell_type": "markdown",
      "source": [
        "### Word2Vec"
      ],
      "metadata": {
        "id": "lxgmo90_f43q"
      }
    },
    {
      "cell_type": "markdown",
      "source": [
        "[first_link](https://towardsdatascience.com/a-beginners-guide-to-word-embedding-with-gensim-word2vec-model-5970fa56cc92)\n",
        "\n",
        "[second link](https://towardsdatascience.com/word2vec-skip-gram-model-part-1-intuition-78614e4d6e0b)"
      ],
      "metadata": {
        "id": "Z7HFApuFmVi-"
      }
    },
    {
      "cell_type": "code",
      "source": [
        "# Genism word2vec requires that a format of ‘list of lists’ for training where every document is contained in a list and every list contains lists of tokens of that document.\n",
        "train_docs = []\n",
        "train_id = []\n",
        "for index,row in train_input.iterrows():\n",
        "  train_docs.append(clean_text(row.article))\n",
        "  train_id.append(row.id)\n"
      ],
      "metadata": {
        "id": "DYi6kkAUUKPD"
      },
      "execution_count": 149,
      "outputs": []
    },
    {
      "cell_type": "code",
      "source": [
        "print(len(train_docs))\n",
        "print(len(train_id))"
      ],
      "metadata": {
        "colab": {
          "base_uri": "https://localhost:8080/"
        },
        "id": "DM_a_TSwXoDh",
        "outputId": "32d336e2-f842-48dd-e986-145f48fa185f"
      },
      "execution_count": 150,
      "outputs": [
        {
          "output_type": "stream",
          "name": "stdout",
          "text": [
            "732\n",
            "732\n"
          ]
        }
      ]
    },
    {
      "cell_type": "code",
      "source": [
        "train_list = list(zip(train_id,train_docs))"
      ],
      "metadata": {
        "id": "3tDE6kgjngBD"
      },
      "execution_count": 151,
      "outputs": []
    },
    {
      "cell_type": "code",
      "source": [
        "model_w2v = Word2Vec(train_docs, vector_size=300, window=10, min_count=5,sg=1,workers=4)"
      ],
      "metadata": {
        "id": "rH1m3awDaIok"
      },
      "execution_count": 152,
      "outputs": []
    },
    {
      "cell_type": "markdown",
      "source": [
        "### Doc2Vec"
      ],
      "metadata": {
        "id": "Q7RNGQBEf87-"
      }
    },
    {
      "cell_type": "markdown",
      "source": [
        "[fist_link](https://radimrehurek.com/gensim/models/doc2vec.html)\n",
        "\n",
        "[second_link](https://medium.com/@mishra.thedeepak/doc2vec-simple-implementation-example-df2afbbfbad5)"
      ],
      "metadata": {
        "id": "cD_0b1KEmitK"
      }
    },
    {
      "cell_type": "code",
      "source": [
        "documents = [TaggedDocument(doc,[i]) for i, doc in train_list]\n",
        "model_d2v = Doc2Vec(documents, vector_size=300, window=10, min_count=5,workers=4)"
      ],
      "metadata": {
        "id": "VXdkikqdiJWX"
      },
      "execution_count": 153,
      "outputs": []
    },
    {
      "cell_type": "markdown",
      "source": [
        "## Question 2"
      ],
      "metadata": {
        "id": "KN9JFuMHjCt5"
      }
    },
    {
      "cell_type": "code",
      "source": [
        "test_docs = []\n",
        "test_id = []\n",
        "for index, row in test_input.iterrows():\n",
        "  test_docs.append(clean_text(row.article))\n",
        "  test_id.append(row.id)"
      ],
      "metadata": {
        "id": "VfIvEYCIta5b"
      },
      "execution_count": 154,
      "outputs": []
    },
    {
      "cell_type": "code",
      "source": [
        "print(len(test_docs))\n",
        "print(len(test_id))"
      ],
      "metadata": {
        "colab": {
          "base_uri": "https://localhost:8080/"
        },
        "id": "3ksOQn83uAg-",
        "outputId": "97a323a1-17c4-40df-9075-3f4bd58cfeb1"
      },
      "execution_count": 155,
      "outputs": [
        {
          "output_type": "stream",
          "name": "stdout",
          "text": [
            "82\n",
            "82\n"
          ]
        }
      ]
    },
    {
      "cell_type": "code",
      "source": [
        "test_list = list(zip(test_id,test_docs))"
      ],
      "metadata": {
        "id": "IzdPIAiEt77j"
      },
      "execution_count": 156,
      "outputs": []
    },
    {
      "cell_type": "code",
      "source": [
        "def create_tf_idf_dics(docs,dids):\n",
        "  # term-doc key=term value=dict(doc,number of times a term is in doc)\n",
        "  term_doc = {}\n",
        "  # doc-term key=doc value=dict(term,number of times a term is in doc)\n",
        "  doc_term = {}\n",
        "  for doc,did in zip(docs,dids):\n",
        "    doc_term[did] = {}\n",
        "    for term in doc:\n",
        "      if term in doc_term[did]:\n",
        "        doc_term[did][term] += 1\n",
        "      else:\n",
        "        doc_term[did][term] = 1\n",
        "\n",
        "      if term not in term_doc:\n",
        "        term_doc[term] = {}\n",
        "      if did in term_doc[term]:\n",
        "        term_doc[term][did] += 1\n",
        "      else:\n",
        "        term_doc[term][did] = 1\n",
        "        \n",
        "  return term_doc, doc_term\n"
      ],
      "metadata": {
        "id": "VcHMDERvuPLo"
      },
      "execution_count": 157,
      "outputs": []
    },
    {
      "cell_type": "code",
      "source": [
        "term_doc_test, doc_term_test = create_tf_idf_dics(test_docs, test_id)\n",
        "term_doc_train, doc_term_train = create_tf_idf_dics(train_docs,train_id)"
      ],
      "metadata": {
        "id": "duHL4zOfuhnP"
      },
      "execution_count": 158,
      "outputs": []
    },
    {
      "cell_type": "code",
      "source": [
        "list(term_doc_test.items())[0]"
      ],
      "metadata": {
        "colab": {
          "base_uri": "https://localhost:8080/"
        },
        "id": "VDrBtRxRvtjx",
        "outputId": "b844fcdc-cf91-4df4-bad2-fcbfd23de455"
      },
      "execution_count": 159,
      "outputs": [
        {
          "output_type": "execute_result",
          "data": {
            "text/plain": [
              "('جامعه',\n",
              " {'Doc36': 18,\n",
              "  'Doc635': 13,\n",
              "  'Doc384': 7,\n",
              "  'Doc624': 10,\n",
              "  'Doc25': 2,\n",
              "  'Doc357': 5,\n",
              "  'Doc450': 1,\n",
              "  'Doc173': 5,\n",
              "  'Doc21': 1,\n",
              "  'Doc504': 1,\n",
              "  'Doc296': 11,\n",
              "  'Doc381': 2,\n",
              "  'Doc237': 3,\n",
              "  'Doc687': 6,\n",
              "  'Doc806': 4,\n",
              "  'Doc5': 3,\n",
              "  'Doc11': 1,\n",
              "  'Doc688': 4,\n",
              "  'Doc196': 2,\n",
              "  'Doc89': 3,\n",
              "  'Doc803': 6,\n",
              "  'Doc443': 16,\n",
              "  'Doc160': 1,\n",
              "  'Doc8': 1,\n",
              "  'Doc497': 4,\n",
              "  'Doc206': 5,\n",
              "  'Doc805': 4,\n",
              "  'Doc285': 2,\n",
              "  'Doc246': 4,\n",
              "  'Doc306': 1,\n",
              "  'Doc711': 1,\n",
              "  'Doc152': 2,\n",
              "  'Doc554': 5,\n",
              "  'Doc513': 1,\n",
              "  'Doc247': 1})"
            ]
          },
          "metadata": {},
          "execution_count": 159
        }
      ]
    },
    {
      "cell_type": "code",
      "source": [
        "list(doc_term_test.items())[0]"
      ],
      "metadata": {
        "colab": {
          "base_uri": "https://localhost:8080/"
        },
        "id": "GnwyX_t5v-8C",
        "outputId": "d01f8419-7fa8-446f-8468-02295b77434d"
      },
      "execution_count": 160,
      "outputs": [
        {
          "output_type": "execute_result",
          "data": {
            "text/plain": [
              "('Doc36',\n",
              " {'جامعه': 18,\n",
              "  'ايراني': 10,\n",
              "  'و': 92,\n",
              "  'نقاشي': 16,\n",
              "  'معاصر': 24,\n",
              "  'تاملي': 1,\n",
              "  'در': 69,\n",
              "  'ايران': 7,\n",
              "  'عبدالمجيد': 1,\n",
              "  'حسيني': 1,\n",
              "  'راد': 1,\n",
              "  'اين': 41,\n",
              "  'بحث': 3,\n",
              "  'اگرچه': 2,\n",
              "  'تاكيد': 1,\n",
              "  'كلي': 2,\n",
              "  'بر': 7,\n",
              "  'هنر': 29,\n",
              "  'خواهد': 9,\n",
              "  'بود': 2,\n",
              "  'سعي': 2,\n",
              "  'خواهيم': 4,\n",
              "  'كرد': 7,\n",
              "  'نگاهي': 2,\n",
              "  'نيز': 13,\n",
              "  'به': 62,\n",
              "  'جهان': 5,\n",
              "  'بيفكنيم': 1,\n",
              "  'زيرا': 3,\n",
              "  'نظر': 9,\n",
              "  'مي': 48,\n",
              "  'رسد': 4,\n",
              "  'بودن': 9,\n",
              "  'پديده': 1,\n",
              "  'اي': 12,\n",
              "  'است': 47,\n",
              "  'جهاني': 7,\n",
              "  'نه': 12,\n",
              "  'ملي': 4,\n",
              "  'معناي': 6,\n",
              "  'دوره': 11,\n",
              "  'كه': 57,\n",
              "  'ما': 29,\n",
              "  'آن': 33,\n",
              "  'نفس': 1,\n",
              "  'كشيم': 1,\n",
              "  'كار': 2,\n",
              "  'كنيم': 10,\n",
              "  'عصر': 5,\n",
              "  'ماست': 3,\n",
              "  'متعلق': 3,\n",
              "  'هستيم': 2,\n",
              "  'يا': 12,\n",
              "  'عبارت': 1,\n",
              "  'ديگر': 6,\n",
              "  'هم': 6,\n",
              "  'از': 43,\n",
              "  'جهت': 2,\n",
              "  'پذيرد': 1,\n",
              "  'هر': 5,\n",
              "  'اعتبار': 2,\n",
              "  'نسلي': 2,\n",
              "  'زيد': 1,\n",
              "  'بنابراين': 1,\n",
              "  'هاي': 8,\n",
              "  'گذشته': 7,\n",
              "  'آينده': 1,\n",
              "  'محسوب': 1,\n",
              "  'شوند': 3,\n",
              "  'اما': 5,\n",
              "  'وقتي': 1,\n",
              "  'گفته': 1,\n",
              "  'شود': 5,\n",
              "  'مقصود': 4,\n",
              "  'فقط': 1,\n",
              "  'همزمان': 1,\n",
              "  'آثاري': 3,\n",
              "  'هنري': 11,\n",
              "  'ساخته': 2,\n",
              "  'شدن': 3,\n",
              "  'اثر': 3,\n",
              "  'با': 21,\n",
              "  'زندگي': 4,\n",
              "  'نيست': 4,\n",
              "  'بلكه': 8,\n",
              "  'معنايي': 3,\n",
              "  'ويژه': 1,\n",
              "  'دارد': 4,\n",
              "  'وجود': 3,\n",
              "  'تمايزات': 1,\n",
              "  'ويژگيهايي': 1,\n",
              "  'زمانه': 3,\n",
              "  'را': 28,\n",
              "  'آثار': 15,\n",
              "  'تاريخ': 3,\n",
              "  'متمايز': 2,\n",
              "  'كند': 4,\n",
              "  'واقع': 4,\n",
              "  'جلوه': 2,\n",
              "  'مفهوم': 1,\n",
              "  'ايداولوژيك': 1,\n",
              "  'نگاه': 6,\n",
              "  'زيبايي': 2,\n",
              "  'شناختي': 1,\n",
              "  'بيان': 1,\n",
              "  'روح': 2,\n",
              "  'همان': 4,\n",
              "  'ظاهر': 1,\n",
              "  'صورت': 4,\n",
              "  'شكل': 1,\n",
              "  'دهد': 2,\n",
              "  'همه': 6,\n",
              "  'مربوط': 1,\n",
              "  'خاص': 1,\n",
              "  'ويژگي': 1,\n",
              "  'خود': 21,\n",
              "  'طور': 6,\n",
              "  'مشترك': 1,\n",
              "  'منعكس': 1,\n",
              "  'سازند': 1,\n",
              "  'اكنون': 3,\n",
              "  'مرز': 2,\n",
              "  'سده': 3,\n",
              "  'حال': 4,\n",
              "  'عبور': 2,\n",
              "  'تحولات': 2,\n",
              "  'پي': 2,\n",
              "  'درپي': 1,\n",
              "  'جنگها': 1,\n",
              "  'انقلابهاي': 1,\n",
              "  'بزرگ': 1,\n",
              "  'اكتشافات': 1,\n",
              "  'نو': 7,\n",
              "  'سرعت': 1,\n",
              "  'سهولت': 1,\n",
              "  'دستيابي': 1,\n",
              "  'اطلاعات': 1,\n",
              "  'ارتباطهاي': 1,\n",
              "  'بي': 4,\n",
              "  'مشخص': 1,\n",
              "  'اخص': 1,\n",
              "  'فردگرايي': 1,\n",
              "  'انديويدواليسم': 1,\n",
              "  'ابداع': 1,\n",
              "  'نفي': 2,\n",
              "  'سنتهاي': 1,\n",
              "  'مترادف': 1,\n",
              "  'درعين': 3,\n",
              "  'فراگير': 1,\n",
              "  'خصوصيات': 1,\n",
              "  'سطح': 1,\n",
              "  'مساعي': 1,\n",
              "  'هنرمندان': 8,\n",
              "  'براي': 6,\n",
              "  'گرفتن': 1,\n",
              "  'زبان': 1,\n",
              "  'مستلزم': 1,\n",
              "  'كنار': 2,\n",
              "  'گذاردن': 1,\n",
              "  'بوده': 4,\n",
              "  'علي': 3,\n",
              "  'رغم': 3,\n",
              "  'واقعيت': 9,\n",
              "  'جست': 1,\n",
              "  'وجوي': 1,\n",
              "  'هويت': 1,\n",
              "  'بومي': 1,\n",
              "  'مدرن': 8,\n",
              "  'ندارد': 3,\n",
              "  'نقاشان': 3,\n",
              "  'طول': 2,\n",
              "  'پنجاه': 1,\n",
              "  'شصت': 1,\n",
              "  'سال': 1,\n",
              "  'اخير': 5,\n",
              "  'صدد': 2,\n",
              "  'همسويي': 1,\n",
              "  'مشاركت': 1,\n",
              "  'سرنوشت': 2,\n",
              "  'اند': 5,\n",
              "  'همواره': 3,\n",
              "  'تناقض': 1,\n",
              "  'آميزي': 1,\n",
              "  'حفظ': 1,\n",
              "  'هايي': 2,\n",
              "  'كوشيده': 1,\n",
              "  'موضوع': 2,\n",
              "  'البته': 2,\n",
              "  'بحثي': 1,\n",
              "  'تاريخي': 2,\n",
              "  'دو': 3,\n",
              "  'دهه': 2,\n",
              "  'سخن': 2,\n",
              "  'رفته': 2,\n",
              "  'صحبتهاي': 1,\n",
              "  'پراكنده': 1,\n",
              "  'محافل': 1,\n",
              "  'رسمي': 2,\n",
              "  'آكادميك': 1,\n",
              "  'نقل': 1,\n",
              "  'مجالس': 1,\n",
              "  'هيچ': 2,\n",
              "  'گاه': 2,\n",
              "  'مباحث': 1,\n",
              "  'گستردگي': 1,\n",
              "  'اش': 1,\n",
              "  'جدي': 4,\n",
              "  'نكرده': 2,\n",
              "  'ايم': 21,\n",
              "  'جاي': 4,\n",
              "  'چون': 1,\n",
              "  'فرض': 1,\n",
              "  'اگر': 5,\n",
              "  'كرديم': 1,\n",
              "  'چه': 1,\n",
              "  'اتفاقي': 3,\n",
              "  'افتاد': 2,\n",
              "  'اصولا': 1,\n",
              "  'اصلا': 1,\n",
              "  'آنها': 6,\n",
              "  'نمي': 3,\n",
              "  'كنند': 1,\n",
              "  'طبيعي': 1,\n",
              "  'جدا': 1,\n",
              "  'آفرينند': 1,\n",
              "  'آنهاست': 1,\n",
              "  'چهره': 2,\n",
              "  'عيان': 1,\n",
              "  'متصديان': 1,\n",
              "  'دست': 1,\n",
              "  'اندركاران': 1,\n",
              "  'امور': 1,\n",
              "  'فرهنگي': 1,\n",
              "  'معمولا': 1,\n",
              "  'ضرورتي': 1,\n",
              "  'اجتماعي': 2,\n",
              "  'بخشي': 1,\n",
              "  'ماندگار': 1,\n",
              "  'حاصل': 1,\n",
              "  'روحي': 1,\n",
              "  'رواني': 1,\n",
              "  'اعتقادي': 1,\n",
              "  'آدمهاست': 1,\n",
              "  'مرتبه': 2,\n",
              "  'بسيار': 4,\n",
              "  'نازل': 1,\n",
              "  'تر': 2,\n",
              "  'رفع': 1,\n",
              "  'رجوع': 1,\n",
              "  'كارهاي': 1,\n",
              "  'اداري': 1,\n",
              "  'بينند': 1,\n",
              "  'مثل': 1,\n",
              "  'كودكان': 1,\n",
              "  'استثنايي': 1,\n",
              "  'الزام': 1,\n",
              "  'آوري': 1,\n",
              "  'بد': 1,\n",
              "  'نباشد': 1,\n",
              "  'تعدادي': 1,\n",
              "  'مدرسه': 1,\n",
              "  'قبيل': 1,\n",
              "  'افراد': 1,\n",
              "  'حاشيه': 1,\n",
              "  'آموزش': 1,\n",
              "  'ايجاد': 1,\n",
              "  'تنها': 6,\n",
              "  'آنچه': 11,\n",
              "  'خواسته': 1,\n",
              "  'برسيم': 1,\n",
              "  'نرسيده': 1,\n",
              "  'توانستيم': 2,\n",
              "  'باشيم': 3,\n",
              "  'ناتوان': 2,\n",
              "  'مانده': 1,\n",
              "  'نشده': 1,\n",
              "  'متاسفانه': 1,\n",
              "  'آنچنان': 1,\n",
              "  'روشن': 5,\n",
              "  'قدر': 1,\n",
              "  'غير': 1,\n",
              "  'طرح': 2,\n",
              "  'كرده': 9,\n",
              "  'عادت': 2,\n",
              "  'سر': 2,\n",
              "  'خودمان': 2,\n",
              "  'شيره': 1,\n",
              "  'بماليم': 1,\n",
              "  'نيستيم': 2,\n",
              "  'دروغ': 1,\n",
              "  'بباليم': 1,\n",
              "  'نياييم': 1,\n",
              "  'باور': 2,\n",
              "  'نكنيم': 1,\n",
              "  'جايي': 2,\n",
              "  'مطرح': 1,\n",
              "  'مشغول': 1,\n",
              "  'سرگرم': 1,\n",
              "  'كردن': 2,\n",
              "  'باوركردن': 1,\n",
              "  'كردنش': 1,\n",
              "  'دوست': 1,\n",
              "  'نداريم': 1,\n",
              "  'راغبتر': 1,\n",
              "  'سرگذشت': 1,\n",
              "  'امروز': 2,\n",
              "  'قرار': 5,\n",
              "  'پيش': 7,\n",
              "  'چيز': 2,\n",
              "  'درهم': 1,\n",
              "  'ريختگي': 1,\n",
              "  'ديده': 1,\n",
              "  'شد': 5,\n",
              "  'بخصوص': 2,\n",
              "  'انقطاع': 1,\n",
              "  'سير': 1,\n",
              "  'بنا': 1,\n",
              "  'دلايل': 1,\n",
              "  'جمله': 2,\n",
              "  'زمينه': 1,\n",
              "  'سياسي': 1,\n",
              "  'چشمان': 1,\n",
              "  'روي': 3,\n",
              "  'گشوده': 1,\n",
              "  'نرفته': 1,\n",
              "  'نتوانسته': 2,\n",
              "  'راه': 7,\n",
              "  'يابيم': 1,\n",
              "  'ديدگان': 1,\n",
              "  'داشته': 6,\n",
              "  'بسته': 1,\n",
              "  'نوگراي': 2,\n",
              "  'كجاي': 1,\n",
              "  'پهناور': 1,\n",
              "  'نايستاده': 1,\n",
              "  'فراموش': 2,\n",
              "  'شده': 5,\n",
              "  'دل': 1,\n",
              "  'خوش': 1,\n",
              "  'آنكه': 1,\n",
              "  'نسبتي': 1,\n",
              "  'باشد': 2,\n",
              "  'چشم': 1,\n",
              "  'دوخته': 1,\n",
              "  'سهمي': 1,\n",
              "  'نداشته': 1,\n",
              "  'غرب': 12,\n",
              "  'دور': 2,\n",
              "  'متفاوت': 4,\n",
              "  'فكر': 1,\n",
              "  'مسير': 2,\n",
              "  'رويم': 1,\n",
              "  'پاي': 1,\n",
              "  'قدم': 1,\n",
              "  'گذاريم': 1,\n",
              "  'گرفته': 3,\n",
              "  'تلخي': 1,\n",
              "  'همين': 3,\n",
              "  'هرچند': 1,\n",
              "  'تلخ': 2,\n",
              "  'گزنده': 1,\n",
              "  'توان': 2,\n",
              "  'نوگاري': 1,\n",
              "  'آينه': 2,\n",
              "  'دوسالانه': 4,\n",
              "  'پنجم': 1,\n",
              "  'مهر': 1,\n",
              "  'آبان': 1,\n",
              "  'پيشتر': 1,\n",
              "  'شاهد': 1,\n",
              "  'منظور': 1,\n",
              "  'مثلا': 1,\n",
              "  'دسته': 1,\n",
              "  'نقاشاني': 1,\n",
              "  'دليل': 1,\n",
              "  'گاهي': 1,\n",
              "  'ها': 2,\n",
              "  'شركت': 1,\n",
              "  'متفاوتي': 1,\n",
              "  'دارند': 1,\n",
              "  'بسياري': 1,\n",
              "  'نگويم': 1,\n",
              "  'يادگار': 1,\n",
              "  'شيوه': 1,\n",
              "  'نخ': 1,\n",
              "  'نماشده': 1,\n",
              "  'مدرنيسم': 11,\n",
              "  'كلاسيك': 3,\n",
              "  'اروپايي': 1,\n",
              "  'تكرار': 1,\n",
              "  'سپري': 1,\n",
              "  'ديگري': 2,\n",
              "  'نسل': 9,\n",
              "  'نوشيدن': 1,\n",
              "  'شوكران': 1,\n",
              "  'خودباوري': 1,\n",
              "  'ايمان': 1,\n",
              "  'آورده': 1,\n",
              "  'اساتيد': 4,\n",
              "  'نقاش': 1,\n",
              "  'هستند': 5,\n",
              "  'سايه': 1,\n",
              "  'شان': 1,\n",
              "  'تا': 4,\n",
              "  'كجا': 1,\n",
              "  'گسترده': 1,\n",
              "  'باد': 1,\n",
              "  'پيشين': 1,\n",
              "  'هنوز': 3,\n",
              "  'احساس': 1,\n",
              "  'قله': 1,\n",
              "  'فراز': 2,\n",
              "  'شانه': 1,\n",
              "  'بدان': 1,\n",
              "  'تكيه': 1,\n",
              "  'اكرام': 1,\n",
              "  'ادب': 1,\n",
              "  'برخاسته': 1,\n",
              "  'تعظيمي': 1,\n",
              "  'بايد': 2,\n",
              "  'پرسيد': 2,\n",
              "  'آيا': 4,\n",
              "  'درصدد': 2,\n",
              "  'ميان': 2,\n",
              "  'بردن': 2,\n",
              "  'نبوده': 2,\n",
              "  'آنيم': 1,\n",
              "  'پشت': 1,\n",
              "  'حتي': 2,\n",
              "  'انكار': 3,\n",
              "  'چنين': 2,\n",
              "  'پرسشي': 1,\n",
              "  'شخصي': 1,\n",
              "  'اشخاصي': 1,\n",
              "  'بخصوصي': 1,\n",
              "  'زير': 1,\n",
              "  'تيغ': 1,\n",
              "  'ارزيابي': 2,\n",
              "  'بگذاريم': 1,\n",
              "  'بزرگوار': 1,\n",
              "  'ان': 1,\n",
              "  'شاأالله': 1,\n",
              "  'نويسنده': 1,\n",
              "  'خواهند': 1,\n",
              "  'بخشيد': 1,\n",
              "  'او': 1,\n",
              "  'جزو': 2,\n",
              "  'خطا': 2,\n",
              "  'بهتر': 1,\n",
              "  'بگوييم': 1,\n",
              "  'رفتن': 1,\n",
              "  'وا': 1,\n",
              "  'موجوداتي': 1,\n",
              "  'خيالي': 1,\n",
              "  'تاريك': 1,\n",
              "  'يك': 3,\n",
              "  'تحليل': 1,\n",
              "  'مبهم': 1,\n",
              "  'مقصر': 1,\n",
              "  'قلمداد': 1,\n",
              "  'بازخواني': 1,\n",
              "  'پرده': 1,\n",
              "  'وضعيتي': 1,\n",
              "  'بريم': 1,\n",
              "  'شك': 1,\n",
              "  'افتد': 1,\n",
              "  'منحصر': 1,\n",
              "  'محدود': 1,\n",
              "  'تك': 2,\n",
              "  'جداگانه': 1,\n",
              "  'انجام': 1,\n",
              "  'دهند': 1,\n",
              "  'نيمه': 1,\n",
              "  'اتفاقات': 1,\n",
              "  'كليت': 1,\n",
              "  'نمايشگر': 1,\n",
              "  'اينك': 1,\n",
              "  'سوالي': 1,\n",
              "  'توانيم': 3,\n",
              "  'وضعيت': 4,\n",
              "  'موجود': 1,\n",
              "  'تجسمي': 2,\n",
              "  'هماهنگ': 1,\n",
              "  'راستا': 1,\n",
              "  'گيريم': 1,\n",
              "  'پاسخ': 1,\n",
              "  'گفتن': 1,\n",
              "  'صريح': 1,\n",
              "  'پرسش': 2,\n",
              "  'ابتدا': 1,\n",
              "  'توصيف': 2,\n",
              "  'ضمن': 1,\n",
              "  'اختصار': 1,\n",
              "  'بالا': 1,\n",
              "  'توضيح': 1,\n",
              "  'داده': 1,\n",
              "  'انتقادآميز': 1,\n",
              "  'موقعيت': 1,\n",
              "  'خودش': 1,\n",
              "  'مثبت': 1,\n",
              "  'بپذيريم': 1,\n",
              "  'پس': 2,\n",
              "  'تجربه': 5,\n",
              "  'بازگشت': 1,\n",
              "  'محتاطانه': 1,\n",
              "  'ارزشهايي': 1,\n",
              "  'روزگاري': 1,\n",
              "  'شروع': 1,\n",
              "  'اصرار': 1,\n",
              "  'ورزيد': 1,\n",
              "  'ترديد': 1,\n",
              "  'معناداري': 1,\n",
              "  'بگيريم': 1,\n",
              "  'انطباق': 1,\n",
              "  'رويكرد': 3,\n",
              "  'سنت': 4,\n",
              "  'مورد': 1,\n",
              "  'توجه': 2,\n",
              "  'خواستگاههاي': 2,\n",
              "  'سنتهايش': 2,\n",
              "  'رويكردش': 1,\n",
              "  'هنرش': 1,\n",
              "  'هيچگاه': 1,\n",
              "  'مانند': 1,\n",
              "  'جوامع': 2,\n",
              "  'نگذاشته': 1,\n",
              "  'افول': 1,\n",
              "  'عصري': 1,\n",
              "  'بدون': 1,\n",
              "  'تثبيت': 1,\n",
              "  'ساختار': 2,\n",
              "  'جديدي': 1,\n",
              "  'كارگزاران': 1,\n",
              "  'تفكر': 1,\n",
              "  'جديد': 5,\n",
              "  'پرورده': 1,\n",
              "  'شدگان': 1,\n",
              "  'فضايي': 1,\n",
              "  'قدرت': 1,\n",
              "  'تازه': 1,\n",
              "  'نوآوري': 1,\n",
              "  'ظهور': 1,\n",
              "  'تصوير': 1,\n",
              "  'كمي': 1,\n",
              "  'آنجا': 1,\n",
              "  'نوجويي': 2,\n",
              "  'ذاتي': 1,\n",
              "  'پنداشته': 1,\n",
              "  'طرد': 1,\n",
              "  'انداختن': 1,\n",
              "  'معني': 1,\n",
              "  'تلقي': 1,\n",
              "  'تفسير': 1,\n",
              "  'توجيه': 1,\n",
              "  'درحالي': 5,\n",
              "  'تلفيق': 1,\n",
              "  'ذااقه': 1,\n",
              "  'معنا': 1,\n",
              "  'يابد': 1,\n",
              "  'تامل': 1,\n",
              "  'نمونه': 1,\n",
              "  'سالهاي': 1,\n",
              "  'محصول': 1,\n",
              "  'يكي': 2,\n",
              "  'مقايسه': 1,\n",
              "  'نوگرا': 2,\n",
              "  'تمايز': 1,\n",
              "  'عدم': 1,\n",
              "  'هماهنگي': 1,\n",
              "  'علاوه': 1,\n",
              "  'قادريم': 1,\n",
              "  'اندازه': 1,\n",
              "  'رهسپار': 1,\n",
              "  'شويم': 3,\n",
              "  'ابهام': 1,\n",
              "  'ماند': 2,\n",
              "  'غربي': 1,\n",
              "  'ساعتهاي': 1,\n",
              "  'ناقصي': 1,\n",
              "  'بخواهيم': 2,\n",
              "  'شريك': 1,\n",
              "  'باز': 1,\n",
              "  'ارتباط': 1,\n",
              "  'داد': 1,\n",
              "  'يعني': 1,\n",
              "  'بشويم': 1,\n",
              "  'گوييم': 1,\n",
              "  'لفظ': 1,\n",
              "  'بيش': 1,\n",
              "  'اشاره': 1,\n",
              "  'گرايش': 1,\n",
              "  'اواخر': 1,\n",
              "  'نوزده': 1,\n",
              "  'اوايل': 1,\n",
              "  'بيستم': 1,\n",
              "  'داند': 1,\n",
              "  'جوان': 1,\n",
              "  'تجارب': 1,\n",
              "  'نسلهاي': 2,\n",
              "  'بگيرند': 1,\n",
              "  'سوي': 1,\n",
              "  'مرزها': 1,\n",
              "  'گيرد': 1,\n",
              "  'كاملا': 1,\n",
              "  'سو': 2,\n",
              "  'هست': 1,\n",
              "  'ويژگيهاي': 2,\n",
              "  'ميدان': 1,\n",
              "  'آمده': 1,\n",
              "  'گرفت': 1,\n",
              "  'نجات': 1,\n",
              "  'ميراث': 1,\n",
              "  'همراه': 1,\n",
              "  'موفقيت': 1,\n",
              "  'داشتن': 1,\n",
              "  'تشخصي': 1,\n",
              "  'ريشه': 1,\n",
              "  'ارزشها': 1,\n",
              "  'وگرنه': 1,\n",
              "  'ماشين': 1,\n",
              "  'همسان': 1,\n",
              "  'سازي': 1,\n",
              "  'تحت': 1,\n",
              "  'اراده': 1,\n",
              "  'چرخد': 1,\n",
              "  'حقيري': 1})"
            ]
          },
          "metadata": {},
          "execution_count": 160
        }
      ]
    },
    {
      "cell_type": "code",
      "source": [
        "import math\n",
        "def get_tf_idf(term,doc,term_doc,N):\n",
        "  idf = 0\n",
        "  if len(term_doc[term]) > 0: \n",
        "    idf = math.log(N / len(term_doc[term]) ,2)\n",
        "\n",
        "  tf = 0\n",
        "  if doc in term_doc[term]:\n",
        "    count = term_doc[term][doc]\n",
        "    if count > 0:\n",
        "      tf = 1 + math.log(count,10)\n",
        "  return tf * idf"
      ],
      "metadata": {
        "id": "n1p8I5MXxJ5a"
      },
      "execution_count": 161,
      "outputs": []
    },
    {
      "cell_type": "markdown",
      "source": [
        "### A)"
      ],
      "metadata": {
        "id": "ZpbXfh8rEYfM"
      }
    },
    {
      "cell_type": "code",
      "source": [
        "# computing weighted average of w2v vectors for documents of dataset\n",
        "def get_weighted_w2v_vectors(doc_words, w2v_model, term_doc, doc_num):\n",
        "  data_w2v_dic = {}\n",
        "\n",
        "  for doc in doc_words:\n",
        "    # doc [0] doc id\n",
        "    # doc [1] document\n",
        "    tf_idf_sum = 0\n",
        "    doc_vec_sum = 0\n",
        "\n",
        "    # tf_idf is weight of each word in a doc\n",
        "    # tf_idf(word,doc)  * w2v_model[word] / tf_idf\n",
        "\n",
        "    for word in doc[1]:\n",
        "      if word in w2v_model.wv.key_to_index:\n",
        "        doc_vec_sum += get_tf_idf(word, doc[0], term_doc, doc_num) * w2v_model.wv[word]\n",
        "        tf_idf_sum += get_tf_idf(word, doc[0], term_doc,doc_num)\n",
        "\n",
        "    data_w2v_dic[doc[0]] = doc_vec_sum / tf_idf_sum \n",
        "\n",
        "  return data_w2v_dic"
      ],
      "metadata": {
        "id": "I44yrY1py74I"
      },
      "execution_count": 162,
      "outputs": []
    },
    {
      "cell_type": "code",
      "source": [
        "# get train data word2vec vectors (weighted-average with TF-IDF)\n",
        "train_w2v_dic = get_weighted_w2v_vectors(train_list, model_w2v, term_doc_train, len(train_list))\n",
        "# get test data word2vec vectors (weighted-average with TF-IDF)\n",
        "test_w2v_dic = get_weighted_w2v_vectors(test_list, model_w2v, term_doc_test, len(test_list))"
      ],
      "metadata": {
        "id": "zQ0hTmPp8ZVc"
      },
      "execution_count": 163,
      "outputs": []
    },
    {
      "cell_type": "markdown",
      "source": [
        "### B)"
      ],
      "metadata": {
        "id": "gFEFMTyWEr5u"
      }
    },
    {
      "cell_type": "code",
      "source": [
        "def get_d2v_vectors(doc_words, d2v_model, data_type):\n",
        "  data_d2v_dic = {}\n",
        "  for doc in doc_words:\n",
        "    if data_type == 'train':\n",
        "      # creates vector for documents of unique tags\n",
        "      # train d2v vector\n",
        "      data_d2v_dic[doc[0]] = d2v_model.dv[doc[0]]\n",
        "    else:\n",
        "      # result the vector for a given new document\n",
        "      data_d2v_dic[doc[0]] = d2v_model.infer_vector(doc[1])\n",
        "  return data_d2v_dic\n"
      ],
      "metadata": {
        "id": "vM6akRzQEzJt"
      },
      "execution_count": 164,
      "outputs": []
    },
    {
      "cell_type": "code",
      "source": [
        "train_d2v_dic = get_d2v_vectors(train_list,model_d2v,'train')"
      ],
      "metadata": {
        "id": "Qn43ByYYHC1i"
      },
      "execution_count": 165,
      "outputs": []
    },
    {
      "cell_type": "code",
      "source": [
        "test_d2v_dic = get_d2v_vectors(test_list,model_d2v,'test')"
      ],
      "metadata": {
        "id": "ytzgL37UIRgR"
      },
      "execution_count": 166,
      "outputs": []
    },
    {
      "cell_type": "markdown",
      "source": [
        "## Question 3"
      ],
      "metadata": {
        "id": "waZ7j9RcRbqi"
      }
    },
    {
      "cell_type": "code",
      "source": [
        "from sklearn.metrics.pairwise import cosine_similarity"
      ],
      "metadata": {
        "id": "jTP_Vz9TT1th"
      },
      "execution_count": 167,
      "outputs": []
    },
    {
      "cell_type": "code",
      "source": [
        "docs = ['Doc443', 'Doc428', 'Doc635']"
      ],
      "metadata": {
        "id": "MzUJeF0fRdsl"
      },
      "execution_count": 168,
      "outputs": []
    },
    {
      "cell_type": "code",
      "source": [
        "def similarity(doc_name, train_dic, test_dic):\n",
        "  similarities = []\n",
        "  for id,doc in train_list:\n",
        "    similarities.append((id,cosine_similarity([train_dic[id]],[test_dic[doc_name]])[0][0]))\n",
        "  return sorted(similarities,key=lambda tup:tup[1],reverse=True)[0]"
      ],
      "metadata": {
        "id": "1G8HIL3jev_p"
      },
      "execution_count": 169,
      "outputs": []
    },
    {
      "cell_type": "code",
      "source": [
        "for doc in docs:\n",
        "  first_way = similarity(doc,train_w2v_dic,test_w2v_dic)\n",
        "  second_way = similarity(doc,train_d2v_dic,test_d2v_dic)\n",
        "  print(doc)\n",
        "  print(f'A) {first_way}')\n",
        "  print(f'B) {second_way}')\n",
        "  print('------')"
      ],
      "metadata": {
        "colab": {
          "base_uri": "https://localhost:8080/"
        },
        "id": "S5-Hxz9agcEs",
        "outputId": "31314a2b-e221-422d-db02-bf5a6fed1be6"
      },
      "execution_count": 170,
      "outputs": [
        {
          "output_type": "stream",
          "name": "stdout",
          "text": [
            "Doc443\n",
            "A) ('Doc595', 0.99278635)\n",
            "B) ('Doc415', 0.7380497)\n",
            "------\n",
            "Doc428\n",
            "A) ('Doc503', 0.9760588)\n",
            "B) ('Doc458', 0.63485336)\n",
            "------\n",
            "Doc635\n",
            "A) ('Doc194', 0.99241215)\n",
            "B) ('Doc194', 0.72730917)\n",
            "------\n"
          ]
        }
      ]
    },
    {
      "cell_type": "markdown",
      "source": [
        "## Question 4"
      ],
      "metadata": {
        "id": "ByyQKBYIigyX"
      }
    },
    {
      "cell_type": "code",
      "source": [
        "words = ['بهداشت','استقلال','رودخانه']\n",
        "for word in words:\n",
        "  print(word)\n",
        "  print(model_w2v.wv.most_similar(word)[:3])\n",
        "  print('------')"
      ],
      "metadata": {
        "colab": {
          "base_uri": "https://localhost:8080/"
        },
        "id": "qvRMET_FijmB",
        "outputId": "92fbd3bb-7927-4b2f-89d9-8d91daf55729"
      },
      "execution_count": 172,
      "outputs": [
        {
          "output_type": "stream",
          "name": "stdout",
          "text": [
            "بهداشت\n",
            "[('بهداشتي', 0.6947864890098572), ('پرستاران', 0.6687614321708679), ('باروري', 0.6680892109870911)]\n",
            "------\n",
            "استقلال\n",
            "[('پاس', 0.5536940693855286), ('سپاهان', 0.552954375743866), ('سپاسي', 0.5495162606239319)]\n",
            "------\n",
            "رودخانه\n",
            "[('درياچه', 0.7651989459991455), ('اترك', 0.7560311555862427), ('رودهاي', 0.7501093149185181)]\n",
            "------\n"
          ]
        }
      ]
    },
    {
      "cell_type": "markdown",
      "source": [
        "## Question 5"
      ],
      "metadata": {
        "id": "jq6zQlPzmDw3"
      }
    },
    {
      "cell_type": "code",
      "source": [
        "from sklearn.manifold import TSNE"
      ],
      "metadata": {
        "id": "P0G40U1fm0MY"
      },
      "execution_count": 179,
      "outputs": []
    },
    {
      "cell_type": "code",
      "source": [
        "import matplotlib.pyplot as plt"
      ],
      "metadata": {
        "id": "r1KLMLSWxW32"
      },
      "execution_count": 203,
      "outputs": []
    },
    {
      "cell_type": "code",
      "source": [
        "similar_10_vector = []\n",
        "for word in words:\n",
        "  print(word)\n",
        "  similar_10 = model_w2v.wv.most_similar(word)[:10]\n",
        "  for x in similar_10:\n",
        "    similar_10_vector.append(model_w2v.wv[x[0]])\n",
        "  similar_10_vector.append(model_w2v.wv[word])"
      ],
      "metadata": {
        "colab": {
          "base_uri": "https://localhost:8080/"
        },
        "id": "9Eo6AeZqvCI0",
        "outputId": "75e71862-9559-4035-f975-de183ff02f31"
      },
      "execution_count": 200,
      "outputs": [
        {
          "output_type": "stream",
          "name": "stdout",
          "text": [
            "بهداشت\n",
            "استقلال\n",
            "رودخانه\n"
          ]
        }
      ]
    },
    {
      "cell_type": "code",
      "source": [
        "X_embedded = TSNE(perplexity=10, n_components=2, init='pca', n_iter=3500, random_state=32).fit_transform(similar_10_vector)"
      ],
      "metadata": {
        "colab": {
          "base_uri": "https://localhost:8080/"
        },
        "id": "poxsRIWYw1k4",
        "outputId": "730c0efb-efc4-4ffd-f586-2ff1a21ee239"
      },
      "execution_count": 201,
      "outputs": [
        {
          "output_type": "stream",
          "name": "stderr",
          "text": [
            "/usr/local/lib/python3.7/dist-packages/sklearn/manifold/_t_sne.py:793: FutureWarning: The default learning rate in TSNE will change from 200.0 to 'auto' in 1.2.\n",
            "  FutureWarning,\n",
            "/usr/local/lib/python3.7/dist-packages/sklearn/manifold/_t_sne.py:986: FutureWarning: The PCA initialization in TSNE will change to have the standard deviation of PC1 equal to 1e-4 in 1.2. This will ensure better convergence.\n",
            "  FutureWarning,\n"
          ]
        }
      ]
    },
    {
      "cell_type": "code",
      "source": [
        "len(X_embedded)"
      ],
      "metadata": {
        "colab": {
          "base_uri": "https://localhost:8080/"
        },
        "id": "5XvLjPSmxx9m",
        "outputId": "9b305abf-c926-4369-c633-922fb61207d6"
      },
      "execution_count": 202,
      "outputs": [
        {
          "output_type": "execute_result",
          "data": {
            "text/plain": [
              "33"
            ]
          },
          "metadata": {},
          "execution_count": 202
        }
      ]
    },
    {
      "cell_type": "code",
      "source": [
        "plt.scatter(X_embedded[:11, 0], X_embedded[:11, 1], color='blue', label='behdasht')\n",
        "plt.scatter(X_embedded[11:22, 0], X_embedded[11:22, 1], color='red', label='esteghlal')\n",
        "plt.scatter(X_embedded[22:33, 0], X_embedded[22:33, 1], color='green', label='roodkhane')\n",
        "plt.legend()\n",
        "plt.show()"
      ],
      "metadata": {
        "colab": {
          "base_uri": "https://localhost:8080/",
          "height": 267
        },
        "id": "ng6WfIPSxVEn",
        "outputId": "93c898fd-f0d9-4d60-97f4-54eaa9c8d936"
      },
      "execution_count": 204,
      "outputs": [
        {
          "output_type": "display_data",
          "data": {
            "text/plain": [
              "<Figure size 432x288 with 1 Axes>"
            ],
            "image/png": "[encoded data removed]"
          },
          "metadata": {
            "needs_background": "light"
          }
        }
      ]
    }
  ]
}