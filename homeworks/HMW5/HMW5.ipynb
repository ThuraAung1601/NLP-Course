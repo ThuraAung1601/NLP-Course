{
  "nbformat": 4,
  "nbformat_minor": 0,
  "metadata": {
    "colab": {
      "provenance": [],
      "collapsed_sections": [],
      "machine_shape": "hm"
    },
    "kernelspec": {
      "name": "python3",
      "display_name": "Python 3"
    },
    "language_info": {
      "name": "python"
    },
    "accelerator": "GPU"
  },
  "cells": [
    {
      "cell_type": "markdown",
      "source": [
        "## HMW5"
      ],
      "metadata": {
        "id": "T31Qt5OGp2fP"
      }
    },
    {
      "cell_type": "code",
      "source": [
        "!gdown 17eLq5Ng5yfbX9tLq2tdiOdscO0ea8xK5\n",
        "!gdown 1Y-68UagW14hwJXNyaR2HnML5jEwvjQlj\n",
        "!gdown 1P_HLLvGq15gsgDl5P6QYrHkTlkcytMdr"
      ],
      "metadata": {
        "colab": {
          "base_uri": "https://localhost:8080/"
        },
        "id": "yFLUseJrp_31",
        "outputId": "aa525e49-28f1-4a74-8454-c087418b6678"
      },
      "execution_count": 1,
      "outputs": [
        {
          "output_type": "stream",
          "name": "stdout",
          "text": [
            "Downloading...\n",
            "From: https://drive.google.com/uc?id=17eLq5Ng5yfbX9tLq2tdiOdscO0ea8xK5\n",
            "To: /content/train.csv\n",
            "100% 951k/951k [00:00<00:00, 136MB/s]\n",
            "Downloading...\n",
            "From: https://drive.google.com/uc?id=1Y-68UagW14hwJXNyaR2HnML5jEwvjQlj\n",
            "To: /content/valid.csv\n",
            "100% 105k/105k [00:00<00:00, 68.0MB/s]\n",
            "Downloading...\n",
            "From: https://drive.google.com/uc?id=1P_HLLvGq15gsgDl5P6QYrHkTlkcytMdr\n",
            "To: /content/test.csv\n",
            "100% 444k/444k [00:00<00:00, 151MB/s]\n"
          ]
        }
      ]
    },
    {
      "cell_type": "code",
      "source": [
        "from google.colab import drive\n",
        "drive.mount('/drive')"
      ],
      "metadata": {
        "colab": {
          "base_uri": "https://localhost:8080/"
        },
        "id": "kh3Z0Ntr5v4P",
        "outputId": "5a010253-c83c-4f50-cc75-9b7a411830bc"
      },
      "execution_count": 2,
      "outputs": [
        {
          "output_type": "stream",
          "name": "stdout",
          "text": [
            "Drive already mounted at /drive; to attempt to forcibly remount, call drive.mount(\"/drive\", force_remount=True).\n"
          ]
        }
      ]
    },
    {
      "cell_type": "markdown",
      "source": [
        "### Question 1"
      ],
      "metadata": {
        "id": "j-aVC6Q4p7R_"
      }
    },
    {
      "cell_type": "markdown",
      "source": [
        "Steps \n",
        "*   Cleaning sentences\n",
        "*   Train Word2Vec model using cleaned sentences\n",
        "*   Tokenizing word to get sentences as sequence of numbers\n",
        "*   Padding sequences to make all sentences have same size\n",
        "*   Make weight matrix\n"
      ],
      "metadata": {
        "id": "M-c41CL6mXM-"
      }
    },
    {
      "cell_type": "code",
      "source": [
        "import pandas as pd\n",
        "import numpy as np"
      ],
      "metadata": {
        "id": "jtQNpRiTqTX9"
      },
      "execution_count": 3,
      "outputs": []
    },
    {
      "cell_type": "code",
      "execution_count": 4,
      "metadata": {
        "id": "3s05HqGKn-Um"
      },
      "outputs": [],
      "source": [
        "train_input = pd.read_csv('train.csv')\n",
        "val_input = pd.read_csv('valid.csv')\n",
        "test_input = pd.read_csv('test.csv')"
      ]
    },
    {
      "cell_type": "code",
      "source": [
        "def clean_sentence(input_sentence):\n",
        "  tokens = input_sentence.split(' ')\n",
        "  translation_table = str.maketrans('', '', \"\\\"#$%&'()*+,-/:;<=>?@[\\]^_`{|}~،؟!❊#$٪^&*)(ـ+=-؛:{}\")\n",
        "  tokens = [w.translate(translation_table) for w in tokens]\n",
        "  tokens = [word for word in tokens if word.isalpha()]\n",
        "  return tokens"
      ],
      "metadata": {
        "id": "WYuvlFV0UolH"
      },
      "execution_count": 5,
      "outputs": []
    },
    {
      "cell_type": "code",
      "source": [
        "def create_sentence(input_df):\n",
        "  sentences = []\n",
        "  for index,row in input_df.iterrows():\n",
        "    sentences.append(clean_sentence(row.sentence1))\n",
        "    sentences.append(clean_sentence(row.sentence2))\n",
        "  return sentences"
      ],
      "metadata": {
        "id": "QMrZ8VzXrGq9"
      },
      "execution_count": 6,
      "outputs": []
    },
    {
      "cell_type": "code",
      "source": [
        "train_sentences = create_sentence(train_input)\n",
        "test_sentences = create_sentence(test_input)\n",
        "valid_sentences = create_sentence(val_input)"
      ],
      "metadata": {
        "id": "_A2i_QSxaDaR"
      },
      "execution_count": 7,
      "outputs": []
    },
    {
      "cell_type": "code",
      "source": [
        "len(train_sentences)"
      ],
      "metadata": {
        "colab": {
          "base_uri": "https://localhost:8080/"
        },
        "id": "90iUUiH1ZEmU",
        "outputId": "cf7bee8b-e3d7-43e5-ebfd-ffb8da65de33"
      },
      "execution_count": 8,
      "outputs": [
        {
          "output_type": "execute_result",
          "data": {
            "text/plain": [
              "7338"
            ]
          },
          "metadata": {},
          "execution_count": 8
        }
      ]
    },
    {
      "cell_type": "code",
      "source": [
        "from gensim.models import Word2Vec"
      ],
      "metadata": {
        "id": "EQsVXxLGnTzP"
      },
      "execution_count": 9,
      "outputs": []
    },
    {
      "cell_type": "code",
      "source": [
        "model = Word2Vec(sentences=train_sentences, size=300, window=5, min_count=1, workers=4,sg=1)"
      ],
      "metadata": {
        "id": "wNYk_e8esC65"
      },
      "execution_count": 10,
      "outputs": []
    },
    {
      "cell_type": "code",
      "source": [
        "model.save('train_w2v.model')"
      ],
      "metadata": {
        "id": "USn-uu0OstSd"
      },
      "execution_count": 11,
      "outputs": []
    },
    {
      "cell_type": "code",
      "source": [
        "from tensorflow.keras.preprocessing.text import Tokenizer"
      ],
      "metadata": {
        "id": "lfnwnWLUa4q8"
      },
      "execution_count": 12,
      "outputs": []
    },
    {
      "cell_type": "markdown",
      "source": [
        "1. fit_on_texts: Updates internal vocabulary based on a list of texts. This method \n",
        "creates the vocabulary index based on word frequency. So if you give it something like, \"The cat sat on the mat.\" It will create a dictionary s.t. word_index[\"the\"] = 1; word_index[\"cat\"] = 2 it is word -> index dictionary so every word gets a unique integer value. 0 is reserved for padding. So lower integer means more frequent word (often the first few are stop words because they appear a lot).\n",
        "\n",
        "2. texts_to_sequences Transforms each text in texts to a sequence of integers. So it basically takes each word in the text and replaces it with its corresponding integer value from the word_index dictionary. Nothing more, nothing less, certainly no magic involved.\n",
        "\n",
        "\n",
        "Why don't combine them? Because you almost always fit once and convert to sequences many times. You will fit on your training corpus once and use that exact same word_index dictionary at train / eval / testing / prediction time to convert actual text into sequences to feed them to the network. So it makes sense to keep those methods separate."
      ],
      "metadata": {
        "id": "NL36ugydb9cS"
      }
    },
    {
      "cell_type": "code",
      "source": [
        "tokenizer = Tokenizer()\n",
        "tokenizer.fit_on_texts(train_sentences)\n",
        "\n",
        "train_tokens = tokenizer.texts_to_sequences(train_sentences)\n",
        "test_tokens = tokenizer.texts_to_sequences(test_sentences)\n",
        "valid_tokens = tokenizer.texts_to_sequences(valid_sentences)"
      ],
      "metadata": {
        "id": "T5Z8-0wabVpW"
      },
      "execution_count": 13,
      "outputs": []
    },
    {
      "cell_type": "code",
      "source": [
        "train_tokens[:3]"
      ],
      "metadata": {
        "colab": {
          "base_uri": "https://localhost:8080/"
        },
        "id": "zkXLP8LUfBqC",
        "outputId": "9ff4d0c6-562f-4743-d504-b8db2027821e"
      },
      "execution_count": 14,
      "outputs": [
        {
          "output_type": "execute_result",
          "data": {
            "text/plain": [
              "[[1276, 400, 27, 1701, 1105, 15, 196, 1, 768, 3, 3321, 5314, 27],\n",
              " [1524, 2, 137, 21, 72, 1, 768, 1276, 400, 27, 1701, 3, 3321, 5314, 27],\n",
              " [5315, 1525, 5316, 99, 1702, 1, 2160, 2, 3322, 4, 9]]"
            ]
          },
          "metadata": {},
          "execution_count": 14
        }
      ]
    },
    {
      "cell_type": "code",
      "source": [
        "from google.colab import drive\n",
        "drive.mount('/content/drive')"
      ],
      "metadata": {
        "colab": {
          "base_uri": "https://localhost:8080/"
        },
        "id": "R-K1QjUFUDnW",
        "outputId": "34dcf355-0849-4741-fdd4-dd41049c8a64"
      },
      "execution_count": 15,
      "outputs": [
        {
          "output_type": "stream",
          "name": "stdout",
          "text": [
            "Mounted at /content/drive\n"
          ]
        }
      ]
    },
    {
      "cell_type": "code",
      "source": [
        "from tensorflow.keras.preprocessing.sequence import pad_sequences"
      ],
      "metadata": {
        "id": "zRbcHoCZdryI"
      },
      "execution_count": 16,
      "outputs": []
    },
    {
      "cell_type": "markdown",
      "source": [
        "pad_sequences is used to ensure that all sequences in a list have the same length. By default this is done by padding 0 in the beginning of each sequence until each sequence has the same length as the longest sequence."
      ],
      "metadata": {
        "id": "wBMqELWpdn_J"
      }
    },
    {
      "cell_type": "code",
      "source": [
        "max_length = max([len(x) for x in train_tokens])"
      ],
      "metadata": {
        "id": "8MPI4Hohf49L"
      },
      "execution_count": 17,
      "outputs": []
    },
    {
      "cell_type": "code",
      "source": [
        "max_length"
      ],
      "metadata": {
        "colab": {
          "base_uri": "https://localhost:8080/"
        },
        "id": "FjrTUFKJgXyy",
        "outputId": "ff9a8549-2883-4bad-b38f-91e4c4e1b836"
      },
      "execution_count": 18,
      "outputs": [
        {
          "output_type": "execute_result",
          "data": {
            "text/plain": [
              "29"
            ]
          },
          "metadata": {},
          "execution_count": 18
        }
      ]
    },
    {
      "cell_type": "code",
      "source": [
        "MAX_SEQ_LENGTH = 30"
      ],
      "metadata": {
        "id": "t89d4OQUef4q"
      },
      "execution_count": 19,
      "outputs": []
    },
    {
      "cell_type": "code",
      "source": [
        "train_sequences = pad_sequences(train_tokens, maxlen=MAX_SEQ_LENGTH, padding='post')\n",
        "valid_sequences = pad_sequences(valid_tokens, maxlen=MAX_SEQ_LENGTH, padding='post')\n",
        "test_sequences = pad_sequences(test_tokens, maxlen=MAX_SEQ_LENGTH, padding='post')"
      ],
      "metadata": {
        "id": "vLDvI6sEcrjw"
      },
      "execution_count": 20,
      "outputs": []
    },
    {
      "cell_type": "code",
      "source": [
        "def get_weight_matrix(word2vec, vocab_size, vocab):\n",
        "    weight_matrix = np.zeros((vocab_size, 300))\n",
        "    for word, i in vocab.items():\n",
        "      try:\n",
        "        weight_matrix[i] = word2vec[word]\n",
        "      except KeyError:\n",
        "        continue\n",
        "    return weight_matrix"
      ],
      "metadata": {
        "id": "jxTs73z5k4HT"
      },
      "execution_count": 21,
      "outputs": []
    },
    {
      "cell_type": "code",
      "source": [
        "weight_matrix = get_weight_matrix(model, len(tokenizer.word_index)+1, tokenizer.word_index)"
      ],
      "metadata": {
        "colab": {
          "base_uri": "https://localhost:8080/"
        },
        "id": "X6F-jyizivhf",
        "outputId": "5a319f2b-986e-4106-d8c5-136f28b465d7"
      },
      "execution_count": 22,
      "outputs": [
        {
          "output_type": "stream",
          "name": "stderr",
          "text": [
            "/usr/local/lib/python3.7/dist-packages/ipykernel_launcher.py:5: DeprecationWarning: Call to deprecated `__getitem__` (Method will be removed in 4.0.0, use self.wv.__getitem__() instead).\n",
            "  \"\"\"\n"
          ]
        }
      ]
    },
    {
      "cell_type": "markdown",
      "source": [
        "split sentences because our model has two inputs."
      ],
      "metadata": {
        "id": "_W5qYzH-mO6y"
      }
    },
    {
      "cell_type": "code",
      "source": [
        "train_sent1_seq = train_sequences[:len(train_input)]\n",
        "train_sent2_seq = train_sequences[len(train_input): len(train_input) * 2]\n",
        "val_sent1_seq = valid_sequences[:len(val_input)]\n",
        "val_sent2_seq = valid_sequences[len(val_input):len(val_input) * 2]\n",
        "test_sent1_seq = test_sequences[:len(test_input)]\n",
        "test_sent2_seq = test_sequences[len(test_input): len(test_input) * 2]"
      ],
      "metadata": {
        "id": "Ib2-98HjgnOb"
      },
      "execution_count": 23,
      "outputs": []
    },
    {
      "cell_type": "code",
      "source": [
        "y_train = np.array(train_input['label'].tolist()).reshape((-1,1))\n",
        "y_valid = np.array(val_input['label'].tolist()).reshape((-1,1))\n",
        "y_test = np.array(test_input['label'].tolist()).reshape((-1,1))"
      ],
      "metadata": {
        "id": "kYk2mILQ3CR5"
      },
      "execution_count": 24,
      "outputs": []
    },
    {
      "cell_type": "markdown",
      "source": [
        "### Question 2 "
      ],
      "metadata": {
        "id": "3lFgD_dQtPqm"
      }
    },
    {
      "cell_type": "code",
      "source": [
        "import tensorflow as tf\n",
        "from tensorflow.keras.layers import Dense, Embedding, Bidirectional, LSTM, GRU, Concatenate, Flatten, Dropout, Input\n",
        "from tensorflow.keras.models import Sequential,Model\n",
        "from tensorflow.keras.layers import Layer\n",
        "from tensorflow.keras import backend as K\n",
        "from tensorflow.keras.metrics import Recall, Precision"
      ],
      "metadata": {
        "id": "a1djhtKYtRa0"
      },
      "execution_count": 25,
      "outputs": []
    },
    {
      "cell_type": "code",
      "source": [
        "vocab_size = len(tokenizer.word_index) + 1\n",
        "embed_size = 300\n",
        "MAX_SEQ_LENGTH = 30"
      ],
      "metadata": {
        "id": "jxeav9x1rFLv"
      },
      "execution_count": 26,
      "outputs": []
    },
    {
      "cell_type": "code",
      "source": [
        "class attention(Layer):\n",
        "    def __init__(self, **kwargs):\n",
        "        super(attention, self).__init__(**kwargs)\n",
        "\n",
        "    def build(self, input_shape):\n",
        "\n",
        "        self.W = self.add_weight(name=\"attention_weight\", shape=(input_shape[-1], 1), initializer=\"normal\")\n",
        "        self.b = self.add_weight(name=\"attention_bias\", shape=(input_shape[1], 1), initializer=\"zeros\")      \n",
        "\n",
        "        super(attention, self).build(input_shape)\n",
        "\n",
        "    def call(self, x):\n",
        "\n",
        "        et = K.squeeze(K.tanh(K.dot(x, self.W) + self.b), axis=-1)\n",
        "        at = K.softmax(et)\n",
        "        at = K.expand_dims(at, axis=-1)\n",
        "        output = x * at\n",
        "        # return K.sum(output, axis=1)\n",
        "        return output\n",
        "\n",
        "    def compute_output_shape(self, input_shape):\n",
        "        return (input_shape[0], input_shape[-1])"
      ],
      "metadata": {
        "id": "mJtvhonRwL49"
      },
      "execution_count": 27,
      "outputs": []
    },
    {
      "cell_type": "code",
      "source": [
        "def create_model():\n",
        "\n",
        "  # mask_zero=True for the Embedding layer does not result in returning a zero vector.it would return the embedding vector with index zero. \n",
        "  embedding_layer = Embedding(vocab_size, embed_size, input_length = MAX_SEQ_LENGTH, weights = [weight_matrix], mask_zero = True, name='Embeddinglayer')\n",
        "  bilstm_layer = Bidirectional(LSTM(embed_size, dropout = 0.2,activation='tanh',return_sequences=True, recurrent_dropout=0.5))\n",
        "  attention_layer = attention()\n",
        "\n",
        "  # sentence1\n",
        "  sent1_input = Input(shape=(MAX_SEQ_LENGTH,), name='sentence1')\n",
        "  sent1_emb = embedding_layer(sent1_input)\n",
        "  sent1_bilstm = bilstm_layer(sent1_emb)\n",
        "  sent1_att = attention_layer(sent1_bilstm)\n",
        "\n",
        "  # sentence2\n",
        "  sent2_input = Input(shape=(MAX_SEQ_LENGTH,), name='sentence2')\n",
        "  sent2_emb = embedding_layer(sent2_input)\n",
        "  sent2_bilstm = bilstm_layer(sent2_emb)\n",
        "  sent2_att = attention_layer(sent2_bilstm)\n",
        "\n",
        "  # concating two sentences\n",
        "  concat_layer = Concatenate(name='concatenate', axis=1)([sent1_att, sent2_att])\n",
        "  flatten = Flatten()(concat_layer)\n",
        "\n",
        "  # desne layers\n",
        "  drop_layer1 = Dropout(0.2,name='Dropout1')(flatten)\n",
        "  dense_layer1 = Dense(128, activation='relu', name='DenseLayer1')(drop_layer1)\n",
        "  dense_layer2 = Dense(64, activation='relu', name='DenseLayer2')(dense_layer1)\n",
        "  dense_layer3 = Dense(32, activation='relu', name='DenseLayer3')(dense_layer2)\n",
        "  drop_layer2 = Dropout(0.2,name='Dropout2')(dense_layer3)\n",
        "\n",
        "  output = Dense(1, activation='sigmoid', name='OutputLayer')(drop_layer2)\n",
        "\n",
        "  model = Model([sent1_input, sent2_input], output)\n",
        "\n",
        "  model.compile(optimizer='adam', loss='binary_crossentropy', metrics=['accuracy', Recall(), Precision()])\n",
        "\n",
        "  return model"
      ],
      "metadata": {
        "id": "2YalcxSqqsNe"
      },
      "execution_count": 28,
      "outputs": []
    },
    {
      "cell_type": "code",
      "source": [
        "bilstm_model = create_model()\n",
        "bilstm_model.summary()"
      ],
      "metadata": {
        "colab": {
          "base_uri": "https://localhost:8080/"
        },
        "id": "OUt7HNnqzBHA",
        "outputId": "1edc03f4-fa61-4f0a-9b52-becb5b52f793"
      },
      "execution_count": 29,
      "outputs": [
        {
          "output_type": "stream",
          "name": "stderr",
          "text": [
            "WARNING:tensorflow:Layer lstm will not use cuDNN kernels since it doesn't meet the criteria. It will use a generic GPU kernel as fallback when running on GPU.\n",
            "WARNING:tensorflow:Layer lstm will not use cuDNN kernels since it doesn't meet the criteria. It will use a generic GPU kernel as fallback when running on GPU.\n",
            "WARNING:tensorflow:Layer lstm will not use cuDNN kernels since it doesn't meet the criteria. It will use a generic GPU kernel as fallback when running on GPU.\n"
          ]
        },
        {
          "output_type": "stream",
          "name": "stdout",
          "text": [
            "Model: \"model\"\n",
            "__________________________________________________________________________________________________\n",
            " Layer (type)                   Output Shape         Param #     Connected to                     \n",
            "==================================================================================================\n",
            " sentence1 (InputLayer)         [(None, 30)]         0           []                               \n",
            "                                                                                                  \n",
            " sentence2 (InputLayer)         [(None, 30)]         0           []                               \n",
            "                                                                                                  \n",
            " Embeddinglayer (Embedding)     (None, 30, 300)      3605100     ['sentence1[0][0]',              \n",
            "                                                                  'sentence2[0][0]']              \n",
            "                                                                                                  \n",
            " bidirectional (Bidirectional)  (None, 30, 600)      1442400     ['Embeddinglayer[0][0]',         \n",
            "                                                                  'Embeddinglayer[1][0]']         \n",
            "                                                                                                  \n",
            " attention (attention)          (None, 30, 600)      630         ['bidirectional[0][0]',          \n",
            "                                                                  'bidirectional[1][0]']          \n",
            "                                                                                                  \n",
            " concatenate (Concatenate)      (None, 60, 600)      0           ['attention[0][0]',              \n",
            "                                                                  'attention[1][0]']              \n",
            "                                                                                                  \n",
            " flatten (Flatten)              (None, 36000)        0           ['concatenate[0][0]']            \n",
            "                                                                                                  \n",
            " Dropout1 (Dropout)             (None, 36000)        0           ['flatten[0][0]']                \n",
            "                                                                                                  \n",
            " DenseLayer1 (Dense)            (None, 128)          4608128     ['Dropout1[0][0]']               \n",
            "                                                                                                  \n",
            " DenseLayer2 (Dense)            (None, 64)           8256        ['DenseLayer1[0][0]']            \n",
            "                                                                                                  \n",
            " DenseLayer3 (Dense)            (None, 32)           2080        ['DenseLayer2[0][0]']            \n",
            "                                                                                                  \n",
            " Dropout2 (Dropout)             (None, 32)           0           ['DenseLayer3[0][0]']            \n",
            "                                                                                                  \n",
            " OutputLayer (Dense)            (None, 1)            33          ['Dropout2[0][0]']               \n",
            "                                                                                                  \n",
            "==================================================================================================\n",
            "Total params: 9,666,627\n",
            "Trainable params: 9,666,627\n",
            "Non-trainable params: 0\n",
            "__________________________________________________________________________________________________\n"
          ]
        }
      ]
    },
    {
      "cell_type": "code",
      "source": [
        "from tensorflow.keras.callbacks import ModelCheckpoint"
      ],
      "metadata": {
        "id": "rqdvp-BJ31qw"
      },
      "execution_count": 30,
      "outputs": []
    },
    {
      "cell_type": "code",
      "source": [
        "checkpoint_path = '/content/drive/MyDrive/model_bilstm_hw5-{epoch:03d}-{val_accuracy:03f}.ckpt'\n",
        "\n",
        "cp_callback = ModelCheckpoint(filepath=checkpoint_path, monitor = 'val_accuracy', mode = 'max', save_best_only=True)"
      ],
      "metadata": {
        "id": "l_sUmTWi2iWq"
      },
      "execution_count": 33,
      "outputs": []
    },
    {
      "cell_type": "code",
      "source": [
        "bilstm_history = bilstm_model.fit([train_sent1_seq, train_sent2_seq], y_train,\n",
        "                    epochs=30,\n",
        "                    validation_data=([val_sent1_seq, val_sent2_seq], y_valid),\n",
        "                    batch_size=128,\n",
        "                    callbacks=[cp_callback])"
      ],
      "metadata": {
        "colab": {
          "base_uri": "https://localhost:8080/"
        },
        "id": "kjaWH2QO2hPB",
        "outputId": "d2be9f0b-fcf6-4b78-d248-fc4ca5c31e77"
      },
      "execution_count": 34,
      "outputs": [
        {
          "output_type": "stream",
          "name": "stdout",
          "text": [
            "Epoch 1/30\n",
            "29/29 [==============================] - 26s 917ms/step - loss: 0.6335 - accuracy: 0.6708 - recall: 1.0000 - precision: 0.6708 - val_loss: 0.6013 - val_accuracy: 0.7174 - val_recall: 1.0000 - val_precision: 0.7174\n",
            "Epoch 2/30\n",
            "29/29 [==============================] - 14s 487ms/step - loss: 0.6262 - accuracy: 0.6708 - recall: 1.0000 - precision: 0.6708 - val_loss: 0.6148 - val_accuracy: 0.7174 - val_recall: 1.0000 - val_precision: 0.7174\n",
            "Epoch 3/30\n",
            "29/29 [==============================] - 14s 475ms/step - loss: 0.6194 - accuracy: 0.6667 - recall: 0.9659 - precision: 0.6761 - val_loss: 0.6051 - val_accuracy: 0.7174 - val_recall: 1.0000 - val_precision: 0.7174\n",
            "Epoch 4/30\n",
            "29/29 [==============================] - 14s 481ms/step - loss: 0.5233 - accuracy: 0.7375 - recall: 0.9065 - precision: 0.7527 - val_loss: 0.7129 - val_accuracy: 0.7076 - val_recall: 0.9726 - val_precision: 0.7190\n",
            "Epoch 5/30\n",
            "29/29 [==============================] - 14s 484ms/step - loss: 0.3581 - accuracy: 0.8441 - recall: 0.8972 - precision: 0.8738 - val_loss: 0.8375 - val_accuracy: 0.6757 - val_recall: 0.9178 - val_precision: 0.7128\n",
            "Epoch 6/30\n",
            "29/29 [==============================] - 14s 479ms/step - loss: 0.2010 - accuracy: 0.9259 - recall: 0.9464 - precision: 0.9433 - val_loss: 1.1736 - val_accuracy: 0.6093 - val_recall: 0.7603 - val_precision: 0.7138\n",
            "Epoch 7/30\n",
            "29/29 [==============================] - 14s 484ms/step - loss: 0.0940 - accuracy: 0.9717 - recall: 0.9748 - precision: 0.9828 - val_loss: 1.5038 - val_accuracy: 0.6167 - val_recall: 0.7911 - val_precision: 0.7086\n",
            "Epoch 8/30\n",
            "29/29 [==============================] - 14s 476ms/step - loss: 0.0503 - accuracy: 0.9831 - recall: 0.9858 - precision: 0.9890 - val_loss: 1.6789 - val_accuracy: 0.5553 - val_recall: 0.6370 - val_precision: 0.7126\n",
            "Epoch 9/30\n",
            "29/29 [==============================] - 14s 482ms/step - loss: 0.0254 - accuracy: 0.9935 - recall: 0.9939 - precision: 0.9963 - val_loss: 2.2989 - val_accuracy: 0.5528 - val_recall: 0.6233 - val_precision: 0.7165\n",
            "Epoch 10/30\n",
            "29/29 [==============================] - 16s 540ms/step - loss: 0.0232 - accuracy: 0.9935 - recall: 0.9943 - precision: 0.9959 - val_loss: 2.1492 - val_accuracy: 0.5848 - val_recall: 0.7158 - val_precision: 0.7085\n",
            "Epoch 11/30\n",
            "29/29 [==============================] - 14s 479ms/step - loss: 0.0109 - accuracy: 0.9975 - recall: 0.9980 - precision: 0.9984 - val_loss: 2.7404 - val_accuracy: 0.5553 - val_recall: 0.6301 - val_precision: 0.7160\n",
            "Epoch 12/30\n",
            "29/29 [==============================] - 14s 469ms/step - loss: 0.0103 - accuracy: 0.9975 - recall: 0.9984 - precision: 0.9980 - val_loss: 2.7622 - val_accuracy: 0.5209 - val_recall: 0.5445 - val_precision: 0.7195\n",
            "Epoch 13/30\n",
            "29/29 [==============================] - 14s 472ms/step - loss: 0.0092 - accuracy: 0.9978 - recall: 0.9984 - precision: 0.9984 - val_loss: 2.4491 - val_accuracy: 0.5749 - val_recall: 0.6884 - val_precision: 0.7102\n",
            "Epoch 14/30\n",
            "29/29 [==============================] - 14s 470ms/step - loss: 0.0069 - accuracy: 0.9981 - recall: 0.9988 - precision: 0.9984 - val_loss: 3.0439 - val_accuracy: 0.5061 - val_recall: 0.5308 - val_precision: 0.7078\n",
            "Epoch 15/30\n",
            "29/29 [==============================] - 14s 483ms/step - loss: 0.0114 - accuracy: 0.9967 - recall: 0.9972 - precision: 0.9980 - val_loss: 2.3359 - val_accuracy: 0.5848 - val_recall: 0.6986 - val_precision: 0.7158\n",
            "Epoch 16/30\n",
            "29/29 [==============================] - 14s 480ms/step - loss: 0.0022 - accuracy: 1.0000 - recall: 1.0000 - precision: 1.0000 - val_loss: 2.9210 - val_accuracy: 0.5823 - val_recall: 0.6918 - val_precision: 0.7163\n",
            "Epoch 17/30\n",
            "29/29 [==============================] - 14s 477ms/step - loss: 0.0039 - accuracy: 0.9986 - recall: 0.9988 - precision: 0.9992 - val_loss: 2.8654 - val_accuracy: 0.5848 - val_recall: 0.7260 - val_precision: 0.7043\n",
            "Epoch 18/30\n",
            "29/29 [==============================] - 14s 474ms/step - loss: 0.0117 - accuracy: 0.9965 - recall: 0.9980 - precision: 0.9968 - val_loss: 2.6234 - val_accuracy: 0.5823 - val_recall: 0.6747 - val_precision: 0.7243\n",
            "Epoch 19/30\n",
            "29/29 [==============================] - 14s 479ms/step - loss: 0.0084 - accuracy: 0.9970 - recall: 0.9976 - precision: 0.9980 - val_loss: 2.8087 - val_accuracy: 0.6143 - val_recall: 0.7534 - val_precision: 0.7213\n",
            "Epoch 20/30\n",
            "29/29 [==============================] - 14s 474ms/step - loss: 0.0126 - accuracy: 0.9973 - recall: 0.9984 - precision: 0.9976 - val_loss: 2.7367 - val_accuracy: 0.6143 - val_recall: 0.7397 - val_precision: 0.7273\n",
            "Epoch 21/30\n",
            "29/29 [==============================] - 14s 476ms/step - loss: 0.0049 - accuracy: 0.9992 - recall: 0.9996 - precision: 0.9992 - val_loss: 2.5316 - val_accuracy: 0.5700 - val_recall: 0.6678 - val_precision: 0.7143\n",
            "Epoch 22/30\n",
            "29/29 [==============================] - 14s 470ms/step - loss: 0.0032 - accuracy: 0.9997 - recall: 1.0000 - precision: 0.9996 - val_loss: 3.3247 - val_accuracy: 0.5430 - val_recall: 0.5753 - val_precision: 0.7304\n",
            "Epoch 23/30\n",
            "29/29 [==============================] - 14s 472ms/step - loss: 0.0015 - accuracy: 0.9997 - recall: 0.9996 - precision: 1.0000 - val_loss: 3.0202 - val_accuracy: 0.5971 - val_recall: 0.7226 - val_precision: 0.7177\n",
            "Epoch 24/30\n",
            "29/29 [==============================] - 14s 472ms/step - loss: 0.0091 - accuracy: 0.9959 - recall: 0.9972 - precision: 0.9968 - val_loss: 3.0595 - val_accuracy: 0.5307 - val_recall: 0.5514 - val_precision: 0.7285\n",
            "Epoch 25/30\n",
            "29/29 [==============================] - 14s 468ms/step - loss: 0.0034 - accuracy: 0.9989 - recall: 0.9988 - precision: 0.9996 - val_loss: 2.9649 - val_accuracy: 0.5725 - val_recall: 0.6404 - val_precision: 0.7305\n",
            "Epoch 26/30\n",
            "29/29 [==============================] - 14s 475ms/step - loss: 0.0034 - accuracy: 0.9992 - recall: 0.9996 - precision: 0.9992 - val_loss: 2.9501 - val_accuracy: 0.5995 - val_recall: 0.6952 - val_precision: 0.7329\n",
            "Epoch 27/30\n",
            "29/29 [==============================] - 14s 480ms/step - loss: 0.0027 - accuracy: 0.9997 - recall: 0.9996 - precision: 1.0000 - val_loss: 2.9340 - val_accuracy: 0.6044 - val_recall: 0.7397 - val_precision: 0.7176\n",
            "Epoch 28/30\n",
            "29/29 [==============================] - 14s 478ms/step - loss: 0.0013 - accuracy: 0.9997 - recall: 0.9996 - precision: 1.0000 - val_loss: 3.0018 - val_accuracy: 0.6044 - val_recall: 0.7055 - val_precision: 0.7331\n",
            "Epoch 29/30\n",
            "29/29 [==============================] - 14s 476ms/step - loss: 3.5824e-04 - accuracy: 1.0000 - recall: 1.0000 - precision: 1.0000 - val_loss: 3.2233 - val_accuracy: 0.5872 - val_recall: 0.6678 - val_precision: 0.7331\n",
            "Epoch 30/30\n",
            "29/29 [==============================] - 14s 476ms/step - loss: 1.7855e-04 - accuracy: 1.0000 - recall: 1.0000 - precision: 1.0000 - val_loss: 3.3230 - val_accuracy: 0.6020 - val_recall: 0.7021 - val_precision: 0.7321\n"
          ]
        }
      ]
    },
    {
      "cell_type": "code",
      "source": [
        "import matplotlib.pyplot as plt"
      ],
      "metadata": {
        "id": "HM7QCbiq4oOd"
      },
      "execution_count": 35,
      "outputs": []
    },
    {
      "cell_type": "code",
      "source": [
        "plt.style.use('ggplot')\n",
        "\n",
        "def plot_history(history):\n",
        "    acc = history.history['accuracy']\n",
        "    val_acc = history.history['val_accuracy']\n",
        "    loss = history.history['loss']\n",
        "    val_loss = history.history['val_loss']\n",
        "    x = range(1, len(acc) + 1)\n",
        "\n",
        "    plt.figure(figsize=(12, 5))\n",
        "    plt.subplot(1, 2, 1)\n",
        "    plt.plot(x, acc, 'b', label='Training acc')\n",
        "    plt.plot(x, val_acc, 'r', label='Validation acc')\n",
        "    plt.title('Training and validation accuracy')\n",
        "    plt.legend()\n",
        "    plt.subplot(1, 2, 2)\n",
        "    plt.plot(x, loss, 'b', label='Training loss')\n",
        "    plt.plot(x, val_loss, 'r', label='Validation loss')\n",
        "    plt.title('Training and validation loss')\n",
        "    plt.legend()"
      ],
      "metadata": {
        "id": "xi0vmtJd4mRo"
      },
      "execution_count": 36,
      "outputs": []
    },
    {
      "cell_type": "code",
      "source": [
        "plot_history(bilstm_history)"
      ],
      "metadata": {
        "colab": {
          "base_uri": "https://localhost:8080/",
          "height": 337
        },
        "id": "CP0ABDZELQW3",
        "outputId": "72a7f769-5819-4f5f-9f48-ff10be6a0d19"
      },
      "execution_count": 37,
      "outputs": [
        {
          "output_type": "display_data",
          "data": {
            "text/plain": [
              "<Figure size 864x360 with 2 Axes>"
            ],
            "image/png": "[encoded data removed]"
          },
          "metadata": {}
        }
      ]
    },
    {
      "cell_type": "code",
      "source": [
        "from keras.models import load_model\n",
        "bilstm_model = load_model('/content/drive/MyDrive/model_bilstm_hw5-001-0.717445.ckpt')"
      ],
      "metadata": {
        "colab": {
          "base_uri": "https://localhost:8080/"
        },
        "id": "faNz6pA05K0N",
        "outputId": "0ce73737-c7f6-4cb7-c105-6014712c8cb7"
      },
      "execution_count": 39,
      "outputs": [
        {
          "output_type": "stream",
          "name": "stderr",
          "text": [
            "WARNING:tensorflow:Layer lstm will not use cuDNN kernels since it doesn't meet the criteria. It will use a generic GPU kernel as fallback when running on GPU.\n",
            "WARNING:tensorflow:Layer lstm will not use cuDNN kernels since it doesn't meet the criteria. It will use a generic GPU kernel as fallback when running on GPU.\n",
            "WARNING:tensorflow:Layer lstm will not use cuDNN kernels since it doesn't meet the criteria. It will use a generic GPU kernel as fallback when running on GPU.\n"
          ]
        }
      ]
    },
    {
      "cell_type": "code",
      "source": [
        "bilstm_model.evaluate([test_sent1_seq, test_sent2_seq], y_test)\n",
        "bilstm_preds = bilstm_model.predict([test_sent1_seq, test_sent2_seq])"
      ],
      "metadata": {
        "colab": {
          "base_uri": "https://localhost:8080/"
        },
        "id": "9NhYvzAk5NGq",
        "outputId": "ca1a6db0-8df8-4e9f-c40e-c32a0ad28ae8"
      },
      "execution_count": 40,
      "outputs": [
        {
          "output_type": "stream",
          "name": "stdout",
          "text": [
            "54/54 [==============================] - 5s 71ms/step - loss: 0.6384 - accuracy: 0.6649 - recall: 1.0000 - precision: 0.6649\n",
            "54/54 [==============================] - 5s 76ms/step\n"
          ]
        }
      ]
    },
    {
      "cell_type": "code",
      "source": [
        "from sklearn.metrics import classification_report"
      ],
      "metadata": {
        "id": "0bvaW1jh6N6y"
      },
      "execution_count": 41,
      "outputs": []
    },
    {
      "cell_type": "code",
      "source": [
        "y_bilstm_pred = np.where(bilstm_preds > 0.5, 1, 0)\n",
        "print(classification_report(y_test, y_bilstm_pred, labels=[0,1]))"
      ],
      "metadata": {
        "colab": {
          "base_uri": "https://localhost:8080/"
        },
        "id": "bCi814F86PFz",
        "outputId": "b0fec2e7-d05d-47f8-d4ed-736bfaea5276"
      },
      "execution_count": 42,
      "outputs": [
        {
          "output_type": "stream",
          "name": "stdout",
          "text": [
            "              precision    recall  f1-score   support\n",
            "\n",
            "           0       0.00      0.00      0.00       578\n",
            "           1       0.66      1.00      0.80      1147\n",
            "\n",
            "    accuracy                           0.66      1725\n",
            "   macro avg       0.33      0.50      0.40      1725\n",
            "weighted avg       0.44      0.66      0.53      1725\n",
            "\n"
          ]
        },
        {
          "output_type": "stream",
          "name": "stderr",
          "text": [
            "/usr/local/lib/python3.7/dist-packages/sklearn/metrics/_classification.py:1318: UndefinedMetricWarning: Precision and F-score are ill-defined and being set to 0.0 in labels with no predicted samples. Use `zero_division` parameter to control this behavior.\n",
            "  _warn_prf(average, modifier, msg_start, len(result))\n",
            "/usr/local/lib/python3.7/dist-packages/sklearn/metrics/_classification.py:1318: UndefinedMetricWarning: Precision and F-score are ill-defined and being set to 0.0 in labels with no predicted samples. Use `zero_division` parameter to control this behavior.\n",
            "  _warn_prf(average, modifier, msg_start, len(result))\n",
            "/usr/local/lib/python3.7/dist-packages/sklearn/metrics/_classification.py:1318: UndefinedMetricWarning: Precision and F-score are ill-defined and being set to 0.0 in labels with no predicted samples. Use `zero_division` parameter to control this behavior.\n",
            "  _warn_prf(average, modifier, msg_start, len(result))\n"
          ]
        }
      ]
    },
    {
      "cell_type": "markdown",
      "source": [
        "### Question 3"
      ],
      "metadata": {
        "id": "Osx2Mjo4KWW7"
      }
    },
    {
      "cell_type": "markdown",
      "source": [
        "#### LSTM"
      ],
      "metadata": {
        "id": "QRqSyvsvKodq"
      }
    },
    {
      "cell_type": "code",
      "source": [
        "def create_model():\n",
        "\n",
        "  # mask_zero=True for the Embedding layer does not result in returning a zero vector.it would return the embedding vector with index zero. \n",
        "  embedding_layer = Embedding(vocab_size, embed_size, input_length = MAX_SEQ_LENGTH, weights = [weight_matrix], mask_zero = True, name='Embeddinglayer')\n",
        "  lstm_layer = LSTM(embed_size, dropout = 0.2,activation='tanh',return_sequences=True, recurrent_dropout=0.5)\n",
        "  attention_layer = attention()\n",
        "\n",
        "  # sentence1\n",
        "  sent1_input = Input(shape=(MAX_SEQ_LENGTH,), name='sentence1')\n",
        "  sent1_emb = embedding_layer(sent1_input)\n",
        "  sent1_lstm = lstm_layer(sent1_emb)\n",
        "  sent1_att = attention_layer(sent1_lstm)\n",
        "\n",
        "  # sentence2\n",
        "  sent2_input = Input(shape=(MAX_SEQ_LENGTH,), name='sentence2')\n",
        "  sent2_emb = embedding_layer(sent2_input)\n",
        "  sent2_lstm = lstm_layer(sent2_emb)\n",
        "  sent2_att = attention_layer(sent2_lstm)\n",
        "\n",
        "  # concating two sentences\n",
        "  concat_layer = Concatenate(name='concatenate', axis=1)([sent1_att, sent2_att])\n",
        "  flatten = Flatten()(concat_layer)\n",
        "\n",
        "  # desne layers\n",
        "  drop_layer1 = Dropout(0.2,name='Dropout1')(flatten)\n",
        "  dense_layer1 = Dense(128, activation='relu', name='DenseLayer1')(drop_layer1)\n",
        "  dense_layer2 = Dense(64, activation='relu', name='DenseLayer2')(dense_layer1)\n",
        "  dense_layer3 = Dense(32, activation='relu', name='DenseLayer3')(dense_layer2)\n",
        "  drop_layer2 = Dropout(0.2,name='Dropout2')(dense_layer3)\n",
        "\n",
        "  output = Dense(1, activation='sigmoid', name='OutputLayer')(drop_layer2)\n",
        "\n",
        "  model = Model([sent1_input, sent2_input], output)\n",
        "\n",
        "  model.compile(optimizer='adam', loss='binary_crossentropy', metrics=['accuracy', Recall(), Precision()])\n",
        "\n",
        "  return model"
      ],
      "metadata": {
        "id": "-MnZL0VBKYw-"
      },
      "execution_count": 43,
      "outputs": []
    },
    {
      "cell_type": "code",
      "source": [
        "lstm_model = create_model()\n",
        "lstm_model.summary()"
      ],
      "metadata": {
        "colab": {
          "base_uri": "https://localhost:8080/"
        },
        "id": "zxgzQdVGK4e0",
        "outputId": "e6829a54-d4b0-4d6f-c282-e3c530b916f6"
      },
      "execution_count": 44,
      "outputs": [
        {
          "output_type": "stream",
          "name": "stderr",
          "text": [
            "WARNING:tensorflow:Layer lstm_1 will not use cuDNN kernels since it doesn't meet the criteria. It will use a generic GPU kernel as fallback when running on GPU.\n"
          ]
        },
        {
          "output_type": "stream",
          "name": "stdout",
          "text": [
            "Model: \"model_1\"\n",
            "__________________________________________________________________________________________________\n",
            " Layer (type)                   Output Shape         Param #     Connected to                     \n",
            "==================================================================================================\n",
            " sentence1 (InputLayer)         [(None, 30)]         0           []                               \n",
            "                                                                                                  \n",
            " sentence2 (InputLayer)         [(None, 30)]         0           []                               \n",
            "                                                                                                  \n",
            " Embeddinglayer (Embedding)     (None, 30, 300)      3605100     ['sentence1[0][0]',              \n",
            "                                                                  'sentence2[0][0]']              \n",
            "                                                                                                  \n",
            " lstm_1 (LSTM)                  (None, 30, 300)      721200      ['Embeddinglayer[0][0]',         \n",
            "                                                                  'Embeddinglayer[1][0]']         \n",
            "                                                                                                  \n",
            " attention_1 (attention)        (None, 30, 300)      330         ['lstm_1[0][0]',                 \n",
            "                                                                  'lstm_1[1][0]']                 \n",
            "                                                                                                  \n",
            " concatenate (Concatenate)      (None, 60, 300)      0           ['attention_1[0][0]',            \n",
            "                                                                  'attention_1[1][0]']            \n",
            "                                                                                                  \n",
            " flatten_1 (Flatten)            (None, 18000)        0           ['concatenate[0][0]']            \n",
            "                                                                                                  \n",
            " Dropout1 (Dropout)             (None, 18000)        0           ['flatten_1[0][0]']              \n",
            "                                                                                                  \n",
            " DenseLayer1 (Dense)            (None, 128)          2304128     ['Dropout1[0][0]']               \n",
            "                                                                                                  \n",
            " DenseLayer2 (Dense)            (None, 64)           8256        ['DenseLayer1[0][0]']            \n",
            "                                                                                                  \n",
            " DenseLayer3 (Dense)            (None, 32)           2080        ['DenseLayer2[0][0]']            \n",
            "                                                                                                  \n",
            " Dropout2 (Dropout)             (None, 32)           0           ['DenseLayer3[0][0]']            \n",
            "                                                                                                  \n",
            " OutputLayer (Dense)            (None, 1)            33          ['Dropout2[0][0]']               \n",
            "                                                                                                  \n",
            "==================================================================================================\n",
            "Total params: 6,641,127\n",
            "Trainable params: 6,641,127\n",
            "Non-trainable params: 0\n",
            "__________________________________________________________________________________________________\n"
          ]
        }
      ]
    },
    {
      "cell_type": "code",
      "source": [
        "checkpoint_path = '/content/drive/MyDrive/model_lstm_hw5-{epoch:03d}-{val_accuracy:03f}.ckpt'\n",
        "\n",
        "cp_callback = ModelCheckpoint(filepath=checkpoint_path, monitor = 'val_accuracy', mode = 'max', save_best_only=True)"
      ],
      "metadata": {
        "id": "yadrS4HpK9et"
      },
      "execution_count": 45,
      "outputs": []
    },
    {
      "cell_type": "code",
      "source": [
        "history_lstm = lstm_model.fit([train_sent1_seq, train_sent2_seq], y_train,\n",
        "                    epochs=30,\n",
        "                    validation_data=([val_sent1_seq, val_sent2_seq], y_valid),\n",
        "                    batch_size=128,\n",
        "                    callbacks=[cp_callback])"
      ],
      "metadata": {
        "colab": {
          "base_uri": "https://localhost:8080/"
        },
        "id": "jqdJorTCLJtS",
        "outputId": "ce9823bb-6684-48cc-ac79-504883bf321c"
      },
      "execution_count": 46,
      "outputs": [
        {
          "output_type": "stream",
          "name": "stdout",
          "text": [
            "Epoch 1/30\n",
            "29/29 [==============================] - 19s 445ms/step - loss: 0.6481 - accuracy: 0.6609 - recall_1: 0.9711 - precision_1: 0.6708 - val_loss: 0.6140 - val_accuracy: 0.7174 - val_recall_1: 1.0000 - val_precision_1: 0.7174\n",
            "Epoch 2/30\n",
            "29/29 [==============================] - 7s 246ms/step - loss: 0.6383 - accuracy: 0.6708 - recall_1: 1.0000 - precision_1: 0.6708 - val_loss: 0.6027 - val_accuracy: 0.7174 - val_recall_1: 1.0000 - val_precision_1: 0.7174\n",
            "Epoch 3/30\n",
            "29/29 [==============================] - 7s 255ms/step - loss: 0.6313 - accuracy: 0.6708 - recall_1: 1.0000 - precision_1: 0.6708 - val_loss: 0.5998 - val_accuracy: 0.7174 - val_recall_1: 1.0000 - val_precision_1: 0.7174\n",
            "Epoch 4/30\n",
            "29/29 [==============================] - 8s 268ms/step - loss: 0.6124 - accuracy: 0.6762 - recall_1: 0.9976 - precision_1: 0.6750 - val_loss: 0.6713 - val_accuracy: 0.6634 - val_recall_1: 0.8801 - val_precision_1: 0.7159\n",
            "Epoch 5/30\n",
            "29/29 [==============================] - 7s 251ms/step - loss: 0.5158 - accuracy: 0.7558 - recall_1: 0.8948 - precision_1: 0.7756 - val_loss: 0.7906 - val_accuracy: 0.6093 - val_recall_1: 0.7534 - val_precision_1: 0.7166\n",
            "Epoch 6/30\n",
            "29/29 [==============================] - 7s 245ms/step - loss: 0.3146 - accuracy: 0.8714 - recall_1: 0.8968 - precision_1: 0.9101 - val_loss: 0.9354 - val_accuracy: 0.6609 - val_recall_1: 0.8699 - val_precision_1: 0.7175\n",
            "Epoch 7/30\n",
            "29/29 [==============================] - 7s 249ms/step - loss: 0.1825 - accuracy: 0.9308 - recall_1: 0.9476 - precision_1: 0.9491 - val_loss: 1.2625 - val_accuracy: 0.5676 - val_recall_1: 0.6575 - val_precision_1: 0.7164\n",
            "Epoch 8/30\n",
            "29/29 [==============================] - 7s 251ms/step - loss: 0.1024 - accuracy: 0.9627 - recall_1: 0.9679 - precision_1: 0.9762 - val_loss: 1.6994 - val_accuracy: 0.5725 - val_recall_1: 0.6747 - val_precision_1: 0.7138\n",
            "Epoch 9/30\n",
            "29/29 [==============================] - 7s 247ms/step - loss: 0.0407 - accuracy: 0.9872 - recall_1: 0.9890 - precision_1: 0.9919 - val_loss: 2.0403 - val_accuracy: 0.5971 - val_recall_1: 0.7226 - val_precision_1: 0.7177\n",
            "Epoch 10/30\n",
            "29/29 [==============================] - 7s 251ms/step - loss: 0.0210 - accuracy: 0.9940 - recall_1: 0.9963 - precision_1: 0.9947 - val_loss: 2.6481 - val_accuracy: 0.6020 - val_recall_1: 0.7158 - val_precision_1: 0.7257\n",
            "Epoch 11/30\n",
            "29/29 [==============================] - 7s 253ms/step - loss: 0.0152 - accuracy: 0.9954 - recall_1: 0.9963 - precision_1: 0.9967 - val_loss: 2.5758 - val_accuracy: 0.6044 - val_recall_1: 0.7260 - val_precision_1: 0.7235\n",
            "Epoch 12/30\n",
            "29/29 [==============================] - 7s 255ms/step - loss: 0.0164 - accuracy: 0.9954 - recall_1: 0.9963 - precision_1: 0.9967 - val_loss: 2.9187 - val_accuracy: 0.6069 - val_recall_1: 0.7295 - val_precision_1: 0.7245\n",
            "Epoch 13/30\n",
            "29/29 [==============================] - 7s 246ms/step - loss: 0.0125 - accuracy: 0.9956 - recall_1: 0.9972 - precision_1: 0.9963 - val_loss: 2.7353 - val_accuracy: 0.5921 - val_recall_1: 0.7226 - val_precision_1: 0.7128\n",
            "Epoch 14/30\n",
            "29/29 [==============================] - 7s 253ms/step - loss: 0.0082 - accuracy: 0.9978 - recall_1: 0.9984 - precision_1: 0.9984 - val_loss: 3.4895 - val_accuracy: 0.5725 - val_recall_1: 0.6781 - val_precision_1: 0.7122\n",
            "Epoch 15/30\n",
            "29/29 [==============================] - 7s 246ms/step - loss: 0.0029 - accuracy: 0.9992 - recall_1: 0.9992 - precision_1: 0.9996 - val_loss: 3.5436 - val_accuracy: 0.5799 - val_recall_1: 0.6884 - val_precision_1: 0.7153\n",
            "Epoch 16/30\n",
            "29/29 [==============================] - 7s 252ms/step - loss: 0.0033 - accuracy: 0.9986 - recall_1: 0.9988 - precision_1: 0.9992 - val_loss: 3.5374 - val_accuracy: 0.6143 - val_recall_1: 0.7534 - val_precision_1: 0.7213\n",
            "Epoch 17/30\n",
            "29/29 [==============================] - 7s 245ms/step - loss: 0.0013 - accuracy: 0.9997 - recall_1: 1.0000 - precision_1: 0.9996 - val_loss: 3.7246 - val_accuracy: 0.5971 - val_recall_1: 0.7295 - val_precision_1: 0.7148\n",
            "Epoch 18/30\n",
            "29/29 [==============================] - 7s 245ms/step - loss: 5.6112e-04 - accuracy: 1.0000 - recall_1: 1.0000 - precision_1: 1.0000 - val_loss: 3.9705 - val_accuracy: 0.5971 - val_recall_1: 0.7158 - val_precision_1: 0.7207\n",
            "Epoch 19/30\n",
            "29/29 [==============================] - 7s 245ms/step - loss: 4.1834e-04 - accuracy: 1.0000 - recall_1: 1.0000 - precision_1: 1.0000 - val_loss: 4.2584 - val_accuracy: 0.5823 - val_recall_1: 0.6884 - val_precision_1: 0.7179\n",
            "Epoch 20/30\n",
            "29/29 [==============================] - 7s 257ms/step - loss: 7.0965e-04 - accuracy: 0.9997 - recall_1: 0.9996 - precision_1: 1.0000 - val_loss: 4.3497 - val_accuracy: 0.6143 - val_recall_1: 0.7568 - val_precision_1: 0.7199\n",
            "Epoch 21/30\n",
            "29/29 [==============================] - 7s 254ms/step - loss: 7.7752e-04 - accuracy: 0.9997 - recall_1: 1.0000 - precision_1: 0.9996 - val_loss: 4.3508 - val_accuracy: 0.5921 - val_recall_1: 0.6986 - val_precision_1: 0.7234\n",
            "Epoch 22/30\n",
            "29/29 [==============================] - 7s 250ms/step - loss: 1.6983e-04 - accuracy: 1.0000 - recall_1: 1.0000 - precision_1: 1.0000 - val_loss: 4.5436 - val_accuracy: 0.6069 - val_recall_1: 0.7226 - val_precision_1: 0.7276\n",
            "Epoch 23/30\n",
            "29/29 [==============================] - 7s 252ms/step - loss: 1.0271e-04 - accuracy: 1.0000 - recall_1: 1.0000 - precision_1: 1.0000 - val_loss: 4.6998 - val_accuracy: 0.5995 - val_recall_1: 0.7089 - val_precision_1: 0.7263\n",
            "Epoch 24/30\n",
            "29/29 [==============================] - 7s 249ms/step - loss: 6.9041e-05 - accuracy: 1.0000 - recall_1: 1.0000 - precision_1: 1.0000 - val_loss: 4.8052 - val_accuracy: 0.5995 - val_recall_1: 0.7089 - val_precision_1: 0.7263\n",
            "Epoch 25/30\n",
            "29/29 [==============================] - 7s 253ms/step - loss: 6.7219e-05 - accuracy: 1.0000 - recall_1: 1.0000 - precision_1: 1.0000 - val_loss: 4.9085 - val_accuracy: 0.5995 - val_recall_1: 0.7089 - val_precision_1: 0.7263\n",
            "Epoch 26/30\n",
            "29/29 [==============================] - 7s 254ms/step - loss: 1.0283e-04 - accuracy: 1.0000 - recall_1: 1.0000 - precision_1: 1.0000 - val_loss: 5.0384 - val_accuracy: 0.5995 - val_recall_1: 0.7055 - val_precision_1: 0.7279\n",
            "Epoch 27/30\n",
            "29/29 [==============================] - 7s 250ms/step - loss: 6.0624e-05 - accuracy: 1.0000 - recall_1: 1.0000 - precision_1: 1.0000 - val_loss: 5.1390 - val_accuracy: 0.5971 - val_recall_1: 0.7021 - val_precision_1: 0.7270\n",
            "Epoch 28/30\n",
            "29/29 [==============================] - 7s 251ms/step - loss: 4.6113e-05 - accuracy: 1.0000 - recall_1: 1.0000 - precision_1: 1.0000 - val_loss: 5.2210 - val_accuracy: 0.5921 - val_recall_1: 0.6884 - val_precision_1: 0.7283\n",
            "Epoch 29/30\n",
            "29/29 [==============================] - 7s 249ms/step - loss: 3.7030e-05 - accuracy: 1.0000 - recall_1: 1.0000 - precision_1: 1.0000 - val_loss: 5.2831 - val_accuracy: 0.5897 - val_recall_1: 0.6849 - val_precision_1: 0.7273\n",
            "Epoch 30/30\n",
            "29/29 [==============================] - 7s 247ms/step - loss: 9.5333e-05 - accuracy: 1.0000 - recall_1: 1.0000 - precision_1: 1.0000 - val_loss: 5.2708 - val_accuracy: 0.6044 - val_recall_1: 0.7192 - val_precision_1: 0.7266\n"
          ]
        }
      ]
    },
    {
      "cell_type": "code",
      "source": [
        "plot_history(history_lstm)"
      ],
      "metadata": {
        "colab": {
          "base_uri": "https://localhost:8080/",
          "height": 337
        },
        "id": "Lgf1lEq4LLjc",
        "outputId": "7212bd12-1e3b-414e-e5ab-f8c073fe25e4"
      },
      "execution_count": 47,
      "outputs": [
        {
          "output_type": "display_data",
          "data": {
            "text/plain": [
              "<Figure size 864x360 with 2 Axes>"
            ],
            "image/png": "[encoded data removed]"
          },
          "metadata": {}
        }
      ]
    },
    {
      "cell_type": "code",
      "source": [
        "from keras.models import load_model\n",
        "lstm_model = load_model('/content/drive/MyDrive/model_lstm_hw5-001-0.717445.ckpt')"
      ],
      "metadata": {
        "colab": {
          "base_uri": "https://localhost:8080/"
        },
        "id": "z8DxY1C-LTwa",
        "outputId": "28a84966-016c-42f2-e3c4-ed1892f3bfee"
      },
      "execution_count": 48,
      "outputs": [
        {
          "output_type": "stream",
          "name": "stderr",
          "text": [
            "WARNING:tensorflow:Layer lstm_1 will not use cuDNN kernels since it doesn't meet the criteria. It will use a generic GPU kernel as fallback when running on GPU.\n"
          ]
        }
      ]
    },
    {
      "cell_type": "code",
      "source": [
        "lstm_model.evaluate([test_sent1_seq, test_sent2_seq], y_test)\n",
        "lstm_preds = lstm_model.predict([test_sent1_seq, test_sent2_seq])"
      ],
      "metadata": {
        "colab": {
          "base_uri": "https://localhost:8080/"
        },
        "id": "NdTkK6w4LgyQ",
        "outputId": "30a490c2-2058-4797-fc4c-ca2d6179d099"
      },
      "execution_count": 49,
      "outputs": [
        {
          "output_type": "stream",
          "name": "stdout",
          "text": [
            "54/54 [==============================] - 3s 38ms/step - loss: 0.6411 - accuracy: 0.6649 - recall_1: 1.0000 - precision_1: 0.6649\n",
            "54/54 [==============================] - 3s 38ms/step\n"
          ]
        }
      ]
    },
    {
      "cell_type": "code",
      "source": [
        "y_lstm_pred = np.where(lstm_preds > 0.5, 1, 0)\n",
        "print(classification_report(y_test, y_lstm_pred, labels=[0,1]))"
      ],
      "metadata": {
        "colab": {
          "base_uri": "https://localhost:8080/"
        },
        "id": "H7rDbcnGLm5b",
        "outputId": "c24af1da-ade8-4e8b-e7a1-2ad755916f23"
      },
      "execution_count": 50,
      "outputs": [
        {
          "output_type": "stream",
          "name": "stdout",
          "text": [
            "              precision    recall  f1-score   support\n",
            "\n",
            "           0       0.00      0.00      0.00       578\n",
            "           1       0.66      1.00      0.80      1147\n",
            "\n",
            "    accuracy                           0.66      1725\n",
            "   macro avg       0.33      0.50      0.40      1725\n",
            "weighted avg       0.44      0.66      0.53      1725\n",
            "\n"
          ]
        },
        {
          "output_type": "stream",
          "name": "stderr",
          "text": [
            "/usr/local/lib/python3.7/dist-packages/sklearn/metrics/_classification.py:1318: UndefinedMetricWarning: Precision and F-score are ill-defined and being set to 0.0 in labels with no predicted samples. Use `zero_division` parameter to control this behavior.\n",
            "  _warn_prf(average, modifier, msg_start, len(result))\n",
            "/usr/local/lib/python3.7/dist-packages/sklearn/metrics/_classification.py:1318: UndefinedMetricWarning: Precision and F-score are ill-defined and being set to 0.0 in labels with no predicted samples. Use `zero_division` parameter to control this behavior.\n",
            "  _warn_prf(average, modifier, msg_start, len(result))\n",
            "/usr/local/lib/python3.7/dist-packages/sklearn/metrics/_classification.py:1318: UndefinedMetricWarning: Precision and F-score are ill-defined and being set to 0.0 in labels with no predicted samples. Use `zero_division` parameter to control this behavior.\n",
            "  _warn_prf(average, modifier, msg_start, len(result))\n"
          ]
        }
      ]
    },
    {
      "cell_type": "markdown",
      "source": [
        "#### GRU"
      ],
      "metadata": {
        "id": "BbJQzul6M9dU"
      }
    },
    {
      "cell_type": "code",
      "source": [
        "def create_model():\n",
        "\n",
        "  # mask_zero=True for the Embedding layer does not result in returning a zero vector.it would return the embedding vector with index zero. \n",
        "  embedding_layer = Embedding(vocab_size, embed_size, input_length = MAX_SEQ_LENGTH, weights = [weight_matrix], mask_zero = True, name='Embeddinglayer')\n",
        "  gru_layer = GRU(embed_size, dropout = 0.2,activation='tanh',return_sequences=True, recurrent_dropout=0.5)\n",
        "  attention_layer = attention()\n",
        "\n",
        "  # sentence1\n",
        "  sent1_input = Input(shape=(MAX_SEQ_LENGTH,), name='sentence1')\n",
        "  sent1_emb = embedding_layer(sent1_input)\n",
        "  sent1_gru = gru_layer(sent1_emb)\n",
        "  sent1_att = attention_layer(sent1_gru)\n",
        "\n",
        "  # sentence2\n",
        "  sent2_input = Input(shape=(MAX_SEQ_LENGTH,), name='sentence2')\n",
        "  sent2_emb = embedding_layer(sent2_input)\n",
        "  sent2_gru = gru_layer(sent2_emb)\n",
        "  sent2_att = attention_layer(sent2_gru)\n",
        "\n",
        "  # concating two sentences\n",
        "  concat_layer = Concatenate(name='concatenate', axis=1)([sent1_att, sent2_att])\n",
        "  flatten = Flatten()(concat_layer)\n",
        "\n",
        "  # desne layers\n",
        "  drop_layer1 = Dropout(0.2,name='Dropout1')(flatten)\n",
        "  dense_layer1 = Dense(128, activation='relu', name='DenseLayer1')(drop_layer1)\n",
        "  dense_layer2 = Dense(64, activation='relu', name='DenseLayer2')(dense_layer1)\n",
        "  dense_layer3 = Dense(32, activation='relu', name='DenseLayer3')(dense_layer2)\n",
        "  drop_layer2 = Dropout(0.2,name='Dropout2')(dense_layer3)\n",
        "\n",
        "  output = Dense(1, activation='sigmoid', name='OutputLayer')(drop_layer2)\n",
        "\n",
        "  model = Model([sent1_input, sent2_input], output)\n",
        "\n",
        "  model.compile(optimizer='adam', loss='binary_crossentropy', metrics=['accuracy', Recall(), Precision()])\n",
        "\n",
        "  return model"
      ],
      "metadata": {
        "id": "ZKNryIHZM9dU"
      },
      "execution_count": 51,
      "outputs": []
    },
    {
      "cell_type": "code",
      "source": [
        "gru_model = create_model()\n",
        "gru_model.summary()"
      ],
      "metadata": {
        "colab": {
          "base_uri": "https://localhost:8080/"
        },
        "id": "Sn6hAwNEM9dU",
        "outputId": "f847ad73-461e-4b8b-acfe-85998d1d1ffe"
      },
      "execution_count": 52,
      "outputs": [
        {
          "output_type": "stream",
          "name": "stderr",
          "text": [
            "WARNING:tensorflow:Layer gru will not use cuDNN kernels since it doesn't meet the criteria. It will use a generic GPU kernel as fallback when running on GPU.\n"
          ]
        },
        {
          "output_type": "stream",
          "name": "stdout",
          "text": [
            "Model: \"model_2\"\n",
            "__________________________________________________________________________________________________\n",
            " Layer (type)                   Output Shape         Param #     Connected to                     \n",
            "==================================================================================================\n",
            " sentence1 (InputLayer)         [(None, 30)]         0           []                               \n",
            "                                                                                                  \n",
            " sentence2 (InputLayer)         [(None, 30)]         0           []                               \n",
            "                                                                                                  \n",
            " Embeddinglayer (Embedding)     (None, 30, 300)      3605100     ['sentence1[0][0]',              \n",
            "                                                                  'sentence2[0][0]']              \n",
            "                                                                                                  \n",
            " gru (GRU)                      (None, 30, 300)      541800      ['Embeddinglayer[0][0]',         \n",
            "                                                                  'Embeddinglayer[1][0]']         \n",
            "                                                                                                  \n",
            " attention_2 (attention)        (None, 30, 300)      330         ['gru[0][0]',                    \n",
            "                                                                  'gru[1][0]']                    \n",
            "                                                                                                  \n",
            " concatenate (Concatenate)      (None, 60, 300)      0           ['attention_2[0][0]',            \n",
            "                                                                  'attention_2[1][0]']            \n",
            "                                                                                                  \n",
            " flatten_2 (Flatten)            (None, 18000)        0           ['concatenate[0][0]']            \n",
            "                                                                                                  \n",
            " Dropout1 (Dropout)             (None, 18000)        0           ['flatten_2[0][0]']              \n",
            "                                                                                                  \n",
            " DenseLayer1 (Dense)            (None, 128)          2304128     ['Dropout1[0][0]']               \n",
            "                                                                                                  \n",
            " DenseLayer2 (Dense)            (None, 64)           8256        ['DenseLayer1[0][0]']            \n",
            "                                                                                                  \n",
            " DenseLayer3 (Dense)            (None, 32)           2080        ['DenseLayer2[0][0]']            \n",
            "                                                                                                  \n",
            " Dropout2 (Dropout)             (None, 32)           0           ['DenseLayer3[0][0]']            \n",
            "                                                                                                  \n",
            " OutputLayer (Dense)            (None, 1)            33          ['Dropout2[0][0]']               \n",
            "                                                                                                  \n",
            "==================================================================================================\n",
            "Total params: 6,461,727\n",
            "Trainable params: 6,461,727\n",
            "Non-trainable params: 0\n",
            "__________________________________________________________________________________________________\n"
          ]
        }
      ]
    },
    {
      "cell_type": "code",
      "source": [
        "checkpoint_path = '/content/drive/MyDrive/model_gru_hw5-{epoch:03d}-{val_accuracy:03f}.ckpt'\n",
        "\n",
        "cp_callback = ModelCheckpoint(filepath=checkpoint_path, monitor = 'val_accuracy', mode = 'max', save_best_only=True)"
      ],
      "metadata": {
        "id": "j6G-MLgzM9dU"
      },
      "execution_count": 53,
      "outputs": []
    },
    {
      "cell_type": "code",
      "source": [
        "history_gru = lstm_model.fit([train_sent1_seq, train_sent2_seq], y_train,\n",
        "                    epochs=30,\n",
        "                    validation_data=([val_sent1_seq, val_sent2_seq], y_valid),\n",
        "                    batch_size=128,\n",
        "                    callbacks=[cp_callback])"
      ],
      "metadata": {
        "colab": {
          "base_uri": "https://localhost:8080/"
        },
        "id": "MYVqmwBdM9dU",
        "outputId": "34870291-cce2-48b6-d043-2963a5176d7f"
      },
      "execution_count": 54,
      "outputs": [
        {
          "output_type": "stream",
          "name": "stdout",
          "text": [
            "Epoch 1/30\n",
            "29/29 [==============================] - 17s 410ms/step - loss: 0.6376 - accuracy: 0.6708 - recall_1: 1.0000 - precision_1: 0.6708 - val_loss: 0.5979 - val_accuracy: 0.7174 - val_recall_1: 1.0000 - val_precision_1: 0.7174\n",
            "Epoch 2/30\n",
            "29/29 [==============================] - 7s 244ms/step - loss: 0.6335 - accuracy: 0.6708 - recall_1: 1.0000 - precision_1: 0.6708 - val_loss: 0.6114 - val_accuracy: 0.7174 - val_recall_1: 1.0000 - val_precision_1: 0.7174\n",
            "Epoch 3/30\n",
            "29/29 [==============================] - 7s 247ms/step - loss: 0.6142 - accuracy: 0.6727 - recall_1: 0.9667 - precision_1: 0.6801 - val_loss: 0.6037 - val_accuracy: 0.7174 - val_recall_1: 1.0000 - val_precision_1: 0.7174\n",
            "Epoch 4/30\n",
            "29/29 [==============================] - 7s 242ms/step - loss: 0.4990 - accuracy: 0.7479 - recall_1: 0.8972 - precision_1: 0.7667 - val_loss: 0.6726 - val_accuracy: 0.6585 - val_recall_1: 0.8836 - val_precision_1: 0.7107\n",
            "Epoch 5/30\n",
            "29/29 [==============================] - 7s 242ms/step - loss: 0.3191 - accuracy: 0.8651 - recall_1: 0.9090 - precision_1: 0.8919 - val_loss: 0.9485 - val_accuracy: 0.6265 - val_recall_1: 0.8048 - val_precision_1: 0.7121\n",
            "Epoch 6/30\n",
            "29/29 [==============================] - 7s 241ms/step - loss: 0.1975 - accuracy: 0.9237 - recall_1: 0.9395 - precision_1: 0.9464 - val_loss: 1.0264 - val_accuracy: 0.5602 - val_recall_1: 0.6404 - val_precision_1: 0.7165\n",
            "Epoch 7/30\n",
            "29/29 [==============================] - 7s 246ms/step - loss: 0.0981 - accuracy: 0.9670 - recall_1: 0.9707 - precision_1: 0.9799 - val_loss: 1.5937 - val_accuracy: 0.5971 - val_recall_1: 0.7226 - val_precision_1: 0.7177\n",
            "Epoch 8/30\n",
            "29/29 [==============================] - 7s 245ms/step - loss: 0.0555 - accuracy: 0.9815 - recall_1: 0.9854 - precision_1: 0.9870 - val_loss: 2.0754 - val_accuracy: 0.6265 - val_recall_1: 0.7842 - val_precision_1: 0.7201\n",
            "Epoch 9/30\n",
            "29/29 [==============================] - 7s 248ms/step - loss: 0.0253 - accuracy: 0.9929 - recall_1: 0.9943 - precision_1: 0.9951 - val_loss: 2.3615 - val_accuracy: 0.5725 - val_recall_1: 0.6849 - val_precision_1: 0.7092\n",
            "Epoch 10/30\n",
            "29/29 [==============================] - 7s 246ms/step - loss: 0.0206 - accuracy: 0.9929 - recall_1: 0.9959 - precision_1: 0.9935 - val_loss: 2.7855 - val_accuracy: 0.5553 - val_recall_1: 0.6438 - val_precision_1: 0.7094\n",
            "Epoch 11/30\n",
            "29/29 [==============================] - 7s 247ms/step - loss: 0.0163 - accuracy: 0.9937 - recall_1: 0.9951 - precision_1: 0.9955 - val_loss: 2.8248 - val_accuracy: 0.5627 - val_recall_1: 0.6575 - val_precision_1: 0.7111\n",
            "Epoch 12/30\n",
            "29/29 [==============================] - 7s 249ms/step - loss: 0.0178 - accuracy: 0.9940 - recall_1: 0.9963 - precision_1: 0.9947 - val_loss: 2.7188 - val_accuracy: 0.5725 - val_recall_1: 0.6849 - val_precision_1: 0.7092\n",
            "Epoch 13/30\n",
            "29/29 [==============================] - 7s 246ms/step - loss: 0.0054 - accuracy: 0.9986 - recall_1: 0.9992 - precision_1: 0.9988 - val_loss: 3.3410 - val_accuracy: 0.5381 - val_recall_1: 0.5993 - val_precision_1: 0.7114\n",
            "Epoch 14/30\n",
            "29/29 [==============================] - 7s 247ms/step - loss: 0.0070 - accuracy: 0.9981 - recall_1: 0.9988 - precision_1: 0.9984 - val_loss: 3.2205 - val_accuracy: 0.5577 - val_recall_1: 0.6575 - val_precision_1: 0.7059\n",
            "Epoch 15/30\n",
            "29/29 [==============================] - 7s 247ms/step - loss: 0.0051 - accuracy: 0.9992 - recall_1: 0.9992 - precision_1: 0.9996 - val_loss: 3.1691 - val_accuracy: 0.5921 - val_recall_1: 0.7226 - val_precision_1: 0.7128\n",
            "Epoch 16/30\n",
            "29/29 [==============================] - 7s 245ms/step - loss: 7.6036e-04 - accuracy: 1.0000 - recall_1: 1.0000 - precision_1: 1.0000 - val_loss: 3.6787 - val_accuracy: 0.5528 - val_recall_1: 0.6507 - val_precision_1: 0.7037\n",
            "Epoch 17/30\n",
            "29/29 [==============================] - 7s 244ms/step - loss: 2.7944e-04 - accuracy: 1.0000 - recall_1: 1.0000 - precision_1: 1.0000 - val_loss: 3.9861 - val_accuracy: 0.5700 - val_recall_1: 0.6781 - val_precision_1: 0.7097\n",
            "Epoch 18/30\n",
            "29/29 [==============================] - 7s 246ms/step - loss: 1.9254e-04 - accuracy: 1.0000 - recall_1: 1.0000 - precision_1: 1.0000 - val_loss: 4.2108 - val_accuracy: 0.5700 - val_recall_1: 0.6815 - val_precision_1: 0.7082\n",
            "Epoch 19/30\n",
            "29/29 [==============================] - 7s 249ms/step - loss: 1.3951e-04 - accuracy: 1.0000 - recall_1: 1.0000 - precision_1: 1.0000 - val_loss: 4.3784 - val_accuracy: 0.5700 - val_recall_1: 0.6815 - val_precision_1: 0.7082\n",
            "Epoch 20/30\n",
            "29/29 [==============================] - 7s 251ms/step - loss: 1.2014e-04 - accuracy: 1.0000 - recall_1: 1.0000 - precision_1: 1.0000 - val_loss: 4.5620 - val_accuracy: 0.5725 - val_recall_1: 0.6781 - val_precision_1: 0.7122\n",
            "Epoch 21/30\n",
            "29/29 [==============================] - 7s 249ms/step - loss: 9.6210e-05 - accuracy: 1.0000 - recall_1: 1.0000 - precision_1: 1.0000 - val_loss: 4.7160 - val_accuracy: 0.5725 - val_recall_1: 0.6781 - val_precision_1: 0.7122\n",
            "Epoch 22/30\n",
            "29/29 [==============================] - 7s 246ms/step - loss: 9.7165e-05 - accuracy: 1.0000 - recall_1: 1.0000 - precision_1: 1.0000 - val_loss: 4.8384 - val_accuracy: 0.5749 - val_recall_1: 0.6815 - val_precision_1: 0.7133\n",
            "Epoch 23/30\n",
            "29/29 [==============================] - 7s 243ms/step - loss: 5.7514e-05 - accuracy: 1.0000 - recall_1: 1.0000 - precision_1: 1.0000 - val_loss: 4.9550 - val_accuracy: 0.5725 - val_recall_1: 0.6781 - val_precision_1: 0.7122\n",
            "Epoch 24/30\n",
            "29/29 [==============================] - 7s 245ms/step - loss: 5.0410e-05 - accuracy: 1.0000 - recall_1: 1.0000 - precision_1: 1.0000 - val_loss: 5.0482 - val_accuracy: 0.5749 - val_recall_1: 0.6815 - val_precision_1: 0.7133\n",
            "Epoch 25/30\n",
            "29/29 [==============================] - 7s 242ms/step - loss: 5.7015e-05 - accuracy: 1.0000 - recall_1: 1.0000 - precision_1: 1.0000 - val_loss: 5.2019 - val_accuracy: 0.5676 - val_recall_1: 0.6712 - val_precision_1: 0.7101\n",
            "Epoch 26/30\n",
            "29/29 [==============================] - 7s 244ms/step - loss: 3.8367e-05 - accuracy: 1.0000 - recall_1: 1.0000 - precision_1: 1.0000 - val_loss: 5.3191 - val_accuracy: 0.5676 - val_recall_1: 0.6712 - val_precision_1: 0.7101\n",
            "Epoch 27/30\n",
            "29/29 [==============================] - 7s 240ms/step - loss: 3.6898e-05 - accuracy: 1.0000 - recall_1: 1.0000 - precision_1: 1.0000 - val_loss: 5.4136 - val_accuracy: 0.5676 - val_recall_1: 0.6712 - val_precision_1: 0.7101\n",
            "Epoch 28/30\n",
            "29/29 [==============================] - 7s 240ms/step - loss: 3.6456e-05 - accuracy: 1.0000 - recall_1: 1.0000 - precision_1: 1.0000 - val_loss: 5.5316 - val_accuracy: 0.5676 - val_recall_1: 0.6712 - val_precision_1: 0.7101\n",
            "Epoch 29/30\n",
            "29/29 [==============================] - 7s 248ms/step - loss: 6.2597e-05 - accuracy: 1.0000 - recall_1: 1.0000 - precision_1: 1.0000 - val_loss: 5.4098 - val_accuracy: 0.5725 - val_recall_1: 0.6849 - val_precision_1: 0.7092\n",
            "Epoch 30/30\n",
            "29/29 [==============================] - 7s 241ms/step - loss: 2.8733e-05 - accuracy: 1.0000 - recall_1: 1.0000 - precision_1: 1.0000 - val_loss: 5.5468 - val_accuracy: 0.5725 - val_recall_1: 0.6815 - val_precision_1: 0.7107\n"
          ]
        }
      ]
    },
    {
      "cell_type": "code",
      "source": [
        "plot_history(history_gru)"
      ],
      "metadata": {
        "colab": {
          "base_uri": "https://localhost:8080/",
          "height": 337
        },
        "id": "bYIVNizzM9dV",
        "outputId": "ec258deb-c216-4d74-d78c-62677d3f3f69"
      },
      "execution_count": 58,
      "outputs": [
        {
          "output_type": "display_data",
          "data": {
            "text/plain": [
              "<Figure size 864x360 with 2 Axes>"
            ],
            "image/png": "[encoded data removed]"
          },
          "metadata": {}
        }
      ]
    },
    {
      "cell_type": "code",
      "source": [
        "from keras.models import load_model\n",
        "gru_model = load_model('/content/drive/MyDrive/model_gru_hw5-001-0.717445.ckpt')"
      ],
      "metadata": {
        "colab": {
          "base_uri": "https://localhost:8080/"
        },
        "id": "nghbI9eUM9dV",
        "outputId": "3f17cbc9-43f6-4124-88c3-6a2d7b58edb8"
      },
      "execution_count": 55,
      "outputs": [
        {
          "output_type": "stream",
          "name": "stderr",
          "text": [
            "WARNING:tensorflow:Layer lstm_1 will not use cuDNN kernels since it doesn't meet the criteria. It will use a generic GPU kernel as fallback when running on GPU.\n"
          ]
        }
      ]
    },
    {
      "cell_type": "code",
      "source": [
        "gru_model.evaluate([test_sent1_seq, test_sent2_seq], y_test)\n",
        "gru_preds = lstm_model.predict([test_sent1_seq, test_sent2_seq])"
      ],
      "metadata": {
        "colab": {
          "base_uri": "https://localhost:8080/"
        },
        "id": "UzTSMNO3M9dV",
        "outputId": "54dc718e-0172-4039-e7d7-d844ff616daa"
      },
      "execution_count": 56,
      "outputs": [
        {
          "output_type": "stream",
          "name": "stdout",
          "text": [
            "54/54 [==============================] - 3s 39ms/step - loss: 0.6388 - accuracy: 0.6649 - recall_1: 1.0000 - precision_1: 0.6649\n",
            "54/54 [==============================] - 2s 37ms/step\n"
          ]
        }
      ]
    },
    {
      "cell_type": "code",
      "source": [
        "y_gru_pred = np.where(gru_preds > 0.5, 1, 0)\n",
        "print(classification_report(y_test, y_gru_pred, labels=[0,1]))"
      ],
      "metadata": {
        "colab": {
          "base_uri": "https://localhost:8080/"
        },
        "id": "H_VPgitIM9dV",
        "outputId": "0f724cc1-3450-4488-c4bf-bbbc74802ba3"
      },
      "execution_count": 57,
      "outputs": [
        {
          "output_type": "stream",
          "name": "stdout",
          "text": [
            "              precision    recall  f1-score   support\n",
            "\n",
            "           0       0.32      0.28      0.30       578\n",
            "           1       0.66      0.71      0.68      1147\n",
            "\n",
            "    accuracy                           0.56      1725\n",
            "   macro avg       0.49      0.49      0.49      1725\n",
            "weighted avg       0.55      0.56      0.55      1725\n",
            "\n"
          ]
        }
      ]
    },
    {
      "cell_type": "markdown",
      "source": [
        "### Question 4"
      ],
      "metadata": {
        "id": "djtN6KD2WfYg"
      }
    },
    {
      "cell_type": "markdown",
      "source": [
        "bilstm and lstm has more accuracy than gru. The loss of bilstm is smaller than lstm"
      ],
      "metadata": {
        "id": "rerAX4QzbSa5"
      }
    },
    {
      "cell_type": "markdown",
      "source": [
        "### Question 5"
      ],
      "metadata": {
        "id": "93D8xLbYWhbi"
      }
    },
    {
      "cell_type": "markdown",
      "source": [
        "higher weight in some words = more attention"
      ],
      "metadata": {
        "id": "Sski8Fmtbnxa"
      }
    },
    {
      "cell_type": "code",
      "source": [
        "W = gru_model.layers[4].weights[1]\n",
        "W = np.squeeze(W)\n",
        "plt.plot(W)\n",
        "plt.xlabel('word index')\n",
        "plt.ylabel('weight')"
      ],
      "metadata": {
        "colab": {
          "base_uri": "https://localhost:8080/",
          "height": 299
        },
        "id": "a95tXlGobZ1q",
        "outputId": "dd0c861f-153f-417b-cd07-8c6229629f33"
      },
      "execution_count": 59,
      "outputs": [
        {
          "output_type": "execute_result",
          "data": {
            "text/plain": [
              "Text(0, 0.5, 'weight')"
            ]
          },
          "metadata": {},
          "execution_count": 59
        },
        {
          "output_type": "display_data",
          "data": {
            "text/plain": [
              "<Figure size 432x288 with 1 Axes>"
            ],
            "image/png": "[encoded data removed]"
          },
          "metadata": {}
        }
      ]
    },
    {
      "cell_type": "code",
      "source": [
        "W = bilstm_model.layers[4].weights[1]\n",
        "W = np.squeeze(W)\n",
        "plt.plot(W)\n",
        "plt.xlabel('word index')\n",
        "plt.ylabel('weight')"
      ],
      "metadata": {
        "colab": {
          "base_uri": "https://localhost:8080/",
          "height": 299
        },
        "id": "Qy0frVarbgAK",
        "outputId": "3e75200b-02b0-43e3-b3fe-a3ca03096721"
      },
      "execution_count": 60,
      "outputs": [
        {
          "output_type": "execute_result",
          "data": {
            "text/plain": [
              "Text(0, 0.5, 'weight')"
            ]
          },
          "metadata": {},
          "execution_count": 60
        },
        {
          "output_type": "display_data",
          "data": {
            "text/plain": [
              "<Figure size 432x288 with 1 Axes>"
            ],
            "image/png": "[encoded data removed]"
          },
          "metadata": {}
        }
      ]
    },
    {
      "cell_type": "code",
      "source": [
        "W = lstm_model.layers[4].weights[1]\n",
        "W = np.squeeze(W)\n",
        "plt.plot(W)\n",
        "plt.xlabel('word index')\n",
        "plt.ylabel('weight')"
      ],
      "metadata": {
        "colab": {
          "base_uri": "https://localhost:8080/",
          "height": 300
        },
        "id": "6OH1ECLEbjl0",
        "outputId": "d2df130d-ea9a-4542-a08e-2f7201ad5220"
      },
      "execution_count": 61,
      "outputs": [
        {
          "output_type": "execute_result",
          "data": {
            "text/plain": [
              "Text(0, 0.5, 'weight')"
            ]
          },
          "metadata": {},
          "execution_count": 61
        },
        {
          "output_type": "display_data",
          "data": {
            "text/plain": [
              "<Figure size 432x288 with 1 Axes>"
            ],
            "image/png": "[encoded data removed]"
          },
          "metadata": {}
        }
      ]
    }
  ]
}